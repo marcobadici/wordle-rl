{
  "cells": [
    {
      "attachments": {},
      "cell_type": "markdown",
      "metadata": {
        "id": "wdxRc13mgDUe"
      },
      "source": [
        "# Testing Parallel Batch Learning"
      ]
    },
    {
      "cell_type": "markdown",
      "metadata": {
        "id": "hHriyaajJpK8"
      },
      "source": [
        "Версия вторая: параллельные игры с уменьшающимся списком\n",
        "- вместо одной среды теперь будет список сред (игр) длины `play_batch_size`, с каждой из них собрать список состояний и подать на вход `agent.act` как батч; обновить список после завершения всех игр\n",
        "- плюс: баланс опыта и обучения\n",
        "- плюс: быстро (из-за `agent.act`)\n",
        "- минус: `agent.act` получает батчи разного размера если завершилась только часть игр\n",
        "- плюс: не нужно переписывать `Trainer.train`"
      ]
    },
    {
      "cell_type": "code",
      "execution_count": 1,
      "metadata": {
        "colab": {
          "base_uri": "https://localhost:8080/"
        },
        "id": "Ge8MAqbEe_Ov",
        "outputId": "53620ac0-2aea-4235-a0d8-1cec880d0761"
      },
      "outputs": [
        {
          "name": "stdout",
          "output_type": "stream",
          "text": [
            "Mounted at /content/drive\n"
          ]
        }
      ],
      "source": [
        "from google.colab import drive\n",
        "drive.mount('/content/drive')"
      ]
    },
    {
      "cell_type": "code",
      "execution_count": 2,
      "metadata": {
        "id": "kUSMFiLwgHwD"
      },
      "outputs": [],
      "source": [
        "! cp -a -n /content/drive/MyDrive/wordle-rl/. /content/"
      ]
    },
    {
      "cell_type": "code",
      "execution_count": 3,
      "metadata": {
        "id": "BqAjUDW-9C4I"
      },
      "outputs": [],
      "source": [
        "! mkdir /content/drive/MyDrive/wordle-rl/tests"
      ]
    },
    {
      "cell_type": "code",
      "execution_count": 4,
      "metadata": {
        "colab": {
          "base_uri": "https://localhost:8080/"
        },
        "id": "GSBwZTapgws-",
        "outputId": "d6fda62e-3818-476f-c8c0-876921fac306"
      },
      "outputs": [
        {
          "name": "stdout",
          "output_type": "stream",
          "text": [
            "Looking in indexes: https://pypi.org/simple, https://us-python.pkg.dev/colab-wheels/public/simple/\n",
            "Collecting cpprb\n",
            "  Downloading cpprb-10.7.1-cp39-cp39-manylinux_2_17_x86_64.manylinux2014_x86_64.whl (2.5 MB)\n",
            "\u001b[2K     \u001b[90m━━━━━━━━━━━━━━━━━━━━━━━━━━━━━━━━━━━━━━━━\u001b[0m \u001b[32m2.5/2.5 MB\u001b[0m \u001b[31m34.8 MB/s\u001b[0m eta \u001b[36m0:00:00\u001b[0m\n",
            "\u001b[?25hRequirement already satisfied: numpy in /usr/local/lib/python3.9/dist-packages (from cpprb) (1.22.4)\n",
            "Installing collected packages: cpprb\n",
            "Successfully installed cpprb-10.7.1\n"
          ]
        }
      ],
      "source": [
        "! pip install cpprb"
      ]
    },
    {
      "cell_type": "code",
      "execution_count": 1,
      "metadata": {
        "id": "7X31sq01gcMU"
      },
      "outputs": [],
      "source": [
        "%load_ext autoreload\n",
        "%autoreload 2\n",
        "\n",
        "from functools import partial\n",
        "from collections import defaultdict\n",
        "import pickle\n",
        "\n",
        "from wordle.wordlenp import Wordle\n",
        "from environment.environment import Environment, StateYesNo, StateVocabulary\n",
        "from environment.action import ActionVocabulary, ActionLetters, ActionCombLetters\n",
        "from dqn.agent import Agent\n",
        "from dqn.train import Trainer\n",
        "from replay_buffer.cpprb import PrioritizedReplayBuffer, ReplayBuffer\n",
        "\n",
        "import matplotlib.pyplot as plt\n",
        "import seaborn as sns\n",
        "sns.set(style='whitegrid')\n",
        "import torch\n",
        "import numpy as np\n",
        "np.random.seed(0)\n",
        "\n",
        "device = torch.device(\"cuda:0\" if torch.cuda.is_available() else \"cpu\")"
      ]
    },
    {
      "cell_type": "markdown",
      "metadata": {
        "id": "PSty1zZfo9Jl"
      },
      "source": [
        "## Датасеты"
      ]
    },
    {
      "cell_type": "code",
      "execution_count": 2,
      "metadata": {
        "id": "k1YLmWP3o9Jm"
      },
      "outputs": [],
      "source": [
        "word_list = Wordle._load_vocabulary('wordle/guesses.txt', astype=np.array)\n",
        "\n",
        "def make_data(n_answers, n_guesses):\n",
        "    guesses = np.random.choice(word_list, size=n_guesses, replace=False)\n",
        "    answers = np.random.choice(guesses, size=n_answers, replace=False)\n",
        "    return answers, guesses"
      ]
    },
    {
      "cell_type": "markdown",
      "metadata": {
        "id": "XkpsKHBDo9Jn"
      },
      "source": [
        "### 10 answers, 100 guesses"
      ]
    },
    {
      "cell_type": "code",
      "execution_count": 3,
      "metadata": {
        "colab": {
          "base_uri": "https://localhost:8080/"
        },
        "id": "zC0apMvDo9Jo",
        "outputId": "7bc575c1-babe-4b35-9f46-c6b372e0fdf8"
      },
      "outputs": [
        {
          "name": "stdout",
          "output_type": "stream",
          "text": [
            "['abmho' 'cites' 'aware' 'blays' 'acker' 'rawin' 'anile' 'eorls' 'feers'\n",
            " 'sadza']\n"
          ]
        }
      ],
      "source": [
        "answers_10_100, guesses_10_100 = make_data(10, 100)\n",
        "print(answers_10_100)"
      ]
    },
    {
      "cell_type": "markdown",
      "metadata": {
        "id": "88h7mFnko9Jp"
      },
      "source": [
        "### 100 answers, 100 guesses"
      ]
    },
    {
      "cell_type": "code",
      "execution_count": 4,
      "metadata": {
        "colab": {
          "base_uri": "https://localhost:8080/"
        },
        "id": "WY6bCEq7o9Jq",
        "outputId": "bef024f2-4bdb-4097-a48d-16ccc2f8f3f8"
      },
      "outputs": [
        {
          "name": "stdout",
          "output_type": "stream",
          "text": [
            "['lilac' 'orles' 'twirl' 'unled' 'sings' 'grind' 'sheaf' 'benny' 'slews'\n",
            " 'karst' 'rimus' 'lossy' 'joker' 'leash' 'scopa' 'viols' 'giron' 'raiks'\n",
            " 'lummy' 'renig' 'tinds' 'infos' 'logon' 'drill' 'gudes' 'ammon' 'bhoot'\n",
            " 'hurry' 'noils' 'coven' 'beryl' 'margs' 'sorbo' 'momes' 'scald' 'potch'\n",
            " 'flows' 'torus' 'prill' 'scuts' 'brith' 'tamin' 'sewar' 'joram' 'aldol'\n",
            " 'hazel' 'texes' 'sibbs' 'truth' 'spoil' 'hames' 'actin' 'maces' 'rayas'\n",
            " 'thuya' 'sugan' 'felly' 'newsy' 'bolos' 'mimeo' 'chems' 'dicty' 'liefs'\n",
            " 'scuff' 'burps' 'abyes' 'zones' 'cuspy' 'kerve' 'haith' 'amino' 'zygal'\n",
            " 'kokum' 'zambo' 'icier' 'piers' 'sambo' 'laden' 'barge' 'solei' 'mauts'\n",
            " 'groat' 'pearl' 'curse' 'jujus' 'troop' 'bilge' 'sibyl' 'gassy' 'elain'\n",
            " 'daube' 'feyly' 'duals' 'hoper' 'hains' 'beige' 'poove' 'miffy' 'lesbo'\n",
            " 'dawds']\n"
          ]
        }
      ],
      "source": [
        "answers_100_100, guesses_100_100 = make_data(100, 100)\n",
        "print(answers_100_100)"
      ]
    },
    {
      "cell_type": "markdown",
      "metadata": {
        "id": "IBCQ-xvto9Jq"
      },
      "source": [
        "### 50 answers, 200 guesses"
      ]
    },
    {
      "cell_type": "code",
      "execution_count": 5,
      "metadata": {
        "colab": {
          "base_uri": "https://localhost:8080/"
        },
        "id": "XaNIzQh5o9Jr",
        "outputId": "e979d23d-19ef-4559-d370-451493893faa"
      },
      "outputs": [
        {
          "name": "stdout",
          "output_type": "stream",
          "text": [
            "['toran' 'burka' 'umpie' 'brock' 'civic' 'beige' 'hoiks' 'biffo' 'nagas'\n",
            " 'sheol' 'malls' 'matzo' 'peeve' 'deshi' 'mooli' 'scaud' 'ameba' 'wadds'\n",
            " 'bayts' 'glees' 'kaput' 'bitos' 'comae' 'dosed' 'rabis' 'neats' 'tutti'\n",
            " 'stays' 'smoky' 'chase' 'resaw' 'simas' 'sowne' 'rorid' 'rebec' 'deawy'\n",
            " 'hinny' 'sores' 'cerge' 'yogas' 'fouet' 'wheel' 'sowfs' 'talus' 'yabas'\n",
            " 'topee' 'sabin' 'unbox' 'dyers' 'qophs']\n"
          ]
        }
      ],
      "source": [
        "answers_50_200, guesses_50_200 = make_data(50, 200)\n",
        "print(answers_50_200)"
      ]
    },
    {
      "cell_type": "markdown",
      "metadata": {
        "id": "ZiJDpKE2o9Jr"
      },
      "source": [
        "### 300 answers, 300 guesses"
      ]
    },
    {
      "cell_type": "code",
      "execution_count": 6,
      "metadata": {
        "colab": {
          "base_uri": "https://localhost:8080/"
        },
        "id": "A7su7MaMo9Jr",
        "outputId": "8b985121-9912-410b-f79b-57e2dc88ad52"
      },
      "outputs": [
        {
          "name": "stdout",
          "output_type": "stream",
          "text": [
            "['hoied' 'aarti' 'dyers' 'ingot' 'hasty' 'tices' 'tache' 'deoxy' 'sutta'\n",
            " 'score' 'fiefs' 'sling' 'ready' 'wests' 'dobes' 'tells' 'bitts' 'roper'\n",
            " 'veena' 'hewer' 'chats' 'jarta' 'ceric' 'olent' 'feare' 'bodge' 'fleer'\n",
            " 'prats' 'spiny' 'tryps' 'welts' 'march' 'jelly' 'furor' 'okapi' 'penni'\n",
            " 'curve' 'altar' 'aboon' 'salut' 'amido' 'razor' 'vouch' 'prill' 'ganev'\n",
            " 'dukka' 'noxal' 'briar' 'wills' 'trigo' 'dusts' 'meter' 'veale' 'hafiz'\n",
            " 'dosha' 'wilis' 'ohmic' 'silds' 'giust' 'blimy' 'zerda' 'mucus' 'abrin'\n",
            " 'nandu' 'larva' 'cruds' 'kaies' 'hussy' 'dolce' 'birch' 'madam' 'chase'\n",
            " 'onely' 'molys' 'scape' 'sauce' 'amate' 'mohur' 'vagal' 'royne' 'spics'\n",
            " 'azuki' 'acres' 'shops' 'sicks' 'sunup' 'cosey' 'louse' 'aweel' 'skosh'\n",
            " 'twoer' 'loves' 'wents' 'reest' 'winna' 'rosed' 'mbira' 'rangy' 'omega'\n",
            " 'moira' 'typey' 'romal' 'bachs' 'floss' 'scath' 'roast' 'moola' 'moles'\n",
            " 'witch' 'rabbi' 'chest' 'aulos' 'yokes' 'aspen' 'sepic' 'lirot' 'lemon'\n",
            " 'musts' 'drouk' 'kudzu' 'yacka' 'sonny' 'hived' 'letch' 'zuzim' 'diota'\n",
            " 'sared' 'diker' 'ripps' 'dinge' 'cides' 'grimy' 'flexo' 'wider' 'thaws'\n",
            " 'djins' 'twirp' 'gulps' 'sated' 'tommy' 'amice' 'anode' 'strut' 'empty'\n",
            " 'maqui' 'etnas' 'saids' 'schul' 'surds' 'spoil' 'stele' 'caulk' 'muted'\n",
            " 'whist' 'teuch' 'allow' 'calls' 'agism' 'nifes' 'phons' 'horks' 'sucky'\n",
            " 'booms' 'cling' 'sikas' 'repay' 'neive' 'drops' 'mavin' 'cobbs' 'trefa'\n",
            " 'benny' 'nutsy' 'manul' 'anomy' 'adhan' 'muons' 'chelp' 'fagin' 'piper'\n",
            " 'dynel' 'cotes' 'dangs' 'weber' 'hooey' 'texas' 'baize' 'plumy' 'lurve'\n",
            " 'joint' 'fusts' 'repot' 'cloze' 'ditsy' 'stirp' 'scars' 'ribby' 'sluts'\n",
            " 'thema' 'flume' 'noahs' 'linns' 'cymol' 'creme' 'shirk' 'shakt' 'segol'\n",
            " 'dreks' 'mamma' 'dyads' 'broil' 'roupy' 'leeze' 'gears' 'atoks' 'maths'\n",
            " 'bindi' 'coden' 'coram' 'cardy' 'lupus' 'etats' 'anoas' 'south' 'hotel'\n",
            " 'golly' 'razoo' 'pulse' 'smews' 'capex' 'bonds' 'rewet' 'kines' 'stool'\n",
            " 'marid' 'bloat' 'trass' 'rases' 'diddy' 'fetas' 'gadso' 'gauje' 'heids'\n",
            " 'pesky' 'ponga' 'yogic' 'purin' 'sower' 'doats' 'kybos' 'azoth' 'genty'\n",
            " 'unled' 'alway' 'camus' 'laith' 'roost' 'meows' 'aking' 'skeer' 'hiois'\n",
            " 'dowle' 'ragas' 'rucks' 'thuds' 'welch' 'lurex' 'uplay' 'bedim' 'incle'\n",
            " 'manis' 'tenon' 'dated' 'kamas' 'bydes' 'treyf' 'roses' 'kotow' 'quasi'\n",
            " 'apode' 'walla' 'games' 'uncoy' 'angel' 'primy' 'parly' 'izzat' 'dukas'\n",
            " 'lands' 'saunt' 'coppy' 'trest' 'ticca' 'waite' 'verge' 'jenny' 'pshaw'\n",
            " 'linga' 'afore' 'yowza']\n"
          ]
        }
      ],
      "source": [
        "answers_300_300, guesses_300_300 = make_data(300, 300)\n",
        "print(answers_300_300)"
      ]
    },
    {
      "cell_type": "markdown",
      "metadata": {
        "id": "_y8uiOLro9Js"
      },
      "source": [
        "### 100 answers, 2000 guesses"
      ]
    },
    {
      "cell_type": "code",
      "execution_count": 7,
      "metadata": {
        "colab": {
          "base_uri": "https://localhost:8080/"
        },
        "id": "95mdLNsio9Js",
        "outputId": "05c9210e-8582-4708-804b-3dee47ed8190"
      },
      "outputs": [
        {
          "name": "stdout",
          "output_type": "stream",
          "text": [
            "['fumed' 'rival' 'zizit' 'wests' 'scrog' 'gryce' 'seils' 'sugar' 'glims'\n",
            " 'pharm' 'pyets' 'kilts' 'bings' 'emyde' 'duads' 'shahs' 'spaza' 'spore'\n",
            " 'redub' 'sidas' 'choco' 'woofs' 'sukuk' 'spumy' 'mirex' 'sluse' 'tween'\n",
            " 'nodus' 'wands' 'unled' 'rates' 'toxin' 'lotes' 'wacko' 'ariot' 'baisa'\n",
            " 'sways' 'roads' 'poked' 'popsy' 'gonif' 'vutty' 'bicep' 'parky' 'braid'\n",
            " 'ports' 'spyal' 'match' 'spook' 'scowp' 'sdein' 'lovie' 'torii' 'souks'\n",
            " 'vibey' 'genny' 'clues' 'decaf' 'diced' 'delay' 'mirly' 'flogs' 'lotos'\n",
            " 'whine' 'seems' 'jerry' 'scram' 'gosse' 'roped' 'pipis' 'spank' 'seder'\n",
            " 'doorn' 'evict' 'buteo' 'ponks' 'miffy' 'potin' 'rathe' 'papaw' 'local'\n",
            " 'tolus' 'apode' 'jouks' 'decad' 'temes' 'wafts' 'liter' 'kagos' 'piste'\n",
            " 'ogmic' 'fyles' 'brace' 'adage' 'hepar' 'bales' 'molal' 'eject' 'seles'\n",
            " 'commy']\n"
          ]
        }
      ],
      "source": [
        "answers_100_2000, guesses_100_2000 = make_data(100, 2000)\n",
        "print(answers_100_2000)"
      ]
    },
    {
      "cell_type": "markdown",
      "metadata": {
        "id": "mTgeplU9nObE"
      },
      "source": [
        "## Plotting Utility"
      ]
    },
    {
      "cell_type": "code",
      "execution_count": 8,
      "metadata": {
        "id": "rU2Kt6knnSEZ"
      },
      "outputs": [],
      "source": [
        "def plot_results(tasks_results, figname):\n",
        "    n_tasks = len(tasks_results)\n",
        "    _, ax = plt.subplots(1, n_tasks, figsize=(4*n_tasks, 5))\n",
        "    \n",
        "    color = ['b','g','r','c','m','y','k','w']\n",
        "\n",
        "    # over tasks\n",
        "    for i, (task_name, results) in enumerate(tasks_results.items()):\n",
        "        # over methods\n",
        "        for c, (method_name, res) in enumerate(results.items()):\n",
        "            train_timers, train_win_rates, test_timers, test_win_rates = res\n",
        "            ax[i].plot(train_timers, train_win_rates, label=method_name+' (train)', c=color[c], alpha=0.2)\n",
        "            ax[i].plot(test_timers, test_win_rates, label=method_name+' (test)', c=color[c])\n",
        "        ax[i].set_xlabel('time, s')\n",
        "        ax[i].set_ylabel('win rate, s')\n",
        "        ax[i].legend()\n",
        "        ax[i].set_title(task_name)\n",
        "    plt.savefig(figname + '.svg', bbox_inches='tight')\n",
        "    plt.show()"
      ]
    },
    {
      "cell_type": "markdown",
      "metadata": {
        "id": "E8c5rfLQtTMj"
      },
      "source": [
        "## Sampling"
      ]
    },
    {
      "cell_type": "code",
      "execution_count": 9,
      "metadata": {
        "id": "1tizC1fjtX1I"
      },
      "outputs": [],
      "source": [
        "soft_rewards = {'B':1, 'Y':2, 'G':3, 'win':20, 'lose':-10, 'step':-4}\n",
        "hard_rewards = {'B':0, 'Y':0, 'G':0, 'win':10, 'lose':-10, 'step':-2}\n",
        "step_rewards = {'B':0, 'Y':1, 'G':1, 'win':10, 'lose':-10, 'step':-5}\n",
        "char_rewards = {'B':0, 'Y':1, 'G':1, 'win':10, 'lose':-10, 'step':-2}"
      ]
    },
    {
      "cell_type": "code",
      "execution_count": 10,
      "metadata": {
        "id": "7TzDOf5QtZka"
      },
      "outputs": [],
      "source": [
        "tasks_results = defaultdict(dict)"
      ]
    },
    {
      "cell_type": "markdown",
      "metadata": {
        "id": "qrovaJV80a1Y"
      },
      "source": [
        "### Uniform"
      ]
    },
    {
      "cell_type": "code",
      "execution_count": 11,
      "metadata": {
        "id": "Sn4PeUTayARQ"
      },
      "outputs": [],
      "source": [
        "def experiment(answers, guesses, n_batches, n_batches_warm, play_batch_size=8):\n",
        "    env_list = []\n",
        "    for _ in range(play_batch_size):\n",
        "        env = Environment(\n",
        "            rewards=step_rewards,\n",
        "            wordle=Wordle(vocabulary=guesses, answers=answers),\n",
        "            state_instance=StateYesNo()\n",
        "        )\n",
        "        env_list.append(env)\n",
        "\n",
        "    agent = Agent(\n",
        "        state_size=env_list[0].state.size,\n",
        "        action_instance=ActionCombLetters(k=1, vocabulary=guesses),\n",
        "        # here is what we are experimenting with\n",
        "        replay_buffer=ReplayBuffer(state_size=env_list[0].state.size),\n",
        "    )\n",
        "\n",
        "    trainer = Trainer(\n",
        "        env_list, agent,\n",
        "        n_batches=n_batches,\n",
        "        n_batches_warm=n_batches_warm\n",
        "    )\n",
        "    \n",
        "    res = trainer.train(eps_decay=0.9995, nickname=f'uniform-{len(answers)}-{len(guesses)}')\n",
        "    return res"
      ]
    },
    {
      "cell_type": "code",
      "execution_count": 12,
      "metadata": {
        "colab": {
          "base_uri": "https://localhost:8080/"
        },
        "id": "xr_4H8aiyARR",
        "outputId": "95b7f069-c15c-48ae-84f3-387ec20d533a"
      },
      "outputs": [
        {
          "name": "stdout",
          "output_type": "stream",
          "text": [
            "\n",
            "Batch   62\tTime: 35 s\tAgent Eps: 0.97\tTrain Win Rate: 6.45%\tTest Win Rate: 40.00%\tTest Mean Steps: 2.25\n",
            "\n",
            "Batch  124\tTime: 68 s\tAgent Eps: 0.94\tTrain Win Rate: 27.42%\tTest Win Rate: 80.00%\tTest Mean Steps: 2.25\n",
            "\n",
            "Batch  186\tTime: 100 s\tAgent Eps: 0.91\tTrain Win Rate: 35.48%\tTest Win Rate: 90.00%\tTest Mean Steps: 2.33\n",
            "\n",
            "Batch  248\tTime: 128 s\tAgent Eps: 0.88\tTrain Win Rate: 48.39%\tTest Win Rate: 90.00%\tTest Mean Steps: 2.00\n",
            "\n",
            "Batch  310\tTime: 159 s\tAgent Eps: 0.86\tTrain Win Rate: 54.84%\tTest Win Rate: 100.00%\tTest Mean Steps: 2.00\n",
            "\n",
            "Batch  372\tTime: 186 s\tAgent Eps: 0.83\tTrain Win Rate: 53.23%\tTest Win Rate: 100.00%\tTest Mean Steps: 2.20\n",
            "\n",
            "Batch  434\tTime: 222 s\tAgent Eps: 0.80\tTrain Win Rate: 58.06%\tTest Win Rate: 100.00%\tTest Mean Steps: 2.00\n",
            "\n",
            "Batch  496\tTime: 247 s\tAgent Eps: 0.78\tTrain Win Rate: 82.26%\tTest Win Rate: 100.00%\tTest Mean Steps: 2.00\n",
            "\n",
            "Saving checkpoint... Saved to uniform-10-100-1.pth\n"
          ]
        }
      ],
      "source": [
        "res = experiment(\n",
        "    answers_10_100, guesses_10_100,\n",
        "    n_batches=500, n_batches_warm=15,\n",
        ")\n",
        "\n",
        "tasks_results['10/100']['uniform'] = res"
      ]
    }
  ],
  "metadata": {
    "accelerator": "GPU",
    "colab": {
      "provenance": []
    },
    "gpuClass": "standard",
    "kernelspec": {
      "display_name": "Python 3",
      "name": "python3"
    },
    "language_info": {
      "codemirror_mode": {
        "name": "ipython",
        "version": 3
      },
      "file_extension": ".py",
      "mimetype": "text/x-python",
      "name": "python",
      "nbconvert_exporter": "python",
      "pygments_lexer": "ipython3",
      "version": "3.10.6"
    }
  },
  "nbformat": 4,
  "nbformat_minor": 0
}
