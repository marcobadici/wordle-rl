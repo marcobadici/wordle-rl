{
  "cells": [
    {
      "attachments": {},
      "cell_type": "markdown",
      "metadata": {
        "id": "wdxRc13mgDUe"
      },
      "source": [
        "# Trying Ckip Connection Model"
      ]
    },
    {
      "attachments": {},
      "cell_type": "markdown",
      "metadata": {},
      "source": [
        "давать награду за любой цвет"
      ]
    },
    {
      "cell_type": "code",
      "execution_count": 26,
      "metadata": {
        "colab": {
          "base_uri": "https://localhost:8080/",
          "height": 70
        },
        "id": "7X31sq01gcMU",
        "outputId": "ebc6c9c3-7934-40ba-bfb1-b438298df4f8"
      },
      "outputs": [
        {
          "name": "stdout",
          "output_type": "stream",
          "text": [
            "The autoreload extension is already loaded. To reload it, use:\n",
            "  %reload_ext autoreload\n"
          ]
        },
        {
          "data": {
            "text/plain": [
              "'cuda:0'"
            ]
          },
          "execution_count": 26,
          "metadata": {},
          "output_type": "execute_result"
        }
      ],
      "source": [
        "%load_ext autoreload\n",
        "%autoreload 2\n",
        "\n",
        "from functools import partial\n",
        "from collections import defaultdict\n",
        "import pickle\n",
        "\n",
        "from wordle.wordlenp import Wordle\n",
        "from environment.environment import Environment, StateYesNo, StateVocabulary\n",
        "from environment.action import ActionVocabulary, ActionLetters, ActionCombLetters\n",
        "from dqn.agent import Agent\n",
        "from dqn.train import Trainer\n",
        "from replay_buffer.cpprb import PrioritizedReplayBuffer, ReplayBuffer\n",
        "\n",
        "import matplotlib.pyplot as plt\n",
        "import seaborn as sns\n",
        "sns.set(style='whitegrid')\n",
        "import torch\n",
        "import numpy as np\n",
        "np.random.seed(0)\n",
        "\n",
        "\"cuda:0\" if torch.cuda.is_available() else \"cpu\""
      ]
    },
    {
      "attachments": {},
      "cell_type": "markdown",
      "metadata": {
        "id": "PSty1zZfo9Jl"
      },
      "source": [
        "## Data"
      ]
    },
    {
      "cell_type": "code",
      "execution_count": 27,
      "metadata": {
        "colab": {
          "base_uri": "https://localhost:8080/"
        },
        "id": "EzO8082PYHBC",
        "outputId": "b8d80430-e234-417c-e5db-9c0d027c6fc0"
      },
      "outputs": [
        {
          "name": "stdout",
          "output_type": "stream",
          "text": [
            "2321 12972\n"
          ]
        }
      ],
      "source": [
        "answers = Wordle._load_vocabulary('wordle/answers.txt', astype=list)\n",
        "guesses = Wordle._load_vocabulary('wordle/guesses.txt', astype=list)\n",
        "wordle_list = guesses\n",
        "\n",
        "in_answers = []\n",
        "for i, word in enumerate(guesses):\n",
        "  if word in answers:\n",
        "    in_answers.append(guesses.index(word))\n",
        "\n",
        "print(len(answers), len(guesses))\n",
        "\n",
        "indices = np.arange(len(guesses))\n",
        "np.random.shuffle(indices)"
      ]
    },
    {
      "attachments": {},
      "cell_type": "markdown",
      "metadata": {
        "id": "E8c5rfLQtTMj"
      },
      "source": [
        "## Train Configuration"
      ]
    },
    {
      "cell_type": "code",
      "execution_count": 29,
      "metadata": {
        "colab": {
          "base_uri": "https://localhost:8080/"
        },
        "id": "7TzDOf5QtZka",
        "outputId": "6ec43fd3-f01c-4eae-8660-4377da61a37d"
      },
      "outputs": [
        {
          "name": "stdout",
          "output_type": "stream",
          "text": [
            "torch.Size([130, 12972]) torch.Size([4782, 12972])\n"
          ]
        }
      ],
      "source": [
        "ohe1 = ActionCombLetters(vocabulary=wordle_list, k=1).ohe_matrix\n",
        "ohe2 = ActionCombLetters(vocabulary=wordle_list, k=2).ohe_matrix\n",
        "print(ohe1.shape, ohe2.shape)\n",
        "rewards = {'B':0, 'Y':1, 'G':1, 'win':10, 'lose':-10, 'step':-5}\n",
        "tasks_results = defaultdict(dict)"
      ]
    },
    {
      "cell_type": "code",
      "execution_count": 30,
      "metadata": {},
      "outputs": [],
      "source": [
        "def train(**kwargs):\n",
        "    return Trainer.train_comb_letters(rewards, ohe1, ohe2, wordle_list, tasks_results, **kwargs)"
      ]
    },
    {
      "cell_type": "code",
      "execution_count": 31,
      "metadata": {},
      "outputs": [],
      "source": [
        "def agent_path(nickname, t):\n",
        "    return {\n",
        "        'local': f'{nickname}/local-{t}.pth',\n",
        "        'target': f'{nickname}/target-{t}.pth',\n",
        "        'buffer': f'{nickname}/buffer-{t}.npz',\n",
        "        'optimizer': f'{nickname}/optimizer-{t}.pth',\n",
        "    }"
      ]
    },
    {
      "cell_type": "code",
      "execution_count": 32,
      "metadata": {},
      "outputs": [],
      "source": [
        "def get_data(n_guesses, overfit):\n",
        "    return Trainer.train_test_split(n_guesses, overfit, guesses, indices, in_answers)"
      ]
    },
    {
      "attachments": {},
      "cell_type": "markdown",
      "metadata": {},
      "source": [
        "## Experiments"
      ]
    },
    {
      "cell_type": "code",
      "execution_count": 34,
      "metadata": {},
      "outputs": [
        {
          "name": "stdout",
          "output_type": "stream",
          "text": [
            "guesses: 4000\n",
            "train answers: 678\n",
            "test answers: 678 (overfit strategy)\n"
          ]
        }
      ],
      "source": [
        "n_guesses = 4000\n",
        "data = get_data(n_guesses, overfit=True)"
      ]
    },
    {
      "cell_type": "code",
      "execution_count": 12,
      "metadata": {
        "colab": {
          "base_uri": "https://localhost:8080/",
          "height": 413,
          "referenced_widgets": [
            "4330062c17c54328b88c9c2abba46712",
            "1334b330e3ab4c7abccf8fdd805468ae",
            "9c6bfb9b3d80433f8c1dbf8b83402954",
            "029c4b37622944759c147068bed24792",
            "5ac6e4b8b1bc4fee92b892315e459832",
            "0b176f9798404e1fa94550cec2638825",
            "c8cbd52f44a64e1d8d0987f519c89705",
            "4847c2fd12064264950cac571c8cd7b8",
            "ae6a71c9c3c8491189d508867d53443d",
            "09939c33f29e42f7851de2371a990fbd",
            "73b16c2040be4bf6bb33a5ddd6b9da10",
            "735f9eac34244b3494953c108be0720b",
            "5baeab2588ef41d3882c8b6e43da71a0",
            "2e181fe0ce344a65b5d4ed958fa5654b",
            "e444d333a25f4b36a6e977cc7a6b490f",
            "b5f7add7e28246afa94517de99c36c1b",
            "467a7accbc1749de8fdee0d412d56397",
            "c2349e1e4fa84ba7ba97791ce61dab7c",
            "da5fa50b083449d1aabed4c4b346f12b",
            "9ff3e5fd86104db792edd50177ecc2d0",
            "4884d03a1ebd49f6b1cd86c987679f93",
            "e0bcf20ad788482898f4cf982689fd74"
          ]
        },
        "id": "J4tB4CO4tWai",
        "outputId": "eee9c099-2c68-43aa-be23-fee38690a40c"
      },
      "outputs": [
        {
          "data": {
            "application/vnd.jupyter.widget-view+json": {
              "model_id": "edf0f22defb04b8ca6d8259f29da8802",
              "version_major": 2,
              "version_minor": 0
            },
            "text/plain": [
              "WARM BATCHES:   0%|          | 0/10 [00:00<?, ?it/s]"
            ]
          },
          "metadata": {},
          "output_type": "display_data"
        },
        {
          "name": "stdout",
          "output_type": "stream",
          "text": [
            "\n",
            "Batch    0\tTest Win Rate: 0.44%\tTest Mean Steps: 3.67\n"
          ]
        },
        {
          "data": {
            "application/vnd.jupyter.widget-view+json": {
              "model_id": "fdacde41b95a4f0f8ce542b22fdfd65c",
              "version_major": 2,
              "version_minor": 0
            },
            "text/plain": [
              "TRAIN BATCHES:   0%|          | 0/40000 [00:00<?, ?it/s]"
            ]
          },
          "metadata": {},
          "output_type": "display_data"
        },
        {
          "name": "stdout",
          "output_type": "stream",
          "text": [
            "\n",
            "Batch 5000\tTime: 106 s\tAgent Eps: 0.10\tTrain Win Rate: 3.08%\tTest Win Rate: 3.84%\tTest Mean Steps: 4.31\n",
            "\n",
            "Batch 10000\tTime: 216 s\tAgent Eps: 0.01\tTrain Win Rate: 12.36%\tTest Win Rate: 14.18%\tTest Mean Steps: 3.99\n",
            "\n",
            "Batch 15000\tTime: 322 s\tAgent Eps: 0.01\tTrain Win Rate: 36.52%\tTest Win Rate: 40.18%\tTest Mean Steps: 4.01\n",
            "\n",
            "Batch 20000\tTime: 415 s\tAgent Eps: 0.01\tTrain Win Rate: 71.92%\tTest Win Rate: 76.66%\tTest Mean Steps: 3.92\n",
            "\n",
            "Batch 25000\tTime: 499 s\tAgent Eps: 0.01\tTrain Win Rate: 89.16%\tTest Win Rate: 91.29%\tTest Mean Steps: 3.83\n",
            "\n",
            "Batch 30000\tTime: 577 s\tAgent Eps: 0.01\tTrain Win Rate: 94.44%\tTest Win Rate: 94.53%\tTest Mean Steps: 3.60\n",
            "\n",
            "Batch 35000\tTime: 649 s\tAgent Eps: 0.01\tTrain Win Rate: 97.04%\tTest Win Rate: 97.49%\tTest Mean Steps: 3.53\n",
            "\n",
            "Batch 40000\tTime: 718 s\tAgent Eps: 0.01\tTrain Win Rate: 97.90%\tTest Win Rate: 97.64%\tTest Mean Steps: 3.37\n"
          ]
        },
        {
          "data": {
            "text/plain": [
              "'skip-677-4000'"
            ]
          },
          "execution_count": 12,
          "metadata": {},
          "output_type": "execute_result"
        }
      ],
      "source": [
        "train(\n",
        "    data=data,\n",
        "    \n",
        "    n_batches=40000,\n",
        "    n_batches_warm=10,\n",
        "    \n",
        "    eps_start=1,\n",
        "    eps_end=0.01,\n",
        "    eps_decay=0.99954,\n",
        "\n",
        "    alpha=0,\n",
        "    rb_size=int(1e5),\n",
        "    method_name='skip',\n",
        "    \n",
        "    n_envs=8,\n",
        "    k=1,\n",
        "    optimize_interval=8,\n",
        "\n",
        "    agent_path=None\n",
        ")"
      ]
    },
    {
      "cell_type": "code",
      "execution_count": 20,
      "metadata": {},
      "outputs": [
        {
          "name": "stdout",
          "output_type": "stream",
          "text": [
            "guesses: 8000\n",
            "train answers: 1423\n",
            "test answers: 1423 (overfit strategy)\n"
          ]
        }
      ],
      "source": [
        "n_guesses = 8000\n",
        "data = get_data(n_guesses, overfit=True)"
      ]
    },
    {
      "cell_type": "code",
      "execution_count": 21,
      "metadata": {},
      "outputs": [
        {
          "data": {
            "application/vnd.jupyter.widget-view+json": {
              "model_id": "9a3b3dd67906400a88dd05e4006a7c9b",
              "version_major": 2,
              "version_minor": 0
            },
            "text/plain": [
              "WARM BATCHES: 0it [00:00, ?it/s]"
            ]
          },
          "metadata": {},
          "output_type": "display_data"
        },
        {
          "name": "stdout",
          "output_type": "stream",
          "text": [
            "\n",
            "Batch    0\tTest Win Rate: 60.79%\tTest Mean Steps: 4.19\n"
          ]
        },
        {
          "data": {
            "application/vnd.jupyter.widget-view+json": {
              "model_id": "0e4f3624adf543f9b360ac1dda3d89e5",
              "version_major": 2,
              "version_minor": 0
            },
            "text/plain": [
              "TRAIN BATCHES:   0%|          | 0/40000 [00:00<?, ?it/s]"
            ]
          },
          "metadata": {},
          "output_type": "display_data"
        },
        {
          "name": "stdout",
          "output_type": "stream",
          "text": [
            "\n",
            "Batch 5000\tTime: 93 s\tAgent Eps: 0.01\tTrain Win Rate: 73.42%\tTest Win Rate: 72.03%\tTest Mean Steps: 4.46\n",
            "\n",
            "Batch 10000\tTime: 190 s\tAgent Eps: 0.01\tTrain Win Rate: 82.82%\tTest Win Rate: 87.00%\tTest Mean Steps: 4.10\n",
            "\n",
            "Batch 15000\tTime: 291 s\tAgent Eps: 0.01\tTrain Win Rate: 85.42%\tTest Win Rate: 85.03%\tTest Mean Steps: 4.39\n",
            "\n",
            "Batch 20000\tTime: 394 s\tAgent Eps: 0.01\tTrain Win Rate: 88.12%\tTest Win Rate: 93.46%\tTest Mean Steps: 4.01\n",
            "\n",
            "Batch 25000\tTime: 499 s\tAgent Eps: 0.01\tTrain Win Rate: 92.38%\tTest Win Rate: 94.24%\tTest Mean Steps: 4.06\n",
            "\n",
            "Batch 30000\tTime: 606 s\tAgent Eps: 0.01\tTrain Win Rate: 93.64%\tTest Win Rate: 95.01%\tTest Mean Steps: 3.99\n",
            "\n",
            "Batch 35000\tTime: 712 s\tAgent Eps: 0.01\tTrain Win Rate: 93.36%\tTest Win Rate: 91.78%\tTest Mean Steps: 4.25\n",
            "\n",
            "Batch 40000\tTime: 816 s\tAgent Eps: 0.01\tTrain Win Rate: 94.26%\tTest Win Rate: 96.77%\tTest Mean Steps: 3.91\n"
          ]
        },
        {
          "data": {
            "text/plain": [
              "'skip2-1423-8000'"
            ]
          },
          "execution_count": 21,
          "metadata": {},
          "output_type": "execute_result"
        }
      ],
      "source": [
        "train(\n",
        "    data=data,\n",
        "    \n",
        "    n_batches=40000,\n",
        "    n_batches_warm=0,\n",
        "    \n",
        "    eps_start=0.01,\n",
        "    eps_end=0.01,\n",
        "    eps_decay=1,\n",
        "    \n",
        "    alpha=0.4,\n",
        "    rb_size=int(1e6),\n",
        "    method_name='skip2',\n",
        "\n",
        "    n_envs=8,\n",
        "    k=1, \n",
        "    optimize_interval=8,\n",
        "\n",
        "    agent_path=agent_path('skip-677-4000', 4)\n",
        ")"
      ]
    },
    {
      "cell_type": "code",
      "execution_count": 26,
      "metadata": {},
      "outputs": [
        {
          "name": "stdout",
          "output_type": "stream",
          "text": [
            "guesses: 12972\n",
            "train answers: 2315\n",
            "test answers: 2315 (overfit strategy)\n"
          ]
        }
      ],
      "source": [
        "n_guesses = len(guesses)\n",
        "data = get_data(n_guesses, overfit=True)"
      ]
    },
    {
      "cell_type": "code",
      "execution_count": 28,
      "metadata": {},
      "outputs": [
        {
          "data": {
            "application/vnd.jupyter.widget-view+json": {
              "model_id": "6702e057414047148f52e4539d51c4e5",
              "version_major": 2,
              "version_minor": 0
            },
            "text/plain": [
              "WARM BATCHES: 0it [00:00, ?it/s]"
            ]
          },
          "metadata": {},
          "output_type": "display_data"
        },
        {
          "name": "stdout",
          "output_type": "stream",
          "text": [
            "\n",
            "Batch    0\tTest Win Rate: 79.18%\tTest Mean Steps: 4.26\n"
          ]
        },
        {
          "data": {
            "application/vnd.jupyter.widget-view+json": {
              "model_id": "9692e31786854a84813254d46edb948a",
              "version_major": 2,
              "version_minor": 0
            },
            "text/plain": [
              "TRAIN BATCHES:   0%|          | 0/40000 [00:00<?, ?it/s]"
            ]
          },
          "metadata": {},
          "output_type": "display_data"
        },
        {
          "name": "stdout",
          "output_type": "stream",
          "text": [
            "\n",
            "Batch 5000\tTime: 93 s\tAgent Eps: 0.01\tTrain Win Rate: 77.28%\tTest Win Rate: 82.20%\tTest Mean Steps: 4.20\n",
            "\n",
            "Batch 10000\tTime: 210 s\tAgent Eps: 0.01\tTrain Win Rate: 82.42%\tTest Win Rate: 72.22%\tTest Mean Steps: 4.87\n",
            "\n",
            "Batch 15000\tTime: 329 s\tAgent Eps: 0.01\tTrain Win Rate: 82.98%\tTest Win Rate: 87.86%\tTest Mean Steps: 4.22\n",
            "\n",
            "Batch 20000\tTime: 444 s\tAgent Eps: 0.01\tTrain Win Rate: 89.84%\tTest Win Rate: 89.94%\tTest Mean Steps: 4.18\n",
            "\n",
            "Batch 25000\tTime: 556 s\tAgent Eps: 0.01\tTrain Win Rate: 91.28%\tTest Win Rate: 92.05%\tTest Mean Steps: 4.15\n",
            "\n",
            "Batch 30000\tTime: 668 s\tAgent Eps: 0.01\tTrain Win Rate: 91.72%\tTest Win Rate: 92.22%\tTest Mean Steps: 4.18\n",
            "\n",
            "Batch 35000\tTime: 778 s\tAgent Eps: 0.01\tTrain Win Rate: 92.52%\tTest Win Rate: 92.40%\tTest Mean Steps: 4.17\n",
            "\n",
            "Batch 40000\tTime: 889 s\tAgent Eps: 0.01\tTrain Win Rate: 92.80%\tTest Win Rate: 94.08%\tTest Mean Steps: 4.12\n"
          ]
        },
        {
          "data": {
            "text/plain": [
              "'skip2-2315-12972'"
            ]
          },
          "execution_count": 28,
          "metadata": {},
          "output_type": "execute_result"
        }
      ],
      "source": [
        "train(\n",
        "    data=data,\n",
        "    \n",
        "    n_batches=40000,\n",
        "    n_batches_warm=0,\n",
        "    \n",
        "    eps_start=0.01,\n",
        "    eps_end=0.01,\n",
        "    eps_decay=1,\n",
        "    \n",
        "    alpha=0.4,\n",
        "    rb_size=int(1e6),\n",
        "    method_name='skip2',\n",
        "\n",
        "    n_envs=8,\n",
        "    k=1, \n",
        "    optimize_interval=8,\n",
        "\n",
        "    agent_path=agent_path('skip2-1423-8000', 7)\n",
        ")"
      ]
    },
    {
      "cell_type": "code",
      "execution_count": 32,
      "metadata": {},
      "outputs": [
        {
          "data": {
            "application/vnd.jupyter.widget-view+json": {
              "model_id": "2d37e8c95bd743adbffab16b42fa596c",
              "version_major": 2,
              "version_minor": 0
            },
            "text/plain": [
              "WARM BATCHES: 0it [00:00, ?it/s]"
            ]
          },
          "metadata": {},
          "output_type": "display_data"
        },
        {
          "name": "stdout",
          "output_type": "stream",
          "text": [
            "\n",
            "Batch    0\tTest Win Rate: 94.08%\tTest Mean Steps: 4.12\n"
          ]
        },
        {
          "data": {
            "application/vnd.jupyter.widget-view+json": {
              "model_id": "9836077591ff40788b9dcf6a08249419",
              "version_major": 2,
              "version_minor": 0
            },
            "text/plain": [
              "TRAIN BATCHES:   0%|          | 0/40000 [00:00<?, ?it/s]"
            ]
          },
          "metadata": {},
          "output_type": "display_data"
        },
        {
          "name": "stdout",
          "output_type": "stream",
          "text": [
            "\n",
            "Batch 5000\tTime: 80 s\tAgent Eps: 0.00\tTrain Win Rate: 96.00%\tTest Win Rate: 70.93%\tTest Mean Steps: 4.95\n",
            "\n",
            "Batch 10000\tTime: 185 s\tAgent Eps: 0.00\tTrain Win Rate: 96.20%\tTest Win Rate: 96.76%\tTest Mean Steps: 3.98\n",
            "\n",
            "Batch 15000\tTime: 291 s\tAgent Eps: 0.00\tTrain Win Rate: 97.00%\tTest Win Rate: 97.24%\tTest Mean Steps: 3.99\n",
            "\n",
            "Batch 20000\tTime: 392 s\tAgent Eps: 0.00\tTrain Win Rate: 97.12%\tTest Win Rate: 97.19%\tTest Mean Steps: 4.00\n",
            "\n",
            "Batch 25000\tTime: 491 s\tAgent Eps: 0.00\tTrain Win Rate: 96.70%\tTest Win Rate: 97.62%\tTest Mean Steps: 3.91\n",
            "\n",
            "Batch 30000\tTime: 589 s\tAgent Eps: 0.00\tTrain Win Rate: 98.34%\tTest Win Rate: 98.14%\tTest Mean Steps: 3.87\n",
            "\n",
            "Batch 35000\tTime: 686 s\tAgent Eps: 0.00\tTrain Win Rate: 98.22%\tTest Win Rate: 98.23%\tTest Mean Steps: 3.86\n",
            "\n",
            "Batch 40000\tTime: 782 s\tAgent Eps: 0.00\tTrain Win Rate: 98.78%\tTest Win Rate: 99.18%\tTest Mean Steps: 3.85\n"
          ]
        },
        {
          "data": {
            "text/plain": [
              "'skip2-2315-22972-2'"
            ]
          },
          "execution_count": 32,
          "metadata": {},
          "output_type": "execute_result"
        }
      ],
      "source": [
        "train(\n",
        "    data=data,\n",
        "    \n",
        "    n_batches=40000,\n",
        "    n_batches_warm=0,\n",
        "    \n",
        "    eps_start=0,\n",
        "    eps_end=0,\n",
        "    eps_decay=1,\n",
        "    \n",
        "    alpha=1,\n",
        "    rb_size=int(1e6),\n",
        "    method_name='skip2',\n",
        "    lr=1e-5,\n",
        "    fine_tune=True,\n",
        "\n",
        "    n_envs=8,\n",
        "    k=1,\n",
        "    optimize_interval=8,\n",
        "\n",
        "    agent_path=agent_path('skip2-2315-12972', 7)\n",
        ")"
      ]
    },
    {
      "cell_type": "code",
      "execution_count": 34,
      "metadata": {},
      "outputs": [
        {
          "data": {
            "application/vnd.jupyter.widget-view+json": {
              "model_id": "0a6a1f5fdc6a4b3baf11be4cc3144142",
              "version_major": 2,
              "version_minor": 0
            },
            "text/plain": [
              "WARM BATCHES: 0it [00:00, ?it/s]"
            ]
          },
          "metadata": {},
          "output_type": "display_data"
        },
        {
          "name": "stdout",
          "output_type": "stream",
          "text": [
            "\n",
            "Batch    0\tTest Win Rate: 99.18%\tTest Mean Steps: 3.85\n"
          ]
        },
        {
          "data": {
            "application/vnd.jupyter.widget-view+json": {
              "model_id": "24c90898ed7c440aa4c0ae0d1feed991",
              "version_major": 2,
              "version_minor": 0
            },
            "text/plain": [
              "TRAIN BATCHES:   0%|          | 0/40000 [00:00<?, ?it/s]"
            ]
          },
          "metadata": {},
          "output_type": "display_data"
        },
        {
          "name": "stdout",
          "output_type": "stream",
          "text": [
            "\n",
            "Batch 5000\tTime: 72 s\tAgent Eps: 0.00\tTrain Win Rate: 98.84%\tTest Win Rate: 98.92%\tTest Mean Steps: 3.81\n",
            "\n",
            "Batch 10000\tTime: 169 s\tAgent Eps: 0.00\tTrain Win Rate: 98.86%\tTest Win Rate: 98.66%\tTest Mean Steps: 3.85\n",
            "\n",
            "Batch 15000\tTime: 265 s\tAgent Eps: 0.00\tTrain Win Rate: 98.60%\tTest Win Rate: 98.66%\tTest Mean Steps: 3.82\n",
            "\n",
            "Batch 20000\tTime: 360 s\tAgent Eps: 0.00\tTrain Win Rate: 98.76%\tTest Win Rate: 99.05%\tTest Mean Steps: 3.79\n",
            "\n",
            "Batch 25000\tTime: 455 s\tAgent Eps: 0.00\tTrain Win Rate: 99.38%\tTest Win Rate: 99.31%\tTest Mean Steps: 3.78\n",
            "\n",
            "Batch 30000\tTime: 550 s\tAgent Eps: 0.00\tTrain Win Rate: 98.74%\tTest Win Rate: 99.09%\tTest Mean Steps: 3.80\n",
            "\n",
            "Batch 35000\tTime: 645 s\tAgent Eps: 0.00\tTrain Win Rate: 99.38%\tTest Win Rate: 99.48%\tTest Mean Steps: 3.78\n",
            "\n",
            "Batch 40000\tTime: 739 s\tAgent Eps: 0.00\tTrain Win Rate: 99.36%\tTest Win Rate: 99.09%\tTest Mean Steps: 3.79\n"
          ]
        },
        {
          "data": {
            "text/plain": [
              "'skip2-3315-32972-3'"
            ]
          },
          "execution_count": 34,
          "metadata": {},
          "output_type": "execute_result"
        }
      ],
      "source": [
        "train(\n",
        "    data=data,\n",
        "    \n",
        "    n_batches=40000,\n",
        "    n_batches_warm=0,\n",
        "    \n",
        "    eps_start=0,\n",
        "    eps_end=0,\n",
        "    eps_decay=1,\n",
        "    \n",
        "    alpha=1,\n",
        "    rb_size=int(1e6),\n",
        "    method_name='skip2',\n",
        "    lr=1e-5,\n",
        "    fine_tune=True,\n",
        "\n",
        "    n_envs=8,\n",
        "    k=1,\n",
        "    optimize_interval=8,\n",
        "\n",
        "    agent_path=agent_path('skip2-2315-22972-2', 7)\n",
        ")"
      ]
    },
    {
      "cell_type": "code",
      "execution_count": 36,
      "metadata": {},
      "outputs": [
        {
          "data": {
            "application/vnd.jupyter.widget-view+json": {
              "model_id": "2ab801aa14184912a2c4428707e08def",
              "version_major": 2,
              "version_minor": 0
            },
            "text/plain": [
              "WARM BATCHES: 0it [00:00, ?it/s]"
            ]
          },
          "metadata": {},
          "output_type": "display_data"
        },
        {
          "name": "stdout",
          "output_type": "stream",
          "text": [
            "\n",
            "Batch    0\tTest Win Rate: 99.48%\tTest Mean Steps: 3.78\n"
          ]
        },
        {
          "data": {
            "application/vnd.jupyter.widget-view+json": {
              "model_id": "0b853e0e8299452f991fbe40b13e6d5d",
              "version_major": 2,
              "version_minor": 0
            },
            "text/plain": [
              "TRAIN BATCHES:   0%|          | 0/40000 [00:00<?, ?it/s]"
            ]
          },
          "metadata": {},
          "output_type": "display_data"
        },
        {
          "name": "stdout",
          "output_type": "stream",
          "text": [
            "\n",
            "Batch 5000\tTime: 71 s\tAgent Eps: 0.00\tTrain Win Rate: 99.62%\tTest Win Rate: 99.40%\tTest Mean Steps: 3.79\n",
            "\n",
            "Batch 10000\tTime: 165 s\tAgent Eps: 0.00\tTrain Win Rate: 97.88%\tTest Win Rate: 99.52%\tTest Mean Steps: 3.76\n",
            "\n",
            "Batch 15000\tTime: 257 s\tAgent Eps: 0.00\tTrain Win Rate: 99.46%\tTest Win Rate: 99.14%\tTest Mean Steps: 3.76\n",
            "\n",
            "Batch 20000\tTime: 353 s\tAgent Eps: 0.00\tTrain Win Rate: 99.36%\tTest Win Rate: 98.88%\tTest Mean Steps: 3.78\n",
            "\n",
            "Batch 25000\tTime: 448 s\tAgent Eps: 0.00\tTrain Win Rate: 99.38%\tTest Win Rate: 99.61%\tTest Mean Steps: 3.75\n",
            "\n",
            "Batch 30000\tTime: 542 s\tAgent Eps: 0.00\tTrain Win Rate: 99.64%\tTest Win Rate: 99.18%\tTest Mean Steps: 3.74\n",
            "\n",
            "Batch 35000\tTime: 636 s\tAgent Eps: 0.00\tTrain Win Rate: 99.52%\tTest Win Rate: 99.61%\tTest Mean Steps: 3.73\n",
            "\n",
            "Batch 40000\tTime: 729 s\tAgent Eps: 0.00\tTrain Win Rate: 99.66%\tTest Win Rate: 99.74%\tTest Mean Steps: 3.73\n"
          ]
        },
        {
          "data": {
            "text/plain": [
              "'skip2-4315-42972-4'"
            ]
          },
          "execution_count": 36,
          "metadata": {},
          "output_type": "execute_result"
        }
      ],
      "source": [
        "train(\n",
        "    data=data,\n",
        "    \n",
        "    n_batches=40000,\n",
        "    n_batches_warm=0,\n",
        "    \n",
        "    eps_start=0,\n",
        "    eps_end=0,\n",
        "    eps_decay=1,\n",
        "    \n",
        "    alpha=1,\n",
        "    rb_size=int(1e6),\n",
        "    method_name='skip2',\n",
        "    lr=1e-6,\n",
        "    fine_tune=True,\n",
        "\n",
        "    n_envs=8,\n",
        "    k=1,\n",
        "    optimize_interval=8,\n",
        "\n",
        "    agent_path=agent_path('skip2-3315-32972-3', 6)\n",
        ")"
      ]
    },
    {
      "cell_type": "code",
      "execution_count": 8,
      "metadata": {},
      "outputs": [
        {
          "data": {
            "application/vnd.jupyter.widget-view+json": {
              "model_id": "d4db285bc0f34af1b1cdc002571be194",
              "version_major": 2,
              "version_minor": 0
            },
            "text/plain": [
              "WARM BATCHES: 0it [00:00, ?it/s]"
            ]
          },
          "metadata": {},
          "output_type": "display_data"
        },
        {
          "name": "stdout",
          "output_type": "stream",
          "text": [
            "\n",
            "Batch    0\tTest Win Rate: 99.74%\tTest Mean Steps: 3.73\n"
          ]
        },
        {
          "data": {
            "application/vnd.jupyter.widget-view+json": {
              "model_id": "2057e42447374713957843722b1fee83",
              "version_major": 2,
              "version_minor": 0
            },
            "text/plain": [
              "TRAIN BATCHES:   0%|          | 0/160000 [00:00<?, ?it/s]"
            ]
          },
          "metadata": {},
          "output_type": "display_data"
        },
        {
          "name": "stdout",
          "output_type": "stream",
          "text": [
            "\n",
            "Batch 5000\tTime: 72 s\tAgent Eps: 0.00\tTrain Win Rate: 97.92%\tTest Win Rate: 99.65%\tTest Mean Steps: 3.73\n",
            "\n",
            "Batch 10000\tTime: 165 s\tAgent Eps: 0.00\tTrain Win Rate: 99.56%\tTest Win Rate: 99.65%\tTest Mean Steps: 3.73\n",
            "\n",
            "Batch 15000\tTime: 259 s\tAgent Eps: 0.00\tTrain Win Rate: 99.54%\tTest Win Rate: 99.83%\tTest Mean Steps: 3.73\n",
            "\n",
            "Batch 20000\tTime: 352 s\tAgent Eps: 0.00\tTrain Win Rate: 99.62%\tTest Win Rate: 99.57%\tTest Mean Steps: 3.72\n",
            "\n",
            "Batch 25000\tTime: 446 s\tAgent Eps: 0.00\tTrain Win Rate: 99.84%\tTest Win Rate: 99.91%\tTest Mean Steps: 3.72\n",
            "\n",
            "Batch 30000\tTime: 539 s\tAgent Eps: 0.00\tTrain Win Rate: 99.56%\tTest Win Rate: 99.61%\tTest Mean Steps: 3.72\n",
            "\n",
            "Batch 35000\tTime: 632 s\tAgent Eps: 0.00\tTrain Win Rate: 99.60%\tTest Win Rate: 99.57%\tTest Mean Steps: 3.71\n",
            "\n",
            "Batch 40000\tTime: 725 s\tAgent Eps: 0.00\tTrain Win Rate: 99.64%\tTest Win Rate: 99.78%\tTest Mean Steps: 3.72\n",
            "\n",
            "Batch 45000\tTime: 819 s\tAgent Eps: 0.00\tTrain Win Rate: 99.70%\tTest Win Rate: 99.65%\tTest Mean Steps: 3.72\n",
            "\n",
            "Batch 50000\tTime: 911 s\tAgent Eps: 0.00\tTrain Win Rate: 99.80%\tTest Win Rate: 99.91%\tTest Mean Steps: 3.71\n",
            "\n",
            "Batch 55000\tTime: 1004 s\tAgent Eps: 0.00\tTrain Win Rate: 99.88%\tTest Win Rate: 99.96%\tTest Mean Steps: 3.71\n",
            "\n",
            "Batch 60000\tTime: 1098 s\tAgent Eps: 0.00\tTrain Win Rate: 99.94%\tTest Win Rate: 99.83%\tTest Mean Steps: 3.71\n",
            "\n",
            "Batch 65000\tTime: 1191 s\tAgent Eps: 0.00\tTrain Win Rate: 99.94%\tTest Win Rate: 99.83%\tTest Mean Steps: 3.71\n",
            "\n",
            "Batch 70000\tTime: 1283 s\tAgent Eps: 0.00\tTrain Win Rate: 99.80%\tTest Win Rate: 99.96%\tTest Mean Steps: 3.71\n",
            "\n",
            "Batch 75000\tTime: 1376 s\tAgent Eps: 0.00\tTrain Win Rate: 99.66%\tTest Win Rate: 99.83%\tTest Mean Steps: 3.70\n",
            "\n",
            "Batch 80000\tTime: 1468 s\tAgent Eps: 0.00\tTrain Win Rate: 99.84%\tTest Win Rate: 99.78%\tTest Mean Steps: 3.71\n",
            "\n",
            "Batch 85000\tTime: 1560 s\tAgent Eps: 0.00\tTrain Win Rate: 99.84%\tTest Win Rate: 99.74%\tTest Mean Steps: 3.71\n",
            "\n",
            "Batch 90000\tTime: 1652 s\tAgent Eps: 0.00\tTrain Win Rate: 99.52%\tTest Win Rate: 99.83%\tTest Mean Steps: 3.71\n",
            "\n",
            "Batch 95000\tTime: 1745 s\tAgent Eps: 0.00\tTrain Win Rate: 99.66%\tTest Win Rate: 99.74%\tTest Mean Steps: 3.71\n",
            "\n",
            "Batch 100000\tTime: 1837 s\tAgent Eps: 0.00\tTrain Win Rate: 99.88%\tTest Win Rate: 99.74%\tTest Mean Steps: 3.71\n",
            "\n",
            "Batch 105000\tTime: 1929 s\tAgent Eps: 0.00\tTrain Win Rate: 99.92%\tTest Win Rate: 99.91%\tTest Mean Steps: 3.71\n",
            "\n",
            "Batch 110000\tTime: 2021 s\tAgent Eps: 0.00\tTrain Win Rate: 98.18%\tTest Win Rate: 99.65%\tTest Mean Steps: 3.71\n",
            "\n",
            "Batch 115000\tTime: 2112 s\tAgent Eps: 0.00\tTrain Win Rate: 99.92%\tTest Win Rate: 99.87%\tTest Mean Steps: 3.70\n",
            "\n",
            "Batch 120000\tTime: 2204 s\tAgent Eps: 0.00\tTrain Win Rate: 99.86%\tTest Win Rate: 99.74%\tTest Mean Steps: 3.72\n",
            "\n",
            "Batch 125000\tTime: 2296 s\tAgent Eps: 0.00\tTrain Win Rate: 99.76%\tTest Win Rate: 99.87%\tTest Mean Steps: 3.70\n",
            "\n",
            "Batch 130000\tTime: 2388 s\tAgent Eps: 0.00\tTrain Win Rate: 99.86%\tTest Win Rate: 99.78%\tTest Mean Steps: 3.71\n",
            "\n",
            "Batch 135000\tTime: 2480 s\tAgent Eps: 0.00\tTrain Win Rate: 99.86%\tTest Win Rate: 99.87%\tTest Mean Steps: 3.70\n",
            "\n",
            "Batch 140000\tTime: 2573 s\tAgent Eps: 0.00\tTrain Win Rate: 99.88%\tTest Win Rate: 99.87%\tTest Mean Steps: 3.71\n",
            "\n",
            "Batch 145000\tTime: 2666 s\tAgent Eps: 0.00\tTrain Win Rate: 99.76%\tTest Win Rate: 99.74%\tTest Mean Steps: 3.70\n",
            "\n",
            "Batch 150000\tTime: 2758 s\tAgent Eps: 0.00\tTrain Win Rate: 99.72%\tTest Win Rate: 99.87%\tTest Mean Steps: 3.70\n",
            "\n",
            "Batch 155000\tTime: 2850 s\tAgent Eps: 0.00\tTrain Win Rate: 99.88%\tTest Win Rate: 99.87%\tTest Mean Steps: 3.70\n",
            "\n",
            "Batch 160000\tTime: 2942 s\tAgent Eps: 0.00\tTrain Win Rate: 99.94%\tTest Win Rate: 99.87%\tTest Mean Steps: 3.70\n"
          ]
        },
        {
          "data": {
            "text/plain": [
              "'skip2-5315-52972-5'"
            ]
          },
          "execution_count": 8,
          "metadata": {},
          "output_type": "execute_result"
        }
      ],
      "source": [
        "train(\n",
        "    data=data,\n",
        "    \n",
        "    n_batches=160000,\n",
        "    n_batches_warm=0,\n",
        "    \n",
        "    eps_start=0,\n",
        "    eps_end=0,\n",
        "    eps_decay=1,\n",
        "    \n",
        "    alpha=1,\n",
        "    rb_size=int(1e6),\n",
        "    method_name='skip2',\n",
        "    lr=1e-6,\n",
        "    fine_tune=True,\n",
        "    logging_interval=5000,\n",
        "\n",
        "    n_envs=8,\n",
        "    k=1,\n",
        "    optimize_interval=8,\n",
        "\n",
        "    agent_path=agent_path('skip2-4315-42972-4', 7)\n",
        ")"
      ]
    },
    {
      "attachments": {},
      "cell_type": "markdown",
      "metadata": {},
      "source": [
        "### balance test set"
      ]
    },
    {
      "cell_type": "code",
      "execution_count": 35,
      "metadata": {},
      "outputs": [
        {
          "name": "stdout",
          "output_type": "stream",
          "text": [
            "guesses: 12972\n",
            "train answers: 2321\n",
            "test answers: 2321 (overfit strategy)\n"
          ]
        }
      ],
      "source": [
        "n_guesses = len(guesses)\n",
        "data = get_data(n_guesses, overfit=True)"
      ]
    },
    {
      "cell_type": "code",
      "execution_count": 36,
      "metadata": {},
      "outputs": [
        {
          "data": {
            "application/vnd.jupyter.widget-view+json": {
              "model_id": "3242a8b8882a4e34ab7069b9cc9abb80",
              "version_major": 2,
              "version_minor": 0
            },
            "text/plain": [
              "WARM BATCHES: 0it [00:00, ?it/s]"
            ]
          },
          "metadata": {},
          "output_type": "display_data"
        },
        {
          "name": "stdout",
          "output_type": "stream",
          "text": [
            "\n",
            "Batch    0\tTest Win Rate: 99.70%\tTest Mean Steps: 3.69\n"
          ]
        },
        {
          "data": {
            "application/vnd.jupyter.widget-view+json": {
              "model_id": "c3c8565973c548fbb8a6131ec1d2077c",
              "version_major": 2,
              "version_minor": 0
            },
            "text/plain": [
              "TRAIN BATCHES:   0%|          | 0/160000 [00:00<?, ?it/s]"
            ]
          },
          "metadata": {},
          "output_type": "display_data"
        },
        {
          "name": "stdout",
          "output_type": "stream",
          "text": [
            "\n",
            "Batch 5000\tTime: 69 s\tAgent Eps: 0.00\tTrain Win Rate: 99.44%\tTest Win Rate: 99.57%\tTest Mean Steps: 3.70\n",
            "\n",
            "Batch 10000\tTime: 160 s\tAgent Eps: 0.00\tTrain Win Rate: 99.58%\tTest Win Rate: 99.57%\tTest Mean Steps: 3.70\n",
            "\n",
            "Batch 15000\tTime: 252 s\tAgent Eps: 0.00\tTrain Win Rate: 99.52%\tTest Win Rate: 99.57%\tTest Mean Steps: 3.70\n",
            "\n",
            "Batch 20000\tTime: 343 s\tAgent Eps: 0.00\tTrain Win Rate: 99.78%\tTest Win Rate: 99.66%\tTest Mean Steps: 3.70\n",
            "\n",
            "Batch 25000\tTime: 435 s\tAgent Eps: 0.00\tTrain Win Rate: 99.20%\tTest Win Rate: 97.37%\tTest Mean Steps: 3.75\n"
          ]
        },
        {
          "ename": "KeyboardInterrupt",
          "evalue": "",
          "output_type": "error",
          "traceback": [
            "\u001b[0;31m---------------------------------------------------------------------------\u001b[0m",
            "\u001b[0;31mKeyboardInterrupt\u001b[0m                         Traceback (most recent call last)",
            "Cell \u001b[0;32mIn[36], line 1\u001b[0m\n\u001b[0;32m----> 1\u001b[0m train(\n\u001b[1;32m      2\u001b[0m     data\u001b[39m=\u001b[39;49mdata,\n\u001b[1;32m      3\u001b[0m     \n\u001b[1;32m      4\u001b[0m     n_batches\u001b[39m=\u001b[39;49m\u001b[39m160000\u001b[39;49m,\n\u001b[1;32m      5\u001b[0m     n_batches_warm\u001b[39m=\u001b[39;49m\u001b[39m0\u001b[39;49m,\n\u001b[1;32m      6\u001b[0m     \n\u001b[1;32m      7\u001b[0m     eps_start\u001b[39m=\u001b[39;49m\u001b[39m0\u001b[39;49m,\n\u001b[1;32m      8\u001b[0m     eps_end\u001b[39m=\u001b[39;49m\u001b[39m0\u001b[39;49m,\n\u001b[1;32m      9\u001b[0m     eps_decay\u001b[39m=\u001b[39;49m\u001b[39m1\u001b[39;49m,\n\u001b[1;32m     10\u001b[0m     \n\u001b[1;32m     11\u001b[0m     alpha\u001b[39m=\u001b[39;49m\u001b[39m1\u001b[39;49m,\n\u001b[1;32m     12\u001b[0m     rb_size\u001b[39m=\u001b[39;49m\u001b[39mint\u001b[39;49m(\u001b[39m1e6\u001b[39;49m),\n\u001b[1;32m     13\u001b[0m     method_name\u001b[39m=\u001b[39;49m\u001b[39m'\u001b[39;49m\u001b[39mskip2\u001b[39;49m\u001b[39m'\u001b[39;49m,\n\u001b[1;32m     14\u001b[0m     lr\u001b[39m=\u001b[39;49m\u001b[39m1e-6\u001b[39;49m,\n\u001b[1;32m     15\u001b[0m     fine_tune\u001b[39m=\u001b[39;49m\u001b[39mTrue\u001b[39;49;00m,\n\u001b[1;32m     16\u001b[0m     logging_interval\u001b[39m=\u001b[39;49m\u001b[39m5000\u001b[39;49m,\n\u001b[1;32m     17\u001b[0m \n\u001b[1;32m     18\u001b[0m     n_envs\u001b[39m=\u001b[39;49m\u001b[39m8\u001b[39;49m,\n\u001b[1;32m     19\u001b[0m     k\u001b[39m=\u001b[39;49m\u001b[39m1\u001b[39;49m,\n\u001b[1;32m     20\u001b[0m     optimize_interval\u001b[39m=\u001b[39;49m\u001b[39m8\u001b[39;49m,\n\u001b[1;32m     21\u001b[0m \n\u001b[1;32m     22\u001b[0m     agent_path\u001b[39m=\u001b[39;49m{\n\u001b[1;32m     23\u001b[0m         \u001b[39m'\u001b[39;49m\u001b[39mlocal\u001b[39;49m\u001b[39m'\u001b[39;49m: \u001b[39m'\u001b[39;49m\u001b[39msome-results/local-99_96.pth\u001b[39;49m\u001b[39m'\u001b[39;49m,\n\u001b[1;32m     24\u001b[0m         \u001b[39m'\u001b[39;49m\u001b[39mtarget\u001b[39;49m\u001b[39m'\u001b[39;49m: \u001b[39m'\u001b[39;49m\u001b[39msome-results/local-99_96.pth\u001b[39;49m\u001b[39m'\u001b[39;49m,\n\u001b[1;32m     25\u001b[0m         \u001b[39m'\u001b[39;49m\u001b[39moptimizer\u001b[39;49m\u001b[39m'\u001b[39;49m: \u001b[39m'\u001b[39;49m\u001b[39msome-results/optimizer-99_96.pth\u001b[39;49m\u001b[39m'\u001b[39;49m,\n\u001b[1;32m     26\u001b[0m         \u001b[39m'\u001b[39;49m\u001b[39mbuffer\u001b[39;49m\u001b[39m'\u001b[39;49m: \u001b[39m'\u001b[39;49m\u001b[39msome-results/buffer-99_96.npz\u001b[39;49m\u001b[39m'\u001b[39;49m,\n\u001b[1;32m     27\u001b[0m     }\n\u001b[1;32m     28\u001b[0m )\n",
            "Cell \u001b[0;32mIn[30], line 2\u001b[0m, in \u001b[0;36mtrain\u001b[0;34m(**kwargs)\u001b[0m\n\u001b[1;32m      1\u001b[0m \u001b[39mdef\u001b[39;00m \u001b[39mtrain\u001b[39m(\u001b[39m*\u001b[39m\u001b[39m*\u001b[39mkwargs):\n\u001b[0;32m----> 2\u001b[0m     \u001b[39mreturn\u001b[39;00m Trainer\u001b[39m.\u001b[39;49mtrain_comb_letters(rewards, ohe1, ohe2, wordle_list, tasks_results, \u001b[39m*\u001b[39;49m\u001b[39m*\u001b[39;49mkwargs)\n",
            "File \u001b[0;32m~/repos/wordle-rl/dqn/train.py:433\u001b[0m, in \u001b[0;36mTrainer.train_comb_letters\u001b[0;34m(rewards, ohe1, ohe2, wordle_list, tasks_results, rb_size, eps_start, eps_end, eps_decay, lr, alpha, k, logging_interval, method_name, fine_tune, backbone_path, data, n_envs, optimize_interval, agent_path, n_batches, n_batches_warm)\u001b[0m\n\u001b[1;32m    421\u001b[0m \u001b[39m# training and evaluating utilities\u001b[39;00m\n\u001b[1;32m    422\u001b[0m trainer \u001b[39m=\u001b[39m Trainer(\n\u001b[1;32m    423\u001b[0m     agent\u001b[39m=\u001b[39magent,\n\u001b[1;32m    424\u001b[0m     train_env\u001b[39m=\u001b[39mtrain_env_list,\n\u001b[0;32m   (...)\u001b[0m\n\u001b[1;32m    430\u001b[0m     logging_interval\u001b[39m=\u001b[39mlogging_interval\n\u001b[1;32m    431\u001b[0m )\n\u001b[0;32m--> 433\u001b[0m res \u001b[39m=\u001b[39m trainer\u001b[39m.\u001b[39;49mtrain(\n\u001b[1;32m    434\u001b[0m     eps_start\u001b[39m=\u001b[39;49meps_start,\n\u001b[1;32m    435\u001b[0m     eps_end\u001b[39m=\u001b[39;49meps_end,\n\u001b[1;32m    436\u001b[0m     eps_decay\u001b[39m=\u001b[39;49meps_decay,\n\u001b[1;32m    437\u001b[0m )\n\u001b[1;32m    439\u001b[0m \u001b[39m# save metrics\u001b[39;00m\n\u001b[1;32m    440\u001b[0m tasks_results[problem_name][method_name] \u001b[39m=\u001b[39m res\n",
            "File \u001b[0;32m~/repos/wordle-rl/dqn/train.py:118\u001b[0m, in \u001b[0;36mTrainer.train\u001b[0;34m(self, eps_start, eps_end, eps_decay)\u001b[0m\n\u001b[1;32m    115\u001b[0m \u001b[39mfor\u001b[39;00m i_batch \u001b[39min\u001b[39;00m tqdm(\u001b[39mrange\u001b[39m(\u001b[39m1\u001b[39m, \u001b[39mself\u001b[39m\u001b[39m.\u001b[39mn_batches\u001b[39m+\u001b[39m\u001b[39m1\u001b[39m), desc\u001b[39m=\u001b[39m\u001b[39m'\u001b[39m\u001b[39mTRAIN BATCHES\u001b[39m\u001b[39m'\u001b[39m):\n\u001b[1;32m    116\u001b[0m     \u001b[39m# collect batch of replays\u001b[39;00m\n\u001b[1;32m    117\u001b[0m     \u001b[39mself\u001b[39m\u001b[39m.\u001b[39magent\u001b[39m.\u001b[39meval \u001b[39m=\u001b[39m \u001b[39mFalse\u001b[39;00m\n\u001b[0;32m--> 118\u001b[0m     batch_scores, batch_wins \u001b[39m=\u001b[39m \u001b[39mself\u001b[39;49m\u001b[39m.\u001b[39;49mplay_batch()\n\u001b[1;32m    120\u001b[0m     \u001b[39m# decrease exploration chance\u001b[39;00m\n\u001b[1;32m    121\u001b[0m     \u001b[39mself\u001b[39m\u001b[39m.\u001b[39magent\u001b[39m.\u001b[39meps \u001b[39m=\u001b[39m \u001b[39mmax\u001b[39m(eps_end, eps_decay \u001b[39m*\u001b[39m \u001b[39mself\u001b[39m\u001b[39m.\u001b[39magent\u001b[39m.\u001b[39meps)\n",
            "File \u001b[0;32m~/repos/wordle-rl/dqn/train.py:173\u001b[0m, in \u001b[0;36mTrainer.play_batch_parallel\u001b[0;34m(self)\u001b[0m\n\u001b[1;32m    170\u001b[0m next_state, reward, done \u001b[39m=\u001b[39m \u001b[39mself\u001b[39m\u001b[39m.\u001b[39mtrain_env_list[i]\u001b[39m.\u001b[39mstep(action, \u001b[39mself\u001b[39m\u001b[39m.\u001b[39mtrain_output)\n\u001b[1;32m    172\u001b[0m \u001b[39m# save replay to agent's buffer\u001b[39;00m\n\u001b[0;32m--> 173\u001b[0m \u001b[39mself\u001b[39;49m\u001b[39m.\u001b[39;49magent\u001b[39m.\u001b[39;49madd(states[i], action, reward, next_state, done)\n\u001b[1;32m    175\u001b[0m \u001b[39m# collect stats\u001b[39;00m\n\u001b[1;32m    176\u001b[0m batch_scores[i] \u001b[39m+\u001b[39m\u001b[39m=\u001b[39m reward\n",
            "File \u001b[0;32m~/repos/wordle-rl/dqn/agent.py:96\u001b[0m, in \u001b[0;36mAgent.add\u001b[0;34m(self, state, action, reward, next_state, done)\u001b[0m\n\u001b[1;32m     93\u001b[0m \u001b[39mself\u001b[39m\u001b[39m.\u001b[39mt \u001b[39m+\u001b[39m\u001b[39m=\u001b[39m \u001b[39m1\u001b[39m\n\u001b[1;32m     95\u001b[0m \u001b[39mif\u001b[39;00m \u001b[39mself\u001b[39m\u001b[39m.\u001b[39mt \u001b[39m%\u001b[39m \u001b[39mself\u001b[39m\u001b[39m.\u001b[39moptimize_interval \u001b[39m==\u001b[39m \u001b[39m0\u001b[39m \u001b[39mand\u001b[39;00m \u001b[39mnot\u001b[39;00m \u001b[39mself\u001b[39m\u001b[39m.\u001b[39meval:\n\u001b[0;32m---> 96\u001b[0m     \u001b[39mself\u001b[39;49m\u001b[39m.\u001b[39;49mlearn()\n",
            "File \u001b[0;32m~/repos/wordle-rl/dqn/agent.py:201\u001b[0m, in \u001b[0;36mAgent.learn\u001b[0;34m(self)\u001b[0m\n\u001b[1;32m    199\u001b[0m \u001b[39mdef\u001b[39;00m \u001b[39mlearn\u001b[39m(\u001b[39mself\u001b[39m):\n\u001b[1;32m    200\u001b[0m \u001b[39m    \u001b[39m\u001b[39m\"\"\"Update net params using batch sampled from replay buffer\"\"\"\u001b[39;00m\n\u001b[0;32m--> 201\u001b[0m     batch \u001b[39m=\u001b[39m \u001b[39mself\u001b[39;49m\u001b[39m.\u001b[39;49mmemory\u001b[39m.\u001b[39;49msample()\n\u001b[1;32m    203\u001b[0m     \u001b[39m# Q-function\u001b[39;00m\n\u001b[1;32m    204\u001b[0m     q_target \u001b[39m=\u001b[39m \u001b[39mNone\u001b[39;00m\n",
            "File \u001b[0;32m~/repos/wordle-rl/replay_buffer/cpprb.py:72\u001b[0m, in \u001b[0;36mPrioritizedReplayBuffer.sample\u001b[0;34m(self)\u001b[0m\n\u001b[1;32m     69\u001b[0m     \u001b[39mif\u001b[39;00m key \u001b[39m==\u001b[39m \u001b[39m'\u001b[39m\u001b[39mindexes\u001b[39m\u001b[39m'\u001b[39m:\n\u001b[1;32m     70\u001b[0m         \u001b[39m# batch['indexes'] is only used for updating priorities\u001b[39;00m\n\u001b[1;32m     71\u001b[0m         \u001b[39mcontinue\u001b[39;00m\n\u001b[0;32m---> 72\u001b[0m     batch_device[key] \u001b[39m=\u001b[39m torch\u001b[39m.\u001b[39;49mfrom_numpy(value)\u001b[39m.\u001b[39;49mto(\u001b[39mself\u001b[39;49m\u001b[39m.\u001b[39;49mdevice)\n\u001b[1;32m     74\u001b[0m \u001b[39mreturn\u001b[39;00m batch_device\n",
            "\u001b[0;31mKeyboardInterrupt\u001b[0m: "
          ]
        }
      ],
      "source": [
        "train(\n",
        "    data=data,\n",
        "    \n",
        "    n_batches=160000,\n",
        "    n_batches_warm=0,\n",
        "    \n",
        "    eps_start=0,\n",
        "    eps_end=0,\n",
        "    eps_decay=1,\n",
        "    \n",
        "    alpha=1,\n",
        "    rb_size=int(1e6),\n",
        "    method_name='skip2',\n",
        "    lr=1e-6,\n",
        "    fine_tune=True,\n",
        "    logging_interval=5000,\n",
        "\n",
        "    n_envs=8,\n",
        "    k=1,\n",
        "    optimize_interval=8,\n",
        "\n",
        "    agent_path={\n",
        "        'local': 'some-results/local-99_96.pth',\n",
        "        'target': 'some-results/local-99_96.pth',\n",
        "        'optimizer': 'some-results/optimizer-99_96.pth',\n",
        "        'buffer': 'some-results/buffer-99_96.npz',\n",
        "    }\n",
        ")"
      ]
    }
  ],
  "metadata": {
    "accelerator": "GPU",
    "colab": {
      "provenance": []
    },
    "gpuClass": "standard",
    "kernelspec": {
      "display_name": "Python 3",
      "name": "python3"
    },
    "language_info": {
      "codemirror_mode": {
        "name": "ipython",
        "version": 3
      },
      "file_extension": ".py",
      "mimetype": "text/x-python",
      "name": "python",
      "nbconvert_exporter": "python",
      "pygments_lexer": "ipython3",
      "version": "3.10.6"
    },
    "widgets": {
      "application/vnd.jupyter.widget-state+json": {
        "029c4b37622944759c147068bed24792": {
          "model_module": "@jupyter-widgets/controls",
          "model_module_version": "1.5.0",
          "model_name": "HTMLModel",
          "state": {
            "_dom_classes": [],
            "_model_module": "@jupyter-widgets/controls",
            "_model_module_version": "1.5.0",
            "_model_name": "HTMLModel",
            "_view_count": null,
            "_view_module": "@jupyter-widgets/controls",
            "_view_module_version": "1.5.0",
            "_view_name": "HTMLView",
            "description": "",
            "description_tooltip": null,
            "layout": "IPY_MODEL_09939c33f29e42f7851de2371a990fbd",
            "placeholder": "​",
            "style": "IPY_MODEL_73b16c2040be4bf6bb33a5ddd6b9da10",
            "value": " 10/10 [00:00&lt;00:00, 44.20it/s]"
          }
        },
        "02d0a4dfa03d4c419cea2b2209685509": {
          "model_module": "@jupyter-widgets/base",
          "model_module_version": "1.2.0",
          "model_name": "LayoutModel",
          "state": {
            "_model_module": "@jupyter-widgets/base",
            "_model_module_version": "1.2.0",
            "_model_name": "LayoutModel",
            "_view_count": null,
            "_view_module": "@jupyter-widgets/base",
            "_view_module_version": "1.2.0",
            "_view_name": "LayoutView",
            "align_content": null,
            "align_items": null,
            "align_self": null,
            "border": null,
            "bottom": null,
            "display": null,
            "flex": null,
            "flex_flow": null,
            "grid_area": null,
            "grid_auto_columns": null,
            "grid_auto_flow": null,
            "grid_auto_rows": null,
            "grid_column": null,
            "grid_gap": null,
            "grid_row": null,
            "grid_template_areas": null,
            "grid_template_columns": null,
            "grid_template_rows": null,
            "height": null,
            "justify_content": null,
            "justify_items": null,
            "left": null,
            "margin": null,
            "max_height": null,
            "max_width": null,
            "min_height": null,
            "min_width": null,
            "object_fit": null,
            "object_position": null,
            "order": null,
            "overflow": null,
            "overflow_x": null,
            "overflow_y": null,
            "padding": null,
            "right": null,
            "top": null,
            "visibility": null,
            "width": null
          }
        },
        "0371bcd8cd6d4fdc9c4291d693e0cf87": {
          "model_module": "@jupyter-widgets/base",
          "model_module_version": "1.2.0",
          "model_name": "LayoutModel",
          "state": {
            "_model_module": "@jupyter-widgets/base",
            "_model_module_version": "1.2.0",
            "_model_name": "LayoutModel",
            "_view_count": null,
            "_view_module": "@jupyter-widgets/base",
            "_view_module_version": "1.2.0",
            "_view_name": "LayoutView",
            "align_content": null,
            "align_items": null,
            "align_self": null,
            "border": null,
            "bottom": null,
            "display": null,
            "flex": null,
            "flex_flow": null,
            "grid_area": null,
            "grid_auto_columns": null,
            "grid_auto_flow": null,
            "grid_auto_rows": null,
            "grid_column": null,
            "grid_gap": null,
            "grid_row": null,
            "grid_template_areas": null,
            "grid_template_columns": null,
            "grid_template_rows": null,
            "height": null,
            "justify_content": null,
            "justify_items": null,
            "left": null,
            "margin": null,
            "max_height": null,
            "max_width": null,
            "min_height": null,
            "min_width": null,
            "object_fit": null,
            "object_position": null,
            "order": null,
            "overflow": null,
            "overflow_x": null,
            "overflow_y": null,
            "padding": null,
            "right": null,
            "top": null,
            "visibility": null,
            "width": "20px"
          }
        },
        "06a865269d0f4120be715f0ff2e967d5": {
          "model_module": "@jupyter-widgets/base",
          "model_module_version": "1.2.0",
          "model_name": "LayoutModel",
          "state": {
            "_model_module": "@jupyter-widgets/base",
            "_model_module_version": "1.2.0",
            "_model_name": "LayoutModel",
            "_view_count": null,
            "_view_module": "@jupyter-widgets/base",
            "_view_module_version": "1.2.0",
            "_view_name": "LayoutView",
            "align_content": null,
            "align_items": null,
            "align_self": null,
            "border": null,
            "bottom": null,
            "display": null,
            "flex": null,
            "flex_flow": null,
            "grid_area": null,
            "grid_auto_columns": null,
            "grid_auto_flow": null,
            "grid_auto_rows": null,
            "grid_column": null,
            "grid_gap": null,
            "grid_row": null,
            "grid_template_areas": null,
            "grid_template_columns": null,
            "grid_template_rows": null,
            "height": null,
            "justify_content": null,
            "justify_items": null,
            "left": null,
            "margin": null,
            "max_height": null,
            "max_width": null,
            "min_height": null,
            "min_width": null,
            "object_fit": null,
            "object_position": null,
            "order": null,
            "overflow": null,
            "overflow_x": null,
            "overflow_y": null,
            "padding": null,
            "right": null,
            "top": null,
            "visibility": null,
            "width": null
          }
        },
        "09939c33f29e42f7851de2371a990fbd": {
          "model_module": "@jupyter-widgets/base",
          "model_module_version": "1.2.0",
          "model_name": "LayoutModel",
          "state": {
            "_model_module": "@jupyter-widgets/base",
            "_model_module_version": "1.2.0",
            "_model_name": "LayoutModel",
            "_view_count": null,
            "_view_module": "@jupyter-widgets/base",
            "_view_module_version": "1.2.0",
            "_view_name": "LayoutView",
            "align_content": null,
            "align_items": null,
            "align_self": null,
            "border": null,
            "bottom": null,
            "display": null,
            "flex": null,
            "flex_flow": null,
            "grid_area": null,
            "grid_auto_columns": null,
            "grid_auto_flow": null,
            "grid_auto_rows": null,
            "grid_column": null,
            "grid_gap": null,
            "grid_row": null,
            "grid_template_areas": null,
            "grid_template_columns": null,
            "grid_template_rows": null,
            "height": null,
            "justify_content": null,
            "justify_items": null,
            "left": null,
            "margin": null,
            "max_height": null,
            "max_width": null,
            "min_height": null,
            "min_width": null,
            "object_fit": null,
            "object_position": null,
            "order": null,
            "overflow": null,
            "overflow_x": null,
            "overflow_y": null,
            "padding": null,
            "right": null,
            "top": null,
            "visibility": null,
            "width": null
          }
        },
        "0a35a216e4334a4f81863bc869950fda": {
          "model_module": "@jupyter-widgets/controls",
          "model_module_version": "1.5.0",
          "model_name": "HTMLModel",
          "state": {
            "_dom_classes": [],
            "_model_module": "@jupyter-widgets/controls",
            "_model_module_version": "1.5.0",
            "_model_name": "HTMLModel",
            "_view_count": null,
            "_view_module": "@jupyter-widgets/controls",
            "_view_module_version": "1.5.0",
            "_view_name": "HTMLView",
            "description": "",
            "description_tooltip": null,
            "layout": "IPY_MODEL_8446e4a628e84ef09153dcf38ef5b60c",
            "placeholder": "​",
            "style": "IPY_MODEL_423c5ce32ab74280810593c03e52b475",
            "value": "TRAIN BATCHES: 100%"
          }
        },
        "0b176f9798404e1fa94550cec2638825": {
          "model_module": "@jupyter-widgets/base",
          "model_module_version": "1.2.0",
          "model_name": "LayoutModel",
          "state": {
            "_model_module": "@jupyter-widgets/base",
            "_model_module_version": "1.2.0",
            "_model_name": "LayoutModel",
            "_view_count": null,
            "_view_module": "@jupyter-widgets/base",
            "_view_module_version": "1.2.0",
            "_view_name": "LayoutView",
            "align_content": null,
            "align_items": null,
            "align_self": null,
            "border": null,
            "bottom": null,
            "display": null,
            "flex": null,
            "flex_flow": null,
            "grid_area": null,
            "grid_auto_columns": null,
            "grid_auto_flow": null,
            "grid_auto_rows": null,
            "grid_column": null,
            "grid_gap": null,
            "grid_row": null,
            "grid_template_areas": null,
            "grid_template_columns": null,
            "grid_template_rows": null,
            "height": null,
            "justify_content": null,
            "justify_items": null,
            "left": null,
            "margin": null,
            "max_height": null,
            "max_width": null,
            "min_height": null,
            "min_width": null,
            "object_fit": null,
            "object_position": null,
            "order": null,
            "overflow": null,
            "overflow_x": null,
            "overflow_y": null,
            "padding": null,
            "right": null,
            "top": null,
            "visibility": null,
            "width": null
          }
        },
        "0d0f017d178a470aa9a648c668115bfd": {
          "model_module": "@jupyter-widgets/controls",
          "model_module_version": "1.5.0",
          "model_name": "HTMLModel",
          "state": {
            "_dom_classes": [],
            "_model_module": "@jupyter-widgets/controls",
            "_model_module_version": "1.5.0",
            "_model_name": "HTMLModel",
            "_view_count": null,
            "_view_module": "@jupyter-widgets/controls",
            "_view_module_version": "1.5.0",
            "_view_name": "HTMLView",
            "description": "",
            "description_tooltip": null,
            "layout": "IPY_MODEL_225d93e8054b4a22a2fc350eb5af7637",
            "placeholder": "​",
            "style": "IPY_MODEL_29ab7cbb4dcb4faf9a293d9d3292f229",
            "value": "WARM BATCHES: "
          }
        },
        "0da5258ac8e547deb1f3f8c2fd0c9503": {
          "model_module": "@jupyter-widgets/controls",
          "model_module_version": "1.5.0",
          "model_name": "HTMLModel",
          "state": {
            "_dom_classes": [],
            "_model_module": "@jupyter-widgets/controls",
            "_model_module_version": "1.5.0",
            "_model_name": "HTMLModel",
            "_view_count": null,
            "_view_module": "@jupyter-widgets/controls",
            "_view_module_version": "1.5.0",
            "_view_name": "HTMLView",
            "description": "",
            "description_tooltip": null,
            "layout": "IPY_MODEL_bf46da36e3cb4c189051526807013d77",
            "placeholder": "​",
            "style": "IPY_MODEL_ba4fb6305ae044f9a4bd5480e6b923d8",
            "value": "WARM BATCHES: "
          }
        },
        "1243ed48b1254e23b0bac76da5a4909e": {
          "model_module": "@jupyter-widgets/base",
          "model_module_version": "1.2.0",
          "model_name": "LayoutModel",
          "state": {
            "_model_module": "@jupyter-widgets/base",
            "_model_module_version": "1.2.0",
            "_model_name": "LayoutModel",
            "_view_count": null,
            "_view_module": "@jupyter-widgets/base",
            "_view_module_version": "1.2.0",
            "_view_name": "LayoutView",
            "align_content": null,
            "align_items": null,
            "align_self": null,
            "border": null,
            "bottom": null,
            "display": null,
            "flex": null,
            "flex_flow": null,
            "grid_area": null,
            "grid_auto_columns": null,
            "grid_auto_flow": null,
            "grid_auto_rows": null,
            "grid_column": null,
            "grid_gap": null,
            "grid_row": null,
            "grid_template_areas": null,
            "grid_template_columns": null,
            "grid_template_rows": null,
            "height": null,
            "justify_content": null,
            "justify_items": null,
            "left": null,
            "margin": null,
            "max_height": null,
            "max_width": null,
            "min_height": null,
            "min_width": null,
            "object_fit": null,
            "object_position": null,
            "order": null,
            "overflow": null,
            "overflow_x": null,
            "overflow_y": null,
            "padding": null,
            "right": null,
            "top": null,
            "visibility": null,
            "width": null
          }
        },
        "1334b330e3ab4c7abccf8fdd805468ae": {
          "model_module": "@jupyter-widgets/controls",
          "model_module_version": "1.5.0",
          "model_name": "HTMLModel",
          "state": {
            "_dom_classes": [],
            "_model_module": "@jupyter-widgets/controls",
            "_model_module_version": "1.5.0",
            "_model_name": "HTMLModel",
            "_view_count": null,
            "_view_module": "@jupyter-widgets/controls",
            "_view_module_version": "1.5.0",
            "_view_name": "HTMLView",
            "description": "",
            "description_tooltip": null,
            "layout": "IPY_MODEL_0b176f9798404e1fa94550cec2638825",
            "placeholder": "​",
            "style": "IPY_MODEL_c8cbd52f44a64e1d8d0987f519c89705",
            "value": "WARM BATCHES: 100%"
          }
        },
        "144b2c88377948e5876879481b20cd40": {
          "model_module": "@jupyter-widgets/controls",
          "model_module_version": "1.5.0",
          "model_name": "DescriptionStyleModel",
          "state": {
            "_model_module": "@jupyter-widgets/controls",
            "_model_module_version": "1.5.0",
            "_model_name": "DescriptionStyleModel",
            "_view_count": null,
            "_view_module": "@jupyter-widgets/base",
            "_view_module_version": "1.2.0",
            "_view_name": "StyleView",
            "description_width": ""
          }
        },
        "147e37eb5d394397b8aa74e6a48fa1a8": {
          "model_module": "@jupyter-widgets/controls",
          "model_module_version": "1.5.0",
          "model_name": "HBoxModel",
          "state": {
            "_dom_classes": [],
            "_model_module": "@jupyter-widgets/controls",
            "_model_module_version": "1.5.0",
            "_model_name": "HBoxModel",
            "_view_count": null,
            "_view_module": "@jupyter-widgets/controls",
            "_view_module_version": "1.5.0",
            "_view_name": "HBoxView",
            "box_style": "",
            "children": [
              "IPY_MODEL_0d0f017d178a470aa9a648c668115bfd",
              "IPY_MODEL_8644dc57dbc749e9baba72ebb04e1eff",
              "IPY_MODEL_dd8c8899bc3647b2aca4fe2b27c0e53b"
            ],
            "layout": "IPY_MODEL_ab42915696894774bb4fbe1ec65832da"
          }
        },
        "151b1376cc6f4452ae6bae343b93dc82": {
          "model_module": "@jupyter-widgets/controls",
          "model_module_version": "1.5.0",
          "model_name": "DescriptionStyleModel",
          "state": {
            "_model_module": "@jupyter-widgets/controls",
            "_model_module_version": "1.5.0",
            "_model_name": "DescriptionStyleModel",
            "_view_count": null,
            "_view_module": "@jupyter-widgets/base",
            "_view_module_version": "1.2.0",
            "_view_name": "StyleView",
            "description_width": ""
          }
        },
        "20494ef8ebb146b1ad05f41c8560c374": {
          "model_module": "@jupyter-widgets/controls",
          "model_module_version": "1.5.0",
          "model_name": "FloatProgressModel",
          "state": {
            "_dom_classes": [],
            "_model_module": "@jupyter-widgets/controls",
            "_model_module_version": "1.5.0",
            "_model_name": "FloatProgressModel",
            "_view_count": null,
            "_view_module": "@jupyter-widgets/controls",
            "_view_module_version": "1.5.0",
            "_view_name": "ProgressView",
            "bar_style": "success",
            "description": "",
            "description_tooltip": null,
            "layout": "IPY_MODEL_0371bcd8cd6d4fdc9c4291d693e0cf87",
            "max": 1,
            "min": 0,
            "orientation": "horizontal",
            "style": "IPY_MODEL_c5a073860bc64be5b3be84cd0bd8eadb",
            "value": 0
          }
        },
        "221e50fd2c2b45cab1997c87954bef34": {
          "model_module": "@jupyter-widgets/controls",
          "model_module_version": "1.5.0",
          "model_name": "DescriptionStyleModel",
          "state": {
            "_model_module": "@jupyter-widgets/controls",
            "_model_module_version": "1.5.0",
            "_model_name": "DescriptionStyleModel",
            "_view_count": null,
            "_view_module": "@jupyter-widgets/base",
            "_view_module_version": "1.2.0",
            "_view_name": "StyleView",
            "description_width": ""
          }
        },
        "225d93e8054b4a22a2fc350eb5af7637": {
          "model_module": "@jupyter-widgets/base",
          "model_module_version": "1.2.0",
          "model_name": "LayoutModel",
          "state": {
            "_model_module": "@jupyter-widgets/base",
            "_model_module_version": "1.2.0",
            "_model_name": "LayoutModel",
            "_view_count": null,
            "_view_module": "@jupyter-widgets/base",
            "_view_module_version": "1.2.0",
            "_view_name": "LayoutView",
            "align_content": null,
            "align_items": null,
            "align_self": null,
            "border": null,
            "bottom": null,
            "display": null,
            "flex": null,
            "flex_flow": null,
            "grid_area": null,
            "grid_auto_columns": null,
            "grid_auto_flow": null,
            "grid_auto_rows": null,
            "grid_column": null,
            "grid_gap": null,
            "grid_row": null,
            "grid_template_areas": null,
            "grid_template_columns": null,
            "grid_template_rows": null,
            "height": null,
            "justify_content": null,
            "justify_items": null,
            "left": null,
            "margin": null,
            "max_height": null,
            "max_width": null,
            "min_height": null,
            "min_width": null,
            "object_fit": null,
            "object_position": null,
            "order": null,
            "overflow": null,
            "overflow_x": null,
            "overflow_y": null,
            "padding": null,
            "right": null,
            "top": null,
            "visibility": null,
            "width": null
          }
        },
        "254ef426804b420e932c55c02f88a4d0": {
          "model_module": "@jupyter-widgets/base",
          "model_module_version": "1.2.0",
          "model_name": "LayoutModel",
          "state": {
            "_model_module": "@jupyter-widgets/base",
            "_model_module_version": "1.2.0",
            "_model_name": "LayoutModel",
            "_view_count": null,
            "_view_module": "@jupyter-widgets/base",
            "_view_module_version": "1.2.0",
            "_view_name": "LayoutView",
            "align_content": null,
            "align_items": null,
            "align_self": null,
            "border": null,
            "bottom": null,
            "display": null,
            "flex": null,
            "flex_flow": null,
            "grid_area": null,
            "grid_auto_columns": null,
            "grid_auto_flow": null,
            "grid_auto_rows": null,
            "grid_column": null,
            "grid_gap": null,
            "grid_row": null,
            "grid_template_areas": null,
            "grid_template_columns": null,
            "grid_template_rows": null,
            "height": null,
            "justify_content": null,
            "justify_items": null,
            "left": null,
            "margin": null,
            "max_height": null,
            "max_width": null,
            "min_height": null,
            "min_width": null,
            "object_fit": null,
            "object_position": null,
            "order": null,
            "overflow": null,
            "overflow_x": null,
            "overflow_y": null,
            "padding": null,
            "right": null,
            "top": null,
            "visibility": null,
            "width": "20px"
          }
        },
        "25a7640295814f58b600fdb2c8f9aa24": {
          "model_module": "@jupyter-widgets/controls",
          "model_module_version": "1.5.0",
          "model_name": "FloatProgressModel",
          "state": {
            "_dom_classes": [],
            "_model_module": "@jupyter-widgets/controls",
            "_model_module_version": "1.5.0",
            "_model_name": "FloatProgressModel",
            "_view_count": null,
            "_view_module": "@jupyter-widgets/controls",
            "_view_module_version": "1.5.0",
            "_view_name": "ProgressView",
            "bar_style": "success",
            "description": "",
            "description_tooltip": null,
            "layout": "IPY_MODEL_e36e2ffea99f4c07868e8cda7f74e180",
            "max": 50000,
            "min": 0,
            "orientation": "horizontal",
            "style": "IPY_MODEL_80e9307c27824ae382de85f33c494b13",
            "value": 50000
          }
        },
        "2719835e5efd4b1bb62801cfe4f71c0a": {
          "model_module": "@jupyter-widgets/controls",
          "model_module_version": "1.5.0",
          "model_name": "ProgressStyleModel",
          "state": {
            "_model_module": "@jupyter-widgets/controls",
            "_model_module_version": "1.5.0",
            "_model_name": "ProgressStyleModel",
            "_view_count": null,
            "_view_module": "@jupyter-widgets/base",
            "_view_module_version": "1.2.0",
            "_view_name": "StyleView",
            "bar_color": null,
            "description_width": ""
          }
        },
        "29ab7cbb4dcb4faf9a293d9d3292f229": {
          "model_module": "@jupyter-widgets/controls",
          "model_module_version": "1.5.0",
          "model_name": "DescriptionStyleModel",
          "state": {
            "_model_module": "@jupyter-widgets/controls",
            "_model_module_version": "1.5.0",
            "_model_name": "DescriptionStyleModel",
            "_view_count": null,
            "_view_module": "@jupyter-widgets/base",
            "_view_module_version": "1.2.0",
            "_view_name": "StyleView",
            "description_width": ""
          }
        },
        "2df71f3abfd74d27be4cdf083c82ba5c": {
          "model_module": "@jupyter-widgets/base",
          "model_module_version": "1.2.0",
          "model_name": "LayoutModel",
          "state": {
            "_model_module": "@jupyter-widgets/base",
            "_model_module_version": "1.2.0",
            "_model_name": "LayoutModel",
            "_view_count": null,
            "_view_module": "@jupyter-widgets/base",
            "_view_module_version": "1.2.0",
            "_view_name": "LayoutView",
            "align_content": null,
            "align_items": null,
            "align_self": null,
            "border": null,
            "bottom": null,
            "display": null,
            "flex": null,
            "flex_flow": null,
            "grid_area": null,
            "grid_auto_columns": null,
            "grid_auto_flow": null,
            "grid_auto_rows": null,
            "grid_column": null,
            "grid_gap": null,
            "grid_row": null,
            "grid_template_areas": null,
            "grid_template_columns": null,
            "grid_template_rows": null,
            "height": null,
            "justify_content": null,
            "justify_items": null,
            "left": null,
            "margin": null,
            "max_height": null,
            "max_width": null,
            "min_height": null,
            "min_width": null,
            "object_fit": null,
            "object_position": null,
            "order": null,
            "overflow": null,
            "overflow_x": null,
            "overflow_y": null,
            "padding": null,
            "right": null,
            "top": null,
            "visibility": null,
            "width": null
          }
        },
        "2e181fe0ce344a65b5d4ed958fa5654b": {
          "model_module": "@jupyter-widgets/controls",
          "model_module_version": "1.5.0",
          "model_name": "FloatProgressModel",
          "state": {
            "_dom_classes": [],
            "_model_module": "@jupyter-widgets/controls",
            "_model_module_version": "1.5.0",
            "_model_name": "FloatProgressModel",
            "_view_count": null,
            "_view_module": "@jupyter-widgets/controls",
            "_view_module_version": "1.5.0",
            "_view_name": "ProgressView",
            "bar_style": "success",
            "description": "",
            "description_tooltip": null,
            "layout": "IPY_MODEL_da5fa50b083449d1aabed4c4b346f12b",
            "max": 40000,
            "min": 0,
            "orientation": "horizontal",
            "style": "IPY_MODEL_9ff3e5fd86104db792edd50177ecc2d0",
            "value": 40000
          }
        },
        "322c70378bc84140b249ecdcd83e78b1": {
          "model_module": "@jupyter-widgets/base",
          "model_module_version": "1.2.0",
          "model_name": "LayoutModel",
          "state": {
            "_model_module": "@jupyter-widgets/base",
            "_model_module_version": "1.2.0",
            "_model_name": "LayoutModel",
            "_view_count": null,
            "_view_module": "@jupyter-widgets/base",
            "_view_module_version": "1.2.0",
            "_view_name": "LayoutView",
            "align_content": null,
            "align_items": null,
            "align_self": null,
            "border": null,
            "bottom": null,
            "display": null,
            "flex": null,
            "flex_flow": null,
            "grid_area": null,
            "grid_auto_columns": null,
            "grid_auto_flow": null,
            "grid_auto_rows": null,
            "grid_column": null,
            "grid_gap": null,
            "grid_row": null,
            "grid_template_areas": null,
            "grid_template_columns": null,
            "grid_template_rows": null,
            "height": null,
            "justify_content": null,
            "justify_items": null,
            "left": null,
            "margin": null,
            "max_height": null,
            "max_width": null,
            "min_height": null,
            "min_width": null,
            "object_fit": null,
            "object_position": null,
            "order": null,
            "overflow": null,
            "overflow_x": null,
            "overflow_y": null,
            "padding": null,
            "right": null,
            "top": null,
            "visibility": null,
            "width": null
          }
        },
        "39dddf1280d94a53a15607e37ee3cac5": {
          "model_module": "@jupyter-widgets/base",
          "model_module_version": "1.2.0",
          "model_name": "LayoutModel",
          "state": {
            "_model_module": "@jupyter-widgets/base",
            "_model_module_version": "1.2.0",
            "_model_name": "LayoutModel",
            "_view_count": null,
            "_view_module": "@jupyter-widgets/base",
            "_view_module_version": "1.2.0",
            "_view_name": "LayoutView",
            "align_content": null,
            "align_items": null,
            "align_self": null,
            "border": null,
            "bottom": null,
            "display": null,
            "flex": null,
            "flex_flow": null,
            "grid_area": null,
            "grid_auto_columns": null,
            "grid_auto_flow": null,
            "grid_auto_rows": null,
            "grid_column": null,
            "grid_gap": null,
            "grid_row": null,
            "grid_template_areas": null,
            "grid_template_columns": null,
            "grid_template_rows": null,
            "height": null,
            "justify_content": null,
            "justify_items": null,
            "left": null,
            "margin": null,
            "max_height": null,
            "max_width": null,
            "min_height": null,
            "min_width": null,
            "object_fit": null,
            "object_position": null,
            "order": null,
            "overflow": null,
            "overflow_x": null,
            "overflow_y": null,
            "padding": null,
            "right": null,
            "top": null,
            "visibility": null,
            "width": null
          }
        },
        "3ff3bcb3bac14ebe9ecc22a5fa9f36ec": {
          "model_module": "@jupyter-widgets/controls",
          "model_module_version": "1.5.0",
          "model_name": "HTMLModel",
          "state": {
            "_dom_classes": [],
            "_model_module": "@jupyter-widgets/controls",
            "_model_module_version": "1.5.0",
            "_model_name": "HTMLModel",
            "_view_count": null,
            "_view_module": "@jupyter-widgets/controls",
            "_view_module_version": "1.5.0",
            "_view_name": "HTMLView",
            "description": "",
            "description_tooltip": null,
            "layout": "IPY_MODEL_322c70378bc84140b249ecdcd83e78b1",
            "placeholder": "​",
            "style": "IPY_MODEL_144b2c88377948e5876879481b20cd40",
            "value": " 64/64 [00:01&lt;00:00, 39.59it/s]"
          }
        },
        "4023b5f15aff4e3380755a64915b61fe": {
          "model_module": "@jupyter-widgets/controls",
          "model_module_version": "1.5.0",
          "model_name": "FloatProgressModel",
          "state": {
            "_dom_classes": [],
            "_model_module": "@jupyter-widgets/controls",
            "_model_module_version": "1.5.0",
            "_model_name": "FloatProgressModel",
            "_view_count": null,
            "_view_module": "@jupyter-widgets/controls",
            "_view_module_version": "1.5.0",
            "_view_name": "ProgressView",
            "bar_style": "success",
            "description": "",
            "description_tooltip": null,
            "layout": "IPY_MODEL_42af524938104b518e75c81244c87c60",
            "max": 30000,
            "min": 0,
            "orientation": "horizontal",
            "style": "IPY_MODEL_2719835e5efd4b1bb62801cfe4f71c0a",
            "value": 30000
          }
        },
        "423c5ce32ab74280810593c03e52b475": {
          "model_module": "@jupyter-widgets/controls",
          "model_module_version": "1.5.0",
          "model_name": "DescriptionStyleModel",
          "state": {
            "_model_module": "@jupyter-widgets/controls",
            "_model_module_version": "1.5.0",
            "_model_name": "DescriptionStyleModel",
            "_view_count": null,
            "_view_module": "@jupyter-widgets/base",
            "_view_module_version": "1.2.0",
            "_view_name": "StyleView",
            "description_width": ""
          }
        },
        "42af524938104b518e75c81244c87c60": {
          "model_module": "@jupyter-widgets/base",
          "model_module_version": "1.2.0",
          "model_name": "LayoutModel",
          "state": {
            "_model_module": "@jupyter-widgets/base",
            "_model_module_version": "1.2.0",
            "_model_name": "LayoutModel",
            "_view_count": null,
            "_view_module": "@jupyter-widgets/base",
            "_view_module_version": "1.2.0",
            "_view_name": "LayoutView",
            "align_content": null,
            "align_items": null,
            "align_self": null,
            "border": null,
            "bottom": null,
            "display": null,
            "flex": null,
            "flex_flow": null,
            "grid_area": null,
            "grid_auto_columns": null,
            "grid_auto_flow": null,
            "grid_auto_rows": null,
            "grid_column": null,
            "grid_gap": null,
            "grid_row": null,
            "grid_template_areas": null,
            "grid_template_columns": null,
            "grid_template_rows": null,
            "height": null,
            "justify_content": null,
            "justify_items": null,
            "left": null,
            "margin": null,
            "max_height": null,
            "max_width": null,
            "min_height": null,
            "min_width": null,
            "object_fit": null,
            "object_position": null,
            "order": null,
            "overflow": null,
            "overflow_x": null,
            "overflow_y": null,
            "padding": null,
            "right": null,
            "top": null,
            "visibility": null,
            "width": null
          }
        },
        "4330062c17c54328b88c9c2abba46712": {
          "model_module": "@jupyter-widgets/controls",
          "model_module_version": "1.5.0",
          "model_name": "HBoxModel",
          "state": {
            "_dom_classes": [],
            "_model_module": "@jupyter-widgets/controls",
            "_model_module_version": "1.5.0",
            "_model_name": "HBoxModel",
            "_view_count": null,
            "_view_module": "@jupyter-widgets/controls",
            "_view_module_version": "1.5.0",
            "_view_name": "HBoxView",
            "box_style": "",
            "children": [
              "IPY_MODEL_1334b330e3ab4c7abccf8fdd805468ae",
              "IPY_MODEL_9c6bfb9b3d80433f8c1dbf8b83402954",
              "IPY_MODEL_029c4b37622944759c147068bed24792"
            ],
            "layout": "IPY_MODEL_5ac6e4b8b1bc4fee92b892315e459832"
          }
        },
        "467a7accbc1749de8fdee0d412d56397": {
          "model_module": "@jupyter-widgets/base",
          "model_module_version": "1.2.0",
          "model_name": "LayoutModel",
          "state": {
            "_model_module": "@jupyter-widgets/base",
            "_model_module_version": "1.2.0",
            "_model_name": "LayoutModel",
            "_view_count": null,
            "_view_module": "@jupyter-widgets/base",
            "_view_module_version": "1.2.0",
            "_view_name": "LayoutView",
            "align_content": null,
            "align_items": null,
            "align_self": null,
            "border": null,
            "bottom": null,
            "display": null,
            "flex": null,
            "flex_flow": null,
            "grid_area": null,
            "grid_auto_columns": null,
            "grid_auto_flow": null,
            "grid_auto_rows": null,
            "grid_column": null,
            "grid_gap": null,
            "grid_row": null,
            "grid_template_areas": null,
            "grid_template_columns": null,
            "grid_template_rows": null,
            "height": null,
            "justify_content": null,
            "justify_items": null,
            "left": null,
            "margin": null,
            "max_height": null,
            "max_width": null,
            "min_height": null,
            "min_width": null,
            "object_fit": null,
            "object_position": null,
            "order": null,
            "overflow": null,
            "overflow_x": null,
            "overflow_y": null,
            "padding": null,
            "right": null,
            "top": null,
            "visibility": null,
            "width": null
          }
        },
        "46b1b5de426a4d61946519589b766d51": {
          "model_module": "@jupyter-widgets/controls",
          "model_module_version": "1.5.0",
          "model_name": "HBoxModel",
          "state": {
            "_dom_classes": [],
            "_model_module": "@jupyter-widgets/controls",
            "_model_module_version": "1.5.0",
            "_model_name": "HBoxModel",
            "_view_count": null,
            "_view_module": "@jupyter-widgets/controls",
            "_view_module_version": "1.5.0",
            "_view_name": "HBoxView",
            "box_style": "",
            "children": [
              "IPY_MODEL_0a35a216e4334a4f81863bc869950fda",
              "IPY_MODEL_4023b5f15aff4e3380755a64915b61fe",
              "IPY_MODEL_762ab3df20de4faa9abed83ced18be2e"
            ],
            "layout": "IPY_MODEL_2df71f3abfd74d27be4cdf083c82ba5c"
          }
        },
        "4847c2fd12064264950cac571c8cd7b8": {
          "model_module": "@jupyter-widgets/base",
          "model_module_version": "1.2.0",
          "model_name": "LayoutModel",
          "state": {
            "_model_module": "@jupyter-widgets/base",
            "_model_module_version": "1.2.0",
            "_model_name": "LayoutModel",
            "_view_count": null,
            "_view_module": "@jupyter-widgets/base",
            "_view_module_version": "1.2.0",
            "_view_name": "LayoutView",
            "align_content": null,
            "align_items": null,
            "align_self": null,
            "border": null,
            "bottom": null,
            "display": null,
            "flex": null,
            "flex_flow": null,
            "grid_area": null,
            "grid_auto_columns": null,
            "grid_auto_flow": null,
            "grid_auto_rows": null,
            "grid_column": null,
            "grid_gap": null,
            "grid_row": null,
            "grid_template_areas": null,
            "grid_template_columns": null,
            "grid_template_rows": null,
            "height": null,
            "justify_content": null,
            "justify_items": null,
            "left": null,
            "margin": null,
            "max_height": null,
            "max_width": null,
            "min_height": null,
            "min_width": null,
            "object_fit": null,
            "object_position": null,
            "order": null,
            "overflow": null,
            "overflow_x": null,
            "overflow_y": null,
            "padding": null,
            "right": null,
            "top": null,
            "visibility": null,
            "width": null
          }
        },
        "4884d03a1ebd49f6b1cd86c987679f93": {
          "model_module": "@jupyter-widgets/base",
          "model_module_version": "1.2.0",
          "model_name": "LayoutModel",
          "state": {
            "_model_module": "@jupyter-widgets/base",
            "_model_module_version": "1.2.0",
            "_model_name": "LayoutModel",
            "_view_count": null,
            "_view_module": "@jupyter-widgets/base",
            "_view_module_version": "1.2.0",
            "_view_name": "LayoutView",
            "align_content": null,
            "align_items": null,
            "align_self": null,
            "border": null,
            "bottom": null,
            "display": null,
            "flex": null,
            "flex_flow": null,
            "grid_area": null,
            "grid_auto_columns": null,
            "grid_auto_flow": null,
            "grid_auto_rows": null,
            "grid_column": null,
            "grid_gap": null,
            "grid_row": null,
            "grid_template_areas": null,
            "grid_template_columns": null,
            "grid_template_rows": null,
            "height": null,
            "justify_content": null,
            "justify_items": null,
            "left": null,
            "margin": null,
            "max_height": null,
            "max_width": null,
            "min_height": null,
            "min_width": null,
            "object_fit": null,
            "object_position": null,
            "order": null,
            "overflow": null,
            "overflow_x": null,
            "overflow_y": null,
            "padding": null,
            "right": null,
            "top": null,
            "visibility": null,
            "width": null
          }
        },
        "4e7e956b6fac44ba85cc0044debbe8e3": {
          "model_module": "@jupyter-widgets/base",
          "model_module_version": "1.2.0",
          "model_name": "LayoutModel",
          "state": {
            "_model_module": "@jupyter-widgets/base",
            "_model_module_version": "1.2.0",
            "_model_name": "LayoutModel",
            "_view_count": null,
            "_view_module": "@jupyter-widgets/base",
            "_view_module_version": "1.2.0",
            "_view_name": "LayoutView",
            "align_content": null,
            "align_items": null,
            "align_self": null,
            "border": null,
            "bottom": null,
            "display": null,
            "flex": null,
            "flex_flow": null,
            "grid_area": null,
            "grid_auto_columns": null,
            "grid_auto_flow": null,
            "grid_auto_rows": null,
            "grid_column": null,
            "grid_gap": null,
            "grid_row": null,
            "grid_template_areas": null,
            "grid_template_columns": null,
            "grid_template_rows": null,
            "height": null,
            "justify_content": null,
            "justify_items": null,
            "left": null,
            "margin": null,
            "max_height": null,
            "max_width": null,
            "min_height": null,
            "min_width": null,
            "object_fit": null,
            "object_position": null,
            "order": null,
            "overflow": null,
            "overflow_x": null,
            "overflow_y": null,
            "padding": null,
            "right": null,
            "top": null,
            "visibility": null,
            "width": null
          }
        },
        "579ad8b8e1da415090021fed801cfca0": {
          "model_module": "@jupyter-widgets/controls",
          "model_module_version": "1.5.0",
          "model_name": "HBoxModel",
          "state": {
            "_dom_classes": [],
            "_model_module": "@jupyter-widgets/controls",
            "_model_module_version": "1.5.0",
            "_model_name": "HBoxModel",
            "_view_count": null,
            "_view_module": "@jupyter-widgets/controls",
            "_view_module_version": "1.5.0",
            "_view_name": "HBoxView",
            "box_style": "",
            "children": [
              "IPY_MODEL_d2e7acc02edd4a54959152b128531b85",
              "IPY_MODEL_25a7640295814f58b600fdb2c8f9aa24",
              "IPY_MODEL_f8470dadeaf349808eca539f24b37d50"
            ],
            "layout": "IPY_MODEL_ea6aade8259d4608951d429e58a2c072"
          }
        },
        "587e7e0438f94d26819fc8791dc3594d": {
          "model_module": "@jupyter-widgets/controls",
          "model_module_version": "1.5.0",
          "model_name": "HTMLModel",
          "state": {
            "_dom_classes": [],
            "_model_module": "@jupyter-widgets/controls",
            "_model_module_version": "1.5.0",
            "_model_name": "HTMLModel",
            "_view_count": null,
            "_view_module": "@jupyter-widgets/controls",
            "_view_module_version": "1.5.0",
            "_view_name": "HTMLView",
            "description": "",
            "description_tooltip": null,
            "layout": "IPY_MODEL_02d0a4dfa03d4c419cea2b2209685509",
            "placeholder": "​",
            "style": "IPY_MODEL_5b71ae0a038e48c1bfdb4c4521def072",
            "value": "TRAIN BATCHES: 100%"
          }
        },
        "5ac6e4b8b1bc4fee92b892315e459832": {
          "model_module": "@jupyter-widgets/base",
          "model_module_version": "1.2.0",
          "model_name": "LayoutModel",
          "state": {
            "_model_module": "@jupyter-widgets/base",
            "_model_module_version": "1.2.0",
            "_model_name": "LayoutModel",
            "_view_count": null,
            "_view_module": "@jupyter-widgets/base",
            "_view_module_version": "1.2.0",
            "_view_name": "LayoutView",
            "align_content": null,
            "align_items": null,
            "align_self": null,
            "border": null,
            "bottom": null,
            "display": null,
            "flex": null,
            "flex_flow": null,
            "grid_area": null,
            "grid_auto_columns": null,
            "grid_auto_flow": null,
            "grid_auto_rows": null,
            "grid_column": null,
            "grid_gap": null,
            "grid_row": null,
            "grid_template_areas": null,
            "grid_template_columns": null,
            "grid_template_rows": null,
            "height": null,
            "justify_content": null,
            "justify_items": null,
            "left": null,
            "margin": null,
            "max_height": null,
            "max_width": null,
            "min_height": null,
            "min_width": null,
            "object_fit": null,
            "object_position": null,
            "order": null,
            "overflow": null,
            "overflow_x": null,
            "overflow_y": null,
            "padding": null,
            "right": null,
            "top": null,
            "visibility": null,
            "width": null
          }
        },
        "5b71ae0a038e48c1bfdb4c4521def072": {
          "model_module": "@jupyter-widgets/controls",
          "model_module_version": "1.5.0",
          "model_name": "DescriptionStyleModel",
          "state": {
            "_model_module": "@jupyter-widgets/controls",
            "_model_module_version": "1.5.0",
            "_model_name": "DescriptionStyleModel",
            "_view_count": null,
            "_view_module": "@jupyter-widgets/base",
            "_view_module_version": "1.2.0",
            "_view_name": "StyleView",
            "description_width": ""
          }
        },
        "5baeab2588ef41d3882c8b6e43da71a0": {
          "model_module": "@jupyter-widgets/controls",
          "model_module_version": "1.5.0",
          "model_name": "HTMLModel",
          "state": {
            "_dom_classes": [],
            "_model_module": "@jupyter-widgets/controls",
            "_model_module_version": "1.5.0",
            "_model_name": "HTMLModel",
            "_view_count": null,
            "_view_module": "@jupyter-widgets/controls",
            "_view_module_version": "1.5.0",
            "_view_name": "HTMLView",
            "description": "",
            "description_tooltip": null,
            "layout": "IPY_MODEL_467a7accbc1749de8fdee0d412d56397",
            "placeholder": "​",
            "style": "IPY_MODEL_c2349e1e4fa84ba7ba97791ce61dab7c",
            "value": "TRAIN BATCHES: 100%"
          }
        },
        "66794f28480043ddb26d2c2032497b23": {
          "model_module": "@jupyter-widgets/controls",
          "model_module_version": "1.5.0",
          "model_name": "FloatProgressModel",
          "state": {
            "_dom_classes": [],
            "_model_module": "@jupyter-widgets/controls",
            "_model_module_version": "1.5.0",
            "_model_name": "FloatProgressModel",
            "_view_count": null,
            "_view_module": "@jupyter-widgets/controls",
            "_view_module_version": "1.5.0",
            "_view_name": "ProgressView",
            "bar_style": "success",
            "description": "",
            "description_tooltip": null,
            "layout": "IPY_MODEL_06a865269d0f4120be715f0ff2e967d5",
            "max": 64,
            "min": 0,
            "orientation": "horizontal",
            "style": "IPY_MODEL_db6639e25f7b4c0b901de8190f4b26d8",
            "value": 64
          }
        },
        "67489cff94a642ecb02c8cba113b896a": {
          "model_module": "@jupyter-widgets/controls",
          "model_module_version": "1.5.0",
          "model_name": "DescriptionStyleModel",
          "state": {
            "_model_module": "@jupyter-widgets/controls",
            "_model_module_version": "1.5.0",
            "_model_name": "DescriptionStyleModel",
            "_view_count": null,
            "_view_module": "@jupyter-widgets/base",
            "_view_module_version": "1.2.0",
            "_view_name": "StyleView",
            "description_width": ""
          }
        },
        "67a8d988f78b4eeebacee8ba5ec893a5": {
          "model_module": "@jupyter-widgets/controls",
          "model_module_version": "1.5.0",
          "model_name": "ProgressStyleModel",
          "state": {
            "_model_module": "@jupyter-widgets/controls",
            "_model_module_version": "1.5.0",
            "_model_name": "ProgressStyleModel",
            "_view_count": null,
            "_view_module": "@jupyter-widgets/base",
            "_view_module_version": "1.2.0",
            "_view_name": "StyleView",
            "bar_color": null,
            "description_width": ""
          }
        },
        "6d90c95d672f4765944d3e22617e8af8": {
          "model_module": "@jupyter-widgets/base",
          "model_module_version": "1.2.0",
          "model_name": "LayoutModel",
          "state": {
            "_model_module": "@jupyter-widgets/base",
            "_model_module_version": "1.2.0",
            "_model_name": "LayoutModel",
            "_view_count": null,
            "_view_module": "@jupyter-widgets/base",
            "_view_module_version": "1.2.0",
            "_view_name": "LayoutView",
            "align_content": null,
            "align_items": null,
            "align_self": null,
            "border": null,
            "bottom": null,
            "display": null,
            "flex": null,
            "flex_flow": null,
            "grid_area": null,
            "grid_auto_columns": null,
            "grid_auto_flow": null,
            "grid_auto_rows": null,
            "grid_column": null,
            "grid_gap": null,
            "grid_row": null,
            "grid_template_areas": null,
            "grid_template_columns": null,
            "grid_template_rows": null,
            "height": null,
            "justify_content": null,
            "justify_items": null,
            "left": null,
            "margin": null,
            "max_height": null,
            "max_width": null,
            "min_height": null,
            "min_width": null,
            "object_fit": null,
            "object_position": null,
            "order": null,
            "overflow": null,
            "overflow_x": null,
            "overflow_y": null,
            "padding": null,
            "right": null,
            "top": null,
            "visibility": null,
            "width": null
          }
        },
        "735f9eac34244b3494953c108be0720b": {
          "model_module": "@jupyter-widgets/controls",
          "model_module_version": "1.5.0",
          "model_name": "HBoxModel",
          "state": {
            "_dom_classes": [],
            "_model_module": "@jupyter-widgets/controls",
            "_model_module_version": "1.5.0",
            "_model_name": "HBoxModel",
            "_view_count": null,
            "_view_module": "@jupyter-widgets/controls",
            "_view_module_version": "1.5.0",
            "_view_name": "HBoxView",
            "box_style": "",
            "children": [
              "IPY_MODEL_5baeab2588ef41d3882c8b6e43da71a0",
              "IPY_MODEL_2e181fe0ce344a65b5d4ed958fa5654b",
              "IPY_MODEL_e444d333a25f4b36a6e977cc7a6b490f"
            ],
            "layout": "IPY_MODEL_b5f7add7e28246afa94517de99c36c1b"
          }
        },
        "73b16c2040be4bf6bb33a5ddd6b9da10": {
          "model_module": "@jupyter-widgets/controls",
          "model_module_version": "1.5.0",
          "model_name": "DescriptionStyleModel",
          "state": {
            "_model_module": "@jupyter-widgets/controls",
            "_model_module_version": "1.5.0",
            "_model_name": "DescriptionStyleModel",
            "_view_count": null,
            "_view_module": "@jupyter-widgets/base",
            "_view_module_version": "1.2.0",
            "_view_name": "StyleView",
            "description_width": ""
          }
        },
        "762ab3df20de4faa9abed83ced18be2e": {
          "model_module": "@jupyter-widgets/controls",
          "model_module_version": "1.5.0",
          "model_name": "HTMLModel",
          "state": {
            "_dom_classes": [],
            "_model_module": "@jupyter-widgets/controls",
            "_model_module_version": "1.5.0",
            "_model_name": "HTMLModel",
            "_view_count": null,
            "_view_module": "@jupyter-widgets/controls",
            "_view_module_version": "1.5.0",
            "_view_name": "HTMLView",
            "description": "",
            "description_tooltip": null,
            "layout": "IPY_MODEL_8ab336bef4ba4f5e9cfa63adfde46d05",
            "placeholder": "​",
            "style": "IPY_MODEL_ee81f97548c4453dba406b3a5905b197",
            "value": " 30000/30000 [1:09:04&lt;00:00,  2.95s/it]"
          }
        },
        "80e9307c27824ae382de85f33c494b13": {
          "model_module": "@jupyter-widgets/controls",
          "model_module_version": "1.5.0",
          "model_name": "ProgressStyleModel",
          "state": {
            "_model_module": "@jupyter-widgets/controls",
            "_model_module_version": "1.5.0",
            "_model_name": "ProgressStyleModel",
            "_view_count": null,
            "_view_module": "@jupyter-widgets/base",
            "_view_module_version": "1.2.0",
            "_view_name": "StyleView",
            "bar_color": null,
            "description_width": ""
          }
        },
        "8397b4bcee9d4773935ed5feb1179293": {
          "model_module": "@jupyter-widgets/controls",
          "model_module_version": "1.5.0",
          "model_name": "HBoxModel",
          "state": {
            "_dom_classes": [],
            "_model_module": "@jupyter-widgets/controls",
            "_model_module_version": "1.5.0",
            "_model_name": "HBoxModel",
            "_view_count": null,
            "_view_module": "@jupyter-widgets/controls",
            "_view_module_version": "1.5.0",
            "_view_name": "HBoxView",
            "box_style": "",
            "children": [
              "IPY_MODEL_965eceef4669498ea5a715fe62a042df",
              "IPY_MODEL_66794f28480043ddb26d2c2032497b23",
              "IPY_MODEL_3ff3bcb3bac14ebe9ecc22a5fa9f36ec"
            ],
            "layout": "IPY_MODEL_dacf8bc8661148fc93a6b499f40bb2bb"
          }
        },
        "8446e4a628e84ef09153dcf38ef5b60c": {
          "model_module": "@jupyter-widgets/base",
          "model_module_version": "1.2.0",
          "model_name": "LayoutModel",
          "state": {
            "_model_module": "@jupyter-widgets/base",
            "_model_module_version": "1.2.0",
            "_model_name": "LayoutModel",
            "_view_count": null,
            "_view_module": "@jupyter-widgets/base",
            "_view_module_version": "1.2.0",
            "_view_name": "LayoutView",
            "align_content": null,
            "align_items": null,
            "align_self": null,
            "border": null,
            "bottom": null,
            "display": null,
            "flex": null,
            "flex_flow": null,
            "grid_area": null,
            "grid_auto_columns": null,
            "grid_auto_flow": null,
            "grid_auto_rows": null,
            "grid_column": null,
            "grid_gap": null,
            "grid_row": null,
            "grid_template_areas": null,
            "grid_template_columns": null,
            "grid_template_rows": null,
            "height": null,
            "justify_content": null,
            "justify_items": null,
            "left": null,
            "margin": null,
            "max_height": null,
            "max_width": null,
            "min_height": null,
            "min_width": null,
            "object_fit": null,
            "object_position": null,
            "order": null,
            "overflow": null,
            "overflow_x": null,
            "overflow_y": null,
            "padding": null,
            "right": null,
            "top": null,
            "visibility": null,
            "width": null
          }
        },
        "8644dc57dbc749e9baba72ebb04e1eff": {
          "model_module": "@jupyter-widgets/controls",
          "model_module_version": "1.5.0",
          "model_name": "FloatProgressModel",
          "state": {
            "_dom_classes": [],
            "_model_module": "@jupyter-widgets/controls",
            "_model_module_version": "1.5.0",
            "_model_name": "FloatProgressModel",
            "_view_count": null,
            "_view_module": "@jupyter-widgets/controls",
            "_view_module_version": "1.5.0",
            "_view_name": "ProgressView",
            "bar_style": "success",
            "description": "",
            "description_tooltip": null,
            "layout": "IPY_MODEL_254ef426804b420e932c55c02f88a4d0",
            "max": 1,
            "min": 0,
            "orientation": "horizontal",
            "style": "IPY_MODEL_67a8d988f78b4eeebacee8ba5ec893a5",
            "value": 0
          }
        },
        "8ab336bef4ba4f5e9cfa63adfde46d05": {
          "model_module": "@jupyter-widgets/base",
          "model_module_version": "1.2.0",
          "model_name": "LayoutModel",
          "state": {
            "_model_module": "@jupyter-widgets/base",
            "_model_module_version": "1.2.0",
            "_model_name": "LayoutModel",
            "_view_count": null,
            "_view_module": "@jupyter-widgets/base",
            "_view_module_version": "1.2.0",
            "_view_name": "LayoutView",
            "align_content": null,
            "align_items": null,
            "align_self": null,
            "border": null,
            "bottom": null,
            "display": null,
            "flex": null,
            "flex_flow": null,
            "grid_area": null,
            "grid_auto_columns": null,
            "grid_auto_flow": null,
            "grid_auto_rows": null,
            "grid_column": null,
            "grid_gap": null,
            "grid_row": null,
            "grid_template_areas": null,
            "grid_template_columns": null,
            "grid_template_rows": null,
            "height": null,
            "justify_content": null,
            "justify_items": null,
            "left": null,
            "margin": null,
            "max_height": null,
            "max_width": null,
            "min_height": null,
            "min_width": null,
            "object_fit": null,
            "object_position": null,
            "order": null,
            "overflow": null,
            "overflow_x": null,
            "overflow_y": null,
            "padding": null,
            "right": null,
            "top": null,
            "visibility": null,
            "width": null
          }
        },
        "8ff7ee019fa44680b02fa0337bf3bb7b": {
          "model_module": "@jupyter-widgets/base",
          "model_module_version": "1.2.0",
          "model_name": "LayoutModel",
          "state": {
            "_model_module": "@jupyter-widgets/base",
            "_model_module_version": "1.2.0",
            "_model_name": "LayoutModel",
            "_view_count": null,
            "_view_module": "@jupyter-widgets/base",
            "_view_module_version": "1.2.0",
            "_view_name": "LayoutView",
            "align_content": null,
            "align_items": null,
            "align_self": null,
            "border": null,
            "bottom": null,
            "display": null,
            "flex": null,
            "flex_flow": null,
            "grid_area": null,
            "grid_auto_columns": null,
            "grid_auto_flow": null,
            "grid_auto_rows": null,
            "grid_column": null,
            "grid_gap": null,
            "grid_row": null,
            "grid_template_areas": null,
            "grid_template_columns": null,
            "grid_template_rows": null,
            "height": null,
            "justify_content": null,
            "justify_items": null,
            "left": null,
            "margin": null,
            "max_height": null,
            "max_width": null,
            "min_height": null,
            "min_width": null,
            "object_fit": null,
            "object_position": null,
            "order": null,
            "overflow": null,
            "overflow_x": null,
            "overflow_y": null,
            "padding": null,
            "right": null,
            "top": null,
            "visibility": null,
            "width": null
          }
        },
        "965eceef4669498ea5a715fe62a042df": {
          "model_module": "@jupyter-widgets/controls",
          "model_module_version": "1.5.0",
          "model_name": "HTMLModel",
          "state": {
            "_dom_classes": [],
            "_model_module": "@jupyter-widgets/controls",
            "_model_module_version": "1.5.0",
            "_model_name": "HTMLModel",
            "_view_count": null,
            "_view_module": "@jupyter-widgets/controls",
            "_view_module_version": "1.5.0",
            "_view_name": "HTMLView",
            "description": "",
            "description_tooltip": null,
            "layout": "IPY_MODEL_6d90c95d672f4765944d3e22617e8af8",
            "placeholder": "​",
            "style": "IPY_MODEL_221e50fd2c2b45cab1997c87954bef34",
            "value": "WARM BATCHES: 100%"
          }
        },
        "9bd2df8933e241709e4f4c88b836c39d": {
          "model_module": "@jupyter-widgets/controls",
          "model_module_version": "1.5.0",
          "model_name": "HBoxModel",
          "state": {
            "_dom_classes": [],
            "_model_module": "@jupyter-widgets/controls",
            "_model_module_version": "1.5.0",
            "_model_name": "HBoxModel",
            "_view_count": null,
            "_view_module": "@jupyter-widgets/controls",
            "_view_module_version": "1.5.0",
            "_view_name": "HBoxView",
            "box_style": "",
            "children": [
              "IPY_MODEL_0da5258ac8e547deb1f3f8c2fd0c9503",
              "IPY_MODEL_20494ef8ebb146b1ad05f41c8560c374",
              "IPY_MODEL_a8c5670f112e4c5781ac03b977c94925"
            ],
            "layout": "IPY_MODEL_39dddf1280d94a53a15607e37ee3cac5"
          }
        },
        "9c6bfb9b3d80433f8c1dbf8b83402954": {
          "model_module": "@jupyter-widgets/controls",
          "model_module_version": "1.5.0",
          "model_name": "FloatProgressModel",
          "state": {
            "_dom_classes": [],
            "_model_module": "@jupyter-widgets/controls",
            "_model_module_version": "1.5.0",
            "_model_name": "FloatProgressModel",
            "_view_count": null,
            "_view_module": "@jupyter-widgets/controls",
            "_view_module_version": "1.5.0",
            "_view_name": "ProgressView",
            "bar_style": "success",
            "description": "",
            "description_tooltip": null,
            "layout": "IPY_MODEL_4847c2fd12064264950cac571c8cd7b8",
            "max": 10,
            "min": 0,
            "orientation": "horizontal",
            "style": "IPY_MODEL_ae6a71c9c3c8491189d508867d53443d",
            "value": 10
          }
        },
        "9e0633a1ea934896951630135a186f7f": {
          "model_module": "@jupyter-widgets/base",
          "model_module_version": "1.2.0",
          "model_name": "LayoutModel",
          "state": {
            "_model_module": "@jupyter-widgets/base",
            "_model_module_version": "1.2.0",
            "_model_name": "LayoutModel",
            "_view_count": null,
            "_view_module": "@jupyter-widgets/base",
            "_view_module_version": "1.2.0",
            "_view_name": "LayoutView",
            "align_content": null,
            "align_items": null,
            "align_self": null,
            "border": null,
            "bottom": null,
            "display": null,
            "flex": null,
            "flex_flow": null,
            "grid_area": null,
            "grid_auto_columns": null,
            "grid_auto_flow": null,
            "grid_auto_rows": null,
            "grid_column": null,
            "grid_gap": null,
            "grid_row": null,
            "grid_template_areas": null,
            "grid_template_columns": null,
            "grid_template_rows": null,
            "height": null,
            "justify_content": null,
            "justify_items": null,
            "left": null,
            "margin": null,
            "max_height": null,
            "max_width": null,
            "min_height": null,
            "min_width": null,
            "object_fit": null,
            "object_position": null,
            "order": null,
            "overflow": null,
            "overflow_x": null,
            "overflow_y": null,
            "padding": null,
            "right": null,
            "top": null,
            "visibility": null,
            "width": null
          }
        },
        "9ff3e5fd86104db792edd50177ecc2d0": {
          "model_module": "@jupyter-widgets/controls",
          "model_module_version": "1.5.0",
          "model_name": "ProgressStyleModel",
          "state": {
            "_model_module": "@jupyter-widgets/controls",
            "_model_module_version": "1.5.0",
            "_model_name": "ProgressStyleModel",
            "_view_count": null,
            "_view_module": "@jupyter-widgets/base",
            "_view_module_version": "1.2.0",
            "_view_name": "StyleView",
            "bar_color": null,
            "description_width": ""
          }
        },
        "a5e627aacac243418ff3cb900ac9397d": {
          "model_module": "@jupyter-widgets/base",
          "model_module_version": "1.2.0",
          "model_name": "LayoutModel",
          "state": {
            "_model_module": "@jupyter-widgets/base",
            "_model_module_version": "1.2.0",
            "_model_name": "LayoutModel",
            "_view_count": null,
            "_view_module": "@jupyter-widgets/base",
            "_view_module_version": "1.2.0",
            "_view_name": "LayoutView",
            "align_content": null,
            "align_items": null,
            "align_self": null,
            "border": null,
            "bottom": null,
            "display": null,
            "flex": null,
            "flex_flow": null,
            "grid_area": null,
            "grid_auto_columns": null,
            "grid_auto_flow": null,
            "grid_auto_rows": null,
            "grid_column": null,
            "grid_gap": null,
            "grid_row": null,
            "grid_template_areas": null,
            "grid_template_columns": null,
            "grid_template_rows": null,
            "height": null,
            "justify_content": null,
            "justify_items": null,
            "left": null,
            "margin": null,
            "max_height": null,
            "max_width": null,
            "min_height": null,
            "min_width": null,
            "object_fit": null,
            "object_position": null,
            "order": null,
            "overflow": null,
            "overflow_x": null,
            "overflow_y": null,
            "padding": null,
            "right": null,
            "top": null,
            "visibility": null,
            "width": null
          }
        },
        "a6849cc657a34888ab70bc20c4a1e1ba": {
          "model_module": "@jupyter-widgets/controls",
          "model_module_version": "1.5.0",
          "model_name": "ProgressStyleModel",
          "state": {
            "_model_module": "@jupyter-widgets/controls",
            "_model_module_version": "1.5.0",
            "_model_name": "ProgressStyleModel",
            "_view_count": null,
            "_view_module": "@jupyter-widgets/base",
            "_view_module_version": "1.2.0",
            "_view_name": "StyleView",
            "bar_color": null,
            "description_width": ""
          }
        },
        "a8c5670f112e4c5781ac03b977c94925": {
          "model_module": "@jupyter-widgets/controls",
          "model_module_version": "1.5.0",
          "model_name": "HTMLModel",
          "state": {
            "_dom_classes": [],
            "_model_module": "@jupyter-widgets/controls",
            "_model_module_version": "1.5.0",
            "_model_name": "HTMLModel",
            "_view_count": null,
            "_view_module": "@jupyter-widgets/controls",
            "_view_module_version": "1.5.0",
            "_view_name": "HTMLView",
            "description": "",
            "description_tooltip": null,
            "layout": "IPY_MODEL_1243ed48b1254e23b0bac76da5a4909e",
            "placeholder": "​",
            "style": "IPY_MODEL_b791483dad394710a1803d2b44a9c0f6",
            "value": " 0/0 [00:00&lt;?, ?it/s]"
          }
        },
        "ab42915696894774bb4fbe1ec65832da": {
          "model_module": "@jupyter-widgets/base",
          "model_module_version": "1.2.0",
          "model_name": "LayoutModel",
          "state": {
            "_model_module": "@jupyter-widgets/base",
            "_model_module_version": "1.2.0",
            "_model_name": "LayoutModel",
            "_view_count": null,
            "_view_module": "@jupyter-widgets/base",
            "_view_module_version": "1.2.0",
            "_view_name": "LayoutView",
            "align_content": null,
            "align_items": null,
            "align_self": null,
            "border": null,
            "bottom": null,
            "display": null,
            "flex": null,
            "flex_flow": null,
            "grid_area": null,
            "grid_auto_columns": null,
            "grid_auto_flow": null,
            "grid_auto_rows": null,
            "grid_column": null,
            "grid_gap": null,
            "grid_row": null,
            "grid_template_areas": null,
            "grid_template_columns": null,
            "grid_template_rows": null,
            "height": null,
            "justify_content": null,
            "justify_items": null,
            "left": null,
            "margin": null,
            "max_height": null,
            "max_width": null,
            "min_height": null,
            "min_width": null,
            "object_fit": null,
            "object_position": null,
            "order": null,
            "overflow": null,
            "overflow_x": null,
            "overflow_y": null,
            "padding": null,
            "right": null,
            "top": null,
            "visibility": null,
            "width": null
          }
        },
        "ae6a71c9c3c8491189d508867d53443d": {
          "model_module": "@jupyter-widgets/controls",
          "model_module_version": "1.5.0",
          "model_name": "ProgressStyleModel",
          "state": {
            "_model_module": "@jupyter-widgets/controls",
            "_model_module_version": "1.5.0",
            "_model_name": "ProgressStyleModel",
            "_view_count": null,
            "_view_module": "@jupyter-widgets/base",
            "_view_module_version": "1.2.0",
            "_view_name": "StyleView",
            "bar_color": null,
            "description_width": ""
          }
        },
        "b5f7add7e28246afa94517de99c36c1b": {
          "model_module": "@jupyter-widgets/base",
          "model_module_version": "1.2.0",
          "model_name": "LayoutModel",
          "state": {
            "_model_module": "@jupyter-widgets/base",
            "_model_module_version": "1.2.0",
            "_model_name": "LayoutModel",
            "_view_count": null,
            "_view_module": "@jupyter-widgets/base",
            "_view_module_version": "1.2.0",
            "_view_name": "LayoutView",
            "align_content": null,
            "align_items": null,
            "align_self": null,
            "border": null,
            "bottom": null,
            "display": null,
            "flex": null,
            "flex_flow": null,
            "grid_area": null,
            "grid_auto_columns": null,
            "grid_auto_flow": null,
            "grid_auto_rows": null,
            "grid_column": null,
            "grid_gap": null,
            "grid_row": null,
            "grid_template_areas": null,
            "grid_template_columns": null,
            "grid_template_rows": null,
            "height": null,
            "justify_content": null,
            "justify_items": null,
            "left": null,
            "margin": null,
            "max_height": null,
            "max_width": null,
            "min_height": null,
            "min_width": null,
            "object_fit": null,
            "object_position": null,
            "order": null,
            "overflow": null,
            "overflow_x": null,
            "overflow_y": null,
            "padding": null,
            "right": null,
            "top": null,
            "visibility": null,
            "width": null
          }
        },
        "b791483dad394710a1803d2b44a9c0f6": {
          "model_module": "@jupyter-widgets/controls",
          "model_module_version": "1.5.0",
          "model_name": "DescriptionStyleModel",
          "state": {
            "_model_module": "@jupyter-widgets/controls",
            "_model_module_version": "1.5.0",
            "_model_name": "DescriptionStyleModel",
            "_view_count": null,
            "_view_module": "@jupyter-widgets/base",
            "_view_module_version": "1.2.0",
            "_view_name": "StyleView",
            "description_width": ""
          }
        },
        "ba4fb6305ae044f9a4bd5480e6b923d8": {
          "model_module": "@jupyter-widgets/controls",
          "model_module_version": "1.5.0",
          "model_name": "DescriptionStyleModel",
          "state": {
            "_model_module": "@jupyter-widgets/controls",
            "_model_module_version": "1.5.0",
            "_model_name": "DescriptionStyleModel",
            "_view_count": null,
            "_view_module": "@jupyter-widgets/base",
            "_view_module_version": "1.2.0",
            "_view_name": "StyleView",
            "description_width": ""
          }
        },
        "be23df0188c24198a4a1e2ddf3cffefe": {
          "model_module": "@jupyter-widgets/base",
          "model_module_version": "1.2.0",
          "model_name": "LayoutModel",
          "state": {
            "_model_module": "@jupyter-widgets/base",
            "_model_module_version": "1.2.0",
            "_model_name": "LayoutModel",
            "_view_count": null,
            "_view_module": "@jupyter-widgets/base",
            "_view_module_version": "1.2.0",
            "_view_name": "LayoutView",
            "align_content": null,
            "align_items": null,
            "align_self": null,
            "border": null,
            "bottom": null,
            "display": null,
            "flex": null,
            "flex_flow": null,
            "grid_area": null,
            "grid_auto_columns": null,
            "grid_auto_flow": null,
            "grid_auto_rows": null,
            "grid_column": null,
            "grid_gap": null,
            "grid_row": null,
            "grid_template_areas": null,
            "grid_template_columns": null,
            "grid_template_rows": null,
            "height": null,
            "justify_content": null,
            "justify_items": null,
            "left": null,
            "margin": null,
            "max_height": null,
            "max_width": null,
            "min_height": null,
            "min_width": null,
            "object_fit": null,
            "object_position": null,
            "order": null,
            "overflow": null,
            "overflow_x": null,
            "overflow_y": null,
            "padding": null,
            "right": null,
            "top": null,
            "visibility": null,
            "width": null
          }
        },
        "bf46da36e3cb4c189051526807013d77": {
          "model_module": "@jupyter-widgets/base",
          "model_module_version": "1.2.0",
          "model_name": "LayoutModel",
          "state": {
            "_model_module": "@jupyter-widgets/base",
            "_model_module_version": "1.2.0",
            "_model_name": "LayoutModel",
            "_view_count": null,
            "_view_module": "@jupyter-widgets/base",
            "_view_module_version": "1.2.0",
            "_view_name": "LayoutView",
            "align_content": null,
            "align_items": null,
            "align_self": null,
            "border": null,
            "bottom": null,
            "display": null,
            "flex": null,
            "flex_flow": null,
            "grid_area": null,
            "grid_auto_columns": null,
            "grid_auto_flow": null,
            "grid_auto_rows": null,
            "grid_column": null,
            "grid_gap": null,
            "grid_row": null,
            "grid_template_areas": null,
            "grid_template_columns": null,
            "grid_template_rows": null,
            "height": null,
            "justify_content": null,
            "justify_items": null,
            "left": null,
            "margin": null,
            "max_height": null,
            "max_width": null,
            "min_height": null,
            "min_width": null,
            "object_fit": null,
            "object_position": null,
            "order": null,
            "overflow": null,
            "overflow_x": null,
            "overflow_y": null,
            "padding": null,
            "right": null,
            "top": null,
            "visibility": null,
            "width": null
          }
        },
        "c2349e1e4fa84ba7ba97791ce61dab7c": {
          "model_module": "@jupyter-widgets/controls",
          "model_module_version": "1.5.0",
          "model_name": "DescriptionStyleModel",
          "state": {
            "_model_module": "@jupyter-widgets/controls",
            "_model_module_version": "1.5.0",
            "_model_name": "DescriptionStyleModel",
            "_view_count": null,
            "_view_module": "@jupyter-widgets/base",
            "_view_module_version": "1.2.0",
            "_view_name": "StyleView",
            "description_width": ""
          }
        },
        "c5a073860bc64be5b3be84cd0bd8eadb": {
          "model_module": "@jupyter-widgets/controls",
          "model_module_version": "1.5.0",
          "model_name": "ProgressStyleModel",
          "state": {
            "_model_module": "@jupyter-widgets/controls",
            "_model_module_version": "1.5.0",
            "_model_name": "ProgressStyleModel",
            "_view_count": null,
            "_view_module": "@jupyter-widgets/base",
            "_view_module_version": "1.2.0",
            "_view_name": "StyleView",
            "bar_color": null,
            "description_width": ""
          }
        },
        "c8cbd52f44a64e1d8d0987f519c89705": {
          "model_module": "@jupyter-widgets/controls",
          "model_module_version": "1.5.0",
          "model_name": "DescriptionStyleModel",
          "state": {
            "_model_module": "@jupyter-widgets/controls",
            "_model_module_version": "1.5.0",
            "_model_name": "DescriptionStyleModel",
            "_view_count": null,
            "_view_module": "@jupyter-widgets/base",
            "_view_module_version": "1.2.0",
            "_view_name": "StyleView",
            "description_width": ""
          }
        },
        "d2e7acc02edd4a54959152b128531b85": {
          "model_module": "@jupyter-widgets/controls",
          "model_module_version": "1.5.0",
          "model_name": "HTMLModel",
          "state": {
            "_dom_classes": [],
            "_model_module": "@jupyter-widgets/controls",
            "_model_module_version": "1.5.0",
            "_model_name": "HTMLModel",
            "_view_count": null,
            "_view_module": "@jupyter-widgets/controls",
            "_view_module_version": "1.5.0",
            "_view_name": "HTMLView",
            "description": "",
            "description_tooltip": null,
            "layout": "IPY_MODEL_9e0633a1ea934896951630135a186f7f",
            "placeholder": "​",
            "style": "IPY_MODEL_67489cff94a642ecb02c8cba113b896a",
            "value": "TRAIN BATCHES: 100%"
          }
        },
        "d33ae74801ff4403b2d61684b035233e": {
          "model_module": "@jupyter-widgets/controls",
          "model_module_version": "1.5.0",
          "model_name": "DescriptionStyleModel",
          "state": {
            "_model_module": "@jupyter-widgets/controls",
            "_model_module_version": "1.5.0",
            "_model_name": "DescriptionStyleModel",
            "_view_count": null,
            "_view_module": "@jupyter-widgets/base",
            "_view_module_version": "1.2.0",
            "_view_name": "StyleView",
            "description_width": ""
          }
        },
        "da5c4ccf43094c0aab9576cc9a664c22": {
          "model_module": "@jupyter-widgets/base",
          "model_module_version": "1.2.0",
          "model_name": "LayoutModel",
          "state": {
            "_model_module": "@jupyter-widgets/base",
            "_model_module_version": "1.2.0",
            "_model_name": "LayoutModel",
            "_view_count": null,
            "_view_module": "@jupyter-widgets/base",
            "_view_module_version": "1.2.0",
            "_view_name": "LayoutView",
            "align_content": null,
            "align_items": null,
            "align_self": null,
            "border": null,
            "bottom": null,
            "display": null,
            "flex": null,
            "flex_flow": null,
            "grid_area": null,
            "grid_auto_columns": null,
            "grid_auto_flow": null,
            "grid_auto_rows": null,
            "grid_column": null,
            "grid_gap": null,
            "grid_row": null,
            "grid_template_areas": null,
            "grid_template_columns": null,
            "grid_template_rows": null,
            "height": null,
            "justify_content": null,
            "justify_items": null,
            "left": null,
            "margin": null,
            "max_height": null,
            "max_width": null,
            "min_height": null,
            "min_width": null,
            "object_fit": null,
            "object_position": null,
            "order": null,
            "overflow": null,
            "overflow_x": null,
            "overflow_y": null,
            "padding": null,
            "right": null,
            "top": null,
            "visibility": null,
            "width": null
          }
        },
        "da5fa50b083449d1aabed4c4b346f12b": {
          "model_module": "@jupyter-widgets/base",
          "model_module_version": "1.2.0",
          "model_name": "LayoutModel",
          "state": {
            "_model_module": "@jupyter-widgets/base",
            "_model_module_version": "1.2.0",
            "_model_name": "LayoutModel",
            "_view_count": null,
            "_view_module": "@jupyter-widgets/base",
            "_view_module_version": "1.2.0",
            "_view_name": "LayoutView",
            "align_content": null,
            "align_items": null,
            "align_self": null,
            "border": null,
            "bottom": null,
            "display": null,
            "flex": null,
            "flex_flow": null,
            "grid_area": null,
            "grid_auto_columns": null,
            "grid_auto_flow": null,
            "grid_auto_rows": null,
            "grid_column": null,
            "grid_gap": null,
            "grid_row": null,
            "grid_template_areas": null,
            "grid_template_columns": null,
            "grid_template_rows": null,
            "height": null,
            "justify_content": null,
            "justify_items": null,
            "left": null,
            "margin": null,
            "max_height": null,
            "max_width": null,
            "min_height": null,
            "min_width": null,
            "object_fit": null,
            "object_position": null,
            "order": null,
            "overflow": null,
            "overflow_x": null,
            "overflow_y": null,
            "padding": null,
            "right": null,
            "top": null,
            "visibility": null,
            "width": null
          }
        },
        "dacf8bc8661148fc93a6b499f40bb2bb": {
          "model_module": "@jupyter-widgets/base",
          "model_module_version": "1.2.0",
          "model_name": "LayoutModel",
          "state": {
            "_model_module": "@jupyter-widgets/base",
            "_model_module_version": "1.2.0",
            "_model_name": "LayoutModel",
            "_view_count": null,
            "_view_module": "@jupyter-widgets/base",
            "_view_module_version": "1.2.0",
            "_view_name": "LayoutView",
            "align_content": null,
            "align_items": null,
            "align_self": null,
            "border": null,
            "bottom": null,
            "display": null,
            "flex": null,
            "flex_flow": null,
            "grid_area": null,
            "grid_auto_columns": null,
            "grid_auto_flow": null,
            "grid_auto_rows": null,
            "grid_column": null,
            "grid_gap": null,
            "grid_row": null,
            "grid_template_areas": null,
            "grid_template_columns": null,
            "grid_template_rows": null,
            "height": null,
            "justify_content": null,
            "justify_items": null,
            "left": null,
            "margin": null,
            "max_height": null,
            "max_width": null,
            "min_height": null,
            "min_width": null,
            "object_fit": null,
            "object_position": null,
            "order": null,
            "overflow": null,
            "overflow_x": null,
            "overflow_y": null,
            "padding": null,
            "right": null,
            "top": null,
            "visibility": null,
            "width": null
          }
        },
        "db6639e25f7b4c0b901de8190f4b26d8": {
          "model_module": "@jupyter-widgets/controls",
          "model_module_version": "1.5.0",
          "model_name": "ProgressStyleModel",
          "state": {
            "_model_module": "@jupyter-widgets/controls",
            "_model_module_version": "1.5.0",
            "_model_name": "ProgressStyleModel",
            "_view_count": null,
            "_view_module": "@jupyter-widgets/base",
            "_view_module_version": "1.2.0",
            "_view_name": "StyleView",
            "bar_color": null,
            "description_width": ""
          }
        },
        "dd8c8899bc3647b2aca4fe2b27c0e53b": {
          "model_module": "@jupyter-widgets/controls",
          "model_module_version": "1.5.0",
          "model_name": "HTMLModel",
          "state": {
            "_dom_classes": [],
            "_model_module": "@jupyter-widgets/controls",
            "_model_module_version": "1.5.0",
            "_model_name": "HTMLModel",
            "_view_count": null,
            "_view_module": "@jupyter-widgets/controls",
            "_view_module_version": "1.5.0",
            "_view_name": "HTMLView",
            "description": "",
            "description_tooltip": null,
            "layout": "IPY_MODEL_4e7e956b6fac44ba85cc0044debbe8e3",
            "placeholder": "​",
            "style": "IPY_MODEL_151b1376cc6f4452ae6bae343b93dc82",
            "value": " 0/0 [00:00&lt;?, ?it/s]"
          }
        },
        "e0bcf20ad788482898f4cf982689fd74": {
          "model_module": "@jupyter-widgets/controls",
          "model_module_version": "1.5.0",
          "model_name": "DescriptionStyleModel",
          "state": {
            "_model_module": "@jupyter-widgets/controls",
            "_model_module_version": "1.5.0",
            "_model_name": "DescriptionStyleModel",
            "_view_count": null,
            "_view_module": "@jupyter-widgets/base",
            "_view_module_version": "1.2.0",
            "_view_name": "StyleView",
            "description_width": ""
          }
        },
        "e1f74efdd13741d18c1ac7007306f98b": {
          "model_module": "@jupyter-widgets/controls",
          "model_module_version": "1.5.0",
          "model_name": "DescriptionStyleModel",
          "state": {
            "_model_module": "@jupyter-widgets/controls",
            "_model_module_version": "1.5.0",
            "_model_name": "DescriptionStyleModel",
            "_view_count": null,
            "_view_module": "@jupyter-widgets/base",
            "_view_module_version": "1.2.0",
            "_view_name": "StyleView",
            "description_width": ""
          }
        },
        "e36e2ffea99f4c07868e8cda7f74e180": {
          "model_module": "@jupyter-widgets/base",
          "model_module_version": "1.2.0",
          "model_name": "LayoutModel",
          "state": {
            "_model_module": "@jupyter-widgets/base",
            "_model_module_version": "1.2.0",
            "_model_name": "LayoutModel",
            "_view_count": null,
            "_view_module": "@jupyter-widgets/base",
            "_view_module_version": "1.2.0",
            "_view_name": "LayoutView",
            "align_content": null,
            "align_items": null,
            "align_self": null,
            "border": null,
            "bottom": null,
            "display": null,
            "flex": null,
            "flex_flow": null,
            "grid_area": null,
            "grid_auto_columns": null,
            "grid_auto_flow": null,
            "grid_auto_rows": null,
            "grid_column": null,
            "grid_gap": null,
            "grid_row": null,
            "grid_template_areas": null,
            "grid_template_columns": null,
            "grid_template_rows": null,
            "height": null,
            "justify_content": null,
            "justify_items": null,
            "left": null,
            "margin": null,
            "max_height": null,
            "max_width": null,
            "min_height": null,
            "min_width": null,
            "object_fit": null,
            "object_position": null,
            "order": null,
            "overflow": null,
            "overflow_x": null,
            "overflow_y": null,
            "padding": null,
            "right": null,
            "top": null,
            "visibility": null,
            "width": null
          }
        },
        "e444d333a25f4b36a6e977cc7a6b490f": {
          "model_module": "@jupyter-widgets/controls",
          "model_module_version": "1.5.0",
          "model_name": "HTMLModel",
          "state": {
            "_dom_classes": [],
            "_model_module": "@jupyter-widgets/controls",
            "_model_module_version": "1.5.0",
            "_model_name": "HTMLModel",
            "_view_count": null,
            "_view_module": "@jupyter-widgets/controls",
            "_view_module_version": "1.5.0",
            "_view_name": "HTMLView",
            "description": "",
            "description_tooltip": null,
            "layout": "IPY_MODEL_4884d03a1ebd49f6b1cd86c987679f93",
            "placeholder": "​",
            "style": "IPY_MODEL_e0bcf20ad788482898f4cf982689fd74",
            "value": " 40000/40000 [1:09:33&lt;00:00,  2.23it/s]"
          }
        },
        "e78ea3cf28c24af5867d7771d84f5bfc": {
          "model_module": "@jupyter-widgets/controls",
          "model_module_version": "1.5.0",
          "model_name": "HBoxModel",
          "state": {
            "_dom_classes": [],
            "_model_module": "@jupyter-widgets/controls",
            "_model_module_version": "1.5.0",
            "_model_name": "HBoxModel",
            "_view_count": null,
            "_view_module": "@jupyter-widgets/controls",
            "_view_module_version": "1.5.0",
            "_view_name": "HBoxView",
            "box_style": "",
            "children": [
              "IPY_MODEL_587e7e0438f94d26819fc8791dc3594d",
              "IPY_MODEL_ed15b8d083754729a1862e61a6b660b0",
              "IPY_MODEL_fa172f52aacd43ce953b3ad325d06187"
            ],
            "layout": "IPY_MODEL_a5e627aacac243418ff3cb900ac9397d"
          }
        },
        "ea6aade8259d4608951d429e58a2c072": {
          "model_module": "@jupyter-widgets/base",
          "model_module_version": "1.2.0",
          "model_name": "LayoutModel",
          "state": {
            "_model_module": "@jupyter-widgets/base",
            "_model_module_version": "1.2.0",
            "_model_name": "LayoutModel",
            "_view_count": null,
            "_view_module": "@jupyter-widgets/base",
            "_view_module_version": "1.2.0",
            "_view_name": "LayoutView",
            "align_content": null,
            "align_items": null,
            "align_self": null,
            "border": null,
            "bottom": null,
            "display": null,
            "flex": null,
            "flex_flow": null,
            "grid_area": null,
            "grid_auto_columns": null,
            "grid_auto_flow": null,
            "grid_auto_rows": null,
            "grid_column": null,
            "grid_gap": null,
            "grid_row": null,
            "grid_template_areas": null,
            "grid_template_columns": null,
            "grid_template_rows": null,
            "height": null,
            "justify_content": null,
            "justify_items": null,
            "left": null,
            "margin": null,
            "max_height": null,
            "max_width": null,
            "min_height": null,
            "min_width": null,
            "object_fit": null,
            "object_position": null,
            "order": null,
            "overflow": null,
            "overflow_x": null,
            "overflow_y": null,
            "padding": null,
            "right": null,
            "top": null,
            "visibility": null,
            "width": null
          }
        },
        "ed15b8d083754729a1862e61a6b660b0": {
          "model_module": "@jupyter-widgets/controls",
          "model_module_version": "1.5.0",
          "model_name": "FloatProgressModel",
          "state": {
            "_dom_classes": [],
            "_model_module": "@jupyter-widgets/controls",
            "_model_module_version": "1.5.0",
            "_model_name": "FloatProgressModel",
            "_view_count": null,
            "_view_module": "@jupyter-widgets/controls",
            "_view_module_version": "1.5.0",
            "_view_name": "ProgressView",
            "bar_style": "success",
            "description": "",
            "description_tooltip": null,
            "layout": "IPY_MODEL_be23df0188c24198a4a1e2ddf3cffefe",
            "max": 40000,
            "min": 0,
            "orientation": "horizontal",
            "style": "IPY_MODEL_a6849cc657a34888ab70bc20c4a1e1ba",
            "value": 40000
          }
        },
        "ee81f97548c4453dba406b3a5905b197": {
          "model_module": "@jupyter-widgets/controls",
          "model_module_version": "1.5.0",
          "model_name": "DescriptionStyleModel",
          "state": {
            "_model_module": "@jupyter-widgets/controls",
            "_model_module_version": "1.5.0",
            "_model_name": "DescriptionStyleModel",
            "_view_count": null,
            "_view_module": "@jupyter-widgets/base",
            "_view_module_version": "1.2.0",
            "_view_name": "StyleView",
            "description_width": ""
          }
        },
        "f8470dadeaf349808eca539f24b37d50": {
          "model_module": "@jupyter-widgets/controls",
          "model_module_version": "1.5.0",
          "model_name": "HTMLModel",
          "state": {
            "_dom_classes": [],
            "_model_module": "@jupyter-widgets/controls",
            "_model_module_version": "1.5.0",
            "_model_name": "HTMLModel",
            "_view_count": null,
            "_view_module": "@jupyter-widgets/controls",
            "_view_module_version": "1.5.0",
            "_view_name": "HTMLView",
            "description": "",
            "description_tooltip": null,
            "layout": "IPY_MODEL_da5c4ccf43094c0aab9576cc9a664c22",
            "placeholder": "​",
            "style": "IPY_MODEL_d33ae74801ff4403b2d61684b035233e",
            "value": " 50000/50000 [2:03:35&lt;00:00,  3.19s/it]"
          }
        },
        "fa172f52aacd43ce953b3ad325d06187": {
          "model_module": "@jupyter-widgets/controls",
          "model_module_version": "1.5.0",
          "model_name": "HTMLModel",
          "state": {
            "_dom_classes": [],
            "_model_module": "@jupyter-widgets/controls",
            "_model_module_version": "1.5.0",
            "_model_name": "HTMLModel",
            "_view_count": null,
            "_view_module": "@jupyter-widgets/controls",
            "_view_module_version": "1.5.0",
            "_view_name": "HTMLView",
            "description": "",
            "description_tooltip": null,
            "layout": "IPY_MODEL_8ff7ee019fa44680b02fa0337bf3bb7b",
            "placeholder": "​",
            "style": "IPY_MODEL_e1f74efdd13741d18c1ac7007306f98b",
            "value": " 40000/40000 [1:07:45&lt;00:00, 11.97it/s]"
          }
        }
      }
    }
  },
  "nbformat": 4,
  "nbformat_minor": 0
}
