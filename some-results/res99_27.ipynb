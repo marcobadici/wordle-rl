{
  "cells": [
    {
      "cell_type": "markdown",
      "metadata": {
        "id": "wdxRc13mgDUe"
      },
      "source": [
        "# Beating Wordle"
      ]
    },
    {
      "cell_type": "code",
      "execution_count": 1,
      "metadata": {
        "colab": {
          "base_uri": "https://localhost:8080/"
        },
        "id": "Ge8MAqbEe_Ov",
        "outputId": "95e60223-2d2b-455e-849c-39eca6a4d612"
      },
      "outputs": [
        {
          "output_type": "stream",
          "name": "stdout",
          "text": [
            "Mounted at /content/drive\n"
          ]
        }
      ],
      "source": [
        "from google.colab import drive\n",
        "drive.mount('/content/drive')"
      ]
    },
    {
      "cell_type": "code",
      "execution_count": 2,
      "metadata": {
        "id": "kUSMFiLwgHwD",
        "colab": {
          "base_uri": "https://localhost:8080/"
        },
        "outputId": "3c44c989-9e2a-47b8-f1d0-7a2276ed7a4c"
      },
      "outputs": [
        {
          "output_type": "stream",
          "name": "stdout",
          "text": [
            "mkdir: cannot create directory ‘/content/drive/MyDrive/wordle-rl/tests’: File exists\n",
            "Looking in indexes: https://pypi.org/simple, https://us-python.pkg.dev/colab-wheels/public/simple/\n",
            "Collecting cpprb\n",
            "  Downloading cpprb-10.7.1-cp39-cp39-manylinux_2_17_x86_64.manylinux2014_x86_64.whl (2.5 MB)\n",
            "\u001b[2K     \u001b[90m━━━━━━━━━━━━━━━━━━━━━━━━━━━━━━━━━━━━━━━━\u001b[0m \u001b[32m2.5/2.5 MB\u001b[0m \u001b[31m63.4 MB/s\u001b[0m eta \u001b[36m0:00:00\u001b[0m\n",
            "\u001b[?25hRequirement already satisfied: numpy in /usr/local/lib/python3.9/dist-packages (from cpprb) (1.22.4)\n",
            "Installing collected packages: cpprb\n",
            "Successfully installed cpprb-10.7.1\n",
            "Looking in indexes: https://pypi.org/simple, https://us-python.pkg.dev/colab-wheels/public/simple/\n",
            "Collecting annoy\n",
            "  Downloading annoy-1.17.2.tar.gz (647 kB)\n",
            "\u001b[2K     \u001b[90m━━━━━━━━━━━━━━━━━━━━━━━━━━━━━━━━━━━━━━\u001b[0m \u001b[32m647.4/647.4 kB\u001b[0m \u001b[31m34.8 MB/s\u001b[0m eta \u001b[36m0:00:00\u001b[0m\n",
            "\u001b[?25h  Preparing metadata (setup.py) ... \u001b[?25l\u001b[?25hdone\n",
            "Building wheels for collected packages: annoy\n",
            "  Building wheel for annoy (setup.py) ... \u001b[?25l\u001b[?25hdone\n",
            "  Created wheel for annoy: filename=annoy-1.17.2-cp39-cp39-linux_x86_64.whl size=581040 sha256=f996ab134dd3c4035b299ba31b0d05dddf1774f53959e57dbb3edcdfd1fba722\n",
            "  Stored in directory: /root/.cache/pip/wheels/f2/2e/e4/f3ae385c375b87982a2a70055061d4a6330ef4f60817e717e3\n",
            "Successfully built annoy\n",
            "Installing collected packages: annoy\n",
            "Successfully installed annoy-1.17.2\n"
          ]
        }
      ],
      "source": [
        "! cp -a -n /content/drive/MyDrive/wordle-rl/. /content/\n",
        "! mkdir /content/drive/MyDrive/wordle-rl/tests\n",
        "! pip install cpprb\n",
        "! pip install annoy"
      ]
    },
    {
      "cell_type": "code",
      "execution_count": 5,
      "metadata": {
        "colab": {
          "base_uri": "https://localhost:8080/",
          "height": 70
        },
        "id": "7X31sq01gcMU",
        "outputId": "255ff86f-9244-47d0-9f08-ba22e2127ee2"
      },
      "outputs": [
        {
          "output_type": "stream",
          "name": "stdout",
          "text": [
            "The autoreload extension is already loaded. To reload it, use:\n",
            "  %reload_ext autoreload\n"
          ]
        },
        {
          "output_type": "execute_result",
          "data": {
            "text/plain": [
              "'cuda:0'"
            ],
            "application/vnd.google.colaboratory.intrinsic+json": {
              "type": "string"
            }
          },
          "metadata": {},
          "execution_count": 5
        }
      ],
      "source": [
        "%load_ext autoreload\n",
        "%autoreload 2\n",
        "\n",
        "from functools import partial\n",
        "from collections import defaultdict\n",
        "import pickle\n",
        "\n",
        "from wordle.wordlenp import Wordle\n",
        "from environment.environment import Environment, StateYesNo, StateVocabulary\n",
        "from environment.action import ActionVocabulary, ActionLetters, ActionCombLetters\n",
        "from dqn.agent import Agent\n",
        "from dqn.train import Trainer\n",
        "from replay_buffer.cpprb import PrioritizedReplayBuffer, ReplayBuffer\n",
        "\n",
        "import matplotlib.pyplot as plt\n",
        "import seaborn as sns\n",
        "sns.set(style='whitegrid')\n",
        "import torch\n",
        "import numpy as np\n",
        "np.random.seed(0)\n",
        "\n",
        "\"cuda:0\" if torch.cuda.is_available() else \"cpu\""
      ]
    },
    {
      "cell_type": "markdown",
      "metadata": {
        "id": "PSty1zZfo9Jl"
      },
      "source": [
        "## Датасеты"
      ]
    },
    {
      "cell_type": "markdown",
      "metadata": {
        "id": "RaLImLLlYHBB"
      },
      "source": [
        "### Multi-stage data"
      ]
    },
    {
      "cell_type": "code",
      "execution_count": 6,
      "metadata": {
        "id": "EzO8082PYHBC"
      },
      "outputs": [],
      "source": [
        "import bisect\n",
        "\n",
        "\n",
        "answers = Wordle._load_vocabulary('wordle/answers.txt', astype=list)\n",
        "guesses = Wordle._load_vocabulary('wordle/guesses.txt', astype=np.array)\n",
        "wordle_list = guesses.copy().tolist()\n",
        "\n",
        "in_answers = []\n",
        "for i, word in enumerate(guesses):\n",
        "  loc = bisect.bisect_left(answers, word)\n",
        "  if len(answers) > loc and answers[loc] == word:\n",
        "    in_answers.append(i)"
      ]
    },
    {
      "cell_type": "code",
      "execution_count": 7,
      "metadata": {
        "colab": {
          "base_uri": "https://localhost:8080/"
        },
        "id": "YYoBKG-bYHBD",
        "outputId": "641235b9-8edf-4a01-cbeb-e4f934554aaf"
      },
      "outputs": [
        {
          "output_type": "execute_result",
          "data": {
            "text/plain": [
              "(2315, 12972)"
            ]
          },
          "metadata": {},
          "execution_count": 7
        }
      ],
      "source": [
        "len(answers), len(guesses)"
      ]
    },
    {
      "cell_type": "code",
      "execution_count": 8,
      "metadata": {
        "id": "u0czIOXjYHBE"
      },
      "outputs": [],
      "source": [
        "guesses_indices = np.arange(len(guesses))\n",
        "np.random.shuffle(guesses_indices)"
      ]
    },
    {
      "cell_type": "markdown",
      "metadata": {
        "id": "E8c5rfLQtTMj"
      },
      "source": [
        "## LETS GO"
      ]
    },
    {
      "cell_type": "code",
      "execution_count": 9,
      "metadata": {
        "colab": {
          "base_uri": "https://localhost:8080/"
        },
        "id": "7TzDOf5QtZka",
        "outputId": "d081e101-9e7c-4181-fc63-c801a4109640"
      },
      "outputs": [
        {
          "output_type": "stream",
          "name": "stdout",
          "text": [
            "torch.Size([130, 12972]) torch.Size([4782, 12972])\n"
          ]
        }
      ],
      "source": [
        "ohe1 = ActionCombLetters(vocabulary=wordle_list, k=1).ohe_matrix\n",
        "ohe2 = ActionCombLetters(vocabulary=wordle_list, k=2).ohe_matrix\n",
        "print(ohe1.shape, ohe2.shape)\n",
        "hard_rewards = {'B':0, 'Y':1, 'G':1, 'win':10, 'lose':-10, 'step':-5}\n",
        "tasks_results = defaultdict(dict)"
      ]
    },
    {
      "cell_type": "code",
      "execution_count": 10,
      "metadata": {
        "id": "B2bMBFvJoxLh"
      },
      "outputs": [],
      "source": [
        "def test(answers, guesses, model_path=None, k=1):\n",
        "    env = Environment(\n",
        "        rewards=hard_rewards,\n",
        "        wordle=Wordle(vocabulary=guesses, answers=answers),\n",
        "        state_instance=StateYesNo()\n",
        "    )\n",
        "\n",
        "    agent = Agent(\n",
        "        state_size=env.state.size,\n",
        "        action_instance=ActionCombLetters(\n",
        "            k=k, vocabulary=guesses,\n",
        "            ohe_matrix= ohe1 if k == 1 else ohe2,\n",
        "            wordle_list=wordle_list\n",
        "        ),\n",
        "        replay_buffer=PrioritizedReplayBuffer(state_size=env.state.size, alpha=0),\n",
        "        model_path=model_path\n",
        "    )\n",
        "\n",
        "    trainer = Trainer(env, agent, is_parallel=False)\n",
        "\n",
        "    agent.eps=0\n",
        "    return trainer.test(log_game=False, return_result=True)"
      ]
    },
    {
      "cell_type": "code",
      "execution_count": 12,
      "metadata": {
        "id": "J4tB4CO4tWai"
      },
      "outputs": [],
      "source": [
        "success, _, _ = test(\n",
        "    answers, guesses,\n",
        "    model_path={'local': 'check97_62.pth', 'target': 'check97_62.pth'}\n",
        ")"
      ]
    },
    {
      "cell_type": "code",
      "execution_count": 13,
      "metadata": {
        "colab": {
          "base_uri": "https://localhost:8080/"
        },
        "id": "HpW-DjbCI59L",
        "outputId": "9a02f9a1-5e44-45ea-e0d1-d2104fcf06a2"
      },
      "outputs": [
        {
          "output_type": "stream",
          "name": "stdout",
          "text": [
            "55 ['abode', 'adorn', 'aglow', 'alpha', 'amaze', 'anode', 'aphid', 'baggy', 'baker', 'datum', 'dilly', 'dimly', 'dizzy', 'dozen', 'field', 'filmy', 'gazer', 'hazel', 'homer', 'hound', 'hydro', 'idler', 'igloo', 'joker', 'krill', 'lapel', 'liver', 'madly', 'manly', 'might', 'milky', 'ninja', 'odder', 'offer', 'piggy', 'poker', 'polka', 'pudgy', 'pupal', 'rival', 'satin', 'shape', 'silky', 'silly', 'spade', 'spiny', 'spite', 'unwed', 'usher', 'viral', 'waver', 'waxen', 'wight', 'wimpy', 'yearn']\n"
          ]
        }
      ],
      "source": [
        "mistakes = np.nonzero(success == 0)[0]\n",
        "hard_answers = np.array(answers)[mistakes].tolist()\n",
        "print(len(hard_answers), hard_answers)"
      ]
    },
    {
      "cell_type": "code",
      "execution_count": 49,
      "metadata": {
        "id": "XuDcAHALI59M"
      },
      "outputs": [],
      "source": [
        "def experiment(\n",
        "        answers, guesses, hard_answers, play_batch_size,\n",
        "        optimize_interval, n_batches, n_batches_warm, k=1,\n",
        "        eps_start=1, eps_end=0.05, eps_decay=0.9995, model_path=None,\n",
        "        alpha=0.1, test_first=False, checkpoint_interval=None\n",
        "):\n",
        "    env_list = []\n",
        "    for _ in range(play_batch_size-1):\n",
        "        env = Environment(\n",
        "            rewards=hard_rewards,\n",
        "            wordle=Wordle(vocabulary=guesses, answers=answers),\n",
        "            state_instance=StateYesNo()\n",
        "        )\n",
        "        env_list.append(env)\n",
        "\n",
        "    env_list.append(Environment(\n",
        "        rewards=hard_rewards,\n",
        "        wordle=Wordle(vocabulary=guesses, answers=hard_answers),\n",
        "        state_instance=StateYesNo()\n",
        "    ))\n",
        "\n",
        "    agent = Agent(\n",
        "        state_size=env.state.size,\n",
        "        action_instance=ActionCombLetters(\n",
        "            k=k, vocabulary=guesses,\n",
        "            ohe_matrix= ohe1 if k == 1 else ohe2,\n",
        "            wordle_list=wordle_list,\n",
        "        ),\n",
        "        replay_buffer=PrioritizedReplayBuffer(state_size=env.state.size, alpha=alpha),\n",
        "        optimize_interval=optimize_interval,\n",
        "        model_path=model_path,\n",
        "        optimizer=partial(torch.optim.Adam, lr=5e-5),\n",
        "\n",
        "    )\n",
        "\n",
        "    trainer = Trainer(\n",
        "        env_list, agent,\n",
        "        play_batch_size=play_batch_size,\n",
        "        n_batches=n_batches,\n",
        "        n_batches_warm=n_batches_warm,\n",
        "        checkpoint_interval=checkpoint_interval\n",
        "    )\n",
        "    \n",
        "    problem_name = f'{len(answers)}-{len(guesses)}'\n",
        "    method_name = 'multi-stage'\n",
        "\n",
        "    res = trainer.train(\n",
        "        eps_start=eps_start,\n",
        "        eps_end=eps_end,\n",
        "        eps_decay=eps_decay,\n",
        "        nickname=f'{method_name}-{problem_name}',\n",
        "        test_first=test_first\n",
        "    )\n",
        "    tasks_results[problem_name][method_name] = res\n",
        "\n",
        "    return agent.dump_models(nickname=problem_name)"
      ]
    },
    {
      "cell_type": "code",
      "source": [
        "! rm *.txt"
      ],
      "metadata": {
        "id": "h-YmPaUExOB4"
      },
      "execution_count": 40,
      "outputs": []
    },
    {
      "cell_type": "markdown",
      "source": [
        "lr=1e-4"
      ],
      "metadata": {
        "id": "mzrdqC9sRFvA"
      }
    },
    {
      "cell_type": "code",
      "execution_count": 41,
      "metadata": {
        "colab": {
          "base_uri": "https://localhost:8080/",
          "height": 413,
          "referenced_widgets": [
            "d8737c962a274f83a426ece6965c6a38",
            "ac5a8fc1ddd44034af7bb23a5cc472af",
            "12969d8f7a6c451eb09151fb08e69ba3",
            "6d14f2ff0c914d78b548ef11029fc355",
            "fba6f4f689f14a2081b92b8d5c035b5c",
            "0482b951ab9d42fdaede7b0fe080ddc3",
            "47da5ffdf5834015b1297ff90d81e10e",
            "af4f2e89d8b840e4ba5ae4bdc7bf659e",
            "770e5d76789147faae61be952e9b2ad0",
            "b1e857dc986b4c8c84efa76d02c4b80b",
            "b1064913ca014bb7a278e02e73b16551",
            "c36944b6c4f640c3a4c7c14c13a4314f",
            "d8ae06409e5c4d77a678e83193b91f29",
            "244561537ea549ec952b6f8a2eeeedc9",
            "cd474558d3a440dc901e4104e05b0295",
            "c48cf76c8ec44ad7a6cabc93fb8294d1",
            "6e80f820f8c44e81a1f274b4a7822c62",
            "e193a09993794cfaa07c05f1bac92e3e",
            "a4efedaba567437a9ec2db948213fea4",
            "fae3b25129874207bb68b24881112a84",
            "c3858bffe3d04c8aa354d75e6074ef8f",
            "8fa416e0f8b5451099ae9b6eaee6a319"
          ]
        },
        "id": "Q90rrG7rI59O",
        "outputId": "0b9178da-3cb7-4f7b-c418-6ea5acd5ab5d"
      },
      "outputs": [
        {
          "output_type": "display_data",
          "data": {
            "text/plain": [
              "WARM BATCHES: 0it [00:00, ?it/s]"
            ],
            "application/vnd.jupyter.widget-view+json": {
              "version_major": 2,
              "version_minor": 0,
              "model_id": "d8737c962a274f83a426ece6965c6a38"
            }
          },
          "metadata": {}
        },
        {
          "output_type": "display_data",
          "data": {
            "text/plain": [
              "TRAIN BATCHES:   0%|          | 0/50000 [00:00<?, ?it/s]"
            ],
            "application/vnd.jupyter.widget-view+json": {
              "version_major": 2,
              "version_minor": 0,
              "model_id": "c36944b6c4f640c3a4c7c14c13a4314f"
            }
          },
          "metadata": {}
        },
        {
          "output_type": "stream",
          "name": "stdout",
          "text": [
            "\n",
            "Batch 6250\tTime: 173 s\tAgent Eps: 0.00\tTrain Win Rate: 92.90%\tTest Win Rate: 98.14%\tTest Mean Steps: 3.79\n",
            "\n",
            "Batch 12500\tTime: 351 s\tAgent Eps: 0.00\tTrain Win Rate: 92.91%\tTest Win Rate: 98.40%\tTest Mean Steps: 3.79\n",
            "\n",
            "Batch 18750\tTime: 530 s\tAgent Eps: 0.00\tTrain Win Rate: 94.08%\tTest Win Rate: 98.66%\tTest Mean Steps: 3.79\n",
            "\n",
            "Batch 25000\tTime: 708 s\tAgent Eps: 0.00\tTrain Win Rate: 93.58%\tTest Win Rate: 98.83%\tTest Mean Steps: 3.78\n",
            "\n",
            "Batch 31250\tTime: 886 s\tAgent Eps: 0.00\tTrain Win Rate: 94.03%\tTest Win Rate: 98.83%\tTest Mean Steps: 3.78\n",
            "\n",
            "Batch 37500\tTime: 1065 s\tAgent Eps: 0.00\tTrain Win Rate: 94.54%\tTest Win Rate: 98.88%\tTest Mean Steps: 3.78\n",
            "\n",
            "Batch 43750\tTime: 1244 s\tAgent Eps: 0.00\tTrain Win Rate: 94.88%\tTest Win Rate: 99.09%\tTest Mean Steps: 3.79\n",
            "\n",
            "Batch 50000\tTime: 1423 s\tAgent Eps: 0.00\tTrain Win Rate: 94.90%\tTest Win Rate: 99.09%\tTest Mean Steps: 3.79\n",
            "\n",
            "Saving checkpoint... Saved to multi-stage-2315-12972-1.pth\n"
          ]
        }
      ],
      "source": [
        "model_path = experiment(\n",
        "    answers, guesses, hard_answers,\n",
        "    play_batch_size=8, optimize_interval=8,\n",
        "    n_batches=50000, n_batches_warm=0,\n",
        "    eps_start=0.,\n",
        "    eps_end=0.,\n",
        "    model_path={'local': 'check97_62.pth', 'target': 'check97_62.pth'},\n",
        "    alpha=.4,\n",
        "    test_first=False\n",
        ")"
      ]
    },
    {
      "cell_type": "code",
      "execution_count": 42,
      "metadata": {
        "id": "yvL0gMEG-Zrv"
      },
      "outputs": [],
      "source": [
        "! cp *.txt /content/drive/MyDrive/wordle-rl/tests\n",
        "! cp *.pth /content/drive/MyDrive/wordle-rl/tests"
      ]
    },
    {
      "cell_type": "markdown",
      "source": [
        "lr=1e-4"
      ],
      "metadata": {
        "id": "Wi_Cy4MURLNH"
      }
    },
    {
      "cell_type": "code",
      "source": [
        "model_path = experiment(\n",
        "    answers, guesses, hard_answers,\n",
        "    play_batch_size=16, optimize_interval=16,\n",
        "    n_batches=50000, n_batches_warm=0,\n",
        "    eps_start=0.,\n",
        "    eps_end=0.,\n",
        "    model_path={'local': 'check99_09.pth', 'target': 'check99_09.pth'},\n",
        "    alpha=.4,\n",
        "    test_first=False,\n",
        "    checkpoint_interval=6250\n",
        ")"
      ],
      "metadata": {
        "colab": {
          "base_uri": "https://localhost:8080/",
          "height": 657,
          "referenced_widgets": [
            "da167f00ceee4765b64777b58ce2316f",
            "bdfbda92ed0d4633a515a508fd4181ca",
            "4a6092964702454ab9ea3aaf0f46259f",
            "9b6cdc04956e4a87836193f2866355f9",
            "00b3379c015d4906b16cb18b20addc4d",
            "01a03cb592aa4c8ab9484b161d116884",
            "6ff1c299b4fc4e7a8d25a2891aa95eca",
            "dea6f02a3cde49ff9a8a3d6e23e60394",
            "ca8969c530f543d69b5c3a4a56394799",
            "7f79464303924b3da3a6984c4fa206dd",
            "dcef147b4ab2479eb61f71525cd04c22",
            "8c9d5967f5d444acbe029a23f6d81699",
            "8fdb760823874a91bc807e429c4aaa54",
            "d5b77fe75aff4e99b7fa0d79bd35a2da",
            "6ac32d5fe0cc40469ca8df99800a41c7",
            "2b574c090bca4b548cdf60ad1bc39f38",
            "2de1a2c4d1554dd99df6c1722c6d9d01",
            "074e057b4b5147ca91ba975b640cdaef",
            "de7228c7d8fc437b868191f067867195",
            "a5b6c2b816e64b6d8453e8f075ea17f7",
            "c3bcec47afdf4e01b734c1e9d21c0495",
            "54203e72932f4b5aabe98cba528e4937"
          ]
        },
        "id": "XqarbhaJIpMM",
        "outputId": "8e012500-c261-4b1a-9619-aa6bc6340287"
      },
      "execution_count": 45,
      "outputs": [
        {
          "output_type": "display_data",
          "data": {
            "text/plain": [
              "WARM BATCHES: 0it [00:00, ?it/s]"
            ],
            "application/vnd.jupyter.widget-view+json": {
              "version_major": 2,
              "version_minor": 0,
              "model_id": "da167f00ceee4765b64777b58ce2316f"
            }
          },
          "metadata": {}
        },
        {
          "output_type": "display_data",
          "data": {
            "text/plain": [
              "TRAIN BATCHES:   0%|          | 0/50000 [00:00<?, ?it/s]"
            ],
            "application/vnd.jupyter.widget-view+json": {
              "version_major": 2,
              "version_minor": 0,
              "model_id": "8c9d5967f5d444acbe029a23f6d81699"
            }
          },
          "metadata": {}
        },
        {
          "output_type": "stream",
          "name": "stdout",
          "text": [
            "\n",
            "Batch 6250\tTime: 241 s\tAgent Eps: 0.00\tTrain Win Rate: 97.22%\tTest Win Rate: 99.01%\tTest Mean Steps: 3.78\n",
            "\n",
            "Saving checkpoint... Saved to multi-stage-2315-12972-1.pth\n",
            "\n",
            "Batch 12500\tTime: 486 s\tAgent Eps: 0.00\tTrain Win Rate: 97.23%\tTest Win Rate: 99.14%\tTest Mean Steps: 3.79\n",
            "\n",
            "Saving checkpoint... Saved to multi-stage-2315-12972-2.pth\n",
            "\n",
            "Batch 18750\tTime: 728 s\tAgent Eps: 0.00\tTrain Win Rate: 97.58%\tTest Win Rate: 99.18%\tTest Mean Steps: 3.79\n",
            "\n",
            "Saving checkpoint... Saved to multi-stage-2315-12972-3.pth\n",
            "\n",
            "Batch 25000\tTime: 967 s\tAgent Eps: 0.00\tTrain Win Rate: 97.81%\tTest Win Rate: 99.27%\tTest Mean Steps: 3.79\n",
            "\n",
            "Saving checkpoint... Saved to multi-stage-2315-12972-4.pth\n",
            "\n",
            "Batch 31250\tTime: 1208 s\tAgent Eps: 0.00\tTrain Win Rate: 97.89%\tTest Win Rate: 99.22%\tTest Mean Steps: 3.79\n",
            "\n",
            "Saving checkpoint... Saved to multi-stage-2315-12972-5.pth\n",
            "\n",
            "Batch 37500\tTime: 1446 s\tAgent Eps: 0.00\tTrain Win Rate: 97.62%\tTest Win Rate: 99.14%\tTest Mean Steps: 3.79\n",
            "\n",
            "Saving checkpoint... Saved to multi-stage-2315-12972-6.pth\n",
            "\n",
            "Batch 43750\tTime: 1686 s\tAgent Eps: 0.00\tTrain Win Rate: 98.10%\tTest Win Rate: 99.27%\tTest Mean Steps: 3.79\n",
            "\n",
            "Saving checkpoint... Saved to multi-stage-2315-12972-7.pth\n",
            "\n",
            "Batch 50000\tTime: 1924 s\tAgent Eps: 0.00\tTrain Win Rate: 97.79%\tTest Win Rate: 99.27%\tTest Mean Steps: 3.79\n",
            "\n",
            "Saving checkpoint... Saved to multi-stage-2315-12972-8.pth\n"
          ]
        }
      ]
    },
    {
      "cell_type": "code",
      "source": [
        "! cp *.txt /content/drive/MyDrive/wordle-rl/tests\n",
        "! cp *.pth /content/drive/MyDrive/wordle-rl/tests"
      ],
      "metadata": {
        "colab": {
          "base_uri": "https://localhost:8080/"
        },
        "id": "9qvj9HB8QqLv",
        "outputId": "616ce767-ce45-44f2-eb86-f5461aa20efe"
      },
      "execution_count": 48,
      "outputs": [
        {
          "output_type": "stream",
          "name": "stdout",
          "text": [
            "cp: cannot stat '*.txt': No such file or directory\n"
          ]
        }
      ]
    }
  ],
  "metadata": {
    "accelerator": "GPU",
    "colab": {
      "provenance": []
    },
    "gpuClass": "standard",
    "kernelspec": {
      "display_name": "Python 3",
      "name": "python3"
    },
    "language_info": {
      "codemirror_mode": {
        "name": "ipython",
        "version": 3
      },
      "file_extension": ".py",
      "mimetype": "text/x-python",
      "name": "python",
      "nbconvert_exporter": "python",
      "pygments_lexer": "ipython3",
      "version": "3.10.6"
    },
    "widgets": {
      "application/vnd.jupyter.widget-state+json": {
        "d8737c962a274f83a426ece6965c6a38": {
          "model_module": "@jupyter-widgets/controls",
          "model_name": "HBoxModel",
          "model_module_version": "1.5.0",
          "state": {
            "_dom_classes": [],
            "_model_module": "@jupyter-widgets/controls",
            "_model_module_version": "1.5.0",
            "_model_name": "HBoxModel",
            "_view_count": null,
            "_view_module": "@jupyter-widgets/controls",
            "_view_module_version": "1.5.0",
            "_view_name": "HBoxView",
            "box_style": "",
            "children": [
              "IPY_MODEL_ac5a8fc1ddd44034af7bb23a5cc472af",
              "IPY_MODEL_12969d8f7a6c451eb09151fb08e69ba3",
              "IPY_MODEL_6d14f2ff0c914d78b548ef11029fc355"
            ],
            "layout": "IPY_MODEL_fba6f4f689f14a2081b92b8d5c035b5c"
          }
        },
        "ac5a8fc1ddd44034af7bb23a5cc472af": {
          "model_module": "@jupyter-widgets/controls",
          "model_name": "HTMLModel",
          "model_module_version": "1.5.0",
          "state": {
            "_dom_classes": [],
            "_model_module": "@jupyter-widgets/controls",
            "_model_module_version": "1.5.0",
            "_model_name": "HTMLModel",
            "_view_count": null,
            "_view_module": "@jupyter-widgets/controls",
            "_view_module_version": "1.5.0",
            "_view_name": "HTMLView",
            "description": "",
            "description_tooltip": null,
            "layout": "IPY_MODEL_0482b951ab9d42fdaede7b0fe080ddc3",
            "placeholder": "​",
            "style": "IPY_MODEL_47da5ffdf5834015b1297ff90d81e10e",
            "value": "WARM BATCHES: "
          }
        },
        "12969d8f7a6c451eb09151fb08e69ba3": {
          "model_module": "@jupyter-widgets/controls",
          "model_name": "FloatProgressModel",
          "model_module_version": "1.5.0",
          "state": {
            "_dom_classes": [],
            "_model_module": "@jupyter-widgets/controls",
            "_model_module_version": "1.5.0",
            "_model_name": "FloatProgressModel",
            "_view_count": null,
            "_view_module": "@jupyter-widgets/controls",
            "_view_module_version": "1.5.0",
            "_view_name": "ProgressView",
            "bar_style": "success",
            "description": "",
            "description_tooltip": null,
            "layout": "IPY_MODEL_af4f2e89d8b840e4ba5ae4bdc7bf659e",
            "max": 1,
            "min": 0,
            "orientation": "horizontal",
            "style": "IPY_MODEL_770e5d76789147faae61be952e9b2ad0",
            "value": 0
          }
        },
        "6d14f2ff0c914d78b548ef11029fc355": {
          "model_module": "@jupyter-widgets/controls",
          "model_name": "HTMLModel",
          "model_module_version": "1.5.0",
          "state": {
            "_dom_classes": [],
            "_model_module": "@jupyter-widgets/controls",
            "_model_module_version": "1.5.0",
            "_model_name": "HTMLModel",
            "_view_count": null,
            "_view_module": "@jupyter-widgets/controls",
            "_view_module_version": "1.5.0",
            "_view_name": "HTMLView",
            "description": "",
            "description_tooltip": null,
            "layout": "IPY_MODEL_b1e857dc986b4c8c84efa76d02c4b80b",
            "placeholder": "​",
            "style": "IPY_MODEL_b1064913ca014bb7a278e02e73b16551",
            "value": " 0/0 [00:00&lt;?, ?it/s]"
          }
        },
        "fba6f4f689f14a2081b92b8d5c035b5c": {
          "model_module": "@jupyter-widgets/base",
          "model_name": "LayoutModel",
          "model_module_version": "1.2.0",
          "state": {
            "_model_module": "@jupyter-widgets/base",
            "_model_module_version": "1.2.0",
            "_model_name": "LayoutModel",
            "_view_count": null,
            "_view_module": "@jupyter-widgets/base",
            "_view_module_version": "1.2.0",
            "_view_name": "LayoutView",
            "align_content": null,
            "align_items": null,
            "align_self": null,
            "border": null,
            "bottom": null,
            "display": null,
            "flex": null,
            "flex_flow": null,
            "grid_area": null,
            "grid_auto_columns": null,
            "grid_auto_flow": null,
            "grid_auto_rows": null,
            "grid_column": null,
            "grid_gap": null,
            "grid_row": null,
            "grid_template_areas": null,
            "grid_template_columns": null,
            "grid_template_rows": null,
            "height": null,
            "justify_content": null,
            "justify_items": null,
            "left": null,
            "margin": null,
            "max_height": null,
            "max_width": null,
            "min_height": null,
            "min_width": null,
            "object_fit": null,
            "object_position": null,
            "order": null,
            "overflow": null,
            "overflow_x": null,
            "overflow_y": null,
            "padding": null,
            "right": null,
            "top": null,
            "visibility": null,
            "width": null
          }
        },
        "0482b951ab9d42fdaede7b0fe080ddc3": {
          "model_module": "@jupyter-widgets/base",
          "model_name": "LayoutModel",
          "model_module_version": "1.2.0",
          "state": {
            "_model_module": "@jupyter-widgets/base",
            "_model_module_version": "1.2.0",
            "_model_name": "LayoutModel",
            "_view_count": null,
            "_view_module": "@jupyter-widgets/base",
            "_view_module_version": "1.2.0",
            "_view_name": "LayoutView",
            "align_content": null,
            "align_items": null,
            "align_self": null,
            "border": null,
            "bottom": null,
            "display": null,
            "flex": null,
            "flex_flow": null,
            "grid_area": null,
            "grid_auto_columns": null,
            "grid_auto_flow": null,
            "grid_auto_rows": null,
            "grid_column": null,
            "grid_gap": null,
            "grid_row": null,
            "grid_template_areas": null,
            "grid_template_columns": null,
            "grid_template_rows": null,
            "height": null,
            "justify_content": null,
            "justify_items": null,
            "left": null,
            "margin": null,
            "max_height": null,
            "max_width": null,
            "min_height": null,
            "min_width": null,
            "object_fit": null,
            "object_position": null,
            "order": null,
            "overflow": null,
            "overflow_x": null,
            "overflow_y": null,
            "padding": null,
            "right": null,
            "top": null,
            "visibility": null,
            "width": null
          }
        },
        "47da5ffdf5834015b1297ff90d81e10e": {
          "model_module": "@jupyter-widgets/controls",
          "model_name": "DescriptionStyleModel",
          "model_module_version": "1.5.0",
          "state": {
            "_model_module": "@jupyter-widgets/controls",
            "_model_module_version": "1.5.0",
            "_model_name": "DescriptionStyleModel",
            "_view_count": null,
            "_view_module": "@jupyter-widgets/base",
            "_view_module_version": "1.2.0",
            "_view_name": "StyleView",
            "description_width": ""
          }
        },
        "af4f2e89d8b840e4ba5ae4bdc7bf659e": {
          "model_module": "@jupyter-widgets/base",
          "model_name": "LayoutModel",
          "model_module_version": "1.2.0",
          "state": {
            "_model_module": "@jupyter-widgets/base",
            "_model_module_version": "1.2.0",
            "_model_name": "LayoutModel",
            "_view_count": null,
            "_view_module": "@jupyter-widgets/base",
            "_view_module_version": "1.2.0",
            "_view_name": "LayoutView",
            "align_content": null,
            "align_items": null,
            "align_self": null,
            "border": null,
            "bottom": null,
            "display": null,
            "flex": null,
            "flex_flow": null,
            "grid_area": null,
            "grid_auto_columns": null,
            "grid_auto_flow": null,
            "grid_auto_rows": null,
            "grid_column": null,
            "grid_gap": null,
            "grid_row": null,
            "grid_template_areas": null,
            "grid_template_columns": null,
            "grid_template_rows": null,
            "height": null,
            "justify_content": null,
            "justify_items": null,
            "left": null,
            "margin": null,
            "max_height": null,
            "max_width": null,
            "min_height": null,
            "min_width": null,
            "object_fit": null,
            "object_position": null,
            "order": null,
            "overflow": null,
            "overflow_x": null,
            "overflow_y": null,
            "padding": null,
            "right": null,
            "top": null,
            "visibility": null,
            "width": "20px"
          }
        },
        "770e5d76789147faae61be952e9b2ad0": {
          "model_module": "@jupyter-widgets/controls",
          "model_name": "ProgressStyleModel",
          "model_module_version": "1.5.0",
          "state": {
            "_model_module": "@jupyter-widgets/controls",
            "_model_module_version": "1.5.0",
            "_model_name": "ProgressStyleModel",
            "_view_count": null,
            "_view_module": "@jupyter-widgets/base",
            "_view_module_version": "1.2.0",
            "_view_name": "StyleView",
            "bar_color": null,
            "description_width": ""
          }
        },
        "b1e857dc986b4c8c84efa76d02c4b80b": {
          "model_module": "@jupyter-widgets/base",
          "model_name": "LayoutModel",
          "model_module_version": "1.2.0",
          "state": {
            "_model_module": "@jupyter-widgets/base",
            "_model_module_version": "1.2.0",
            "_model_name": "LayoutModel",
            "_view_count": null,
            "_view_module": "@jupyter-widgets/base",
            "_view_module_version": "1.2.0",
            "_view_name": "LayoutView",
            "align_content": null,
            "align_items": null,
            "align_self": null,
            "border": null,
            "bottom": null,
            "display": null,
            "flex": null,
            "flex_flow": null,
            "grid_area": null,
            "grid_auto_columns": null,
            "grid_auto_flow": null,
            "grid_auto_rows": null,
            "grid_column": null,
            "grid_gap": null,
            "grid_row": null,
            "grid_template_areas": null,
            "grid_template_columns": null,
            "grid_template_rows": null,
            "height": null,
            "justify_content": null,
            "justify_items": null,
            "left": null,
            "margin": null,
            "max_height": null,
            "max_width": null,
            "min_height": null,
            "min_width": null,
            "object_fit": null,
            "object_position": null,
            "order": null,
            "overflow": null,
            "overflow_x": null,
            "overflow_y": null,
            "padding": null,
            "right": null,
            "top": null,
            "visibility": null,
            "width": null
          }
        },
        "b1064913ca014bb7a278e02e73b16551": {
          "model_module": "@jupyter-widgets/controls",
          "model_name": "DescriptionStyleModel",
          "model_module_version": "1.5.0",
          "state": {
            "_model_module": "@jupyter-widgets/controls",
            "_model_module_version": "1.5.0",
            "_model_name": "DescriptionStyleModel",
            "_view_count": null,
            "_view_module": "@jupyter-widgets/base",
            "_view_module_version": "1.2.0",
            "_view_name": "StyleView",
            "description_width": ""
          }
        },
        "c36944b6c4f640c3a4c7c14c13a4314f": {
          "model_module": "@jupyter-widgets/controls",
          "model_name": "HBoxModel",
          "model_module_version": "1.5.0",
          "state": {
            "_dom_classes": [],
            "_model_module": "@jupyter-widgets/controls",
            "_model_module_version": "1.5.0",
            "_model_name": "HBoxModel",
            "_view_count": null,
            "_view_module": "@jupyter-widgets/controls",
            "_view_module_version": "1.5.0",
            "_view_name": "HBoxView",
            "box_style": "",
            "children": [
              "IPY_MODEL_d8ae06409e5c4d77a678e83193b91f29",
              "IPY_MODEL_244561537ea549ec952b6f8a2eeeedc9",
              "IPY_MODEL_cd474558d3a440dc901e4104e05b0295"
            ],
            "layout": "IPY_MODEL_c48cf76c8ec44ad7a6cabc93fb8294d1"
          }
        },
        "d8ae06409e5c4d77a678e83193b91f29": {
          "model_module": "@jupyter-widgets/controls",
          "model_name": "HTMLModel",
          "model_module_version": "1.5.0",
          "state": {
            "_dom_classes": [],
            "_model_module": "@jupyter-widgets/controls",
            "_model_module_version": "1.5.0",
            "_model_name": "HTMLModel",
            "_view_count": null,
            "_view_module": "@jupyter-widgets/controls",
            "_view_module_version": "1.5.0",
            "_view_name": "HTMLView",
            "description": "",
            "description_tooltip": null,
            "layout": "IPY_MODEL_6e80f820f8c44e81a1f274b4a7822c62",
            "placeholder": "​",
            "style": "IPY_MODEL_e193a09993794cfaa07c05f1bac92e3e",
            "value": "TRAIN BATCHES: 100%"
          }
        },
        "244561537ea549ec952b6f8a2eeeedc9": {
          "model_module": "@jupyter-widgets/controls",
          "model_name": "FloatProgressModel",
          "model_module_version": "1.5.0",
          "state": {
            "_dom_classes": [],
            "_model_module": "@jupyter-widgets/controls",
            "_model_module_version": "1.5.0",
            "_model_name": "FloatProgressModel",
            "_view_count": null,
            "_view_module": "@jupyter-widgets/controls",
            "_view_module_version": "1.5.0",
            "_view_name": "ProgressView",
            "bar_style": "success",
            "description": "",
            "description_tooltip": null,
            "layout": "IPY_MODEL_a4efedaba567437a9ec2db948213fea4",
            "max": 50000,
            "min": 0,
            "orientation": "horizontal",
            "style": "IPY_MODEL_fae3b25129874207bb68b24881112a84",
            "value": 50000
          }
        },
        "cd474558d3a440dc901e4104e05b0295": {
          "model_module": "@jupyter-widgets/controls",
          "model_name": "HTMLModel",
          "model_module_version": "1.5.0",
          "state": {
            "_dom_classes": [],
            "_model_module": "@jupyter-widgets/controls",
            "_model_module_version": "1.5.0",
            "_model_name": "HTMLModel",
            "_view_count": null,
            "_view_module": "@jupyter-widgets/controls",
            "_view_module_version": "1.5.0",
            "_view_name": "HTMLView",
            "description": "",
            "description_tooltip": null,
            "layout": "IPY_MODEL_c3858bffe3d04c8aa354d75e6074ef8f",
            "placeholder": "​",
            "style": "IPY_MODEL_8fa416e0f8b5451099ae9b6eaee6a319",
            "value": " 50000/50000 [23:50&lt;00:00, 39.11it/s]"
          }
        },
        "c48cf76c8ec44ad7a6cabc93fb8294d1": {
          "model_module": "@jupyter-widgets/base",
          "model_name": "LayoutModel",
          "model_module_version": "1.2.0",
          "state": {
            "_model_module": "@jupyter-widgets/base",
            "_model_module_version": "1.2.0",
            "_model_name": "LayoutModel",
            "_view_count": null,
            "_view_module": "@jupyter-widgets/base",
            "_view_module_version": "1.2.0",
            "_view_name": "LayoutView",
            "align_content": null,
            "align_items": null,
            "align_self": null,
            "border": null,
            "bottom": null,
            "display": null,
            "flex": null,
            "flex_flow": null,
            "grid_area": null,
            "grid_auto_columns": null,
            "grid_auto_flow": null,
            "grid_auto_rows": null,
            "grid_column": null,
            "grid_gap": null,
            "grid_row": null,
            "grid_template_areas": null,
            "grid_template_columns": null,
            "grid_template_rows": null,
            "height": null,
            "justify_content": null,
            "justify_items": null,
            "left": null,
            "margin": null,
            "max_height": null,
            "max_width": null,
            "min_height": null,
            "min_width": null,
            "object_fit": null,
            "object_position": null,
            "order": null,
            "overflow": null,
            "overflow_x": null,
            "overflow_y": null,
            "padding": null,
            "right": null,
            "top": null,
            "visibility": null,
            "width": null
          }
        },
        "6e80f820f8c44e81a1f274b4a7822c62": {
          "model_module": "@jupyter-widgets/base",
          "model_name": "LayoutModel",
          "model_module_version": "1.2.0",
          "state": {
            "_model_module": "@jupyter-widgets/base",
            "_model_module_version": "1.2.0",
            "_model_name": "LayoutModel",
            "_view_count": null,
            "_view_module": "@jupyter-widgets/base",
            "_view_module_version": "1.2.0",
            "_view_name": "LayoutView",
            "align_content": null,
            "align_items": null,
            "align_self": null,
            "border": null,
            "bottom": null,
            "display": null,
            "flex": null,
            "flex_flow": null,
            "grid_area": null,
            "grid_auto_columns": null,
            "grid_auto_flow": null,
            "grid_auto_rows": null,
            "grid_column": null,
            "grid_gap": null,
            "grid_row": null,
            "grid_template_areas": null,
            "grid_template_columns": null,
            "grid_template_rows": null,
            "height": null,
            "justify_content": null,
            "justify_items": null,
            "left": null,
            "margin": null,
            "max_height": null,
            "max_width": null,
            "min_height": null,
            "min_width": null,
            "object_fit": null,
            "object_position": null,
            "order": null,
            "overflow": null,
            "overflow_x": null,
            "overflow_y": null,
            "padding": null,
            "right": null,
            "top": null,
            "visibility": null,
            "width": null
          }
        },
        "e193a09993794cfaa07c05f1bac92e3e": {
          "model_module": "@jupyter-widgets/controls",
          "model_name": "DescriptionStyleModel",
          "model_module_version": "1.5.0",
          "state": {
            "_model_module": "@jupyter-widgets/controls",
            "_model_module_version": "1.5.0",
            "_model_name": "DescriptionStyleModel",
            "_view_count": null,
            "_view_module": "@jupyter-widgets/base",
            "_view_module_version": "1.2.0",
            "_view_name": "StyleView",
            "description_width": ""
          }
        },
        "a4efedaba567437a9ec2db948213fea4": {
          "model_module": "@jupyter-widgets/base",
          "model_name": "LayoutModel",
          "model_module_version": "1.2.0",
          "state": {
            "_model_module": "@jupyter-widgets/base",
            "_model_module_version": "1.2.0",
            "_model_name": "LayoutModel",
            "_view_count": null,
            "_view_module": "@jupyter-widgets/base",
            "_view_module_version": "1.2.0",
            "_view_name": "LayoutView",
            "align_content": null,
            "align_items": null,
            "align_self": null,
            "border": null,
            "bottom": null,
            "display": null,
            "flex": null,
            "flex_flow": null,
            "grid_area": null,
            "grid_auto_columns": null,
            "grid_auto_flow": null,
            "grid_auto_rows": null,
            "grid_column": null,
            "grid_gap": null,
            "grid_row": null,
            "grid_template_areas": null,
            "grid_template_columns": null,
            "grid_template_rows": null,
            "height": null,
            "justify_content": null,
            "justify_items": null,
            "left": null,
            "margin": null,
            "max_height": null,
            "max_width": null,
            "min_height": null,
            "min_width": null,
            "object_fit": null,
            "object_position": null,
            "order": null,
            "overflow": null,
            "overflow_x": null,
            "overflow_y": null,
            "padding": null,
            "right": null,
            "top": null,
            "visibility": null,
            "width": null
          }
        },
        "fae3b25129874207bb68b24881112a84": {
          "model_module": "@jupyter-widgets/controls",
          "model_name": "ProgressStyleModel",
          "model_module_version": "1.5.0",
          "state": {
            "_model_module": "@jupyter-widgets/controls",
            "_model_module_version": "1.5.0",
            "_model_name": "ProgressStyleModel",
            "_view_count": null,
            "_view_module": "@jupyter-widgets/base",
            "_view_module_version": "1.2.0",
            "_view_name": "StyleView",
            "bar_color": null,
            "description_width": ""
          }
        },
        "c3858bffe3d04c8aa354d75e6074ef8f": {
          "model_module": "@jupyter-widgets/base",
          "model_name": "LayoutModel",
          "model_module_version": "1.2.0",
          "state": {
            "_model_module": "@jupyter-widgets/base",
            "_model_module_version": "1.2.0",
            "_model_name": "LayoutModel",
            "_view_count": null,
            "_view_module": "@jupyter-widgets/base",
            "_view_module_version": "1.2.0",
            "_view_name": "LayoutView",
            "align_content": null,
            "align_items": null,
            "align_self": null,
            "border": null,
            "bottom": null,
            "display": null,
            "flex": null,
            "flex_flow": null,
            "grid_area": null,
            "grid_auto_columns": null,
            "grid_auto_flow": null,
            "grid_auto_rows": null,
            "grid_column": null,
            "grid_gap": null,
            "grid_row": null,
            "grid_template_areas": null,
            "grid_template_columns": null,
            "grid_template_rows": null,
            "height": null,
            "justify_content": null,
            "justify_items": null,
            "left": null,
            "margin": null,
            "max_height": null,
            "max_width": null,
            "min_height": null,
            "min_width": null,
            "object_fit": null,
            "object_position": null,
            "order": null,
            "overflow": null,
            "overflow_x": null,
            "overflow_y": null,
            "padding": null,
            "right": null,
            "top": null,
            "visibility": null,
            "width": null
          }
        },
        "8fa416e0f8b5451099ae9b6eaee6a319": {
          "model_module": "@jupyter-widgets/controls",
          "model_name": "DescriptionStyleModel",
          "model_module_version": "1.5.0",
          "state": {
            "_model_module": "@jupyter-widgets/controls",
            "_model_module_version": "1.5.0",
            "_model_name": "DescriptionStyleModel",
            "_view_count": null,
            "_view_module": "@jupyter-widgets/base",
            "_view_module_version": "1.2.0",
            "_view_name": "StyleView",
            "description_width": ""
          }
        },
        "da167f00ceee4765b64777b58ce2316f": {
          "model_module": "@jupyter-widgets/controls",
          "model_name": "HBoxModel",
          "model_module_version": "1.5.0",
          "state": {
            "_dom_classes": [],
            "_model_module": "@jupyter-widgets/controls",
            "_model_module_version": "1.5.0",
            "_model_name": "HBoxModel",
            "_view_count": null,
            "_view_module": "@jupyter-widgets/controls",
            "_view_module_version": "1.5.0",
            "_view_name": "HBoxView",
            "box_style": "",
            "children": [
              "IPY_MODEL_bdfbda92ed0d4633a515a508fd4181ca",
              "IPY_MODEL_4a6092964702454ab9ea3aaf0f46259f",
              "IPY_MODEL_9b6cdc04956e4a87836193f2866355f9"
            ],
            "layout": "IPY_MODEL_00b3379c015d4906b16cb18b20addc4d"
          }
        },
        "bdfbda92ed0d4633a515a508fd4181ca": {
          "model_module": "@jupyter-widgets/controls",
          "model_name": "HTMLModel",
          "model_module_version": "1.5.0",
          "state": {
            "_dom_classes": [],
            "_model_module": "@jupyter-widgets/controls",
            "_model_module_version": "1.5.0",
            "_model_name": "HTMLModel",
            "_view_count": null,
            "_view_module": "@jupyter-widgets/controls",
            "_view_module_version": "1.5.0",
            "_view_name": "HTMLView",
            "description": "",
            "description_tooltip": null,
            "layout": "IPY_MODEL_01a03cb592aa4c8ab9484b161d116884",
            "placeholder": "​",
            "style": "IPY_MODEL_6ff1c299b4fc4e7a8d25a2891aa95eca",
            "value": "WARM BATCHES: "
          }
        },
        "4a6092964702454ab9ea3aaf0f46259f": {
          "model_module": "@jupyter-widgets/controls",
          "model_name": "FloatProgressModel",
          "model_module_version": "1.5.0",
          "state": {
            "_dom_classes": [],
            "_model_module": "@jupyter-widgets/controls",
            "_model_module_version": "1.5.0",
            "_model_name": "FloatProgressModel",
            "_view_count": null,
            "_view_module": "@jupyter-widgets/controls",
            "_view_module_version": "1.5.0",
            "_view_name": "ProgressView",
            "bar_style": "success",
            "description": "",
            "description_tooltip": null,
            "layout": "IPY_MODEL_dea6f02a3cde49ff9a8a3d6e23e60394",
            "max": 1,
            "min": 0,
            "orientation": "horizontal",
            "style": "IPY_MODEL_ca8969c530f543d69b5c3a4a56394799",
            "value": 0
          }
        },
        "9b6cdc04956e4a87836193f2866355f9": {
          "model_module": "@jupyter-widgets/controls",
          "model_name": "HTMLModel",
          "model_module_version": "1.5.0",
          "state": {
            "_dom_classes": [],
            "_model_module": "@jupyter-widgets/controls",
            "_model_module_version": "1.5.0",
            "_model_name": "HTMLModel",
            "_view_count": null,
            "_view_module": "@jupyter-widgets/controls",
            "_view_module_version": "1.5.0",
            "_view_name": "HTMLView",
            "description": "",
            "description_tooltip": null,
            "layout": "IPY_MODEL_7f79464303924b3da3a6984c4fa206dd",
            "placeholder": "​",
            "style": "IPY_MODEL_dcef147b4ab2479eb61f71525cd04c22",
            "value": " 0/0 [00:00&lt;?, ?it/s]"
          }
        },
        "00b3379c015d4906b16cb18b20addc4d": {
          "model_module": "@jupyter-widgets/base",
          "model_name": "LayoutModel",
          "model_module_version": "1.2.0",
          "state": {
            "_model_module": "@jupyter-widgets/base",
            "_model_module_version": "1.2.0",
            "_model_name": "LayoutModel",
            "_view_count": null,
            "_view_module": "@jupyter-widgets/base",
            "_view_module_version": "1.2.0",
            "_view_name": "LayoutView",
            "align_content": null,
            "align_items": null,
            "align_self": null,
            "border": null,
            "bottom": null,
            "display": null,
            "flex": null,
            "flex_flow": null,
            "grid_area": null,
            "grid_auto_columns": null,
            "grid_auto_flow": null,
            "grid_auto_rows": null,
            "grid_column": null,
            "grid_gap": null,
            "grid_row": null,
            "grid_template_areas": null,
            "grid_template_columns": null,
            "grid_template_rows": null,
            "height": null,
            "justify_content": null,
            "justify_items": null,
            "left": null,
            "margin": null,
            "max_height": null,
            "max_width": null,
            "min_height": null,
            "min_width": null,
            "object_fit": null,
            "object_position": null,
            "order": null,
            "overflow": null,
            "overflow_x": null,
            "overflow_y": null,
            "padding": null,
            "right": null,
            "top": null,
            "visibility": null,
            "width": null
          }
        },
        "01a03cb592aa4c8ab9484b161d116884": {
          "model_module": "@jupyter-widgets/base",
          "model_name": "LayoutModel",
          "model_module_version": "1.2.0",
          "state": {
            "_model_module": "@jupyter-widgets/base",
            "_model_module_version": "1.2.0",
            "_model_name": "LayoutModel",
            "_view_count": null,
            "_view_module": "@jupyter-widgets/base",
            "_view_module_version": "1.2.0",
            "_view_name": "LayoutView",
            "align_content": null,
            "align_items": null,
            "align_self": null,
            "border": null,
            "bottom": null,
            "display": null,
            "flex": null,
            "flex_flow": null,
            "grid_area": null,
            "grid_auto_columns": null,
            "grid_auto_flow": null,
            "grid_auto_rows": null,
            "grid_column": null,
            "grid_gap": null,
            "grid_row": null,
            "grid_template_areas": null,
            "grid_template_columns": null,
            "grid_template_rows": null,
            "height": null,
            "justify_content": null,
            "justify_items": null,
            "left": null,
            "margin": null,
            "max_height": null,
            "max_width": null,
            "min_height": null,
            "min_width": null,
            "object_fit": null,
            "object_position": null,
            "order": null,
            "overflow": null,
            "overflow_x": null,
            "overflow_y": null,
            "padding": null,
            "right": null,
            "top": null,
            "visibility": null,
            "width": null
          }
        },
        "6ff1c299b4fc4e7a8d25a2891aa95eca": {
          "model_module": "@jupyter-widgets/controls",
          "model_name": "DescriptionStyleModel",
          "model_module_version": "1.5.0",
          "state": {
            "_model_module": "@jupyter-widgets/controls",
            "_model_module_version": "1.5.0",
            "_model_name": "DescriptionStyleModel",
            "_view_count": null,
            "_view_module": "@jupyter-widgets/base",
            "_view_module_version": "1.2.0",
            "_view_name": "StyleView",
            "description_width": ""
          }
        },
        "dea6f02a3cde49ff9a8a3d6e23e60394": {
          "model_module": "@jupyter-widgets/base",
          "model_name": "LayoutModel",
          "model_module_version": "1.2.0",
          "state": {
            "_model_module": "@jupyter-widgets/base",
            "_model_module_version": "1.2.0",
            "_model_name": "LayoutModel",
            "_view_count": null,
            "_view_module": "@jupyter-widgets/base",
            "_view_module_version": "1.2.0",
            "_view_name": "LayoutView",
            "align_content": null,
            "align_items": null,
            "align_self": null,
            "border": null,
            "bottom": null,
            "display": null,
            "flex": null,
            "flex_flow": null,
            "grid_area": null,
            "grid_auto_columns": null,
            "grid_auto_flow": null,
            "grid_auto_rows": null,
            "grid_column": null,
            "grid_gap": null,
            "grid_row": null,
            "grid_template_areas": null,
            "grid_template_columns": null,
            "grid_template_rows": null,
            "height": null,
            "justify_content": null,
            "justify_items": null,
            "left": null,
            "margin": null,
            "max_height": null,
            "max_width": null,
            "min_height": null,
            "min_width": null,
            "object_fit": null,
            "object_position": null,
            "order": null,
            "overflow": null,
            "overflow_x": null,
            "overflow_y": null,
            "padding": null,
            "right": null,
            "top": null,
            "visibility": null,
            "width": "20px"
          }
        },
        "ca8969c530f543d69b5c3a4a56394799": {
          "model_module": "@jupyter-widgets/controls",
          "model_name": "ProgressStyleModel",
          "model_module_version": "1.5.0",
          "state": {
            "_model_module": "@jupyter-widgets/controls",
            "_model_module_version": "1.5.0",
            "_model_name": "ProgressStyleModel",
            "_view_count": null,
            "_view_module": "@jupyter-widgets/base",
            "_view_module_version": "1.2.0",
            "_view_name": "StyleView",
            "bar_color": null,
            "description_width": ""
          }
        },
        "7f79464303924b3da3a6984c4fa206dd": {
          "model_module": "@jupyter-widgets/base",
          "model_name": "LayoutModel",
          "model_module_version": "1.2.0",
          "state": {
            "_model_module": "@jupyter-widgets/base",
            "_model_module_version": "1.2.0",
            "_model_name": "LayoutModel",
            "_view_count": null,
            "_view_module": "@jupyter-widgets/base",
            "_view_module_version": "1.2.0",
            "_view_name": "LayoutView",
            "align_content": null,
            "align_items": null,
            "align_self": null,
            "border": null,
            "bottom": null,
            "display": null,
            "flex": null,
            "flex_flow": null,
            "grid_area": null,
            "grid_auto_columns": null,
            "grid_auto_flow": null,
            "grid_auto_rows": null,
            "grid_column": null,
            "grid_gap": null,
            "grid_row": null,
            "grid_template_areas": null,
            "grid_template_columns": null,
            "grid_template_rows": null,
            "height": null,
            "justify_content": null,
            "justify_items": null,
            "left": null,
            "margin": null,
            "max_height": null,
            "max_width": null,
            "min_height": null,
            "min_width": null,
            "object_fit": null,
            "object_position": null,
            "order": null,
            "overflow": null,
            "overflow_x": null,
            "overflow_y": null,
            "padding": null,
            "right": null,
            "top": null,
            "visibility": null,
            "width": null
          }
        },
        "dcef147b4ab2479eb61f71525cd04c22": {
          "model_module": "@jupyter-widgets/controls",
          "model_name": "DescriptionStyleModel",
          "model_module_version": "1.5.0",
          "state": {
            "_model_module": "@jupyter-widgets/controls",
            "_model_module_version": "1.5.0",
            "_model_name": "DescriptionStyleModel",
            "_view_count": null,
            "_view_module": "@jupyter-widgets/base",
            "_view_module_version": "1.2.0",
            "_view_name": "StyleView",
            "description_width": ""
          }
        },
        "8c9d5967f5d444acbe029a23f6d81699": {
          "model_module": "@jupyter-widgets/controls",
          "model_name": "HBoxModel",
          "model_module_version": "1.5.0",
          "state": {
            "_dom_classes": [],
            "_model_module": "@jupyter-widgets/controls",
            "_model_module_version": "1.5.0",
            "_model_name": "HBoxModel",
            "_view_count": null,
            "_view_module": "@jupyter-widgets/controls",
            "_view_module_version": "1.5.0",
            "_view_name": "HBoxView",
            "box_style": "",
            "children": [
              "IPY_MODEL_8fdb760823874a91bc807e429c4aaa54",
              "IPY_MODEL_d5b77fe75aff4e99b7fa0d79bd35a2da",
              "IPY_MODEL_6ac32d5fe0cc40469ca8df99800a41c7"
            ],
            "layout": "IPY_MODEL_2b574c090bca4b548cdf60ad1bc39f38"
          }
        },
        "8fdb760823874a91bc807e429c4aaa54": {
          "model_module": "@jupyter-widgets/controls",
          "model_name": "HTMLModel",
          "model_module_version": "1.5.0",
          "state": {
            "_dom_classes": [],
            "_model_module": "@jupyter-widgets/controls",
            "_model_module_version": "1.5.0",
            "_model_name": "HTMLModel",
            "_view_count": null,
            "_view_module": "@jupyter-widgets/controls",
            "_view_module_version": "1.5.0",
            "_view_name": "HTMLView",
            "description": "",
            "description_tooltip": null,
            "layout": "IPY_MODEL_2de1a2c4d1554dd99df6c1722c6d9d01",
            "placeholder": "​",
            "style": "IPY_MODEL_074e057b4b5147ca91ba975b640cdaef",
            "value": "TRAIN BATCHES: 100%"
          }
        },
        "d5b77fe75aff4e99b7fa0d79bd35a2da": {
          "model_module": "@jupyter-widgets/controls",
          "model_name": "FloatProgressModel",
          "model_module_version": "1.5.0",
          "state": {
            "_dom_classes": [],
            "_model_module": "@jupyter-widgets/controls",
            "_model_module_version": "1.5.0",
            "_model_name": "FloatProgressModel",
            "_view_count": null,
            "_view_module": "@jupyter-widgets/controls",
            "_view_module_version": "1.5.0",
            "_view_name": "ProgressView",
            "bar_style": "success",
            "description": "",
            "description_tooltip": null,
            "layout": "IPY_MODEL_de7228c7d8fc437b868191f067867195",
            "max": 50000,
            "min": 0,
            "orientation": "horizontal",
            "style": "IPY_MODEL_a5b6c2b816e64b6d8453e8f075ea17f7",
            "value": 50000
          }
        },
        "6ac32d5fe0cc40469ca8df99800a41c7": {
          "model_module": "@jupyter-widgets/controls",
          "model_name": "HTMLModel",
          "model_module_version": "1.5.0",
          "state": {
            "_dom_classes": [],
            "_model_module": "@jupyter-widgets/controls",
            "_model_module_version": "1.5.0",
            "_model_name": "HTMLModel",
            "_view_count": null,
            "_view_module": "@jupyter-widgets/controls",
            "_view_module_version": "1.5.0",
            "_view_name": "HTMLView",
            "description": "",
            "description_tooltip": null,
            "layout": "IPY_MODEL_c3bcec47afdf4e01b734c1e9d21c0495",
            "placeholder": "​",
            "style": "IPY_MODEL_54203e72932f4b5aabe98cba528e4937",
            "value": " 50000/50000 [32:11&lt;00:00, 28.37it/s]"
          }
        },
        "2b574c090bca4b548cdf60ad1bc39f38": {
          "model_module": "@jupyter-widgets/base",
          "model_name": "LayoutModel",
          "model_module_version": "1.2.0",
          "state": {
            "_model_module": "@jupyter-widgets/base",
            "_model_module_version": "1.2.0",
            "_model_name": "LayoutModel",
            "_view_count": null,
            "_view_module": "@jupyter-widgets/base",
            "_view_module_version": "1.2.0",
            "_view_name": "LayoutView",
            "align_content": null,
            "align_items": null,
            "align_self": null,
            "border": null,
            "bottom": null,
            "display": null,
            "flex": null,
            "flex_flow": null,
            "grid_area": null,
            "grid_auto_columns": null,
            "grid_auto_flow": null,
            "grid_auto_rows": null,
            "grid_column": null,
            "grid_gap": null,
            "grid_row": null,
            "grid_template_areas": null,
            "grid_template_columns": null,
            "grid_template_rows": null,
            "height": null,
            "justify_content": null,
            "justify_items": null,
            "left": null,
            "margin": null,
            "max_height": null,
            "max_width": null,
            "min_height": null,
            "min_width": null,
            "object_fit": null,
            "object_position": null,
            "order": null,
            "overflow": null,
            "overflow_x": null,
            "overflow_y": null,
            "padding": null,
            "right": null,
            "top": null,
            "visibility": null,
            "width": null
          }
        },
        "2de1a2c4d1554dd99df6c1722c6d9d01": {
          "model_module": "@jupyter-widgets/base",
          "model_name": "LayoutModel",
          "model_module_version": "1.2.0",
          "state": {
            "_model_module": "@jupyter-widgets/base",
            "_model_module_version": "1.2.0",
            "_model_name": "LayoutModel",
            "_view_count": null,
            "_view_module": "@jupyter-widgets/base",
            "_view_module_version": "1.2.0",
            "_view_name": "LayoutView",
            "align_content": null,
            "align_items": null,
            "align_self": null,
            "border": null,
            "bottom": null,
            "display": null,
            "flex": null,
            "flex_flow": null,
            "grid_area": null,
            "grid_auto_columns": null,
            "grid_auto_flow": null,
            "grid_auto_rows": null,
            "grid_column": null,
            "grid_gap": null,
            "grid_row": null,
            "grid_template_areas": null,
            "grid_template_columns": null,
            "grid_template_rows": null,
            "height": null,
            "justify_content": null,
            "justify_items": null,
            "left": null,
            "margin": null,
            "max_height": null,
            "max_width": null,
            "min_height": null,
            "min_width": null,
            "object_fit": null,
            "object_position": null,
            "order": null,
            "overflow": null,
            "overflow_x": null,
            "overflow_y": null,
            "padding": null,
            "right": null,
            "top": null,
            "visibility": null,
            "width": null
          }
        },
        "074e057b4b5147ca91ba975b640cdaef": {
          "model_module": "@jupyter-widgets/controls",
          "model_name": "DescriptionStyleModel",
          "model_module_version": "1.5.0",
          "state": {
            "_model_module": "@jupyter-widgets/controls",
            "_model_module_version": "1.5.0",
            "_model_name": "DescriptionStyleModel",
            "_view_count": null,
            "_view_module": "@jupyter-widgets/base",
            "_view_module_version": "1.2.0",
            "_view_name": "StyleView",
            "description_width": ""
          }
        },
        "de7228c7d8fc437b868191f067867195": {
          "model_module": "@jupyter-widgets/base",
          "model_name": "LayoutModel",
          "model_module_version": "1.2.0",
          "state": {
            "_model_module": "@jupyter-widgets/base",
            "_model_module_version": "1.2.0",
            "_model_name": "LayoutModel",
            "_view_count": null,
            "_view_module": "@jupyter-widgets/base",
            "_view_module_version": "1.2.0",
            "_view_name": "LayoutView",
            "align_content": null,
            "align_items": null,
            "align_self": null,
            "border": null,
            "bottom": null,
            "display": null,
            "flex": null,
            "flex_flow": null,
            "grid_area": null,
            "grid_auto_columns": null,
            "grid_auto_flow": null,
            "grid_auto_rows": null,
            "grid_column": null,
            "grid_gap": null,
            "grid_row": null,
            "grid_template_areas": null,
            "grid_template_columns": null,
            "grid_template_rows": null,
            "height": null,
            "justify_content": null,
            "justify_items": null,
            "left": null,
            "margin": null,
            "max_height": null,
            "max_width": null,
            "min_height": null,
            "min_width": null,
            "object_fit": null,
            "object_position": null,
            "order": null,
            "overflow": null,
            "overflow_x": null,
            "overflow_y": null,
            "padding": null,
            "right": null,
            "top": null,
            "visibility": null,
            "width": null
          }
        },
        "a5b6c2b816e64b6d8453e8f075ea17f7": {
          "model_module": "@jupyter-widgets/controls",
          "model_name": "ProgressStyleModel",
          "model_module_version": "1.5.0",
          "state": {
            "_model_module": "@jupyter-widgets/controls",
            "_model_module_version": "1.5.0",
            "_model_name": "ProgressStyleModel",
            "_view_count": null,
            "_view_module": "@jupyter-widgets/base",
            "_view_module_version": "1.2.0",
            "_view_name": "StyleView",
            "bar_color": null,
            "description_width": ""
          }
        },
        "c3bcec47afdf4e01b734c1e9d21c0495": {
          "model_module": "@jupyter-widgets/base",
          "model_name": "LayoutModel",
          "model_module_version": "1.2.0",
          "state": {
            "_model_module": "@jupyter-widgets/base",
            "_model_module_version": "1.2.0",
            "_model_name": "LayoutModel",
            "_view_count": null,
            "_view_module": "@jupyter-widgets/base",
            "_view_module_version": "1.2.0",
            "_view_name": "LayoutView",
            "align_content": null,
            "align_items": null,
            "align_self": null,
            "border": null,
            "bottom": null,
            "display": null,
            "flex": null,
            "flex_flow": null,
            "grid_area": null,
            "grid_auto_columns": null,
            "grid_auto_flow": null,
            "grid_auto_rows": null,
            "grid_column": null,
            "grid_gap": null,
            "grid_row": null,
            "grid_template_areas": null,
            "grid_template_columns": null,
            "grid_template_rows": null,
            "height": null,
            "justify_content": null,
            "justify_items": null,
            "left": null,
            "margin": null,
            "max_height": null,
            "max_width": null,
            "min_height": null,
            "min_width": null,
            "object_fit": null,
            "object_position": null,
            "order": null,
            "overflow": null,
            "overflow_x": null,
            "overflow_y": null,
            "padding": null,
            "right": null,
            "top": null,
            "visibility": null,
            "width": null
          }
        },
        "54203e72932f4b5aabe98cba528e4937": {
          "model_module": "@jupyter-widgets/controls",
          "model_name": "DescriptionStyleModel",
          "model_module_version": "1.5.0",
          "state": {
            "_model_module": "@jupyter-widgets/controls",
            "_model_module_version": "1.5.0",
            "_model_name": "DescriptionStyleModel",
            "_view_count": null,
            "_view_module": "@jupyter-widgets/base",
            "_view_module_version": "1.2.0",
            "_view_name": "StyleView",
            "description_width": ""
          }
        }
      }
    }
  },
  "nbformat": 4,
  "nbformat_minor": 0
}