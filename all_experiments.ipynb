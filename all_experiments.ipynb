{
  "cells": [
    {
      "attachments": {},
      "cell_type": "markdown",
      "metadata": {
        "id": "wdxRc13mgDUe"
      },
      "source": [
        "# Testing Updates"
      ]
    },
    {
      "cell_type": "code",
      "execution_count": 1,
      "metadata": {
        "colab": {
          "base_uri": "https://localhost:8080/",
          "height": 70
        },
        "id": "7X31sq01gcMU",
        "outputId": "ebc6c9c3-7934-40ba-bfb1-b438298df4f8"
      },
      "outputs": [
        {
          "data": {
            "text/plain": [
              "'cuda:0'"
            ]
          },
          "execution_count": 1,
          "metadata": {},
          "output_type": "execute_result"
        }
      ],
      "source": [
        "%load_ext autoreload\n",
        "%autoreload 2\n",
        "\n",
        "from functools import partial\n",
        "from collections import defaultdict\n",
        "import pickle\n",
        "\n",
        "from wordle.wordle import Wordle\n",
        "from environment.environment import Environment, StateYesNo\n",
        "from environment.action import ActionVocabulary, ActionLetters, ActionCombLetters, ActionWagons\n",
        "from dqn.agent import Agent\n",
        "from dqn.train import exp_with_action, train_test_split, get_dordle_data, play_dordle\n",
        "from replay_buffer.cpprb import PrioritizedReplayBuffer, ReplayBuffer\n",
        "\n",
        "import matplotlib.pyplot as plt\n",
        "import seaborn as sns\n",
        "sns.set(style='whitegrid')\n",
        "import torch\n",
        "import numpy as np\n",
        "np.random.seed(0)\n",
        "\n",
        "\"cuda:0\" if torch.cuda.is_available() else \"cpu\""
      ]
    },
    {
      "attachments": {},
      "cell_type": "markdown",
      "metadata": {
        "id": "PSty1zZfo9Jl"
      },
      "source": [
        "## Data & Train Configuration"
      ]
    },
    {
      "cell_type": "code",
      "execution_count": 2,
      "metadata": {
        "colab": {
          "base_uri": "https://localhost:8080/"
        },
        "id": "EzO8082PYHBC",
        "outputId": "b8d80430-e234-417c-e5db-9c0d027c6fc0"
      },
      "outputs": [
        {
          "name": "stdout",
          "output_type": "stream",
          "text": [
            "2315 12972\n"
          ]
        }
      ],
      "source": [
        "answers = Wordle._load_vocabulary('wordle/answers.txt', astype=list)\n",
        "guesses = Wordle._load_vocabulary('wordle/guesses.txt', astype=list)\n",
        "wordle_list = guesses\n",
        "\n",
        "in_answers = []\n",
        "for i, word in enumerate(guesses):\n",
        "  if word in answers:\n",
        "    in_answers.append(i)\n",
        "\n",
        "print(len(answers), len(guesses))\n",
        "\n",
        "indices = np.arange(len(guesses))\n",
        "np.random.shuffle(indices)"
      ]
    },
    {
      "cell_type": "code",
      "execution_count": 3,
      "metadata": {},
      "outputs": [],
      "source": [
        "def agent_path(nickname, t):\n",
        "    return {\n",
        "        'local': f'{nickname}/local-{t}.pth',\n",
        "        'target': f'{nickname}/target-{t}.pth',\n",
        "        'buffer': f'{nickname}/buffer-{t}.npz',\n",
        "        'optimizer': f'{nickname}/optimizer-{t}.pth',\n",
        "    }"
      ]
    },
    {
      "cell_type": "code",
      "execution_count": 4,
      "metadata": {},
      "outputs": [],
      "source": [
        "def get_data(n_guesses, overfit, augment_prob_word=None, augment_prob_letter=None):\n",
        "    return train_test_split(n_guesses, overfit, guesses, indices, in_answers, augment_prob_word, augment_prob_letter)"
      ]
    },
    {
      "cell_type": "code",
      "execution_count": 5,
      "metadata": {},
      "outputs": [
        {
          "name": "stdout",
          "output_type": "stream",
          "text": [
            "guesses: 51\n",
            "train answers: 8\n",
            "test answers: 7 (overfit strategy)\n",
            "augmented: 1\n"
          ]
        }
      ],
      "source": [
        "train_answers_cur, test_answers_cur, guesses_cur, aug_words = get_data(50, True, 0.5, 0.2)"
      ]
    },
    {
      "cell_type": "code",
      "execution_count": 6,
      "metadata": {},
      "outputs": [
        {
          "name": "stdout",
          "output_type": "stream",
          "text": [
            "['caulk', 'savvy', 'truce', 'aware', 'cheer', 'tally', 'liner', 'litfp']\n"
          ]
        }
      ],
      "source": [
        "print(train_answers_cur)"
      ]
    },
    {
      "cell_type": "code",
      "execution_count": 7,
      "metadata": {},
      "outputs": [
        {
          "name": "stdout",
          "output_type": "stream",
          "text": [
            "['caulk', 'savvy', 'truce', 'aware', 'cheer', 'tally', 'liner'] ['litfp']\n"
          ]
        }
      ],
      "source": [
        "print(test_answers_cur, aug_words)"
      ]
    },
    {
      "attachments": {},
      "cell_type": "markdown",
      "metadata": {},
      "source": [
        "## Train Vocabulary"
      ]
    },
    {
      "cell_type": "code",
      "execution_count": null,
      "metadata": {},
      "outputs": [],
      "source": [
        "rewards = {'repeat':-0.1, 'B':1, 'Y':1, 'G':1, 'win':10, 'lose':-10, 'step':-5}"
      ]
    },
    {
      "cell_type": "code",
      "execution_count": 59,
      "metadata": {},
      "outputs": [],
      "source": [
        "def train(**kwargs):\n",
        "    return exp_with_action('vocabulary', rewards, **kwargs)"
      ]
    },
    {
      "cell_type": "code",
      "execution_count": 60,
      "metadata": {},
      "outputs": [
        {
          "name": "stdout",
          "output_type": "stream",
          "text": [
            "guesses: 100\n",
            "train answers: 15\n",
            "test answers: 15 (overfit strategy)\n",
            "augmented: 0\n"
          ]
        }
      ],
      "source": [
        "n_guesses = 100\n",
        "data = get_data(n_guesses, overfit=True)"
      ]
    },
    {
      "cell_type": "code",
      "execution_count": 61,
      "metadata": {},
      "outputs": [
        {
          "name": "stdout",
          "output_type": "stream",
          "text": [
            "Initial Test. \tWin Rate: 0.00%\tMean Steps: 6.0000\n"
          ]
        },
        {
          "data": {
            "application/vnd.jupyter.widget-view+json": {
              "model_id": "6d0f48cb0c204f5997dd67e384b72469",
              "version_major": 2,
              "version_minor": 0
            },
            "text/plain": [
              "TRAIN EPISODES:   0%|          | 0/1000 [00:00<?, ?it/s]"
            ]
          },
          "metadata": {},
          "output_type": "display_data"
        },
        {
          "name": "stdout",
          "output_type": "stream",
          "text": [
            "\n",
            "Episodes:  125\tTime: 0 s\tAgent Eps: 0.96\tTrain Win Rate: 9.60%\tTest Win Rate: 6.67%\tTest Mean Steps: 5.6667\n",
            "\n",
            "Episodes:  253\tTime: 1 s\tAgent Eps: 0.92\tTrain Win Rate: 4.69%\tTest Win Rate: 13.33%\tTest Mean Steps: 5.4000\n",
            "\n",
            "Episodes:  378\tTime: 1 s\tAgent Eps: 0.88\tTrain Win Rate: 4.80%\tTest Win Rate: 26.67%\tTest Mean Steps: 5.1333\n",
            "\n",
            "Episodes:  503\tTime: 2 s\tAgent Eps: 0.84\tTrain Win Rate: 10.40%\tTest Win Rate: 13.33%\tTest Mean Steps: 5.4667\n",
            "\n",
            "Episodes:  629\tTime: 2 s\tAgent Eps: 0.81\tTrain Win Rate: 14.29%\tTest Win Rate: 26.67%\tTest Mean Steps: 5.1333\n",
            "\n",
            "Episodes:  754\tTime: 3 s\tAgent Eps: 0.77\tTrain Win Rate: 17.60%\tTest Win Rate: 20.00%\tTest Mean Steps: 5.4000\n",
            "\n",
            "Episodes:  880\tTime: 3 s\tAgent Eps: 0.74\tTrain Win Rate: 19.05%\tTest Win Rate: 40.00%\tTest Mean Steps: 4.6667\n",
            "\n",
            "Episodes: 1005\tTime: 3 s\tAgent Eps: 0.71\tTrain Win Rate: 20.80%\tTest Win Rate: 60.00%\tTest Mean Steps: 4.2000\n"
          ]
        },
        {
          "data": {
            "text/plain": [
              "'testbed-15-100'"
            ]
          },
          "execution_count": 61,
          "metadata": {},
          "output_type": "execute_result"
        }
      ],
      "source": [
        "train(\n",
        "    data=data,\n",
        "    \n",
        "    n_episodes=1000,\n",
        "    n_episodes_warm=100,\n",
        "    \n",
        "    eps_start=1,\n",
        "    eps_end=0.01,\n",
        "    eps_decay=0.99954,\n",
        "\n",
        "    alpha=0,\n",
        "    rb_size=int(1e5),\n",
        "    method_name='testbed',\n",
        "    \n",
        "    n_envs=8,\n",
        "    optimize_interval=8,\n",
        "\n",
        "    agent_path=None\n",
        ")"
      ]
    },
    {
      "attachments": {},
      "cell_type": "markdown",
      "metadata": {},
      "source": [
        "## Train Letters"
      ]
    },
    {
      "cell_type": "code",
      "execution_count": null,
      "metadata": {},
      "outputs": [],
      "source": [
        "ohe_matrix = ActionLetters._make_ohe(vocabulary=wordle_list)\n",
        "rewards = {'repeat':-0.1, 'B':1, 'Y':1, 'G':1, 'win':10, 'lose':-10, 'step':-5}"
      ]
    },
    {
      "cell_type": "code",
      "execution_count": 62,
      "metadata": {},
      "outputs": [],
      "source": [
        "def train(**kwargs):\n",
        "    return exp_with_action('letters', rewards, ohe_matrix=ohe_matrix, wordle_list=wordle_list, **kwargs)"
      ]
    },
    {
      "cell_type": "code",
      "execution_count": 63,
      "metadata": {},
      "outputs": [
        {
          "name": "stdout",
          "output_type": "stream",
          "text": [
            "guesses: 100\n",
            "train answers: 15\n",
            "test answers: 15 (overfit strategy)\n",
            "augmented: 0\n"
          ]
        }
      ],
      "source": [
        "n_guesses = 100\n",
        "data = get_data(n_guesses, overfit=True)"
      ]
    },
    {
      "cell_type": "code",
      "execution_count": 64,
      "metadata": {},
      "outputs": [
        {
          "name": "stdout",
          "output_type": "stream",
          "text": [
            "Initial Test. \tWin Rate: 0.00%\tMean Steps: 6.0000\n"
          ]
        },
        {
          "data": {
            "application/vnd.jupyter.widget-view+json": {
              "model_id": "e25ed47e7bc64a9693f06bf5b240f43b",
              "version_major": 2,
              "version_minor": 0
            },
            "text/plain": [
              "TRAIN EPISODES:   0%|          | 0/1000 [00:00<?, ?it/s]"
            ]
          },
          "metadata": {},
          "output_type": "display_data"
        },
        {
          "name": "stdout",
          "output_type": "stream",
          "text": [
            "\n",
            "Episodes:  125\tTime: 0 s\tAgent Eps: 0.96\tTrain Win Rate: 8.00%\tTest Win Rate: 0.00%\tTest Mean Steps: 6.0000\n",
            "\n",
            "Episodes:  250\tTime: 1 s\tAgent Eps: 0.92\tTrain Win Rate: 5.60%\tTest Win Rate: 13.33%\tTest Mean Steps: 5.5333\n",
            "\n",
            "Episodes:  376\tTime: 1 s\tAgent Eps: 0.88\tTrain Win Rate: 10.32%\tTest Win Rate: 20.00%\tTest Mean Steps: 5.2667\n",
            "\n",
            "Episodes:  501\tTime: 2 s\tAgent Eps: 0.84\tTrain Win Rate: 22.40%\tTest Win Rate: 53.33%\tTest Mean Steps: 4.6667\n",
            "\n",
            "Episodes:  626\tTime: 2 s\tAgent Eps: 0.81\tTrain Win Rate: 15.20%\tTest Win Rate: 40.00%\tTest Mean Steps: 4.8000\n",
            "\n",
            "Episodes:  751\tTime: 3 s\tAgent Eps: 0.78\tTrain Win Rate: 18.40%\tTest Win Rate: 40.00%\tTest Mean Steps: 4.3333\n",
            "\n",
            "Episodes:  876\tTime: 3 s\tAgent Eps: 0.75\tTrain Win Rate: 40.00%\tTest Win Rate: 66.67%\tTest Mean Steps: 3.8000\n",
            "\n",
            "Episodes: 1003\tTime: 4 s\tAgent Eps: 0.72\tTrain Win Rate: 37.80%\tTest Win Rate: 73.33%\tTest Mean Steps: 3.7333\n"
          ]
        },
        {
          "data": {
            "text/plain": [
              "'test_aug-15-100'"
            ]
          },
          "execution_count": 64,
          "metadata": {},
          "output_type": "execute_result"
        }
      ],
      "source": [
        "train(\n",
        "    data=data,\n",
        "    \n",
        "    n_episodes=1000,\n",
        "    n_episodes_warm=100,\n",
        "    \n",
        "    eps_start=1,\n",
        "    eps_end=0.01,\n",
        "    eps_decay=0.99954,\n",
        "\n",
        "    alpha=0.4,\n",
        "    rb_size=int(1e5),\n",
        "    method_name='test_aug',\n",
        "    \n",
        "    n_envs=8,\n",
        "    optimize_interval=8,\n",
        "\n",
        "    agent_path=None\n",
        ")"
      ]
    },
    {
      "attachments": {},
      "cell_type": "markdown",
      "metadata": {},
      "source": [
        "## Train Comb Letters"
      ]
    },
    {
      "attachments": {},
      "cell_type": "markdown",
      "metadata": {},
      "source": [
        "### $k=1$"
      ]
    },
    {
      "cell_type": "code",
      "execution_count": 72,
      "metadata": {},
      "outputs": [
        {
          "name": "stdout",
          "output_type": "stream",
          "text": [
            "torch.Size([130, 12972]) torch.Size([4782, 12972])\n"
          ]
        }
      ],
      "source": [
        "ohe_matrix = ActionCombLetters._make_ohe(vocabulary=wordle_list, k=1)\n",
        "rewards = {'repeat':-0.1, 'B':1, 'Y':1, 'G':1, 'win':10, 'lose':-10, 'step':-5}\n",
        "\n",
        "print(ohe_matrix.shape)"
      ]
    },
    {
      "cell_type": "code",
      "execution_count": 73,
      "metadata": {},
      "outputs": [],
      "source": [
        "def train(**kwargs):\n",
        "    return exp_with_action('comb_letters', rewards, ohe_matrix=ohe_matrix, k=1, wordle_list=wordle_list, **kwargs)"
      ]
    },
    {
      "cell_type": "code",
      "execution_count": 74,
      "metadata": {},
      "outputs": [
        {
          "name": "stdout",
          "output_type": "stream",
          "text": [
            "guesses: 100\n",
            "train answers: 15\n",
            "test answers: 15 (overfit strategy)\n",
            "augmented: 0\n"
          ]
        }
      ],
      "source": [
        "n_guesses = 100\n",
        "data = get_data(n_guesses, overfit=True)"
      ]
    },
    {
      "cell_type": "code",
      "execution_count": 75,
      "metadata": {},
      "outputs": [
        {
          "name": "stdout",
          "output_type": "stream",
          "text": [
            "Initial Test. \tWin Rate: 0.00%\tMean Steps: 6.0000\n"
          ]
        },
        {
          "data": {
            "application/vnd.jupyter.widget-view+json": {
              "model_id": "9f55a02af8a2484b9a7861b433037c0b",
              "version_major": 2,
              "version_minor": 0
            },
            "text/plain": [
              "TRAIN EPISODES:   0%|          | 0/1000 [00:00<?, ?it/s]"
            ]
          },
          "metadata": {},
          "output_type": "display_data"
        },
        {
          "name": "stdout",
          "output_type": "stream",
          "text": [
            "\n",
            "Episodes:  125\tTime: 0 s\tAgent Eps: 0.91\tTrain Win Rate: 7.20%\tTest Win Rate: 6.67%\tTest Mean Steps: 5.6667\n",
            "\n",
            "Episodes:  250\tTime: 1 s\tAgent Eps: 0.83\tTrain Win Rate: 12.00%\tTest Win Rate: 20.00%\tTest Mean Steps: 5.5333\n",
            "\n",
            "Episodes:  375\tTime: 1 s\tAgent Eps: 0.76\tTrain Win Rate: 12.80%\tTest Win Rate: 33.33%\tTest Mean Steps: 4.8000\n",
            "\n",
            "Episodes:  500\tTime: 2 s\tAgent Eps: 0.70\tTrain Win Rate: 18.40%\tTest Win Rate: 40.00%\tTest Mean Steps: 4.4667\n",
            "\n",
            "Episodes:  625\tTime: 2 s\tAgent Eps: 0.64\tTrain Win Rate: 28.00%\tTest Win Rate: 40.00%\tTest Mean Steps: 4.6000\n",
            "\n",
            "Episodes:  751\tTime: 3 s\tAgent Eps: 0.59\tTrain Win Rate: 35.71%\tTest Win Rate: 60.00%\tTest Mean Steps: 4.0667\n",
            "\n",
            "Episodes:  877\tTime: 3 s\tAgent Eps: 0.54\tTrain Win Rate: 30.95%\tTest Win Rate: 60.00%\tTest Mean Steps: 4.4000\n",
            "\n",
            "Episodes: 1005\tTime: 3 s\tAgent Eps: 0.50\tTrain Win Rate: 50.78%\tTest Win Rate: 66.67%\tTest Mean Steps: 3.6667\n"
          ]
        },
        {
          "data": {
            "text/plain": [
              "'testbed-15-100 (2)'"
            ]
          },
          "execution_count": 75,
          "metadata": {},
          "output_type": "execute_result"
        }
      ],
      "source": [
        "train(\n",
        "    data=data,\n",
        "    \n",
        "    n_episodes=1000,\n",
        "    n_episodes_warm=10,\n",
        "    \n",
        "    eps_start=1,\n",
        "    eps_end=0.01,\n",
        "    eps_decay=0.999,\n",
        "    \n",
        "    alpha=0.4,\n",
        "    rb_size=int(1e6),\n",
        "    method_name='testbed',\n",
        "\n",
        "    n_envs=8,\n",
        "    optimize_interval=8,\n",
        "\n",
        "    agent_path=None\n",
        ")"
      ]
    },
    {
      "attachments": {},
      "cell_type": "markdown",
      "metadata": {},
      "source": [
        "### $k=2$"
      ]
    },
    {
      "cell_type": "code",
      "execution_count": null,
      "metadata": {},
      "outputs": [],
      "source": [
        "ohe_matrix = ActionCombLetters._make_ohe(vocabulary=wordle_list, k=2)\n",
        "rewards = {'repeat':-0.1, 'B':1, 'Y':1, 'G':1, 'win':10, 'lose':-10, 'step':-5}\n",
        "\n",
        "print(ohe_matrix.shape)"
      ]
    },
    {
      "cell_type": "code",
      "execution_count": 76,
      "metadata": {},
      "outputs": [],
      "source": [
        "def train(**kwargs):\n",
        "    return exp_with_action('comb_letters', rewards, ohe_matrix=ohe_matrix, k=2, wordle_list=wordle_list, **kwargs)"
      ]
    },
    {
      "cell_type": "code",
      "execution_count": 78,
      "metadata": {},
      "outputs": [
        {
          "name": "stdout",
          "output_type": "stream",
          "text": [
            "Initial Test. \tWin Rate: 13.33%\tMean Steps: 5.4000\n"
          ]
        },
        {
          "data": {
            "application/vnd.jupyter.widget-view+json": {
              "model_id": "84b0e7795a6e48a293b4caf5c233f866",
              "version_major": 2,
              "version_minor": 0
            },
            "text/plain": [
              "TRAIN EPISODES:   0%|          | 0/1000 [00:00<?, ?it/s]"
            ]
          },
          "metadata": {},
          "output_type": "display_data"
        },
        {
          "name": "stdout",
          "output_type": "stream",
          "text": [
            "\n",
            "Episodes:  128\tTime: 1 s\tAgent Eps: 0.96\tTrain Win Rate: 3.12%\tTest Win Rate: 6.67%\tTest Mean Steps: 5.7333\n",
            "\n",
            "Episodes:  253\tTime: 1 s\tAgent Eps: 0.92\tTrain Win Rate: 8.80%\tTest Win Rate: 20.00%\tTest Mean Steps: 5.2000\n",
            "\n",
            "Episodes:  378\tTime: 1 s\tAgent Eps: 0.88\tTrain Win Rate: 12.00%\tTest Win Rate: 20.00%\tTest Mean Steps: 5.2667\n",
            "\n",
            "Episodes:  504\tTime: 2 s\tAgent Eps: 0.84\tTrain Win Rate: 19.05%\tTest Win Rate: 20.00%\tTest Mean Steps: 5.1333\n",
            "\n",
            "Episodes:  629\tTime: 2 s\tAgent Eps: 0.81\tTrain Win Rate: 22.40%\tTest Win Rate: 66.67%\tTest Mean Steps: 4.2000\n",
            "\n",
            "Episodes:  754\tTime: 3 s\tAgent Eps: 0.78\tTrain Win Rate: 35.20%\tTest Win Rate: 66.67%\tTest Mean Steps: 3.9333\n",
            "\n",
            "Episodes:  880\tTime: 3 s\tAgent Eps: 0.75\tTrain Win Rate: 32.54%\tTest Win Rate: 66.67%\tTest Mean Steps: 3.9333\n",
            "\n",
            "Episodes: 1007\tTime: 4 s\tAgent Eps: 0.72\tTrain Win Rate: 49.61%\tTest Win Rate: 73.33%\tTest Mean Steps: 3.7333\n"
          ]
        },
        {
          "data": {
            "text/plain": [
              "'testbed-15-100 (4)'"
            ]
          },
          "execution_count": 78,
          "metadata": {},
          "output_type": "execute_result"
        }
      ],
      "source": [
        "train(\n",
        "    data=data,\n",
        "    \n",
        "    n_episodes=1000,\n",
        "    n_episodes_warm=10,\n",
        "    \n",
        "    eps_start=1,\n",
        "    eps_end=0.01,\n",
        "    eps_decay=0.99954,\n",
        "    \n",
        "    alpha=0.4,\n",
        "    rb_size=int(1e6),\n",
        "    method_name='testbed',\n",
        "\n",
        "    n_envs=8,\n",
        "    optimize_interval=8,\n",
        "\n",
        "    agent_path=None\n",
        ")"
      ]
    },
    {
      "attachments": {},
      "cell_type": "markdown",
      "metadata": {},
      "source": [
        "## Train Wagons"
      ]
    },
    {
      "attachments": {},
      "cell_type": "markdown",
      "metadata": {},
      "source": [
        "### $k=1$"
      ]
    },
    {
      "cell_type": "code",
      "execution_count": 36,
      "metadata": {},
      "outputs": [
        {
          "name": "stdout",
          "output_type": "stream",
          "text": [
            "torch.Size([130, 12972]) torch.Size([1155, 12972])\n"
          ]
        }
      ],
      "source": [
        "ohe_matrix = ActionWagons._make_ohe(vocabulary=wordle_list, k=1)\n",
        "rewards = {'repeat':-0.1, 'B':1, 'Y':1, 'G':1, 'win':10, 'lose':-10, 'step':-5}\n",
        "\n",
        "print(ohe_matrix.shape)"
      ]
    },
    {
      "cell_type": "code",
      "execution_count": 79,
      "metadata": {},
      "outputs": [],
      "source": [
        "def train(**kwargs):\n",
        "    return exp_with_action('wagons', rewards, ohe_matrix=ohe_matrix, k=1, wordle_list=wordle_list, **kwargs)"
      ]
    },
    {
      "cell_type": "code",
      "execution_count": 80,
      "metadata": {},
      "outputs": [
        {
          "name": "stdout",
          "output_type": "stream",
          "text": [
            "guesses: 100\n",
            "train answers: 15\n",
            "test answers: 15 (overfit strategy)\n",
            "augmented: 0\n"
          ]
        }
      ],
      "source": [
        "n_guesses = 100\n",
        "data = get_data(n_guesses, overfit=True)"
      ]
    },
    {
      "cell_type": "code",
      "execution_count": 82,
      "metadata": {},
      "outputs": [
        {
          "name": "stdout",
          "output_type": "stream",
          "text": [
            "Initial Test. \tWin Rate: 0.00%\tMean Steps: 6.0000\n"
          ]
        },
        {
          "data": {
            "application/vnd.jupyter.widget-view+json": {
              "model_id": "59c28d7177a1450a9e51454ea89bafc0",
              "version_major": 2,
              "version_minor": 0
            },
            "text/plain": [
              "TRAIN EPISODES:   0%|          | 0/1000 [00:00<?, ?it/s]"
            ]
          },
          "metadata": {},
          "output_type": "display_data"
        },
        {
          "name": "stdout",
          "output_type": "stream",
          "text": [
            "\n",
            "Episodes:  128\tTime: 0 s\tAgent Eps: 0.97\tTrain Win Rate: 2.34%\tTest Win Rate: 13.33%\tTest Mean Steps: 5.4000\n",
            "\n",
            "Episodes:  253\tTime: 1 s\tAgent Eps: 0.93\tTrain Win Rate: 8.80%\tTest Win Rate: 6.67%\tTest Mean Steps: 5.6667\n",
            "\n",
            "Episodes:  378\tTime: 1 s\tAgent Eps: 0.90\tTrain Win Rate: 9.60%\tTest Win Rate: 13.33%\tTest Mean Steps: 5.4667\n",
            "\n",
            "Episodes:  504\tTime: 2 s\tAgent Eps: 0.87\tTrain Win Rate: 13.49%\tTest Win Rate: 46.67%\tTest Mean Steps: 4.6667\n",
            "\n",
            "Episodes:  630\tTime: 2 s\tAgent Eps: 0.84\tTrain Win Rate: 19.84%\tTest Win Rate: 46.67%\tTest Mean Steps: 4.8000\n",
            "\n",
            "Episodes:  755\tTime: 3 s\tAgent Eps: 0.82\tTrain Win Rate: 20.80%\tTest Win Rate: 66.67%\tTest Mean Steps: 3.9333\n",
            "\n",
            "Episodes:  882\tTime: 3 s\tAgent Eps: 0.79\tTrain Win Rate: 23.62%\tTest Win Rate: 53.33%\tTest Mean Steps: 4.2667\n",
            "\n",
            "Episodes: 1008\tTime: 3 s\tAgent Eps: 0.77\tTrain Win Rate: 30.16%\tTest Win Rate: 60.00%\tTest Mean Steps: 4.0667\n"
          ]
        },
        {
          "data": {
            "text/plain": [
              "'testbed-15-100 (6)'"
            ]
          },
          "execution_count": 82,
          "metadata": {},
          "output_type": "execute_result"
        }
      ],
      "source": [
        "train(\n",
        "    data=data,\n",
        "    \n",
        "    n_episodes=1000,\n",
        "    n_episodes_warm=10,\n",
        "    \n",
        "    eps_start=1,\n",
        "    eps_end=0.01,\n",
        "    eps_decay=0.99964,\n",
        "    \n",
        "    alpha=0.4,\n",
        "    rb_size=int(1e6),\n",
        "    method_name='testbed',\n",
        "\n",
        "    n_envs=8,\n",
        "    optimize_interval=8,\n",
        "\n",
        "    agent_path=None\n",
        ")"
      ]
    },
    {
      "attachments": {},
      "cell_type": "markdown",
      "metadata": {},
      "source": [
        "### $k=2$"
      ]
    },
    {
      "cell_type": "code",
      "execution_count": null,
      "metadata": {},
      "outputs": [],
      "source": [
        "ohe2 = ActionWagons._make_ohe(vocabulary=wordle_list, k=2)\n",
        "rewards = {'repeat':-0.1, 'B':1, 'Y':1, 'G':1, 'win':10, 'lose':-10, 'step':-5}\n",
        "\n",
        "print(ohe_matrix.shape)"
      ]
    },
    {
      "cell_type": "code",
      "execution_count": 83,
      "metadata": {},
      "outputs": [],
      "source": [
        "def train(**kwargs):\n",
        "    return exp_with_action('wagons', rewards, ohe_matrix=ohe2, k=2, wordle_list=wordle_list, **kwargs)"
      ]
    },
    {
      "cell_type": "code",
      "execution_count": 85,
      "metadata": {},
      "outputs": [
        {
          "name": "stdout",
          "output_type": "stream",
          "text": [
            "Initial Test. \tWin Rate: 0.00%\tMean Steps: 6.0000\n"
          ]
        },
        {
          "data": {
            "application/vnd.jupyter.widget-view+json": {
              "model_id": "d318b590dc6f48a08513d946498355c7",
              "version_major": 2,
              "version_minor": 0
            },
            "text/plain": [
              "TRAIN EPISODES:   0%|          | 0/1000 [00:00<?, ?it/s]"
            ]
          },
          "metadata": {},
          "output_type": "display_data"
        },
        {
          "name": "stdout",
          "output_type": "stream",
          "text": [
            "\n",
            "Episodes:  125\tTime: 1 s\tAgent Eps: 0.91\tTrain Win Rate: 8.80%\tTest Win Rate: 6.67%\tTest Mean Steps: 5.7333\n",
            "\n",
            "Episodes:  251\tTime: 1 s\tAgent Eps: 0.83\tTrain Win Rate: 11.11%\tTest Win Rate: 33.33%\tTest Mean Steps: 4.8000\n",
            "\n",
            "Episodes:  376\tTime: 1 s\tAgent Eps: 0.76\tTrain Win Rate: 21.60%\tTest Win Rate: 40.00%\tTest Mean Steps: 4.7333\n",
            "\n",
            "Episodes:  503\tTime: 2 s\tAgent Eps: 0.69\tTrain Win Rate: 22.83%\tTest Win Rate: 40.00%\tTest Mean Steps: 4.4000\n",
            "\n",
            "Episodes:  628\tTime: 2 s\tAgent Eps: 0.64\tTrain Win Rate: 27.20%\tTest Win Rate: 60.00%\tTest Mean Steps: 3.7333\n",
            "\n",
            "Episodes:  755\tTime: 3 s\tAgent Eps: 0.59\tTrain Win Rate: 49.61%\tTest Win Rate: 46.67%\tTest Mean Steps: 4.4667\n",
            "\n",
            "Episodes:  880\tTime: 3 s\tAgent Eps: 0.55\tTrain Win Rate: 50.40%\tTest Win Rate: 60.00%\tTest Mean Steps: 4.0000\n",
            "\n",
            "Episodes: 1008\tTime: 4 s\tAgent Eps: 0.50\tTrain Win Rate: 47.66%\tTest Win Rate: 66.67%\tTest Mean Steps: 3.8667\n"
          ]
        },
        {
          "data": {
            "text/plain": [
              "'testbed-15-100 (8)'"
            ]
          },
          "execution_count": 85,
          "metadata": {},
          "output_type": "execute_result"
        }
      ],
      "source": [
        "train(\n",
        "    data=data,\n",
        "    \n",
        "    n_episodes=1000,\n",
        "    n_episodes_warm=10,\n",
        "    \n",
        "    eps_start=1,\n",
        "    eps_end=0.01,\n",
        "    eps_decay=0.999,\n",
        "    \n",
        "    alpha=0.4,\n",
        "    rb_size=int(1e6),\n",
        "    method_name='testbed',\n",
        "\n",
        "    n_envs=8,\n",
        "    optimize_interval=8,\n",
        "\n",
        "    agent_path=None\n",
        ")"
      ]
    },
    {
      "attachments": {},
      "cell_type": "markdown",
      "metadata": {},
      "source": [
        "## Dordle"
      ]
    },
    {
      "cell_type": "code",
      "execution_count": 8,
      "metadata": {},
      "outputs": [
        {
          "name": "stdout",
          "output_type": "stream",
          "text": [
            "torch.Size([130, 12972])\n"
          ]
        }
      ],
      "source": [
        "ohe_matrix = ActionLetters._make_ohe(vocabulary=wordle_list)\n",
        "rewards = {'repeat': -0.1, 'B':1, 'Y':1, 'G':1, 'win':10, 'lose':-10, 'step':-5}\n",
        "\n",
        "print(ohe_matrix.shape)"
      ]
    },
    {
      "cell_type": "code",
      "execution_count": 9,
      "metadata": {},
      "outputs": [],
      "source": [
        "def get_data(n_guesses, n_boards):\n",
        "    return get_dordle_data(n_guesses, n_boards, guesses, indices, in_answers)\n",
        "\n",
        "def train(**kwargs):\n",
        "    return play_dordle(rewards, ohe_matrix, wordle_list, **kwargs)"
      ]
    },
    {
      "cell_type": "code",
      "execution_count": 10,
      "metadata": {},
      "outputs": [
        {
          "name": "stdout",
          "output_type": "stream",
          "text": [
            "guesses: 500\n",
            "answers: 89\n"
          ]
        }
      ],
      "source": [
        "n_boards = 2\n",
        "data = get_data(n_guesses=500, n_boards=n_boards)"
      ]
    },
    {
      "cell_type": "code",
      "execution_count": 13,
      "metadata": {},
      "outputs": [
        {
          "ename": "IndexError",
          "evalue": "list assignment index out of range",
          "output_type": "error",
          "traceback": [
            "\u001b[0;31m---------------------------------------------------------------------------\u001b[0m",
            "\u001b[0;31mIndexError\u001b[0m                                Traceback (most recent call last)",
            "Cell \u001b[0;32mIn[13], line 1\u001b[0m\n\u001b[0;32m----> 1\u001b[0m train(\n\u001b[1;32m      2\u001b[0m     data\u001b[39m=\u001b[39;49mdata,\n\u001b[1;32m      3\u001b[0m     \n\u001b[1;32m      4\u001b[0m     n_episodes\u001b[39m=\u001b[39;49m\u001b[39m1000\u001b[39;49m,\n\u001b[1;32m      5\u001b[0m     n_episodes_warm\u001b[39m=\u001b[39;49m\u001b[39m10\u001b[39;49m,\n\u001b[1;32m      6\u001b[0m     \n\u001b[1;32m      7\u001b[0m     eps_start\u001b[39m=\u001b[39;49m\u001b[39m1\u001b[39;49m,\n\u001b[1;32m      8\u001b[0m     eps_end\u001b[39m=\u001b[39;49m\u001b[39m0.01\u001b[39;49m,\n\u001b[1;32m      9\u001b[0m     eps_decay\u001b[39m=\u001b[39;49m\u001b[39m0.999\u001b[39;49m,\n\u001b[1;32m     10\u001b[0m     \n\u001b[1;32m     11\u001b[0m     alpha\u001b[39m=\u001b[39;49m\u001b[39m0.4\u001b[39;49m,\n\u001b[1;32m     12\u001b[0m     rb_size\u001b[39m=\u001b[39;49m\u001b[39mint\u001b[39;49m(\u001b[39m1e6\u001b[39;49m),\n\u001b[1;32m     13\u001b[0m     method_name\u001b[39m=\u001b[39;49m\u001b[39m'\u001b[39;49m\u001b[39mdordle_testbed\u001b[39;49m\u001b[39m'\u001b[39;49m,\n\u001b[1;32m     14\u001b[0m \n\u001b[1;32m     15\u001b[0m     n_envs\u001b[39m=\u001b[39;49m\u001b[39m8\u001b[39;49m,\n\u001b[1;32m     16\u001b[0m     optimize_interval\u001b[39m=\u001b[39;49m\u001b[39m8\u001b[39;49m,\n\u001b[1;32m     17\u001b[0m \n\u001b[1;32m     18\u001b[0m     agent_path\u001b[39m=\u001b[39;49m\u001b[39mNone\u001b[39;49;00m\n\u001b[1;32m     19\u001b[0m )\n",
            "Cell \u001b[0;32mIn[9], line 5\u001b[0m, in \u001b[0;36mtrain\u001b[0;34m(**kwargs)\u001b[0m\n\u001b[1;32m      4\u001b[0m \u001b[39mdef\u001b[39;00m \u001b[39mtrain\u001b[39m(\u001b[39m*\u001b[39m\u001b[39m*\u001b[39mkwargs):\n\u001b[0;32m----> 5\u001b[0m     \u001b[39mreturn\u001b[39;00m play_dordle(rewards, ohe_matrix, wordle_list, \u001b[39m*\u001b[39;49m\u001b[39m*\u001b[39;49mkwargs)\n",
            "File \u001b[0;32m~/repos/wordle-rl/dqn/train.py:536\u001b[0m, in \u001b[0;36mplay_dordle\u001b[0;34m(rewards, ohe_matrix, wordle_list, eps_start, eps_end, eps_decay, rb_size, n_letters, n_steps, lr, alpha, logging_interval, fine_tune, backbone_path, method_name, data, n_envs, optimize_interval, agent_path, n_episodes, n_episodes_warm)\u001b[0m\n\u001b[1;32m    521\u001b[0m \u001b[39m# training and evaluating utilities\u001b[39;00m\n\u001b[1;32m    522\u001b[0m trainer \u001b[39m=\u001b[39m RLFramework(\n\u001b[1;32m    523\u001b[0m     agent\u001b[39m=\u001b[39magent,\n\u001b[1;32m    524\u001b[0m     train_env\u001b[39m=\u001b[39mtrain_env_list,\n\u001b[0;32m   (...)\u001b[0m\n\u001b[1;32m    533\u001b[0m     eps_decay\u001b[39m=\u001b[39meps_decay\n\u001b[1;32m    534\u001b[0m )\n\u001b[0;32m--> 536\u001b[0m trainer\u001b[39m.\u001b[39;49mtrain()\n\u001b[1;32m    538\u001b[0m \u001b[39mreturn\u001b[39;00m trainer\u001b[39m.\u001b[39mnickname\n",
            "File \u001b[0;32m~/repos/wordle-rl/dqn/train.py:90\u001b[0m, in \u001b[0;36mRLFramework.train\u001b[0;34m(self)\u001b[0m\n\u001b[1;32m     88\u001b[0m \u001b[39mself\u001b[39m\u001b[39m.\u001b[39magent\u001b[39m.\u001b[39meps \u001b[39m=\u001b[39m \u001b[39m1\u001b[39m\n\u001b[1;32m     89\u001b[0m \u001b[39mself\u001b[39m\u001b[39m.\u001b[39magent\u001b[39m.\u001b[39meval \u001b[39m=\u001b[39m \u001b[39mTrue\u001b[39;00m\n\u001b[0;32m---> 90\u001b[0m \u001b[39mself\u001b[39;49m\u001b[39m.\u001b[39;49mplay_train(\u001b[39mself\u001b[39;49m\u001b[39m.\u001b[39;49mn_episodes_warm)\n\u001b[1;32m     92\u001b[0m \u001b[39m# ======= TRAINING =======\u001b[39;00m\n\u001b[1;32m     93\u001b[0m \n\u001b[1;32m     94\u001b[0m \u001b[39m# firstly, test initial agent\u001b[39;00m\n\u001b[1;32m     95\u001b[0m \u001b[39mself\u001b[39m\u001b[39m.\u001b[39magent\u001b[39m.\u001b[39meval \u001b[39m=\u001b[39m \u001b[39mTrue\u001b[39;00m\n",
            "File \u001b[0;32m~/repos/wordle-rl/dqn/train.py:159\u001b[0m, in \u001b[0;36mRLFramework.play_train\u001b[0;34m(self, epoch_size, pbar, output)\u001b[0m\n\u001b[1;32m    155\u001b[0m actions \u001b[39m=\u001b[39m \u001b[39mself\u001b[39m\u001b[39m.\u001b[39magent\u001b[39m.\u001b[39mact_batch(states)\n\u001b[1;32m    157\u001b[0m \u001b[39mfor\u001b[39;00m i, action \u001b[39min\u001b[39;00m \u001b[39menumerate\u001b[39m(actions):\n\u001b[1;32m    158\u001b[0m     \u001b[39m# send action to env\u001b[39;00m\n\u001b[0;32m--> 159\u001b[0m     next_state, reward, done \u001b[39m=\u001b[39m \u001b[39mself\u001b[39;49m\u001b[39m.\u001b[39;49mtrain_env_list[i]\u001b[39m.\u001b[39;49mstep(action, output)\n\u001b[1;32m    161\u001b[0m     \u001b[39m# collect stats\u001b[39;00m\n\u001b[1;32m    162\u001b[0m     \u001b[39mself\u001b[39m\u001b[39m.\u001b[39mtrain_env_list[i]\u001b[39m.\u001b[39mscore \u001b[39m+\u001b[39m\u001b[39m=\u001b[39m reward\n",
            "File \u001b[0;32m~/repos/wordle-rl/environment/environment.py:256\u001b[0m, in \u001b[0;36mEnvironment.step\u001b[0;34m(self, action, output)\u001b[0m\n\u001b[1;32m    253\u001b[0m guess \u001b[39m=\u001b[39m action\u001b[39m.\u001b[39mword\n\u001b[1;32m    255\u001b[0m \u001b[39m# send guess to Wordle instance\u001b[39;00m\n\u001b[0;32m--> 256\u001b[0m pattern \u001b[39m=\u001b[39m \u001b[39mself\u001b[39;49m\u001b[39m.\u001b[39;49mgame\u001b[39m.\u001b[39;49msend_guess(guess, output)\n\u001b[1;32m    258\u001b[0m \u001b[39m# compute reward from pattern\u001b[39;00m\n\u001b[1;32m    259\u001b[0m reward \u001b[39m=\u001b[39m \u001b[39mself\u001b[39m\u001b[39m.\u001b[39m_reward(guess, pattern)\n",
            "File \u001b[0;32m~/repos/wordle-rl/wordle/wordle.py:215\u001b[0m, in \u001b[0;36mDordle.send_guess\u001b[0;34m(self, guess, output)\u001b[0m\n\u001b[1;32m    213\u001b[0m \u001b[39mfor\u001b[39;00m i, board \u001b[39min\u001b[39;00m \u001b[39menumerate\u001b[39m(\u001b[39mself\u001b[39m\u001b[39m.\u001b[39mboards_list):\n\u001b[1;32m    214\u001b[0m     \u001b[39mif\u001b[39;00m \u001b[39mnot\u001b[39;00m board\u001b[39m.\u001b[39misover():\n\u001b[0;32m--> 215\u001b[0m         pattern_list[i] \u001b[39m=\u001b[39m board\u001b[39m.\u001b[39msend_guess(guess)\n\u001b[1;32m    217\u001b[0m \u001b[39m# which boards are won\u001b[39;00m\n\u001b[1;32m    218\u001b[0m done_list \u001b[39m=\u001b[39m [board\u001b[39m.\u001b[39misover() \u001b[39mfor\u001b[39;00m board \u001b[39min\u001b[39;00m \u001b[39mself\u001b[39m\u001b[39m.\u001b[39mboards_list]\n",
            "\u001b[0;31mIndexError\u001b[0m: list assignment index out of range"
          ]
        }
      ],
      "source": [
        "train(\n",
        "    data=data,\n",
        "    \n",
        "    n_episodes=1000,\n",
        "    n_episodes_warm=10,\n",
        "    \n",
        "    eps_start=1,\n",
        "    eps_end=0.01,\n",
        "    eps_decay=0.999,\n",
        "    \n",
        "    alpha=0.4,\n",
        "    rb_size=int(1e6),\n",
        "    method_name='dordle_testbed',\n",
        "\n",
        "    n_envs=8,\n",
        "    optimize_interval=8,\n",
        "\n",
        "    agent_path=None\n",
        ")"
      ]
    },
    {
      "attachments": {},
      "cell_type": "markdown",
      "metadata": {},
      "source": [
        "## More Letters"
      ]
    },
    {
      "cell_type": "code",
      "execution_count": null,
      "metadata": {},
      "outputs": [],
      "source": []
    }
  ],
  "metadata": {
    "accelerator": "GPU",
    "colab": {
      "provenance": []
    },
    "gpuClass": "standard",
    "kernelspec": {
      "display_name": "Python 3",
      "name": "python3"
    },
    "language_info": {
      "codemirror_mode": {
        "name": "ipython",
        "version": 3
      },
      "file_extension": ".py",
      "mimetype": "text/x-python",
      "name": "python",
      "nbconvert_exporter": "python",
      "pygments_lexer": "ipython3",
      "version": "3.10.6"
    },
    "widgets": {
      "application/vnd.jupyter.widget-state+json": {
        "029c4b37622944759c147068bed24792": {
          "model_module": "@jupyter-widgets/controls",
          "model_module_version": "1.5.0",
          "model_name": "HTMLModel",
          "state": {
            "_dom_classes": [],
            "_model_module": "@jupyter-widgets/controls",
            "_model_module_version": "1.5.0",
            "_model_name": "HTMLModel",
            "_view_count": null,
            "_view_module": "@jupyter-widgets/controls",
            "_view_module_version": "1.5.0",
            "_view_name": "HTMLView",
            "description": "",
            "description_tooltip": null,
            "layout": "IPY_MODEL_09939c33f29e42f7851de2371a990fbd",
            "placeholder": "​",
            "style": "IPY_MODEL_73b16c2040be4bf6bb33a5ddd6b9da10",
            "value": " 10/10 [00:00&lt;00:00, 44.20it/s]"
          }
        },
        "02d0a4dfa03d4c419cea2b2209685509": {
          "model_module": "@jupyter-widgets/base",
          "model_module_version": "1.2.0",
          "model_name": "LayoutModel",
          "state": {
            "_model_module": "@jupyter-widgets/base",
            "_model_module_version": "1.2.0",
            "_model_name": "LayoutModel",
            "_view_count": null,
            "_view_module": "@jupyter-widgets/base",
            "_view_module_version": "1.2.0",
            "_view_name": "LayoutView",
            "align_content": null,
            "align_items": null,
            "align_self": null,
            "border": null,
            "bottom": null,
            "display": null,
            "flex": null,
            "flex_flow": null,
            "grid_area": null,
            "grid_auto_columns": null,
            "grid_auto_flow": null,
            "grid_auto_rows": null,
            "grid_column": null,
            "grid_gap": null,
            "grid_row": null,
            "grid_template_areas": null,
            "grid_template_columns": null,
            "grid_template_rows": null,
            "height": null,
            "justify_content": null,
            "justify_items": null,
            "left": null,
            "margin": null,
            "max_height": null,
            "max_width": null,
            "min_height": null,
            "min_width": null,
            "object_fit": null,
            "object_position": null,
            "order": null,
            "overflow": null,
            "overflow_x": null,
            "overflow_y": null,
            "padding": null,
            "right": null,
            "top": null,
            "visibility": null,
            "width": null
          }
        },
        "0371bcd8cd6d4fdc9c4291d693e0cf87": {
          "model_module": "@jupyter-widgets/base",
          "model_module_version": "1.2.0",
          "model_name": "LayoutModel",
          "state": {
            "_model_module": "@jupyter-widgets/base",
            "_model_module_version": "1.2.0",
            "_model_name": "LayoutModel",
            "_view_count": null,
            "_view_module": "@jupyter-widgets/base",
            "_view_module_version": "1.2.0",
            "_view_name": "LayoutView",
            "align_content": null,
            "align_items": null,
            "align_self": null,
            "border": null,
            "bottom": null,
            "display": null,
            "flex": null,
            "flex_flow": null,
            "grid_area": null,
            "grid_auto_columns": null,
            "grid_auto_flow": null,
            "grid_auto_rows": null,
            "grid_column": null,
            "grid_gap": null,
            "grid_row": null,
            "grid_template_areas": null,
            "grid_template_columns": null,
            "grid_template_rows": null,
            "height": null,
            "justify_content": null,
            "justify_items": null,
            "left": null,
            "margin": null,
            "max_height": null,
            "max_width": null,
            "min_height": null,
            "min_width": null,
            "object_fit": null,
            "object_position": null,
            "order": null,
            "overflow": null,
            "overflow_x": null,
            "overflow_y": null,
            "padding": null,
            "right": null,
            "top": null,
            "visibility": null,
            "width": "20px"
          }
        },
        "06a865269d0f4120be715f0ff2e967d5": {
          "model_module": "@jupyter-widgets/base",
          "model_module_version": "1.2.0",
          "model_name": "LayoutModel",
          "state": {
            "_model_module": "@jupyter-widgets/base",
            "_model_module_version": "1.2.0",
            "_model_name": "LayoutModel",
            "_view_count": null,
            "_view_module": "@jupyter-widgets/base",
            "_view_module_version": "1.2.0",
            "_view_name": "LayoutView",
            "align_content": null,
            "align_items": null,
            "align_self": null,
            "border": null,
            "bottom": null,
            "display": null,
            "flex": null,
            "flex_flow": null,
            "grid_area": null,
            "grid_auto_columns": null,
            "grid_auto_flow": null,
            "grid_auto_rows": null,
            "grid_column": null,
            "grid_gap": null,
            "grid_row": null,
            "grid_template_areas": null,
            "grid_template_columns": null,
            "grid_template_rows": null,
            "height": null,
            "justify_content": null,
            "justify_items": null,
            "left": null,
            "margin": null,
            "max_height": null,
            "max_width": null,
            "min_height": null,
            "min_width": null,
            "object_fit": null,
            "object_position": null,
            "order": null,
            "overflow": null,
            "overflow_x": null,
            "overflow_y": null,
            "padding": null,
            "right": null,
            "top": null,
            "visibility": null,
            "width": null
          }
        },
        "09939c33f29e42f7851de2371a990fbd": {
          "model_module": "@jupyter-widgets/base",
          "model_module_version": "1.2.0",
          "model_name": "LayoutModel",
          "state": {
            "_model_module": "@jupyter-widgets/base",
            "_model_module_version": "1.2.0",
            "_model_name": "LayoutModel",
            "_view_count": null,
            "_view_module": "@jupyter-widgets/base",
            "_view_module_version": "1.2.0",
            "_view_name": "LayoutView",
            "align_content": null,
            "align_items": null,
            "align_self": null,
            "border": null,
            "bottom": null,
            "display": null,
            "flex": null,
            "flex_flow": null,
            "grid_area": null,
            "grid_auto_columns": null,
            "grid_auto_flow": null,
            "grid_auto_rows": null,
            "grid_column": null,
            "grid_gap": null,
            "grid_row": null,
            "grid_template_areas": null,
            "grid_template_columns": null,
            "grid_template_rows": null,
            "height": null,
            "justify_content": null,
            "justify_items": null,
            "left": null,
            "margin": null,
            "max_height": null,
            "max_width": null,
            "min_height": null,
            "min_width": null,
            "object_fit": null,
            "object_position": null,
            "order": null,
            "overflow": null,
            "overflow_x": null,
            "overflow_y": null,
            "padding": null,
            "right": null,
            "top": null,
            "visibility": null,
            "width": null
          }
        },
        "0a35a216e4334a4f81863bc869950fda": {
          "model_module": "@jupyter-widgets/controls",
          "model_module_version": "1.5.0",
          "model_name": "HTMLModel",
          "state": {
            "_dom_classes": [],
            "_model_module": "@jupyter-widgets/controls",
            "_model_module_version": "1.5.0",
            "_model_name": "HTMLModel",
            "_view_count": null,
            "_view_module": "@jupyter-widgets/controls",
            "_view_module_version": "1.5.0",
            "_view_name": "HTMLView",
            "description": "",
            "description_tooltip": null,
            "layout": "IPY_MODEL_8446e4a628e84ef09153dcf38ef5b60c",
            "placeholder": "​",
            "style": "IPY_MODEL_423c5ce32ab74280810593c03e52b475",
            "value": "TRAIN BATCHES: 100%"
          }
        },
        "0b176f9798404e1fa94550cec2638825": {
          "model_module": "@jupyter-widgets/base",
          "model_module_version": "1.2.0",
          "model_name": "LayoutModel",
          "state": {
            "_model_module": "@jupyter-widgets/base",
            "_model_module_version": "1.2.0",
            "_model_name": "LayoutModel",
            "_view_count": null,
            "_view_module": "@jupyter-widgets/base",
            "_view_module_version": "1.2.0",
            "_view_name": "LayoutView",
            "align_content": null,
            "align_items": null,
            "align_self": null,
            "border": null,
            "bottom": null,
            "display": null,
            "flex": null,
            "flex_flow": null,
            "grid_area": null,
            "grid_auto_columns": null,
            "grid_auto_flow": null,
            "grid_auto_rows": null,
            "grid_column": null,
            "grid_gap": null,
            "grid_row": null,
            "grid_template_areas": null,
            "grid_template_columns": null,
            "grid_template_rows": null,
            "height": null,
            "justify_content": null,
            "justify_items": null,
            "left": null,
            "margin": null,
            "max_height": null,
            "max_width": null,
            "min_height": null,
            "min_width": null,
            "object_fit": null,
            "object_position": null,
            "order": null,
            "overflow": null,
            "overflow_x": null,
            "overflow_y": null,
            "padding": null,
            "right": null,
            "top": null,
            "visibility": null,
            "width": null
          }
        },
        "0d0f017d178a470aa9a648c668115bfd": {
          "model_module": "@jupyter-widgets/controls",
          "model_module_version": "1.5.0",
          "model_name": "HTMLModel",
          "state": {
            "_dom_classes": [],
            "_model_module": "@jupyter-widgets/controls",
            "_model_module_version": "1.5.0",
            "_model_name": "HTMLModel",
            "_view_count": null,
            "_view_module": "@jupyter-widgets/controls",
            "_view_module_version": "1.5.0",
            "_view_name": "HTMLView",
            "description": "",
            "description_tooltip": null,
            "layout": "IPY_MODEL_225d93e8054b4a22a2fc350eb5af7637",
            "placeholder": "​",
            "style": "IPY_MODEL_29ab7cbb4dcb4faf9a293d9d3292f229",
            "value": "WARM BATCHES: "
          }
        },
        "0da5258ac8e547deb1f3f8c2fd0c9503": {
          "model_module": "@jupyter-widgets/controls",
          "model_module_version": "1.5.0",
          "model_name": "HTMLModel",
          "state": {
            "_dom_classes": [],
            "_model_module": "@jupyter-widgets/controls",
            "_model_module_version": "1.5.0",
            "_model_name": "HTMLModel",
            "_view_count": null,
            "_view_module": "@jupyter-widgets/controls",
            "_view_module_version": "1.5.0",
            "_view_name": "HTMLView",
            "description": "",
            "description_tooltip": null,
            "layout": "IPY_MODEL_bf46da36e3cb4c189051526807013d77",
            "placeholder": "​",
            "style": "IPY_MODEL_ba4fb6305ae044f9a4bd5480e6b923d8",
            "value": "WARM BATCHES: "
          }
        },
        "1243ed48b1254e23b0bac76da5a4909e": {
          "model_module": "@jupyter-widgets/base",
          "model_module_version": "1.2.0",
          "model_name": "LayoutModel",
          "state": {
            "_model_module": "@jupyter-widgets/base",
            "_model_module_version": "1.2.0",
            "_model_name": "LayoutModel",
            "_view_count": null,
            "_view_module": "@jupyter-widgets/base",
            "_view_module_version": "1.2.0",
            "_view_name": "LayoutView",
            "align_content": null,
            "align_items": null,
            "align_self": null,
            "border": null,
            "bottom": null,
            "display": null,
            "flex": null,
            "flex_flow": null,
            "grid_area": null,
            "grid_auto_columns": null,
            "grid_auto_flow": null,
            "grid_auto_rows": null,
            "grid_column": null,
            "grid_gap": null,
            "grid_row": null,
            "grid_template_areas": null,
            "grid_template_columns": null,
            "grid_template_rows": null,
            "height": null,
            "justify_content": null,
            "justify_items": null,
            "left": null,
            "margin": null,
            "max_height": null,
            "max_width": null,
            "min_height": null,
            "min_width": null,
            "object_fit": null,
            "object_position": null,
            "order": null,
            "overflow": null,
            "overflow_x": null,
            "overflow_y": null,
            "padding": null,
            "right": null,
            "top": null,
            "visibility": null,
            "width": null
          }
        },
        "1334b330e3ab4c7abccf8fdd805468ae": {
          "model_module": "@jupyter-widgets/controls",
          "model_module_version": "1.5.0",
          "model_name": "HTMLModel",
          "state": {
            "_dom_classes": [],
            "_model_module": "@jupyter-widgets/controls",
            "_model_module_version": "1.5.0",
            "_model_name": "HTMLModel",
            "_view_count": null,
            "_view_module": "@jupyter-widgets/controls",
            "_view_module_version": "1.5.0",
            "_view_name": "HTMLView",
            "description": "",
            "description_tooltip": null,
            "layout": "IPY_MODEL_0b176f9798404e1fa94550cec2638825",
            "placeholder": "​",
            "style": "IPY_MODEL_c8cbd52f44a64e1d8d0987f519c89705",
            "value": "WARM BATCHES: 100%"
          }
        },
        "144b2c88377948e5876879481b20cd40": {
          "model_module": "@jupyter-widgets/controls",
          "model_module_version": "1.5.0",
          "model_name": "DescriptionStyleModel",
          "state": {
            "_model_module": "@jupyter-widgets/controls",
            "_model_module_version": "1.5.0",
            "_model_name": "DescriptionStyleModel",
            "_view_count": null,
            "_view_module": "@jupyter-widgets/base",
            "_view_module_version": "1.2.0",
            "_view_name": "StyleView",
            "description_width": ""
          }
        },
        "147e37eb5d394397b8aa74e6a48fa1a8": {
          "model_module": "@jupyter-widgets/controls",
          "model_module_version": "1.5.0",
          "model_name": "HBoxModel",
          "state": {
            "_dom_classes": [],
            "_model_module": "@jupyter-widgets/controls",
            "_model_module_version": "1.5.0",
            "_model_name": "HBoxModel",
            "_view_count": null,
            "_view_module": "@jupyter-widgets/controls",
            "_view_module_version": "1.5.0",
            "_view_name": "HBoxView",
            "box_style": "",
            "children": [
              "IPY_MODEL_0d0f017d178a470aa9a648c668115bfd",
              "IPY_MODEL_8644dc57dbc749e9baba72ebb04e1eff",
              "IPY_MODEL_dd8c8899bc3647b2aca4fe2b27c0e53b"
            ],
            "layout": "IPY_MODEL_ab42915696894774bb4fbe1ec65832da"
          }
        },
        "151b1376cc6f4452ae6bae343b93dc82": {
          "model_module": "@jupyter-widgets/controls",
          "model_module_version": "1.5.0",
          "model_name": "DescriptionStyleModel",
          "state": {
            "_model_module": "@jupyter-widgets/controls",
            "_model_module_version": "1.5.0",
            "_model_name": "DescriptionStyleModel",
            "_view_count": null,
            "_view_module": "@jupyter-widgets/base",
            "_view_module_version": "1.2.0",
            "_view_name": "StyleView",
            "description_width": ""
          }
        },
        "20494ef8ebb146b1ad05f41c8560c374": {
          "model_module": "@jupyter-widgets/controls",
          "model_module_version": "1.5.0",
          "model_name": "FloatProgressModel",
          "state": {
            "_dom_classes": [],
            "_model_module": "@jupyter-widgets/controls",
            "_model_module_version": "1.5.0",
            "_model_name": "FloatProgressModel",
            "_view_count": null,
            "_view_module": "@jupyter-widgets/controls",
            "_view_module_version": "1.5.0",
            "_view_name": "ProgressView",
            "bar_style": "success",
            "description": "",
            "description_tooltip": null,
            "layout": "IPY_MODEL_0371bcd8cd6d4fdc9c4291d693e0cf87",
            "max": 1,
            "min": 0,
            "orientation": "horizontal",
            "style": "IPY_MODEL_c5a073860bc64be5b3be84cd0bd8eadb",
            "value": 0
          }
        },
        "221e50fd2c2b45cab1997c87954bef34": {
          "model_module": "@jupyter-widgets/controls",
          "model_module_version": "1.5.0",
          "model_name": "DescriptionStyleModel",
          "state": {
            "_model_module": "@jupyter-widgets/controls",
            "_model_module_version": "1.5.0",
            "_model_name": "DescriptionStyleModel",
            "_view_count": null,
            "_view_module": "@jupyter-widgets/base",
            "_view_module_version": "1.2.0",
            "_view_name": "StyleView",
            "description_width": ""
          }
        },
        "225d93e8054b4a22a2fc350eb5af7637": {
          "model_module": "@jupyter-widgets/base",
          "model_module_version": "1.2.0",
          "model_name": "LayoutModel",
          "state": {
            "_model_module": "@jupyter-widgets/base",
            "_model_module_version": "1.2.0",
            "_model_name": "LayoutModel",
            "_view_count": null,
            "_view_module": "@jupyter-widgets/base",
            "_view_module_version": "1.2.0",
            "_view_name": "LayoutView",
            "align_content": null,
            "align_items": null,
            "align_self": null,
            "border": null,
            "bottom": null,
            "display": null,
            "flex": null,
            "flex_flow": null,
            "grid_area": null,
            "grid_auto_columns": null,
            "grid_auto_flow": null,
            "grid_auto_rows": null,
            "grid_column": null,
            "grid_gap": null,
            "grid_row": null,
            "grid_template_areas": null,
            "grid_template_columns": null,
            "grid_template_rows": null,
            "height": null,
            "justify_content": null,
            "justify_items": null,
            "left": null,
            "margin": null,
            "max_height": null,
            "max_width": null,
            "min_height": null,
            "min_width": null,
            "object_fit": null,
            "object_position": null,
            "order": null,
            "overflow": null,
            "overflow_x": null,
            "overflow_y": null,
            "padding": null,
            "right": null,
            "top": null,
            "visibility": null,
            "width": null
          }
        },
        "254ef426804b420e932c55c02f88a4d0": {
          "model_module": "@jupyter-widgets/base",
          "model_module_version": "1.2.0",
          "model_name": "LayoutModel",
          "state": {
            "_model_module": "@jupyter-widgets/base",
            "_model_module_version": "1.2.0",
            "_model_name": "LayoutModel",
            "_view_count": null,
            "_view_module": "@jupyter-widgets/base",
            "_view_module_version": "1.2.0",
            "_view_name": "LayoutView",
            "align_content": null,
            "align_items": null,
            "align_self": null,
            "border": null,
            "bottom": null,
            "display": null,
            "flex": null,
            "flex_flow": null,
            "grid_area": null,
            "grid_auto_columns": null,
            "grid_auto_flow": null,
            "grid_auto_rows": null,
            "grid_column": null,
            "grid_gap": null,
            "grid_row": null,
            "grid_template_areas": null,
            "grid_template_columns": null,
            "grid_template_rows": null,
            "height": null,
            "justify_content": null,
            "justify_items": null,
            "left": null,
            "margin": null,
            "max_height": null,
            "max_width": null,
            "min_height": null,
            "min_width": null,
            "object_fit": null,
            "object_position": null,
            "order": null,
            "overflow": null,
            "overflow_x": null,
            "overflow_y": null,
            "padding": null,
            "right": null,
            "top": null,
            "visibility": null,
            "width": "20px"
          }
        },
        "25a7640295814f58b600fdb2c8f9aa24": {
          "model_module": "@jupyter-widgets/controls",
          "model_module_version": "1.5.0",
          "model_name": "FloatProgressModel",
          "state": {
            "_dom_classes": [],
            "_model_module": "@jupyter-widgets/controls",
            "_model_module_version": "1.5.0",
            "_model_name": "FloatProgressModel",
            "_view_count": null,
            "_view_module": "@jupyter-widgets/controls",
            "_view_module_version": "1.5.0",
            "_view_name": "ProgressView",
            "bar_style": "success",
            "description": "",
            "description_tooltip": null,
            "layout": "IPY_MODEL_e36e2ffea99f4c07868e8cda7f74e180",
            "max": 50000,
            "min": 0,
            "orientation": "horizontal",
            "style": "IPY_MODEL_80e9307c27824ae382de85f33c494b13",
            "value": 50000
          }
        },
        "2719835e5efd4b1bb62801cfe4f71c0a": {
          "model_module": "@jupyter-widgets/controls",
          "model_module_version": "1.5.0",
          "model_name": "ProgressStyleModel",
          "state": {
            "_model_module": "@jupyter-widgets/controls",
            "_model_module_version": "1.5.0",
            "_model_name": "ProgressStyleModel",
            "_view_count": null,
            "_view_module": "@jupyter-widgets/base",
            "_view_module_version": "1.2.0",
            "_view_name": "StyleView",
            "bar_color": null,
            "description_width": ""
          }
        },
        "29ab7cbb4dcb4faf9a293d9d3292f229": {
          "model_module": "@jupyter-widgets/controls",
          "model_module_version": "1.5.0",
          "model_name": "DescriptionStyleModel",
          "state": {
            "_model_module": "@jupyter-widgets/controls",
            "_model_module_version": "1.5.0",
            "_model_name": "DescriptionStyleModel",
            "_view_count": null,
            "_view_module": "@jupyter-widgets/base",
            "_view_module_version": "1.2.0",
            "_view_name": "StyleView",
            "description_width": ""
          }
        },
        "2df71f3abfd74d27be4cdf083c82ba5c": {
          "model_module": "@jupyter-widgets/base",
          "model_module_version": "1.2.0",
          "model_name": "LayoutModel",
          "state": {
            "_model_module": "@jupyter-widgets/base",
            "_model_module_version": "1.2.0",
            "_model_name": "LayoutModel",
            "_view_count": null,
            "_view_module": "@jupyter-widgets/base",
            "_view_module_version": "1.2.0",
            "_view_name": "LayoutView",
            "align_content": null,
            "align_items": null,
            "align_self": null,
            "border": null,
            "bottom": null,
            "display": null,
            "flex": null,
            "flex_flow": null,
            "grid_area": null,
            "grid_auto_columns": null,
            "grid_auto_flow": null,
            "grid_auto_rows": null,
            "grid_column": null,
            "grid_gap": null,
            "grid_row": null,
            "grid_template_areas": null,
            "grid_template_columns": null,
            "grid_template_rows": null,
            "height": null,
            "justify_content": null,
            "justify_items": null,
            "left": null,
            "margin": null,
            "max_height": null,
            "max_width": null,
            "min_height": null,
            "min_width": null,
            "object_fit": null,
            "object_position": null,
            "order": null,
            "overflow": null,
            "overflow_x": null,
            "overflow_y": null,
            "padding": null,
            "right": null,
            "top": null,
            "visibility": null,
            "width": null
          }
        },
        "2e181fe0ce344a65b5d4ed958fa5654b": {
          "model_module": "@jupyter-widgets/controls",
          "model_module_version": "1.5.0",
          "model_name": "FloatProgressModel",
          "state": {
            "_dom_classes": [],
            "_model_module": "@jupyter-widgets/controls",
            "_model_module_version": "1.5.0",
            "_model_name": "FloatProgressModel",
            "_view_count": null,
            "_view_module": "@jupyter-widgets/controls",
            "_view_module_version": "1.5.0",
            "_view_name": "ProgressView",
            "bar_style": "success",
            "description": "",
            "description_tooltip": null,
            "layout": "IPY_MODEL_da5fa50b083449d1aabed4c4b346f12b",
            "max": 40000,
            "min": 0,
            "orientation": "horizontal",
            "style": "IPY_MODEL_9ff3e5fd86104db792edd50177ecc2d0",
            "value": 40000
          }
        },
        "322c70378bc84140b249ecdcd83e78b1": {
          "model_module": "@jupyter-widgets/base",
          "model_module_version": "1.2.0",
          "model_name": "LayoutModel",
          "state": {
            "_model_module": "@jupyter-widgets/base",
            "_model_module_version": "1.2.0",
            "_model_name": "LayoutModel",
            "_view_count": null,
            "_view_module": "@jupyter-widgets/base",
            "_view_module_version": "1.2.0",
            "_view_name": "LayoutView",
            "align_content": null,
            "align_items": null,
            "align_self": null,
            "border": null,
            "bottom": null,
            "display": null,
            "flex": null,
            "flex_flow": null,
            "grid_area": null,
            "grid_auto_columns": null,
            "grid_auto_flow": null,
            "grid_auto_rows": null,
            "grid_column": null,
            "grid_gap": null,
            "grid_row": null,
            "grid_template_areas": null,
            "grid_template_columns": null,
            "grid_template_rows": null,
            "height": null,
            "justify_content": null,
            "justify_items": null,
            "left": null,
            "margin": null,
            "max_height": null,
            "max_width": null,
            "min_height": null,
            "min_width": null,
            "object_fit": null,
            "object_position": null,
            "order": null,
            "overflow": null,
            "overflow_x": null,
            "overflow_y": null,
            "padding": null,
            "right": null,
            "top": null,
            "visibility": null,
            "width": null
          }
        },
        "39dddf1280d94a53a15607e37ee3cac5": {
          "model_module": "@jupyter-widgets/base",
          "model_module_version": "1.2.0",
          "model_name": "LayoutModel",
          "state": {
            "_model_module": "@jupyter-widgets/base",
            "_model_module_version": "1.2.0",
            "_model_name": "LayoutModel",
            "_view_count": null,
            "_view_module": "@jupyter-widgets/base",
            "_view_module_version": "1.2.0",
            "_view_name": "LayoutView",
            "align_content": null,
            "align_items": null,
            "align_self": null,
            "border": null,
            "bottom": null,
            "display": null,
            "flex": null,
            "flex_flow": null,
            "grid_area": null,
            "grid_auto_columns": null,
            "grid_auto_flow": null,
            "grid_auto_rows": null,
            "grid_column": null,
            "grid_gap": null,
            "grid_row": null,
            "grid_template_areas": null,
            "grid_template_columns": null,
            "grid_template_rows": null,
            "height": null,
            "justify_content": null,
            "justify_items": null,
            "left": null,
            "margin": null,
            "max_height": null,
            "max_width": null,
            "min_height": null,
            "min_width": null,
            "object_fit": null,
            "object_position": null,
            "order": null,
            "overflow": null,
            "overflow_x": null,
            "overflow_y": null,
            "padding": null,
            "right": null,
            "top": null,
            "visibility": null,
            "width": null
          }
        },
        "3ff3bcb3bac14ebe9ecc22a5fa9f36ec": {
          "model_module": "@jupyter-widgets/controls",
          "model_module_version": "1.5.0",
          "model_name": "HTMLModel",
          "state": {
            "_dom_classes": [],
            "_model_module": "@jupyter-widgets/controls",
            "_model_module_version": "1.5.0",
            "_model_name": "HTMLModel",
            "_view_count": null,
            "_view_module": "@jupyter-widgets/controls",
            "_view_module_version": "1.5.0",
            "_view_name": "HTMLView",
            "description": "",
            "description_tooltip": null,
            "layout": "IPY_MODEL_322c70378bc84140b249ecdcd83e78b1",
            "placeholder": "​",
            "style": "IPY_MODEL_144b2c88377948e5876879481b20cd40",
            "value": " 64/64 [00:01&lt;00:00, 39.59it/s]"
          }
        },
        "4023b5f15aff4e3380755a64915b61fe": {
          "model_module": "@jupyter-widgets/controls",
          "model_module_version": "1.5.0",
          "model_name": "FloatProgressModel",
          "state": {
            "_dom_classes": [],
            "_model_module": "@jupyter-widgets/controls",
            "_model_module_version": "1.5.0",
            "_model_name": "FloatProgressModel",
            "_view_count": null,
            "_view_module": "@jupyter-widgets/controls",
            "_view_module_version": "1.5.0",
            "_view_name": "ProgressView",
            "bar_style": "success",
            "description": "",
            "description_tooltip": null,
            "layout": "IPY_MODEL_42af524938104b518e75c81244c87c60",
            "max": 30000,
            "min": 0,
            "orientation": "horizontal",
            "style": "IPY_MODEL_2719835e5efd4b1bb62801cfe4f71c0a",
            "value": 30000
          }
        },
        "423c5ce32ab74280810593c03e52b475": {
          "model_module": "@jupyter-widgets/controls",
          "model_module_version": "1.5.0",
          "model_name": "DescriptionStyleModel",
          "state": {
            "_model_module": "@jupyter-widgets/controls",
            "_model_module_version": "1.5.0",
            "_model_name": "DescriptionStyleModel",
            "_view_count": null,
            "_view_module": "@jupyter-widgets/base",
            "_view_module_version": "1.2.0",
            "_view_name": "StyleView",
            "description_width": ""
          }
        },
        "42af524938104b518e75c81244c87c60": {
          "model_module": "@jupyter-widgets/base",
          "model_module_version": "1.2.0",
          "model_name": "LayoutModel",
          "state": {
            "_model_module": "@jupyter-widgets/base",
            "_model_module_version": "1.2.0",
            "_model_name": "LayoutModel",
            "_view_count": null,
            "_view_module": "@jupyter-widgets/base",
            "_view_module_version": "1.2.0",
            "_view_name": "LayoutView",
            "align_content": null,
            "align_items": null,
            "align_self": null,
            "border": null,
            "bottom": null,
            "display": null,
            "flex": null,
            "flex_flow": null,
            "grid_area": null,
            "grid_auto_columns": null,
            "grid_auto_flow": null,
            "grid_auto_rows": null,
            "grid_column": null,
            "grid_gap": null,
            "grid_row": null,
            "grid_template_areas": null,
            "grid_template_columns": null,
            "grid_template_rows": null,
            "height": null,
            "justify_content": null,
            "justify_items": null,
            "left": null,
            "margin": null,
            "max_height": null,
            "max_width": null,
            "min_height": null,
            "min_width": null,
            "object_fit": null,
            "object_position": null,
            "order": null,
            "overflow": null,
            "overflow_x": null,
            "overflow_y": null,
            "padding": null,
            "right": null,
            "top": null,
            "visibility": null,
            "width": null
          }
        },
        "4330062c17c54328b88c9c2abba46712": {
          "model_module": "@jupyter-widgets/controls",
          "model_module_version": "1.5.0",
          "model_name": "HBoxModel",
          "state": {
            "_dom_classes": [],
            "_model_module": "@jupyter-widgets/controls",
            "_model_module_version": "1.5.0",
            "_model_name": "HBoxModel",
            "_view_count": null,
            "_view_module": "@jupyter-widgets/controls",
            "_view_module_version": "1.5.0",
            "_view_name": "HBoxView",
            "box_style": "",
            "children": [
              "IPY_MODEL_1334b330e3ab4c7abccf8fdd805468ae",
              "IPY_MODEL_9c6bfb9b3d80433f8c1dbf8b83402954",
              "IPY_MODEL_029c4b37622944759c147068bed24792"
            ],
            "layout": "IPY_MODEL_5ac6e4b8b1bc4fee92b892315e459832"
          }
        },
        "467a7accbc1749de8fdee0d412d56397": {
          "model_module": "@jupyter-widgets/base",
          "model_module_version": "1.2.0",
          "model_name": "LayoutModel",
          "state": {
            "_model_module": "@jupyter-widgets/base",
            "_model_module_version": "1.2.0",
            "_model_name": "LayoutModel",
            "_view_count": null,
            "_view_module": "@jupyter-widgets/base",
            "_view_module_version": "1.2.0",
            "_view_name": "LayoutView",
            "align_content": null,
            "align_items": null,
            "align_self": null,
            "border": null,
            "bottom": null,
            "display": null,
            "flex": null,
            "flex_flow": null,
            "grid_area": null,
            "grid_auto_columns": null,
            "grid_auto_flow": null,
            "grid_auto_rows": null,
            "grid_column": null,
            "grid_gap": null,
            "grid_row": null,
            "grid_template_areas": null,
            "grid_template_columns": null,
            "grid_template_rows": null,
            "height": null,
            "justify_content": null,
            "justify_items": null,
            "left": null,
            "margin": null,
            "max_height": null,
            "max_width": null,
            "min_height": null,
            "min_width": null,
            "object_fit": null,
            "object_position": null,
            "order": null,
            "overflow": null,
            "overflow_x": null,
            "overflow_y": null,
            "padding": null,
            "right": null,
            "top": null,
            "visibility": null,
            "width": null
          }
        },
        "46b1b5de426a4d61946519589b766d51": {
          "model_module": "@jupyter-widgets/controls",
          "model_module_version": "1.5.0",
          "model_name": "HBoxModel",
          "state": {
            "_dom_classes": [],
            "_model_module": "@jupyter-widgets/controls",
            "_model_module_version": "1.5.0",
            "_model_name": "HBoxModel",
            "_view_count": null,
            "_view_module": "@jupyter-widgets/controls",
            "_view_module_version": "1.5.0",
            "_view_name": "HBoxView",
            "box_style": "",
            "children": [
              "IPY_MODEL_0a35a216e4334a4f81863bc869950fda",
              "IPY_MODEL_4023b5f15aff4e3380755a64915b61fe",
              "IPY_MODEL_762ab3df20de4faa9abed83ced18be2e"
            ],
            "layout": "IPY_MODEL_2df71f3abfd74d27be4cdf083c82ba5c"
          }
        },
        "4847c2fd12064264950cac571c8cd7b8": {
          "model_module": "@jupyter-widgets/base",
          "model_module_version": "1.2.0",
          "model_name": "LayoutModel",
          "state": {
            "_model_module": "@jupyter-widgets/base",
            "_model_module_version": "1.2.0",
            "_model_name": "LayoutModel",
            "_view_count": null,
            "_view_module": "@jupyter-widgets/base",
            "_view_module_version": "1.2.0",
            "_view_name": "LayoutView",
            "align_content": null,
            "align_items": null,
            "align_self": null,
            "border": null,
            "bottom": null,
            "display": null,
            "flex": null,
            "flex_flow": null,
            "grid_area": null,
            "grid_auto_columns": null,
            "grid_auto_flow": null,
            "grid_auto_rows": null,
            "grid_column": null,
            "grid_gap": null,
            "grid_row": null,
            "grid_template_areas": null,
            "grid_template_columns": null,
            "grid_template_rows": null,
            "height": null,
            "justify_content": null,
            "justify_items": null,
            "left": null,
            "margin": null,
            "max_height": null,
            "max_width": null,
            "min_height": null,
            "min_width": null,
            "object_fit": null,
            "object_position": null,
            "order": null,
            "overflow": null,
            "overflow_x": null,
            "overflow_y": null,
            "padding": null,
            "right": null,
            "top": null,
            "visibility": null,
            "width": null
          }
        },
        "4884d03a1ebd49f6b1cd86c987679f93": {
          "model_module": "@jupyter-widgets/base",
          "model_module_version": "1.2.0",
          "model_name": "LayoutModel",
          "state": {
            "_model_module": "@jupyter-widgets/base",
            "_model_module_version": "1.2.0",
            "_model_name": "LayoutModel",
            "_view_count": null,
            "_view_module": "@jupyter-widgets/base",
            "_view_module_version": "1.2.0",
            "_view_name": "LayoutView",
            "align_content": null,
            "align_items": null,
            "align_self": null,
            "border": null,
            "bottom": null,
            "display": null,
            "flex": null,
            "flex_flow": null,
            "grid_area": null,
            "grid_auto_columns": null,
            "grid_auto_flow": null,
            "grid_auto_rows": null,
            "grid_column": null,
            "grid_gap": null,
            "grid_row": null,
            "grid_template_areas": null,
            "grid_template_columns": null,
            "grid_template_rows": null,
            "height": null,
            "justify_content": null,
            "justify_items": null,
            "left": null,
            "margin": null,
            "max_height": null,
            "max_width": null,
            "min_height": null,
            "min_width": null,
            "object_fit": null,
            "object_position": null,
            "order": null,
            "overflow": null,
            "overflow_x": null,
            "overflow_y": null,
            "padding": null,
            "right": null,
            "top": null,
            "visibility": null,
            "width": null
          }
        },
        "4e7e956b6fac44ba85cc0044debbe8e3": {
          "model_module": "@jupyter-widgets/base",
          "model_module_version": "1.2.0",
          "model_name": "LayoutModel",
          "state": {
            "_model_module": "@jupyter-widgets/base",
            "_model_module_version": "1.2.0",
            "_model_name": "LayoutModel",
            "_view_count": null,
            "_view_module": "@jupyter-widgets/base",
            "_view_module_version": "1.2.0",
            "_view_name": "LayoutView",
            "align_content": null,
            "align_items": null,
            "align_self": null,
            "border": null,
            "bottom": null,
            "display": null,
            "flex": null,
            "flex_flow": null,
            "grid_area": null,
            "grid_auto_columns": null,
            "grid_auto_flow": null,
            "grid_auto_rows": null,
            "grid_column": null,
            "grid_gap": null,
            "grid_row": null,
            "grid_template_areas": null,
            "grid_template_columns": null,
            "grid_template_rows": null,
            "height": null,
            "justify_content": null,
            "justify_items": null,
            "left": null,
            "margin": null,
            "max_height": null,
            "max_width": null,
            "min_height": null,
            "min_width": null,
            "object_fit": null,
            "object_position": null,
            "order": null,
            "overflow": null,
            "overflow_x": null,
            "overflow_y": null,
            "padding": null,
            "right": null,
            "top": null,
            "visibility": null,
            "width": null
          }
        },
        "579ad8b8e1da415090021fed801cfca0": {
          "model_module": "@jupyter-widgets/controls",
          "model_module_version": "1.5.0",
          "model_name": "HBoxModel",
          "state": {
            "_dom_classes": [],
            "_model_module": "@jupyter-widgets/controls",
            "_model_module_version": "1.5.0",
            "_model_name": "HBoxModel",
            "_view_count": null,
            "_view_module": "@jupyter-widgets/controls",
            "_view_module_version": "1.5.0",
            "_view_name": "HBoxView",
            "box_style": "",
            "children": [
              "IPY_MODEL_d2e7acc02edd4a54959152b128531b85",
              "IPY_MODEL_25a7640295814f58b600fdb2c8f9aa24",
              "IPY_MODEL_f8470dadeaf349808eca539f24b37d50"
            ],
            "layout": "IPY_MODEL_ea6aade8259d4608951d429e58a2c072"
          }
        },
        "587e7e0438f94d26819fc8791dc3594d": {
          "model_module": "@jupyter-widgets/controls",
          "model_module_version": "1.5.0",
          "model_name": "HTMLModel",
          "state": {
            "_dom_classes": [],
            "_model_module": "@jupyter-widgets/controls",
            "_model_module_version": "1.5.0",
            "_model_name": "HTMLModel",
            "_view_count": null,
            "_view_module": "@jupyter-widgets/controls",
            "_view_module_version": "1.5.0",
            "_view_name": "HTMLView",
            "description": "",
            "description_tooltip": null,
            "layout": "IPY_MODEL_02d0a4dfa03d4c419cea2b2209685509",
            "placeholder": "​",
            "style": "IPY_MODEL_5b71ae0a038e48c1bfdb4c4521def072",
            "value": "TRAIN BATCHES: 100%"
          }
        },
        "5ac6e4b8b1bc4fee92b892315e459832": {
          "model_module": "@jupyter-widgets/base",
          "model_module_version": "1.2.0",
          "model_name": "LayoutModel",
          "state": {
            "_model_module": "@jupyter-widgets/base",
            "_model_module_version": "1.2.0",
            "_model_name": "LayoutModel",
            "_view_count": null,
            "_view_module": "@jupyter-widgets/base",
            "_view_module_version": "1.2.0",
            "_view_name": "LayoutView",
            "align_content": null,
            "align_items": null,
            "align_self": null,
            "border": null,
            "bottom": null,
            "display": null,
            "flex": null,
            "flex_flow": null,
            "grid_area": null,
            "grid_auto_columns": null,
            "grid_auto_flow": null,
            "grid_auto_rows": null,
            "grid_column": null,
            "grid_gap": null,
            "grid_row": null,
            "grid_template_areas": null,
            "grid_template_columns": null,
            "grid_template_rows": null,
            "height": null,
            "justify_content": null,
            "justify_items": null,
            "left": null,
            "margin": null,
            "max_height": null,
            "max_width": null,
            "min_height": null,
            "min_width": null,
            "object_fit": null,
            "object_position": null,
            "order": null,
            "overflow": null,
            "overflow_x": null,
            "overflow_y": null,
            "padding": null,
            "right": null,
            "top": null,
            "visibility": null,
            "width": null
          }
        },
        "5b71ae0a038e48c1bfdb4c4521def072": {
          "model_module": "@jupyter-widgets/controls",
          "model_module_version": "1.5.0",
          "model_name": "DescriptionStyleModel",
          "state": {
            "_model_module": "@jupyter-widgets/controls",
            "_model_module_version": "1.5.0",
            "_model_name": "DescriptionStyleModel",
            "_view_count": null,
            "_view_module": "@jupyter-widgets/base",
            "_view_module_version": "1.2.0",
            "_view_name": "StyleView",
            "description_width": ""
          }
        },
        "5baeab2588ef41d3882c8b6e43da71a0": {
          "model_module": "@jupyter-widgets/controls",
          "model_module_version": "1.5.0",
          "model_name": "HTMLModel",
          "state": {
            "_dom_classes": [],
            "_model_module": "@jupyter-widgets/controls",
            "_model_module_version": "1.5.0",
            "_model_name": "HTMLModel",
            "_view_count": null,
            "_view_module": "@jupyter-widgets/controls",
            "_view_module_version": "1.5.0",
            "_view_name": "HTMLView",
            "description": "",
            "description_tooltip": null,
            "layout": "IPY_MODEL_467a7accbc1749de8fdee0d412d56397",
            "placeholder": "​",
            "style": "IPY_MODEL_c2349e1e4fa84ba7ba97791ce61dab7c",
            "value": "TRAIN BATCHES: 100%"
          }
        },
        "66794f28480043ddb26d2c2032497b23": {
          "model_module": "@jupyter-widgets/controls",
          "model_module_version": "1.5.0",
          "model_name": "FloatProgressModel",
          "state": {
            "_dom_classes": [],
            "_model_module": "@jupyter-widgets/controls",
            "_model_module_version": "1.5.0",
            "_model_name": "FloatProgressModel",
            "_view_count": null,
            "_view_module": "@jupyter-widgets/controls",
            "_view_module_version": "1.5.0",
            "_view_name": "ProgressView",
            "bar_style": "success",
            "description": "",
            "description_tooltip": null,
            "layout": "IPY_MODEL_06a865269d0f4120be715f0ff2e967d5",
            "max": 64,
            "min": 0,
            "orientation": "horizontal",
            "style": "IPY_MODEL_db6639e25f7b4c0b901de8190f4b26d8",
            "value": 64
          }
        },
        "67489cff94a642ecb02c8cba113b896a": {
          "model_module": "@jupyter-widgets/controls",
          "model_module_version": "1.5.0",
          "model_name": "DescriptionStyleModel",
          "state": {
            "_model_module": "@jupyter-widgets/controls",
            "_model_module_version": "1.5.0",
            "_model_name": "DescriptionStyleModel",
            "_view_count": null,
            "_view_module": "@jupyter-widgets/base",
            "_view_module_version": "1.2.0",
            "_view_name": "StyleView",
            "description_width": ""
          }
        },
        "67a8d988f78b4eeebacee8ba5ec893a5": {
          "model_module": "@jupyter-widgets/controls",
          "model_module_version": "1.5.0",
          "model_name": "ProgressStyleModel",
          "state": {
            "_model_module": "@jupyter-widgets/controls",
            "_model_module_version": "1.5.0",
            "_model_name": "ProgressStyleModel",
            "_view_count": null,
            "_view_module": "@jupyter-widgets/base",
            "_view_module_version": "1.2.0",
            "_view_name": "StyleView",
            "bar_color": null,
            "description_width": ""
          }
        },
        "6d90c95d672f4765944d3e22617e8af8": {
          "model_module": "@jupyter-widgets/base",
          "model_module_version": "1.2.0",
          "model_name": "LayoutModel",
          "state": {
            "_model_module": "@jupyter-widgets/base",
            "_model_module_version": "1.2.0",
            "_model_name": "LayoutModel",
            "_view_count": null,
            "_view_module": "@jupyter-widgets/base",
            "_view_module_version": "1.2.0",
            "_view_name": "LayoutView",
            "align_content": null,
            "align_items": null,
            "align_self": null,
            "border": null,
            "bottom": null,
            "display": null,
            "flex": null,
            "flex_flow": null,
            "grid_area": null,
            "grid_auto_columns": null,
            "grid_auto_flow": null,
            "grid_auto_rows": null,
            "grid_column": null,
            "grid_gap": null,
            "grid_row": null,
            "grid_template_areas": null,
            "grid_template_columns": null,
            "grid_template_rows": null,
            "height": null,
            "justify_content": null,
            "justify_items": null,
            "left": null,
            "margin": null,
            "max_height": null,
            "max_width": null,
            "min_height": null,
            "min_width": null,
            "object_fit": null,
            "object_position": null,
            "order": null,
            "overflow": null,
            "overflow_x": null,
            "overflow_y": null,
            "padding": null,
            "right": null,
            "top": null,
            "visibility": null,
            "width": null
          }
        },
        "735f9eac34244b3494953c108be0720b": {
          "model_module": "@jupyter-widgets/controls",
          "model_module_version": "1.5.0",
          "model_name": "HBoxModel",
          "state": {
            "_dom_classes": [],
            "_model_module": "@jupyter-widgets/controls",
            "_model_module_version": "1.5.0",
            "_model_name": "HBoxModel",
            "_view_count": null,
            "_view_module": "@jupyter-widgets/controls",
            "_view_module_version": "1.5.0",
            "_view_name": "HBoxView",
            "box_style": "",
            "children": [
              "IPY_MODEL_5baeab2588ef41d3882c8b6e43da71a0",
              "IPY_MODEL_2e181fe0ce344a65b5d4ed958fa5654b",
              "IPY_MODEL_e444d333a25f4b36a6e977cc7a6b490f"
            ],
            "layout": "IPY_MODEL_b5f7add7e28246afa94517de99c36c1b"
          }
        },
        "73b16c2040be4bf6bb33a5ddd6b9da10": {
          "model_module": "@jupyter-widgets/controls",
          "model_module_version": "1.5.0",
          "model_name": "DescriptionStyleModel",
          "state": {
            "_model_module": "@jupyter-widgets/controls",
            "_model_module_version": "1.5.0",
            "_model_name": "DescriptionStyleModel",
            "_view_count": null,
            "_view_module": "@jupyter-widgets/base",
            "_view_module_version": "1.2.0",
            "_view_name": "StyleView",
            "description_width": ""
          }
        },
        "762ab3df20de4faa9abed83ced18be2e": {
          "model_module": "@jupyter-widgets/controls",
          "model_module_version": "1.5.0",
          "model_name": "HTMLModel",
          "state": {
            "_dom_classes": [],
            "_model_module": "@jupyter-widgets/controls",
            "_model_module_version": "1.5.0",
            "_model_name": "HTMLModel",
            "_view_count": null,
            "_view_module": "@jupyter-widgets/controls",
            "_view_module_version": "1.5.0",
            "_view_name": "HTMLView",
            "description": "",
            "description_tooltip": null,
            "layout": "IPY_MODEL_8ab336bef4ba4f5e9cfa63adfde46d05",
            "placeholder": "​",
            "style": "IPY_MODEL_ee81f97548c4453dba406b3a5905b197",
            "value": " 30000/30000 [1:09:04&lt;00:00,  2.95s/it]"
          }
        },
        "80e9307c27824ae382de85f33c494b13": {
          "model_module": "@jupyter-widgets/controls",
          "model_module_version": "1.5.0",
          "model_name": "ProgressStyleModel",
          "state": {
            "_model_module": "@jupyter-widgets/controls",
            "_model_module_version": "1.5.0",
            "_model_name": "ProgressStyleModel",
            "_view_count": null,
            "_view_module": "@jupyter-widgets/base",
            "_view_module_version": "1.2.0",
            "_view_name": "StyleView",
            "bar_color": null,
            "description_width": ""
          }
        },
        "8397b4bcee9d4773935ed5feb1179293": {
          "model_module": "@jupyter-widgets/controls",
          "model_module_version": "1.5.0",
          "model_name": "HBoxModel",
          "state": {
            "_dom_classes": [],
            "_model_module": "@jupyter-widgets/controls",
            "_model_module_version": "1.5.0",
            "_model_name": "HBoxModel",
            "_view_count": null,
            "_view_module": "@jupyter-widgets/controls",
            "_view_module_version": "1.5.0",
            "_view_name": "HBoxView",
            "box_style": "",
            "children": [
              "IPY_MODEL_965eceef4669498ea5a715fe62a042df",
              "IPY_MODEL_66794f28480043ddb26d2c2032497b23",
              "IPY_MODEL_3ff3bcb3bac14ebe9ecc22a5fa9f36ec"
            ],
            "layout": "IPY_MODEL_dacf8bc8661148fc93a6b499f40bb2bb"
          }
        },
        "8446e4a628e84ef09153dcf38ef5b60c": {
          "model_module": "@jupyter-widgets/base",
          "model_module_version": "1.2.0",
          "model_name": "LayoutModel",
          "state": {
            "_model_module": "@jupyter-widgets/base",
            "_model_module_version": "1.2.0",
            "_model_name": "LayoutModel",
            "_view_count": null,
            "_view_module": "@jupyter-widgets/base",
            "_view_module_version": "1.2.0",
            "_view_name": "LayoutView",
            "align_content": null,
            "align_items": null,
            "align_self": null,
            "border": null,
            "bottom": null,
            "display": null,
            "flex": null,
            "flex_flow": null,
            "grid_area": null,
            "grid_auto_columns": null,
            "grid_auto_flow": null,
            "grid_auto_rows": null,
            "grid_column": null,
            "grid_gap": null,
            "grid_row": null,
            "grid_template_areas": null,
            "grid_template_columns": null,
            "grid_template_rows": null,
            "height": null,
            "justify_content": null,
            "justify_items": null,
            "left": null,
            "margin": null,
            "max_height": null,
            "max_width": null,
            "min_height": null,
            "min_width": null,
            "object_fit": null,
            "object_position": null,
            "order": null,
            "overflow": null,
            "overflow_x": null,
            "overflow_y": null,
            "padding": null,
            "right": null,
            "top": null,
            "visibility": null,
            "width": null
          }
        },
        "8644dc57dbc749e9baba72ebb04e1eff": {
          "model_module": "@jupyter-widgets/controls",
          "model_module_version": "1.5.0",
          "model_name": "FloatProgressModel",
          "state": {
            "_dom_classes": [],
            "_model_module": "@jupyter-widgets/controls",
            "_model_module_version": "1.5.0",
            "_model_name": "FloatProgressModel",
            "_view_count": null,
            "_view_module": "@jupyter-widgets/controls",
            "_view_module_version": "1.5.0",
            "_view_name": "ProgressView",
            "bar_style": "success",
            "description": "",
            "description_tooltip": null,
            "layout": "IPY_MODEL_254ef426804b420e932c55c02f88a4d0",
            "max": 1,
            "min": 0,
            "orientation": "horizontal",
            "style": "IPY_MODEL_67a8d988f78b4eeebacee8ba5ec893a5",
            "value": 0
          }
        },
        "8ab336bef4ba4f5e9cfa63adfde46d05": {
          "model_module": "@jupyter-widgets/base",
          "model_module_version": "1.2.0",
          "model_name": "LayoutModel",
          "state": {
            "_model_module": "@jupyter-widgets/base",
            "_model_module_version": "1.2.0",
            "_model_name": "LayoutModel",
            "_view_count": null,
            "_view_module": "@jupyter-widgets/base",
            "_view_module_version": "1.2.0",
            "_view_name": "LayoutView",
            "align_content": null,
            "align_items": null,
            "align_self": null,
            "border": null,
            "bottom": null,
            "display": null,
            "flex": null,
            "flex_flow": null,
            "grid_area": null,
            "grid_auto_columns": null,
            "grid_auto_flow": null,
            "grid_auto_rows": null,
            "grid_column": null,
            "grid_gap": null,
            "grid_row": null,
            "grid_template_areas": null,
            "grid_template_columns": null,
            "grid_template_rows": null,
            "height": null,
            "justify_content": null,
            "justify_items": null,
            "left": null,
            "margin": null,
            "max_height": null,
            "max_width": null,
            "min_height": null,
            "min_width": null,
            "object_fit": null,
            "object_position": null,
            "order": null,
            "overflow": null,
            "overflow_x": null,
            "overflow_y": null,
            "padding": null,
            "right": null,
            "top": null,
            "visibility": null,
            "width": null
          }
        },
        "8ff7ee019fa44680b02fa0337bf3bb7b": {
          "model_module": "@jupyter-widgets/base",
          "model_module_version": "1.2.0",
          "model_name": "LayoutModel",
          "state": {
            "_model_module": "@jupyter-widgets/base",
            "_model_module_version": "1.2.0",
            "_model_name": "LayoutModel",
            "_view_count": null,
            "_view_module": "@jupyter-widgets/base",
            "_view_module_version": "1.2.0",
            "_view_name": "LayoutView",
            "align_content": null,
            "align_items": null,
            "align_self": null,
            "border": null,
            "bottom": null,
            "display": null,
            "flex": null,
            "flex_flow": null,
            "grid_area": null,
            "grid_auto_columns": null,
            "grid_auto_flow": null,
            "grid_auto_rows": null,
            "grid_column": null,
            "grid_gap": null,
            "grid_row": null,
            "grid_template_areas": null,
            "grid_template_columns": null,
            "grid_template_rows": null,
            "height": null,
            "justify_content": null,
            "justify_items": null,
            "left": null,
            "margin": null,
            "max_height": null,
            "max_width": null,
            "min_height": null,
            "min_width": null,
            "object_fit": null,
            "object_position": null,
            "order": null,
            "overflow": null,
            "overflow_x": null,
            "overflow_y": null,
            "padding": null,
            "right": null,
            "top": null,
            "visibility": null,
            "width": null
          }
        },
        "965eceef4669498ea5a715fe62a042df": {
          "model_module": "@jupyter-widgets/controls",
          "model_module_version": "1.5.0",
          "model_name": "HTMLModel",
          "state": {
            "_dom_classes": [],
            "_model_module": "@jupyter-widgets/controls",
            "_model_module_version": "1.5.0",
            "_model_name": "HTMLModel",
            "_view_count": null,
            "_view_module": "@jupyter-widgets/controls",
            "_view_module_version": "1.5.0",
            "_view_name": "HTMLView",
            "description": "",
            "description_tooltip": null,
            "layout": "IPY_MODEL_6d90c95d672f4765944d3e22617e8af8",
            "placeholder": "​",
            "style": "IPY_MODEL_221e50fd2c2b45cab1997c87954bef34",
            "value": "WARM BATCHES: 100%"
          }
        },
        "9bd2df8933e241709e4f4c88b836c39d": {
          "model_module": "@jupyter-widgets/controls",
          "model_module_version": "1.5.0",
          "model_name": "HBoxModel",
          "state": {
            "_dom_classes": [],
            "_model_module": "@jupyter-widgets/controls",
            "_model_module_version": "1.5.0",
            "_model_name": "HBoxModel",
            "_view_count": null,
            "_view_module": "@jupyter-widgets/controls",
            "_view_module_version": "1.5.0",
            "_view_name": "HBoxView",
            "box_style": "",
            "children": [
              "IPY_MODEL_0da5258ac8e547deb1f3f8c2fd0c9503",
              "IPY_MODEL_20494ef8ebb146b1ad05f41c8560c374",
              "IPY_MODEL_a8c5670f112e4c5781ac03b977c94925"
            ],
            "layout": "IPY_MODEL_39dddf1280d94a53a15607e37ee3cac5"
          }
        },
        "9c6bfb9b3d80433f8c1dbf8b83402954": {
          "model_module": "@jupyter-widgets/controls",
          "model_module_version": "1.5.0",
          "model_name": "FloatProgressModel",
          "state": {
            "_dom_classes": [],
            "_model_module": "@jupyter-widgets/controls",
            "_model_module_version": "1.5.0",
            "_model_name": "FloatProgressModel",
            "_view_count": null,
            "_view_module": "@jupyter-widgets/controls",
            "_view_module_version": "1.5.0",
            "_view_name": "ProgressView",
            "bar_style": "success",
            "description": "",
            "description_tooltip": null,
            "layout": "IPY_MODEL_4847c2fd12064264950cac571c8cd7b8",
            "max": 10,
            "min": 0,
            "orientation": "horizontal",
            "style": "IPY_MODEL_ae6a71c9c3c8491189d508867d53443d",
            "value": 10
          }
        },
        "9e0633a1ea934896951630135a186f7f": {
          "model_module": "@jupyter-widgets/base",
          "model_module_version": "1.2.0",
          "model_name": "LayoutModel",
          "state": {
            "_model_module": "@jupyter-widgets/base",
            "_model_module_version": "1.2.0",
            "_model_name": "LayoutModel",
            "_view_count": null,
            "_view_module": "@jupyter-widgets/base",
            "_view_module_version": "1.2.0",
            "_view_name": "LayoutView",
            "align_content": null,
            "align_items": null,
            "align_self": null,
            "border": null,
            "bottom": null,
            "display": null,
            "flex": null,
            "flex_flow": null,
            "grid_area": null,
            "grid_auto_columns": null,
            "grid_auto_flow": null,
            "grid_auto_rows": null,
            "grid_column": null,
            "grid_gap": null,
            "grid_row": null,
            "grid_template_areas": null,
            "grid_template_columns": null,
            "grid_template_rows": null,
            "height": null,
            "justify_content": null,
            "justify_items": null,
            "left": null,
            "margin": null,
            "max_height": null,
            "max_width": null,
            "min_height": null,
            "min_width": null,
            "object_fit": null,
            "object_position": null,
            "order": null,
            "overflow": null,
            "overflow_x": null,
            "overflow_y": null,
            "padding": null,
            "right": null,
            "top": null,
            "visibility": null,
            "width": null
          }
        },
        "9ff3e5fd86104db792edd50177ecc2d0": {
          "model_module": "@jupyter-widgets/controls",
          "model_module_version": "1.5.0",
          "model_name": "ProgressStyleModel",
          "state": {
            "_model_module": "@jupyter-widgets/controls",
            "_model_module_version": "1.5.0",
            "_model_name": "ProgressStyleModel",
            "_view_count": null,
            "_view_module": "@jupyter-widgets/base",
            "_view_module_version": "1.2.0",
            "_view_name": "StyleView",
            "bar_color": null,
            "description_width": ""
          }
        },
        "a5e627aacac243418ff3cb900ac9397d": {
          "model_module": "@jupyter-widgets/base",
          "model_module_version": "1.2.0",
          "model_name": "LayoutModel",
          "state": {
            "_model_module": "@jupyter-widgets/base",
            "_model_module_version": "1.2.0",
            "_model_name": "LayoutModel",
            "_view_count": null,
            "_view_module": "@jupyter-widgets/base",
            "_view_module_version": "1.2.0",
            "_view_name": "LayoutView",
            "align_content": null,
            "align_items": null,
            "align_self": null,
            "border": null,
            "bottom": null,
            "display": null,
            "flex": null,
            "flex_flow": null,
            "grid_area": null,
            "grid_auto_columns": null,
            "grid_auto_flow": null,
            "grid_auto_rows": null,
            "grid_column": null,
            "grid_gap": null,
            "grid_row": null,
            "grid_template_areas": null,
            "grid_template_columns": null,
            "grid_template_rows": null,
            "height": null,
            "justify_content": null,
            "justify_items": null,
            "left": null,
            "margin": null,
            "max_height": null,
            "max_width": null,
            "min_height": null,
            "min_width": null,
            "object_fit": null,
            "object_position": null,
            "order": null,
            "overflow": null,
            "overflow_x": null,
            "overflow_y": null,
            "padding": null,
            "right": null,
            "top": null,
            "visibility": null,
            "width": null
          }
        },
        "a6849cc657a34888ab70bc20c4a1e1ba": {
          "model_module": "@jupyter-widgets/controls",
          "model_module_version": "1.5.0",
          "model_name": "ProgressStyleModel",
          "state": {
            "_model_module": "@jupyter-widgets/controls",
            "_model_module_version": "1.5.0",
            "_model_name": "ProgressStyleModel",
            "_view_count": null,
            "_view_module": "@jupyter-widgets/base",
            "_view_module_version": "1.2.0",
            "_view_name": "StyleView",
            "bar_color": null,
            "description_width": ""
          }
        },
        "a8c5670f112e4c5781ac03b977c94925": {
          "model_module": "@jupyter-widgets/controls",
          "model_module_version": "1.5.0",
          "model_name": "HTMLModel",
          "state": {
            "_dom_classes": [],
            "_model_module": "@jupyter-widgets/controls",
            "_model_module_version": "1.5.0",
            "_model_name": "HTMLModel",
            "_view_count": null,
            "_view_module": "@jupyter-widgets/controls",
            "_view_module_version": "1.5.0",
            "_view_name": "HTMLView",
            "description": "",
            "description_tooltip": null,
            "layout": "IPY_MODEL_1243ed48b1254e23b0bac76da5a4909e",
            "placeholder": "​",
            "style": "IPY_MODEL_b791483dad394710a1803d2b44a9c0f6",
            "value": " 0/0 [00:00&lt;?, ?it/s]"
          }
        },
        "ab42915696894774bb4fbe1ec65832da": {
          "model_module": "@jupyter-widgets/base",
          "model_module_version": "1.2.0",
          "model_name": "LayoutModel",
          "state": {
            "_model_module": "@jupyter-widgets/base",
            "_model_module_version": "1.2.0",
            "_model_name": "LayoutModel",
            "_view_count": null,
            "_view_module": "@jupyter-widgets/base",
            "_view_module_version": "1.2.0",
            "_view_name": "LayoutView",
            "align_content": null,
            "align_items": null,
            "align_self": null,
            "border": null,
            "bottom": null,
            "display": null,
            "flex": null,
            "flex_flow": null,
            "grid_area": null,
            "grid_auto_columns": null,
            "grid_auto_flow": null,
            "grid_auto_rows": null,
            "grid_column": null,
            "grid_gap": null,
            "grid_row": null,
            "grid_template_areas": null,
            "grid_template_columns": null,
            "grid_template_rows": null,
            "height": null,
            "justify_content": null,
            "justify_items": null,
            "left": null,
            "margin": null,
            "max_height": null,
            "max_width": null,
            "min_height": null,
            "min_width": null,
            "object_fit": null,
            "object_position": null,
            "order": null,
            "overflow": null,
            "overflow_x": null,
            "overflow_y": null,
            "padding": null,
            "right": null,
            "top": null,
            "visibility": null,
            "width": null
          }
        },
        "ae6a71c9c3c8491189d508867d53443d": {
          "model_module": "@jupyter-widgets/controls",
          "model_module_version": "1.5.0",
          "model_name": "ProgressStyleModel",
          "state": {
            "_model_module": "@jupyter-widgets/controls",
            "_model_module_version": "1.5.0",
            "_model_name": "ProgressStyleModel",
            "_view_count": null,
            "_view_module": "@jupyter-widgets/base",
            "_view_module_version": "1.2.0",
            "_view_name": "StyleView",
            "bar_color": null,
            "description_width": ""
          }
        },
        "b5f7add7e28246afa94517de99c36c1b": {
          "model_module": "@jupyter-widgets/base",
          "model_module_version": "1.2.0",
          "model_name": "LayoutModel",
          "state": {
            "_model_module": "@jupyter-widgets/base",
            "_model_module_version": "1.2.0",
            "_model_name": "LayoutModel",
            "_view_count": null,
            "_view_module": "@jupyter-widgets/base",
            "_view_module_version": "1.2.0",
            "_view_name": "LayoutView",
            "align_content": null,
            "align_items": null,
            "align_self": null,
            "border": null,
            "bottom": null,
            "display": null,
            "flex": null,
            "flex_flow": null,
            "grid_area": null,
            "grid_auto_columns": null,
            "grid_auto_flow": null,
            "grid_auto_rows": null,
            "grid_column": null,
            "grid_gap": null,
            "grid_row": null,
            "grid_template_areas": null,
            "grid_template_columns": null,
            "grid_template_rows": null,
            "height": null,
            "justify_content": null,
            "justify_items": null,
            "left": null,
            "margin": null,
            "max_height": null,
            "max_width": null,
            "min_height": null,
            "min_width": null,
            "object_fit": null,
            "object_position": null,
            "order": null,
            "overflow": null,
            "overflow_x": null,
            "overflow_y": null,
            "padding": null,
            "right": null,
            "top": null,
            "visibility": null,
            "width": null
          }
        },
        "b791483dad394710a1803d2b44a9c0f6": {
          "model_module": "@jupyter-widgets/controls",
          "model_module_version": "1.5.0",
          "model_name": "DescriptionStyleModel",
          "state": {
            "_model_module": "@jupyter-widgets/controls",
            "_model_module_version": "1.5.0",
            "_model_name": "DescriptionStyleModel",
            "_view_count": null,
            "_view_module": "@jupyter-widgets/base",
            "_view_module_version": "1.2.0",
            "_view_name": "StyleView",
            "description_width": ""
          }
        },
        "ba4fb6305ae044f9a4bd5480e6b923d8": {
          "model_module": "@jupyter-widgets/controls",
          "model_module_version": "1.5.0",
          "model_name": "DescriptionStyleModel",
          "state": {
            "_model_module": "@jupyter-widgets/controls",
            "_model_module_version": "1.5.0",
            "_model_name": "DescriptionStyleModel",
            "_view_count": null,
            "_view_module": "@jupyter-widgets/base",
            "_view_module_version": "1.2.0",
            "_view_name": "StyleView",
            "description_width": ""
          }
        },
        "be23df0188c24198a4a1e2ddf3cffefe": {
          "model_module": "@jupyter-widgets/base",
          "model_module_version": "1.2.0",
          "model_name": "LayoutModel",
          "state": {
            "_model_module": "@jupyter-widgets/base",
            "_model_module_version": "1.2.0",
            "_model_name": "LayoutModel",
            "_view_count": null,
            "_view_module": "@jupyter-widgets/base",
            "_view_module_version": "1.2.0",
            "_view_name": "LayoutView",
            "align_content": null,
            "align_items": null,
            "align_self": null,
            "border": null,
            "bottom": null,
            "display": null,
            "flex": null,
            "flex_flow": null,
            "grid_area": null,
            "grid_auto_columns": null,
            "grid_auto_flow": null,
            "grid_auto_rows": null,
            "grid_column": null,
            "grid_gap": null,
            "grid_row": null,
            "grid_template_areas": null,
            "grid_template_columns": null,
            "grid_template_rows": null,
            "height": null,
            "justify_content": null,
            "justify_items": null,
            "left": null,
            "margin": null,
            "max_height": null,
            "max_width": null,
            "min_height": null,
            "min_width": null,
            "object_fit": null,
            "object_position": null,
            "order": null,
            "overflow": null,
            "overflow_x": null,
            "overflow_y": null,
            "padding": null,
            "right": null,
            "top": null,
            "visibility": null,
            "width": null
          }
        },
        "bf46da36e3cb4c189051526807013d77": {
          "model_module": "@jupyter-widgets/base",
          "model_module_version": "1.2.0",
          "model_name": "LayoutModel",
          "state": {
            "_model_module": "@jupyter-widgets/base",
            "_model_module_version": "1.2.0",
            "_model_name": "LayoutModel",
            "_view_count": null,
            "_view_module": "@jupyter-widgets/base",
            "_view_module_version": "1.2.0",
            "_view_name": "LayoutView",
            "align_content": null,
            "align_items": null,
            "align_self": null,
            "border": null,
            "bottom": null,
            "display": null,
            "flex": null,
            "flex_flow": null,
            "grid_area": null,
            "grid_auto_columns": null,
            "grid_auto_flow": null,
            "grid_auto_rows": null,
            "grid_column": null,
            "grid_gap": null,
            "grid_row": null,
            "grid_template_areas": null,
            "grid_template_columns": null,
            "grid_template_rows": null,
            "height": null,
            "justify_content": null,
            "justify_items": null,
            "left": null,
            "margin": null,
            "max_height": null,
            "max_width": null,
            "min_height": null,
            "min_width": null,
            "object_fit": null,
            "object_position": null,
            "order": null,
            "overflow": null,
            "overflow_x": null,
            "overflow_y": null,
            "padding": null,
            "right": null,
            "top": null,
            "visibility": null,
            "width": null
          }
        },
        "c2349e1e4fa84ba7ba97791ce61dab7c": {
          "model_module": "@jupyter-widgets/controls",
          "model_module_version": "1.5.0",
          "model_name": "DescriptionStyleModel",
          "state": {
            "_model_module": "@jupyter-widgets/controls",
            "_model_module_version": "1.5.0",
            "_model_name": "DescriptionStyleModel",
            "_view_count": null,
            "_view_module": "@jupyter-widgets/base",
            "_view_module_version": "1.2.0",
            "_view_name": "StyleView",
            "description_width": ""
          }
        },
        "c5a073860bc64be5b3be84cd0bd8eadb": {
          "model_module": "@jupyter-widgets/controls",
          "model_module_version": "1.5.0",
          "model_name": "ProgressStyleModel",
          "state": {
            "_model_module": "@jupyter-widgets/controls",
            "_model_module_version": "1.5.0",
            "_model_name": "ProgressStyleModel",
            "_view_count": null,
            "_view_module": "@jupyter-widgets/base",
            "_view_module_version": "1.2.0",
            "_view_name": "StyleView",
            "bar_color": null,
            "description_width": ""
          }
        },
        "c8cbd52f44a64e1d8d0987f519c89705": {
          "model_module": "@jupyter-widgets/controls",
          "model_module_version": "1.5.0",
          "model_name": "DescriptionStyleModel",
          "state": {
            "_model_module": "@jupyter-widgets/controls",
            "_model_module_version": "1.5.0",
            "_model_name": "DescriptionStyleModel",
            "_view_count": null,
            "_view_module": "@jupyter-widgets/base",
            "_view_module_version": "1.2.0",
            "_view_name": "StyleView",
            "description_width": ""
          }
        },
        "d2e7acc02edd4a54959152b128531b85": {
          "model_module": "@jupyter-widgets/controls",
          "model_module_version": "1.5.0",
          "model_name": "HTMLModel",
          "state": {
            "_dom_classes": [],
            "_model_module": "@jupyter-widgets/controls",
            "_model_module_version": "1.5.0",
            "_model_name": "HTMLModel",
            "_view_count": null,
            "_view_module": "@jupyter-widgets/controls",
            "_view_module_version": "1.5.0",
            "_view_name": "HTMLView",
            "description": "",
            "description_tooltip": null,
            "layout": "IPY_MODEL_9e0633a1ea934896951630135a186f7f",
            "placeholder": "​",
            "style": "IPY_MODEL_67489cff94a642ecb02c8cba113b896a",
            "value": "TRAIN BATCHES: 100%"
          }
        },
        "d33ae74801ff4403b2d61684b035233e": {
          "model_module": "@jupyter-widgets/controls",
          "model_module_version": "1.5.0",
          "model_name": "DescriptionStyleModel",
          "state": {
            "_model_module": "@jupyter-widgets/controls",
            "_model_module_version": "1.5.0",
            "_model_name": "DescriptionStyleModel",
            "_view_count": null,
            "_view_module": "@jupyter-widgets/base",
            "_view_module_version": "1.2.0",
            "_view_name": "StyleView",
            "description_width": ""
          }
        },
        "da5c4ccf43094c0aab9576cc9a664c22": {
          "model_module": "@jupyter-widgets/base",
          "model_module_version": "1.2.0",
          "model_name": "LayoutModel",
          "state": {
            "_model_module": "@jupyter-widgets/base",
            "_model_module_version": "1.2.0",
            "_model_name": "LayoutModel",
            "_view_count": null,
            "_view_module": "@jupyter-widgets/base",
            "_view_module_version": "1.2.0",
            "_view_name": "LayoutView",
            "align_content": null,
            "align_items": null,
            "align_self": null,
            "border": null,
            "bottom": null,
            "display": null,
            "flex": null,
            "flex_flow": null,
            "grid_area": null,
            "grid_auto_columns": null,
            "grid_auto_flow": null,
            "grid_auto_rows": null,
            "grid_column": null,
            "grid_gap": null,
            "grid_row": null,
            "grid_template_areas": null,
            "grid_template_columns": null,
            "grid_template_rows": null,
            "height": null,
            "justify_content": null,
            "justify_items": null,
            "left": null,
            "margin": null,
            "max_height": null,
            "max_width": null,
            "min_height": null,
            "min_width": null,
            "object_fit": null,
            "object_position": null,
            "order": null,
            "overflow": null,
            "overflow_x": null,
            "overflow_y": null,
            "padding": null,
            "right": null,
            "top": null,
            "visibility": null,
            "width": null
          }
        },
        "da5fa50b083449d1aabed4c4b346f12b": {
          "model_module": "@jupyter-widgets/base",
          "model_module_version": "1.2.0",
          "model_name": "LayoutModel",
          "state": {
            "_model_module": "@jupyter-widgets/base",
            "_model_module_version": "1.2.0",
            "_model_name": "LayoutModel",
            "_view_count": null,
            "_view_module": "@jupyter-widgets/base",
            "_view_module_version": "1.2.0",
            "_view_name": "LayoutView",
            "align_content": null,
            "align_items": null,
            "align_self": null,
            "border": null,
            "bottom": null,
            "display": null,
            "flex": null,
            "flex_flow": null,
            "grid_area": null,
            "grid_auto_columns": null,
            "grid_auto_flow": null,
            "grid_auto_rows": null,
            "grid_column": null,
            "grid_gap": null,
            "grid_row": null,
            "grid_template_areas": null,
            "grid_template_columns": null,
            "grid_template_rows": null,
            "height": null,
            "justify_content": null,
            "justify_items": null,
            "left": null,
            "margin": null,
            "max_height": null,
            "max_width": null,
            "min_height": null,
            "min_width": null,
            "object_fit": null,
            "object_position": null,
            "order": null,
            "overflow": null,
            "overflow_x": null,
            "overflow_y": null,
            "padding": null,
            "right": null,
            "top": null,
            "visibility": null,
            "width": null
          }
        },
        "dacf8bc8661148fc93a6b499f40bb2bb": {
          "model_module": "@jupyter-widgets/base",
          "model_module_version": "1.2.0",
          "model_name": "LayoutModel",
          "state": {
            "_model_module": "@jupyter-widgets/base",
            "_model_module_version": "1.2.0",
            "_model_name": "LayoutModel",
            "_view_count": null,
            "_view_module": "@jupyter-widgets/base",
            "_view_module_version": "1.2.0",
            "_view_name": "LayoutView",
            "align_content": null,
            "align_items": null,
            "align_self": null,
            "border": null,
            "bottom": null,
            "display": null,
            "flex": null,
            "flex_flow": null,
            "grid_area": null,
            "grid_auto_columns": null,
            "grid_auto_flow": null,
            "grid_auto_rows": null,
            "grid_column": null,
            "grid_gap": null,
            "grid_row": null,
            "grid_template_areas": null,
            "grid_template_columns": null,
            "grid_template_rows": null,
            "height": null,
            "justify_content": null,
            "justify_items": null,
            "left": null,
            "margin": null,
            "max_height": null,
            "max_width": null,
            "min_height": null,
            "min_width": null,
            "object_fit": null,
            "object_position": null,
            "order": null,
            "overflow": null,
            "overflow_x": null,
            "overflow_y": null,
            "padding": null,
            "right": null,
            "top": null,
            "visibility": null,
            "width": null
          }
        },
        "db6639e25f7b4c0b901de8190f4b26d8": {
          "model_module": "@jupyter-widgets/controls",
          "model_module_version": "1.5.0",
          "model_name": "ProgressStyleModel",
          "state": {
            "_model_module": "@jupyter-widgets/controls",
            "_model_module_version": "1.5.0",
            "_model_name": "ProgressStyleModel",
            "_view_count": null,
            "_view_module": "@jupyter-widgets/base",
            "_view_module_version": "1.2.0",
            "_view_name": "StyleView",
            "bar_color": null,
            "description_width": ""
          }
        },
        "dd8c8899bc3647b2aca4fe2b27c0e53b": {
          "model_module": "@jupyter-widgets/controls",
          "model_module_version": "1.5.0",
          "model_name": "HTMLModel",
          "state": {
            "_dom_classes": [],
            "_model_module": "@jupyter-widgets/controls",
            "_model_module_version": "1.5.0",
            "_model_name": "HTMLModel",
            "_view_count": null,
            "_view_module": "@jupyter-widgets/controls",
            "_view_module_version": "1.5.0",
            "_view_name": "HTMLView",
            "description": "",
            "description_tooltip": null,
            "layout": "IPY_MODEL_4e7e956b6fac44ba85cc0044debbe8e3",
            "placeholder": "​",
            "style": "IPY_MODEL_151b1376cc6f4452ae6bae343b93dc82",
            "value": " 0/0 [00:00&lt;?, ?it/s]"
          }
        },
        "e0bcf20ad788482898f4cf982689fd74": {
          "model_module": "@jupyter-widgets/controls",
          "model_module_version": "1.5.0",
          "model_name": "DescriptionStyleModel",
          "state": {
            "_model_module": "@jupyter-widgets/controls",
            "_model_module_version": "1.5.0",
            "_model_name": "DescriptionStyleModel",
            "_view_count": null,
            "_view_module": "@jupyter-widgets/base",
            "_view_module_version": "1.2.0",
            "_view_name": "StyleView",
            "description_width": ""
          }
        },
        "e1f74efdd13741d18c1ac7007306f98b": {
          "model_module": "@jupyter-widgets/controls",
          "model_module_version": "1.5.0",
          "model_name": "DescriptionStyleModel",
          "state": {
            "_model_module": "@jupyter-widgets/controls",
            "_model_module_version": "1.5.0",
            "_model_name": "DescriptionStyleModel",
            "_view_count": null,
            "_view_module": "@jupyter-widgets/base",
            "_view_module_version": "1.2.0",
            "_view_name": "StyleView",
            "description_width": ""
          }
        },
        "e36e2ffea99f4c07868e8cda7f74e180": {
          "model_module": "@jupyter-widgets/base",
          "model_module_version": "1.2.0",
          "model_name": "LayoutModel",
          "state": {
            "_model_module": "@jupyter-widgets/base",
            "_model_module_version": "1.2.0",
            "_model_name": "LayoutModel",
            "_view_count": null,
            "_view_module": "@jupyter-widgets/base",
            "_view_module_version": "1.2.0",
            "_view_name": "LayoutView",
            "align_content": null,
            "align_items": null,
            "align_self": null,
            "border": null,
            "bottom": null,
            "display": null,
            "flex": null,
            "flex_flow": null,
            "grid_area": null,
            "grid_auto_columns": null,
            "grid_auto_flow": null,
            "grid_auto_rows": null,
            "grid_column": null,
            "grid_gap": null,
            "grid_row": null,
            "grid_template_areas": null,
            "grid_template_columns": null,
            "grid_template_rows": null,
            "height": null,
            "justify_content": null,
            "justify_items": null,
            "left": null,
            "margin": null,
            "max_height": null,
            "max_width": null,
            "min_height": null,
            "min_width": null,
            "object_fit": null,
            "object_position": null,
            "order": null,
            "overflow": null,
            "overflow_x": null,
            "overflow_y": null,
            "padding": null,
            "right": null,
            "top": null,
            "visibility": null,
            "width": null
          }
        },
        "e444d333a25f4b36a6e977cc7a6b490f": {
          "model_module": "@jupyter-widgets/controls",
          "model_module_version": "1.5.0",
          "model_name": "HTMLModel",
          "state": {
            "_dom_classes": [],
            "_model_module": "@jupyter-widgets/controls",
            "_model_module_version": "1.5.0",
            "_model_name": "HTMLModel",
            "_view_count": null,
            "_view_module": "@jupyter-widgets/controls",
            "_view_module_version": "1.5.0",
            "_view_name": "HTMLView",
            "description": "",
            "description_tooltip": null,
            "layout": "IPY_MODEL_4884d03a1ebd49f6b1cd86c987679f93",
            "placeholder": "​",
            "style": "IPY_MODEL_e0bcf20ad788482898f4cf982689fd74",
            "value": " 40000/40000 [1:09:33&lt;00:00,  2.23it/s]"
          }
        },
        "e78ea3cf28c24af5867d7771d84f5bfc": {
          "model_module": "@jupyter-widgets/controls",
          "model_module_version": "1.5.0",
          "model_name": "HBoxModel",
          "state": {
            "_dom_classes": [],
            "_model_module": "@jupyter-widgets/controls",
            "_model_module_version": "1.5.0",
            "_model_name": "HBoxModel",
            "_view_count": null,
            "_view_module": "@jupyter-widgets/controls",
            "_view_module_version": "1.5.0",
            "_view_name": "HBoxView",
            "box_style": "",
            "children": [
              "IPY_MODEL_587e7e0438f94d26819fc8791dc3594d",
              "IPY_MODEL_ed15b8d083754729a1862e61a6b660b0",
              "IPY_MODEL_fa172f52aacd43ce953b3ad325d06187"
            ],
            "layout": "IPY_MODEL_a5e627aacac243418ff3cb900ac9397d"
          }
        },
        "ea6aade8259d4608951d429e58a2c072": {
          "model_module": "@jupyter-widgets/base",
          "model_module_version": "1.2.0",
          "model_name": "LayoutModel",
          "state": {
            "_model_module": "@jupyter-widgets/base",
            "_model_module_version": "1.2.0",
            "_model_name": "LayoutModel",
            "_view_count": null,
            "_view_module": "@jupyter-widgets/base",
            "_view_module_version": "1.2.0",
            "_view_name": "LayoutView",
            "align_content": null,
            "align_items": null,
            "align_self": null,
            "border": null,
            "bottom": null,
            "display": null,
            "flex": null,
            "flex_flow": null,
            "grid_area": null,
            "grid_auto_columns": null,
            "grid_auto_flow": null,
            "grid_auto_rows": null,
            "grid_column": null,
            "grid_gap": null,
            "grid_row": null,
            "grid_template_areas": null,
            "grid_template_columns": null,
            "grid_template_rows": null,
            "height": null,
            "justify_content": null,
            "justify_items": null,
            "left": null,
            "margin": null,
            "max_height": null,
            "max_width": null,
            "min_height": null,
            "min_width": null,
            "object_fit": null,
            "object_position": null,
            "order": null,
            "overflow": null,
            "overflow_x": null,
            "overflow_y": null,
            "padding": null,
            "right": null,
            "top": null,
            "visibility": null,
            "width": null
          }
        },
        "ed15b8d083754729a1862e61a6b660b0": {
          "model_module": "@jupyter-widgets/controls",
          "model_module_version": "1.5.0",
          "model_name": "FloatProgressModel",
          "state": {
            "_dom_classes": [],
            "_model_module": "@jupyter-widgets/controls",
            "_model_module_version": "1.5.0",
            "_model_name": "FloatProgressModel",
            "_view_count": null,
            "_view_module": "@jupyter-widgets/controls",
            "_view_module_version": "1.5.0",
            "_view_name": "ProgressView",
            "bar_style": "success",
            "description": "",
            "description_tooltip": null,
            "layout": "IPY_MODEL_be23df0188c24198a4a1e2ddf3cffefe",
            "max": 40000,
            "min": 0,
            "orientation": "horizontal",
            "style": "IPY_MODEL_a6849cc657a34888ab70bc20c4a1e1ba",
            "value": 40000
          }
        },
        "ee81f97548c4453dba406b3a5905b197": {
          "model_module": "@jupyter-widgets/controls",
          "model_module_version": "1.5.0",
          "model_name": "DescriptionStyleModel",
          "state": {
            "_model_module": "@jupyter-widgets/controls",
            "_model_module_version": "1.5.0",
            "_model_name": "DescriptionStyleModel",
            "_view_count": null,
            "_view_module": "@jupyter-widgets/base",
            "_view_module_version": "1.2.0",
            "_view_name": "StyleView",
            "description_width": ""
          }
        },
        "f8470dadeaf349808eca539f24b37d50": {
          "model_module": "@jupyter-widgets/controls",
          "model_module_version": "1.5.0",
          "model_name": "HTMLModel",
          "state": {
            "_dom_classes": [],
            "_model_module": "@jupyter-widgets/controls",
            "_model_module_version": "1.5.0",
            "_model_name": "HTMLModel",
            "_view_count": null,
            "_view_module": "@jupyter-widgets/controls",
            "_view_module_version": "1.5.0",
            "_view_name": "HTMLView",
            "description": "",
            "description_tooltip": null,
            "layout": "IPY_MODEL_da5c4ccf43094c0aab9576cc9a664c22",
            "placeholder": "​",
            "style": "IPY_MODEL_d33ae74801ff4403b2d61684b035233e",
            "value": " 50000/50000 [2:03:35&lt;00:00,  3.19s/it]"
          }
        },
        "fa172f52aacd43ce953b3ad325d06187": {
          "model_module": "@jupyter-widgets/controls",
          "model_module_version": "1.5.0",
          "model_name": "HTMLModel",
          "state": {
            "_dom_classes": [],
            "_model_module": "@jupyter-widgets/controls",
            "_model_module_version": "1.5.0",
            "_model_name": "HTMLModel",
            "_view_count": null,
            "_view_module": "@jupyter-widgets/controls",
            "_view_module_version": "1.5.0",
            "_view_name": "HTMLView",
            "description": "",
            "description_tooltip": null,
            "layout": "IPY_MODEL_8ff7ee019fa44680b02fa0337bf3bb7b",
            "placeholder": "​",
            "style": "IPY_MODEL_e1f74efdd13741d18c1ac7007306f98b",
            "value": " 40000/40000 [1:07:45&lt;00:00, 11.97it/s]"
          }
        }
      }
    }
  },
  "nbformat": 4,
  "nbformat_minor": 0
}
