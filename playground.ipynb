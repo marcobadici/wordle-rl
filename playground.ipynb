{
 "cells": [
  {
   "cell_type": "code",
   "execution_count": 18,
   "metadata": {},
   "outputs": [
    {
     "name": "stdout",
     "output_type": "stream",
     "text": [
      "The autoreload extension is already loaded. To reload it, use:\n",
      "  %reload_ext autoreload\n"
     ]
    }
   ],
   "source": [
    "%load_ext autoreload\n",
    "%autoreload 2\n",
    "\n",
    "from wordle.wordlenp import Wordle\n",
    "from environment.environment import Environment, StateYesNo, ActionVocabulary\n",
    "from dqn.agent import Agent\n",
    "from dqn.train import train\n",
    "import torch"
   ]
  },
  {
   "cell_type": "code",
   "execution_count": 19,
   "metadata": {},
   "outputs": [],
   "source": [
    "# init environment\n",
    "rewards = {'B':0, 'Y':1, 'G':1, 'win':10, 'lose':-10, 'step':-2}\n",
    "env = Environment(\n",
    "    rewards=rewards,\n",
    "    wordle=Wordle(),\n",
    "    state_instance=StateYesNo())\n",
    "\n",
    "# init action\n",
    "agent = Agent(\n",
    "    state_size=env.state.size,\n",
    "    action_size=len(env.wordle.vocabulary),\n",
    "    action_constructor=ActionVocabulary)"
   ]
  },
  {
   "cell_type": "code",
   "execution_count": 20,
   "metadata": {},
   "outputs": [
    {
     "name": "stdout",
     "output_type": "stream",
     "text": [
      "\n",
      "Episode  100\tAverage Score: -16.29\tSuccess Rate: 0.0%\tDuration: 0.9\n",
      "\n",
      "Episode  200\tAverage Score: -17.13\tSuccess Rate: 0.0%\tDuration: 2.0\n",
      "\n",
      "Episode  300\tAverage Score: -16.68\tSuccess Rate: 0.0%\tDuration: 46.6\n",
      "\n",
      "Episode  400\tAverage Score: -15.67\tSuccess Rate: 0.0%\tDuration: 92.7\n"
     ]
    },
    {
     "ename": "KeyboardInterrupt",
     "evalue": "",
     "output_type": "error",
     "traceback": [
      "\u001b[0;31m---------------------------------------------------------------------------\u001b[0m",
      "\u001b[0;31mKeyboardInterrupt\u001b[0m                         Traceback (most recent call last)",
      "\u001b[1;32m/home/ilya/repos/wordle-rl/playground.ipynb Cell 3\u001b[0m in \u001b[0;36m1\n\u001b[0;32m----> <a href='vscode-notebook-cell:/home/ilya/repos/wordle-rl/playground.ipynb#W6sZmlsZQ%3D%3D?line=0'>1</a>\u001b[0m train(env\u001b[39m=\u001b[39;49menv, agent\u001b[39m=\u001b[39;49magent)\n",
      "File \u001b[0;32m~/repos/wordle-rl/dqn/train.py:48\u001b[0m, in \u001b[0;36mtrain\u001b[0;34m(env, agent, n_episodes, eps_start, eps_end, eps_decay)\u001b[0m\n\u001b[1;32m     45\u001b[0m next_state, reward, done \u001b[39m=\u001b[39m env\u001b[39m.\u001b[39mstep(action)\n\u001b[1;32m     47\u001b[0m \u001b[39m# collect replay and learn from buffer\u001b[39;00m\n\u001b[0;32m---> 48\u001b[0m agent\u001b[39m.\u001b[39;49mstep(state, action, reward, next_state, done)\n\u001b[1;32m     50\u001b[0m \u001b[39m# collect reward and\u001b[39;00m\n\u001b[1;32m     51\u001b[0m score \u001b[39m+\u001b[39m\u001b[39m=\u001b[39m reward\n",
      "File \u001b[0;32m~/repos/wordle-rl/dqn/agent.py:86\u001b[0m, in \u001b[0;36mAgent.step\u001b[0;34m(self, state, action, reward, next_state, done)\u001b[0m\n\u001b[1;32m     82\u001b[0m \u001b[39mif\u001b[39;00m \u001b[39mself\u001b[39m\u001b[39m.\u001b[39mt_step_nn \u001b[39m==\u001b[39m \u001b[39m0\u001b[39m:\n\u001b[1;32m     83\u001b[0m     \u001b[39mif\u001b[39;00m \u001b[39mself\u001b[39m\u001b[39m.\u001b[39mmemory\u001b[39m.\u001b[39mn_collected \u001b[39m>\u001b[39m SAMPLE_SIZE:\n\u001b[1;32m     84\u001b[0m         \u001b[39m# if enough samples are available in memory\u001b[39;00m\n\u001b[1;32m     85\u001b[0m         \u001b[39m# get random subset and learn\u001b[39;00m\n\u001b[0;32m---> 86\u001b[0m         \u001b[39mself\u001b[39;49m\u001b[39m.\u001b[39;49mlearn(\u001b[39mself\u001b[39;49m\u001b[39m.\u001b[39;49mmemory\u001b[39m.\u001b[39;49msample(), GAMMA)\n\u001b[1;32m     88\u001b[0m \u001b[39mif\u001b[39;00m \u001b[39mself\u001b[39m\u001b[39m.\u001b[39mt_step_mem \u001b[39m==\u001b[39m \u001b[39m0\u001b[39m:\n\u001b[1;32m     89\u001b[0m     \u001b[39mself\u001b[39m\u001b[39m.\u001b[39mmemory\u001b[39m.\u001b[39mupdate_sample()\n",
      "File \u001b[0;32m~/repos/wordle-rl/dqn/agent.py:141\u001b[0m, in \u001b[0;36mAgent.learn\u001b[0;34m(self, sampling, gamma)\u001b[0m\n\u001b[1;32m    139\u001b[0m \u001b[39m# train local network\u001b[39;00m\n\u001b[1;32m    140\u001b[0m \u001b[39mself\u001b[39m\u001b[39m.\u001b[39moptimizer\u001b[39m.\u001b[39mzero_grad()\n\u001b[0;32m--> 141\u001b[0m loss\u001b[39m.\u001b[39;49mbackward()\n\u001b[1;32m    142\u001b[0m \u001b[39mself\u001b[39m\u001b[39m.\u001b[39moptimizer\u001b[39m.\u001b[39mstep()\n\u001b[1;32m    144\u001b[0m \u001b[39m# update target network\u001b[39;00m\n",
      "File \u001b[0;32m~/.local/lib/python3.10/site-packages/torch/_tensor.py:488\u001b[0m, in \u001b[0;36mTensor.backward\u001b[0;34m(self, gradient, retain_graph, create_graph, inputs)\u001b[0m\n\u001b[1;32m    478\u001b[0m \u001b[39mif\u001b[39;00m has_torch_function_unary(\u001b[39mself\u001b[39m):\n\u001b[1;32m    479\u001b[0m     \u001b[39mreturn\u001b[39;00m handle_torch_function(\n\u001b[1;32m    480\u001b[0m         Tensor\u001b[39m.\u001b[39mbackward,\n\u001b[1;32m    481\u001b[0m         (\u001b[39mself\u001b[39m,),\n\u001b[0;32m   (...)\u001b[0m\n\u001b[1;32m    486\u001b[0m         inputs\u001b[39m=\u001b[39minputs,\n\u001b[1;32m    487\u001b[0m     )\n\u001b[0;32m--> 488\u001b[0m torch\u001b[39m.\u001b[39;49mautograd\u001b[39m.\u001b[39;49mbackward(\n\u001b[1;32m    489\u001b[0m     \u001b[39mself\u001b[39;49m, gradient, retain_graph, create_graph, inputs\u001b[39m=\u001b[39;49minputs\n\u001b[1;32m    490\u001b[0m )\n",
      "File \u001b[0;32m~/.local/lib/python3.10/site-packages/torch/autograd/__init__.py:197\u001b[0m, in \u001b[0;36mbackward\u001b[0;34m(tensors, grad_tensors, retain_graph, create_graph, grad_variables, inputs)\u001b[0m\n\u001b[1;32m    192\u001b[0m     retain_graph \u001b[39m=\u001b[39m create_graph\n\u001b[1;32m    194\u001b[0m \u001b[39m# The reason we repeat same the comment below is that\u001b[39;00m\n\u001b[1;32m    195\u001b[0m \u001b[39m# some Python versions print out the first line of a multi-line function\u001b[39;00m\n\u001b[1;32m    196\u001b[0m \u001b[39m# calls in the traceback and some print out the last line\u001b[39;00m\n\u001b[0;32m--> 197\u001b[0m Variable\u001b[39m.\u001b[39;49m_execution_engine\u001b[39m.\u001b[39;49mrun_backward(  \u001b[39m# Calls into the C++ engine to run the backward pass\u001b[39;49;00m\n\u001b[1;32m    198\u001b[0m     tensors, grad_tensors_, retain_graph, create_graph, inputs,\n\u001b[1;32m    199\u001b[0m     allow_unreachable\u001b[39m=\u001b[39;49m\u001b[39mTrue\u001b[39;49;00m, accumulate_grad\u001b[39m=\u001b[39;49m\u001b[39mTrue\u001b[39;49;00m)\n",
      "\u001b[0;31mKeyboardInterrupt\u001b[0m: "
     ]
    }
   ],
   "source": [
    "train(env=env, agent=agent)"
   ]
  }
 ],
 "metadata": {
  "kernelspec": {
   "display_name": "Python 3",
   "language": "python",
   "name": "python3"
  },
  "language_info": {
   "codemirror_mode": {
    "name": "ipython",
    "version": 3
   },
   "file_extension": ".py",
   "mimetype": "text/x-python",
   "name": "python",
   "nbconvert_exporter": "python",
   "pygments_lexer": "ipython3",
   "version": "3.10.6"
  },
  "orig_nbformat": 4
 },
 "nbformat": 4,
 "nbformat_minor": 2
}
