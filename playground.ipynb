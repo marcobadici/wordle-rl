{
  "cells": [
    {
      "cell_type": "markdown",
      "metadata": {
        "id": "H7DAM3GBo9Jd"
      },
      "source": [
        "# Testcase"
      ]
    },
    {
      "cell_type": "code",
      "execution_count": 19,
      "metadata": {
        "id": "sfECmbvbo9Ji"
      },
      "outputs": [
        {
          "name": "stdout",
          "output_type": "stream",
          "text": [
            "The autoreload extension is already loaded. To reload it, use:\n",
            "  %reload_ext autoreload\n"
          ]
        }
      ],
      "source": [
        "%load_ext autoreload\n",
        "%autoreload 2\n",
        "\n",
        "from functools import partial\n",
        "\n",
        "from wordle.wordlenp import Wordle\n",
        "from environment.environment import Environment, StateYesNo, StateVocabulary, ActionVocabulary\n",
        "from dqn.agent import Agent\n",
        "from dqn.train import train, test\n",
        "\n",
        "import torch\n",
        "import numpy as np\n",
        "np.random.seed(0)"
      ]
    },
    {
      "cell_type": "markdown",
      "metadata": {
        "id": "PSty1zZfo9Jl"
      },
      "source": [
        "## Датасеты"
      ]
    },
    {
      "cell_type": "code",
      "execution_count": 20,
      "metadata": {
        "id": "k1YLmWP3o9Jm"
      },
      "outputs": [],
      "source": [
        "word_list = Wordle._load_vocabulary('wordle/guesses.txt', astype=np.array)\n",
        "\n",
        "def make_data(n_answers, n_guesses):\n",
        "    guesses = np.random.choice(word_list, size=n_guesses, replace=False)\n",
        "    answers = np.random.choice(guesses, size=n_answers, replace=False)\n",
        "    return answers, guesses"
      ]
    },
    {
      "cell_type": "markdown",
      "metadata": {
        "id": "XkpsKHBDo9Jn"
      },
      "source": [
        "### 10 answers, 100 guesses"
      ]
    },
    {
      "cell_type": "code",
      "execution_count": 21,
      "metadata": {
        "id": "zC0apMvDo9Jo",
        "outputId": "6f0cc2c6-62fa-4972-9a6d-3e42ca6c2719"
      },
      "outputs": [
        {
          "name": "stdout",
          "output_type": "stream",
          "text": [
            "['abmho' 'cites' 'aware' 'blays' 'acker' 'rawin' 'anile' 'eorls' 'feers'\n",
            " 'sadza']\n"
          ]
        }
      ],
      "source": [
        "answers_10_100, guesses_10_100 = make_data(10, 100)\n",
        "print(answers_10_100)"
      ]
    },
    {
      "cell_type": "markdown",
      "metadata": {
        "id": "88h7mFnko9Jp"
      },
      "source": [
        "### 100 answers, 100 guesses"
      ]
    },
    {
      "cell_type": "code",
      "execution_count": 22,
      "metadata": {
        "id": "WY6bCEq7o9Jq",
        "outputId": "400f92c7-ea94-4c15-9c2b-41329c1a0f55"
      },
      "outputs": [
        {
          "name": "stdout",
          "output_type": "stream",
          "text": [
            "['lilac' 'orles' 'twirl' 'unled' 'sings' 'grind' 'sheaf' 'benny' 'slews'\n",
            " 'karst' 'rimus' 'lossy' 'joker' 'leash' 'scopa' 'viols' 'giron' 'raiks'\n",
            " 'lummy' 'renig' 'tinds' 'infos' 'logon' 'drill' 'gudes' 'ammon' 'bhoot'\n",
            " 'hurry' 'noils' 'coven' 'beryl' 'margs' 'sorbo' 'momes' 'scald' 'potch'\n",
            " 'flows' 'torus' 'prill' 'scuts' 'brith' 'tamin' 'sewar' 'joram' 'aldol'\n",
            " 'hazel' 'texes' 'sibbs' 'truth' 'spoil' 'hames' 'actin' 'maces' 'rayas'\n",
            " 'thuya' 'sugan' 'felly' 'newsy' 'bolos' 'mimeo' 'chems' 'dicty' 'liefs'\n",
            " 'scuff' 'burps' 'abyes' 'zones' 'cuspy' 'kerve' 'haith' 'amino' 'zygal'\n",
            " 'kokum' 'zambo' 'icier' 'piers' 'sambo' 'laden' 'barge' 'solei' 'mauts'\n",
            " 'groat' 'pearl' 'curse' 'jujus' 'troop' 'bilge' 'sibyl' 'gassy' 'elain'\n",
            " 'daube' 'feyly' 'duals' 'hoper' 'hains' 'beige' 'poove' 'miffy' 'lesbo'\n",
            " 'dawds']\n"
          ]
        }
      ],
      "source": [
        "answers_100_100, guesses_100_100 = make_data(100, 100)\n",
        "print(answers_100_100)"
      ]
    },
    {
      "cell_type": "markdown",
      "metadata": {
        "id": "IBCQ-xvto9Jq"
      },
      "source": [
        "### 50 answers, 200 guesses"
      ]
    },
    {
      "cell_type": "code",
      "execution_count": 23,
      "metadata": {
        "id": "XaNIzQh5o9Jr",
        "outputId": "d08343fc-ea3d-4614-8171-703df08cfb3b"
      },
      "outputs": [
        {
          "name": "stdout",
          "output_type": "stream",
          "text": [
            "['toran' 'burka' 'umpie' 'brock' 'civic' 'beige' 'hoiks' 'biffo' 'nagas'\n",
            " 'sheol' 'malls' 'matzo' 'peeve' 'deshi' 'mooli' 'scaud' 'ameba' 'wadds'\n",
            " 'bayts' 'glees' 'kaput' 'bitos' 'comae' 'dosed' 'rabis' 'neats' 'tutti'\n",
            " 'stays' 'smoky' 'chase' 'resaw' 'simas' 'sowne' 'rorid' 'rebec' 'deawy'\n",
            " 'hinny' 'sores' 'cerge' 'yogas' 'fouet' 'wheel' 'sowfs' 'talus' 'yabas'\n",
            " 'topee' 'sabin' 'unbox' 'dyers' 'qophs']\n"
          ]
        }
      ],
      "source": [
        "answers_50_200, guesses_50_200 = make_data(50, 200)\n",
        "print(answers_50_200)"
      ]
    },
    {
      "cell_type": "markdown",
      "metadata": {
        "id": "ZiJDpKE2o9Jr"
      },
      "source": [
        "### 200 answers, 200 guesses"
      ]
    },
    {
      "cell_type": "code",
      "execution_count": 24,
      "metadata": {
        "id": "A7su7MaMo9Jr",
        "outputId": "592a9b8b-a61c-4bac-8403-6b1e371b5f67"
      },
      "outputs": [
        {
          "name": "stdout",
          "output_type": "stream",
          "text": [
            "['unled' 'shirk' 'horks' 'veena' 'winna' 'amate' 'scape' 'sunup' 'dukka'\n",
            " 'alway' 'typey' 'sated' 'sepic' 'vagal' 'dangs' 'bitts' 'giust' 'amice'\n",
            " 'roper' 'molys' 'moira' 'rosed' 'salut' 'cling' 'moles' 'azuki' 'chelp'\n",
            " 'lurve' 'mavin' 'scath' 'empty' 'stele' 'deoxy' 'zuzim' 'roupy' 'briar'\n",
            " 'anode' 'chest' 'moola' 'south' 'grimy' 'chats' 'joint' 'teuch' 'ticca'\n",
            " 'drouk' 'shops' 'fleer' 'olent' 'mucus' 'tryps' 'tices' 'broil' 'thema'\n",
            " 'rangy' 'ceric' 'jelly' 'ohmic' 'repay' 'drops' 'wills' 'aulos' 'hoied'\n",
            " 'trefa' 'strut' 'nutsy' 'twoer' 'anomy' 'adhan' 'ingot' 'hooey' 'sluts'\n",
            " 'sicks' 'cotes' 'bodge' 'weber' 'agism' 'texas' 'tommy' 'plumy' 'amido'\n",
            " 'cobbs' 'mamma' 'repot' 'whist' 'bloat' 'welts' 'flexo' 'loves' 'hussy'\n",
            " 'sower' 'noahs' 'roses' 'wents' 'chase' 'manul' 'muons' 'silds' 'yacka'\n",
            " 'okapi' 'maqui' 'mbira' 'ponga' 'romal' 'schul' 'sonny' 'coram' 'hived'\n",
            " 'lupus' 'segol' 'kybos' 'birch' 'leeze' 'golly' 'yokes' 'pulse' 'onely'\n",
            " 'curve' 'bonds' 'cosey' 'lemon' 'cruds' 'bachs' 'trigo' 'gears' 'hasty'\n",
            " 'dyads' 'diddy' 'fetas' 'gauje' 'pesky' 'yogic' 'doats' 'laith' 'roost'\n",
            " 'cloze' 'meows' 'capex' 'aking' 'skeer' 'trass' 'scars' 'maths' 'dowle'\n",
            " 'razoo' 'ragas' 'rucks' 'floss' 'welch' 'lurex' 'sutta' 'bedim' 'caulk'\n",
            " 'ready' 'omega' 'kamas' 'thaws' 'dobes' 'furor' 'bydes' 'aarti' 'cymol'\n",
            " 'treyf' 'hiois' 'apode' 'creme' 'skosh' 'djins' 'dusts' 'uncoy' 'angel'\n",
            " 'twirp' 'primy' 'etats' 'rases' 'dukas' 'lands' 'ditsy' 'saunt' 'coppy'\n",
            " 'ganev' 'ripps' 'razor' 'waite' 'diota' 'booms' 'verge' 'azoth' 'allow'\n",
            " 'jenny' 'pshaw' 'royne' 'linga' 'afore' 'shakt' 'kines' 'aweel' 'yowza'\n",
            " 'lirot' 'izzat']\n"
          ]
        }
      ],
      "source": [
        "answers_200_200, guesses_200_200 = make_data(200, 200)\n",
        "print(answers_200_200)"
      ]
    },
    {
      "cell_type": "markdown",
      "metadata": {
        "id": "_y8uiOLro9Js"
      },
      "source": [
        "### 100 answers, 2000 guesses"
      ]
    },
    {
      "cell_type": "code",
      "execution_count": 25,
      "metadata": {
        "id": "95mdLNsio9Js",
        "outputId": "bac92fa3-3078-4e22-e1ad-8d33af79f719"
      },
      "outputs": [
        {
          "name": "stdout",
          "output_type": "stream",
          "text": [
            "['layed' 'blady' 'welks' 'seame' 'ahing' 'stong' 'basks' 'oracy' 'trone'\n",
            " 'coved' 'agita' 'trust' 'kayak' 'giros' 'domed' 'yamen' 'delay' 'navvy'\n",
            " 'carby' 'tizes' 'hoses' 'daffs' 'diver' 'notch' 'slink' 'namma' 'drown'\n",
            " 'carks' 'pepsi' 'hoors' 'erect' 'benis' 'panty' 'cowps' 'amble' 'bitte'\n",
            " 'braid' 'murrs' 'coomb' 'stylo' 'imine' 'gatch' 'claes' 'smirr' 'cotts'\n",
            " 'fiats' 'paths' 'zoeae' 'cuing' 'dauts' 'boink' 'scops' 'staps' 'sanes'\n",
            " 'saute' 'gauss' 'shily' 'icing' 'pleat' 'signa' 'araba' 'flirt' 'begot'\n",
            " 'flier' 'ahent' 'mvule' 'kiack' 'glair' 'harim' 'sibyl' 'sudds' 'fines'\n",
            " 'carps' 'atlas' 'cloye' 'seams' 'wawas' 'repin' 'vives' 'linch' 'unwit'\n",
            " 'coapt' 'derth' 'deoxy' 'tases' 'pulmo' 'rhyne' 'unify' 'taish' 'gucks'\n",
            " 'hovel' 'culms' 'ennog' 'oonts' 'honor' 'afald' 'plain' 'fusee' 'utter'\n",
            " 'whins']\n"
          ]
        }
      ],
      "source": [
        "answers_100_2000, guesses_100_2000 = make_data(100, 2000)\n",
        "print(answers_100_2000)"
      ]
    },
    {
      "cell_type": "markdown",
      "metadata": {
        "id": "bvUjljxzo9Js"
      },
      "source": [
        "## Rewards"
      ]
    },
    {
      "cell_type": "markdown",
      "metadata": {
        "id": "xymQ1CMOo9Jt"
      },
      "source": [
        "Тестирую разные способы задания награды."
      ]
    },
    {
      "cell_type": "code",
      "execution_count": 26,
      "metadata": {
        "id": "RKVtnySko9Jt"
      },
      "outputs": [],
      "source": [
        "soft_rewards = {'B':1, 'Y':2, 'G':3, 'win':20, 'lose':-10, 'step':-4}\n",
        "hard_rewards = {'B':0, 'Y':0, 'G':0, 'win':10, 'lose':-10, 'step':-2}\n",
        "step_rewards = {'B':0, 'Y':1, 'G':1, 'win':10, 'lose':-10, 'step':-5}\n",
        "char_rewards = {'B':0, 'Y':1, 'G':1, 'win':10, 'lose':-10, 'step':-2}"
      ]
    },
    {
      "cell_type": "code",
      "execution_count": 27,
      "metadata": {
        "id": "pWFQakxrLYA5"
      },
      "outputs": [],
      "source": [
        "def experiment(rewards, answers, guesses, n_episodes, logging_level=None):\n",
        "  env = Environment(\n",
        "      rewards=rewards,  # !\n",
        "      wordle=Wordle(vocabulary=guesses, answers=answers),\n",
        "      state_instance=StateYesNo()\n",
        "  )\n",
        "\n",
        "  agent = Agent(\n",
        "      state_size=env.state.size,\n",
        "      action_size=len(guesses),\n",
        "      action_constructor=partial(ActionVocabulary, vocabulary=guesses)\n",
        "  )\n",
        "\n",
        "  train(env=env, agent=agent, n_episodes=n_episodes, logging_level=logging_level)\n",
        "  test(env=env, agent=agent)"
      ]
    },
    {
      "cell_type": "markdown",
      "metadata": {
        "id": "u6SwlTeRLVUz"
      },
      "source": [
        "### Soft"
      ]
    },
    {
      "cell_type": "code",
      "execution_count": 28,
      "metadata": {},
      "outputs": [
        {
          "name": "stdout",
          "output_type": "stream",
          "text": [
            "\n",
            "Episode  500\tScore: 12.88\tSuccess Rate: 69.0%\tDuration: 23.5 s\n",
            "\n",
            "Episode 1000\tScore: 15.33\tSuccess Rate: 75.0%\tDuration: 41.8 s\n",
            "\n",
            "Episode 1500\tScore: 19.52\tSuccess Rate: 86.0%\tDuration: 60.2 s\n",
            "\n",
            "Episode 2000\tScore: 23.09\tSuccess Rate: 94.0%\tDuration: 78.7 s\n",
            "\n",
            "Episode 2500\tScore: 21.20\tSuccess Rate: 89.0%\tDuration: 98.0 s\n",
            "\n",
            "Episode 3000\tScore: 22.01\tSuccess Rate: 90.0%\tDuration: 120.1 s\n",
            "\n",
            "Episode 3500\tScore: 22.53\tSuccess Rate: 91.0%\tDuration: 140.6 s\n",
            "\n",
            "Episode 4000\tScore: 24.83\tSuccess Rate: 97.0%\tDuration: 163.0 s\n",
            "\n",
            "Episode 4500\tScore: 24.18\tSuccess Rate: 95.0%\tDuration: 185.9 s\n",
            "\n",
            "Episode 5000\tScore: 26.14\tSuccess Rate: 99.0%\tDuration: 214.2 s\n",
            "Success: 9 / 10 (90.0000%)\tSteps: 4.8889\tTime: 0.1 s\tSaved to: test18-03-2023-08:54:38.txt\n",
            "\n"
          ]
        }
      ],
      "source": [
        "experiment(soft_rewards, answers_10_100, guesses_10_100, 5000)"
      ]
    },
    {
      "cell_type": "code",
      "execution_count": 29,
      "metadata": {},
      "outputs": [
        {
          "name": "stdout",
          "output_type": "stream",
          "text": [
            "\n",
            "Episode 2000\tScore: -1.92\tSuccess Rate: 18.0%\tDuration: 119.6 s\n",
            "\n",
            "Episode 4000\tScore: 3.61\tSuccess Rate: 33.0%\tDuration: 239.6 s\n",
            "\n",
            "Episode 6000\tScore: 9.42\tSuccess Rate: 50.0%\tDuration: 357.7 s\n",
            "\n",
            "Episode 8000\tScore: 10.80\tSuccess Rate: 53.0%\tDuration: 471.9 s\n",
            "\n",
            "Episode 10000\tScore: 13.80\tSuccess Rate: 64.0%\tDuration: 584.8 s\n",
            "\n",
            "Episode 12000\tScore: 15.84\tSuccess Rate: 69.0%\tDuration: 698.1 s\n",
            "\n",
            "Episode 14000\tScore: 18.10\tSuccess Rate: 76.0%\tDuration: 812.4 s\n",
            "\n",
            "Episode 16000\tScore: 17.27\tSuccess Rate: 75.0%\tDuration: 927.9 s\n",
            "\n",
            "Episode 18000\tScore: 17.45\tSuccess Rate: 75.0%\tDuration: 1045.6 s\n",
            "\n",
            "Episode 20000\tScore: 16.96\tSuccess Rate: 73.0%\tDuration: 1169.8 s\n",
            "Success: 78 / 100 (78.0000%)\tSteps: 4.2564\tTime: 0.6 s\tSaved to: test18-03-2023-09:14:08.txt\n",
            "\n"
          ]
        }
      ],
      "source": [
        "experiment(soft_rewards, answers_100_100, guesses_100_100, 20000)"
      ]
    },
    {
      "cell_type": "markdown",
      "metadata": {
        "id": "2QqT79_gLm_9"
      },
      "source": [
        "### Hard"
      ]
    },
    {
      "cell_type": "code",
      "execution_count": 30,
      "metadata": {},
      "outputs": [
        {
          "name": "stdout",
          "output_type": "stream",
          "text": [
            "\n",
            "Episode  500\tScore: -6.78\tSuccess Rate: 47.0%\tDuration: 20.7 s\n",
            "\n",
            "Episode 1000\tScore: 2.46\tSuccess Rate: 80.0%\tDuration: 38.2 s\n",
            "\n",
            "Episode 1500\tScore: 7.16\tSuccess Rate: 98.0%\tDuration: 54.0 s\n",
            "\n",
            "Episode 2000\tScore: 7.96\tSuccess Rate: 100.0%\tDuration: 68.7 s\n",
            "\n",
            "Episode 2500\tScore: 7.98\tSuccess Rate: 100.0%\tDuration: 98.5 s\n",
            "\n",
            "Episode 3000\tScore: 7.46\tSuccess Rate: 100.0%\tDuration: 120.3 s\n",
            "\n",
            "Episode 3500\tScore: 5.24\tSuccess Rate: 91.0%\tDuration: 132.0 s\n",
            "\n",
            "Episode 4000\tScore: 8.28\tSuccess Rate: 100.0%\tDuration: 142.9 s\n",
            "\n",
            "Episode 4500\tScore: 5.28\tSuccess Rate: 94.0%\tDuration: 155.8 s\n",
            "\n",
            "Episode 5000\tScore: 5.98\tSuccess Rate: 94.0%\tDuration: 169.3 s\n",
            "Success: 10 / 10 (100.0000%)\tSteps: 1.9000\tTime: 0.0 s\tSaved to: test18-03-2023-09:16:59.txt\n",
            "\n"
          ]
        }
      ],
      "source": [
        "experiment(hard_rewards, answers_10_100, guesses_10_100, 5000)"
      ]
    },
    {
      "cell_type": "code",
      "execution_count": 31,
      "metadata": {},
      "outputs": [
        {
          "name": "stdout",
          "output_type": "stream",
          "text": [
            "\n",
            "Episode 2000\tScore: -15.00\tSuccess Rate: 19.0%\tDuration: 118.7 s\n"
          ]
        }
      ],
      "source": [
        "experiment(hard_rewards, answers_100_100, guesses_100_100, 20000)"
      ]
    },
    {
      "cell_type": "markdown",
      "metadata": {
        "id": "HLo5p8ugLsw1"
      },
      "source": [
        "### Step"
      ]
    },
    {
      "cell_type": "code",
      "execution_count": null,
      "metadata": {},
      "outputs": [],
      "source": [
        "experiment(step_rewards, answers_10_100, guesses_10_100, 20000)"
      ]
    },
    {
      "cell_type": "code",
      "execution_count": null,
      "metadata": {},
      "outputs": [],
      "source": [
        "experiment(step_rewards, answers_100_100, guesses_100_100, 20000)"
      ]
    },
    {
      "cell_type": "markdown",
      "metadata": {
        "id": "BBtmu615MYIM"
      },
      "source": [
        "### Char"
      ]
    },
    {
      "cell_type": "code",
      "execution_count": null,
      "metadata": {},
      "outputs": [],
      "source": [
        "experiment(char_rewards, answers_10_100, guesses_10_100, 20000)"
      ]
    },
    {
      "cell_type": "code",
      "execution_count": null,
      "metadata": {},
      "outputs": [],
      "source": [
        "experiment(char_rewards, answers_100_100, guesses_100_100, 20000)"
      ]
    },
    {
      "cell_type": "markdown",
      "metadata": {
        "id": "NOu81lF2o9Jt"
      },
      "source": [
        "## States"
      ]
    },
    {
      "cell_type": "markdown",
      "metadata": {
        "id": "rGBySZq2o9Ju"
      },
      "source": [
        "Тестирую разные способы задания состояния"
      ]
    },
    {
      "cell_type": "markdown",
      "metadata": {
        "id": "oGEwB2Hvo9Ju"
      },
      "source": [
        "### StateYesNo"
      ]
    },
    {
      "cell_type": "code",
      "execution_count": null,
      "metadata": {
        "id": "h-l8p6ujr9XH"
      },
      "outputs": [],
      "source": [
        "def experiment(answers, guesses, n_episodes, logging_level=None):\n",
        "  env = Environment(\n",
        "      rewards=lett_rewards,\n",
        "      wordle=Wordle(vocabulary=guesses, answers=answers),\n",
        "      state_instance=StateYesNo()\n",
        "  )\n",
        "\n",
        "  agent = Agent(\n",
        "      state_size=env.state.size,\n",
        "      action_size=len(env.wordle.vocabulary),\n",
        "      action_constructor=partial(ActionVocabulary, vocabulary=guesses)\n",
        "  )\n",
        "\n",
        "  train(env=env, agent=agent, n_episodes=n_episodes, logging_level=logging_level)\n",
        "  test(env=env, agent=agent)"
      ]
    },
    {
      "cell_type": "code",
      "execution_count": null,
      "metadata": {
        "id": "tA9RSM7Vo9Ju"
      },
      "outputs": [],
      "source": [
        "experiment(answers_10_100, guesses_10_100, 5000)"
      ]
    },
    {
      "cell_type": "code",
      "execution_count": null,
      "metadata": {
        "id": "vFlqnykMo9Jv"
      },
      "outputs": [],
      "source": [
        "experiment(answers_100_100, guesses_100_100, 20000)"
      ]
    },
    {
      "cell_type": "code",
      "execution_count": null,
      "metadata": {
        "id": "4T4SEw3eo9Jx"
      },
      "outputs": [],
      "source": [
        "experiment(answers_50_200, guesses_50_200, 20000)"
      ]
    },
    {
      "cell_type": "code",
      "execution_count": null,
      "metadata": {
        "id": "ZxI8ywEdo9Jy"
      },
      "outputs": [],
      "source": [
        "experiment(answers_200_200, guesses_200_200, 30000)"
      ]
    },
    {
      "cell_type": "code",
      "execution_count": null,
      "metadata": {
        "id": "XWUU7AAqo9Jy"
      },
      "outputs": [],
      "source": [
        "experiment(answers_100_2000, guesses_100_2000, 50000)"
      ]
    },
    {
      "cell_type": "markdown",
      "metadata": {
        "id": "mDdaLrRqtE_E"
      },
      "source": [
        "### StateVocabulary"
      ]
    },
    {
      "cell_type": "code",
      "execution_count": null,
      "metadata": {
        "id": "7hF26hGdtE_F"
      },
      "outputs": [],
      "source": [
        "def experiment(answers, guesses, n_episodes, logging_level=None):\n",
        "  env = Environment(\n",
        "      rewards=lett_rewards,\n",
        "      wordle=Wordle(vocabulary=guesses, answers=answers),\n",
        "      state_instance=StateVocabulary(\n",
        "          answers_mask=np.fromiter((ans in guesses for ans in answers), dtype=bool)\n",
        "      )\n",
        "  )\n",
        "\n",
        "  agent = Agent(\n",
        "      state_size=env.state.size,\n",
        "      action_size=len(env.wordle.vocabulary),\n",
        "      action_constructor=partial(ActionVocabulary, vocabulary=guesses)\n",
        "  )\n",
        "\n",
        "  train(env=env, agent=agent, n_episodes=n_episodes, logging_level=logging_level)\n",
        "  test(env=env, agent=agent)"
      ]
    },
    {
      "cell_type": "markdown",
      "metadata": {
        "id": "tkNWsl1No9Jz"
      },
      "source": [
        "## Replay Sampling"
      ]
    },
    {
      "cell_type": "markdown",
      "metadata": {
        "id": "qrovaJV80a1Y"
      },
      "source": [
        "### Uniform"
      ]
    },
    {
      "cell_type": "code",
      "execution_count": null,
      "metadata": {
        "id": "KSlxr-0Lzb9x"
      },
      "outputs": [],
      "source": [
        "def experiment(answers, guesses, n_episodes, logging_level=None):\n",
        "  env = Environment(\n",
        "    rewards=lett_rewards,\n",
        "    wordle=Wordle(vocabulary=guesses, answers=answers),\n",
        "    state_instance=StateYesNo()\n",
        "  )\n",
        "\n",
        "  agent = Agent(\n",
        "    state_size=env.state.size,\n",
        "    action_size=len(env.wordle.vocabulary),\n",
        "    action_constructor=partial(ActionVocabulary, vocabulary=guesses),\n",
        "    priority_rate={\n",
        "      'alpha': 0,\n",
        "      'alpha_decay_rate': 1,\n",
        "    }\n",
        "  )\n",
        "\n",
        "  train(env=env, agent=agent, n_episodes=n_episodes, logging_level=logging_level)\n",
        "  test(env=env, agent=agent)"
      ]
    },
    {
      "cell_type": "markdown",
      "metadata": {
        "id": "WsGR_oi5o9J0"
      },
      "source": [
        "### A Little Prioritized"
      ]
    },
    {
      "cell_type": "code",
      "execution_count": null,
      "metadata": {
        "id": "rkFZvMC6t1o6"
      },
      "outputs": [],
      "source": [
        "def experiment(answers, guesses, n_episodes, logging_level=None):\n",
        "  env = Environment(\n",
        "    rewards=lett_rewards,\n",
        "    wordle=Wordle(vocabulary=guesses, answers=answers),\n",
        "    state_instance=StateYesNo()\n",
        "  )\n",
        "\n",
        "  agent = Agent(\n",
        "    state_size=env.state.size,\n",
        "    action_size=len(env.wordle.vocabulary),\n",
        "    action_constructor=partial(ActionVocabulary, vocabulary=guesses),\n",
        "    priority_rate={\n",
        "      'alpha': 0.3,\n",
        "      'alpha_decay_rate': 0.95,\n",
        "    }\n",
        "  )\n",
        "\n",
        "  train(env=env, agent=agent, n_episodes=n_episodes, logging_level=logging_level)\n",
        "  test(env=env, agent=agent)"
      ]
    },
    {
      "cell_type": "markdown",
      "metadata": {
        "id": "fGu7igCV0ouu"
      },
      "source": [
        "### Middle Prioritized"
      ]
    },
    {
      "cell_type": "code",
      "execution_count": null,
      "metadata": {
        "id": "mLYxQPR_0rTT"
      },
      "outputs": [],
      "source": [
        "def experiment(answers, guesses, n_episodes, logging_level=None):\n",
        "  env = Environment(\n",
        "    rewards=lett_rewards,\n",
        "    wordle=Wordle(vocabulary=guesses, answers=answers),\n",
        "    state_instance=StateYesNo()\n",
        "  )\n",
        "\n",
        "  agent = Agent(\n",
        "    state_size=env.state.size,\n",
        "    action_size=len(env.wordle.vocabulary),\n",
        "    action_constructor=partial(ActionVocabulary, vocabulary=guesses),\n",
        "    priority_rate={\n",
        "      'alpha': 0.6,\n",
        "      'alpha_decay_rate': 0.95,\n",
        "    }\n",
        "  )\n",
        "\n",
        "  train(env=env, agent=agent, n_episodes=n_episodes, logging_level=logging_level)\n",
        "  test(env=env, agent=agent)"
      ]
    },
    {
      "cell_type": "markdown",
      "metadata": {
        "id": "EAKNk4DK0u7R"
      },
      "source": [
        "### Much Prioritized"
      ]
    },
    {
      "cell_type": "code",
      "execution_count": null,
      "metadata": {
        "id": "NdJaA_qZ0yzX"
      },
      "outputs": [],
      "source": [
        "def experiment(answers, guesses, n_episodes, logging_level=None):\n",
        "  env = Environment(\n",
        "    rewards=lett_rewards,\n",
        "    wordle=Wordle(vocabulary=guesses, answers=answers),\n",
        "    state_instance=StateYesNo()\n",
        "  )\n",
        "\n",
        "  agent = Agent(\n",
        "    state_size=env.state.size,\n",
        "    action_size=len(env.wordle.vocabulary),\n",
        "    action_constructor=partial(ActionVocabulary, vocabulary=guesses),\n",
        "    priority_rate={\n",
        "      'alpha': 0.9,\n",
        "      'alpha_decay_rate': 0.95,\n",
        "    }\n",
        "  )\n",
        "\n",
        "  train(env=env, agent=agent, n_episodes=n_episodes, logging_level=logging_level)\n",
        "  test(env=env, agent=agent)"
      ]
    },
    {
      "cell_type": "markdown",
      "metadata": {
        "id": "8WgacXQ41iST"
      },
      "source": [
        "## Steps"
      ]
    },
    {
      "cell_type": "markdown",
      "metadata": {
        "id": "VaMmH_Wx5aPH"
      },
      "source": [
        "Здесь используем оптимальные параметры с предыдущих экспериментов."
      ]
    },
    {
      "cell_type": "markdown",
      "metadata": {
        "id": "l5e-8g7O1pGf"
      },
      "source": [
        "### 6 on train, 6 on test"
      ]
    },
    {
      "cell_type": "code",
      "execution_count": null,
      "metadata": {
        "id": "227zaXZD1sPH"
      },
      "outputs": [],
      "source": [
        "def experiment(answers, guesses, n_episodes, logging_level=None):\n",
        "  env = Environment(\n",
        "    rewards=lett_rewards,\n",
        "    wordle=Wordle(vocabulary=guesses, answers=answers),\n",
        "    state_instance=StateYesNo()\n",
        "  )\n",
        "\n",
        "  agent = Agent(\n",
        "    state_size=env.state.size,\n",
        "    action_size=len(env.wordle.vocabulary),\n",
        "    action_constructor=partial(ActionVocabulary, vocabulary=guesses),\n",
        "    priority_rate={ # change this values to optimal ones!\n",
        "      'alpha': 0.5,\n",
        "      'alpha_decay_rate': 0.5,\n",
        "    }\n",
        "  )\n",
        "\n",
        "  train(env=env, agent=agent, n_episodes=n_episodes, logging_level=logging_level)\n",
        "  test(env=env, agent=agent)"
      ]
    },
    {
      "cell_type": "markdown",
      "metadata": {
        "id": "kaJJBBhU5wLL"
      },
      "source": [
        "### 10 on train, 6 on test"
      ]
    },
    {
      "cell_type": "code",
      "execution_count": null,
      "metadata": {
        "id": "FxUTIUv052Sy"
      },
      "outputs": [],
      "source": [
        "def experiment(answers, guesses, n_episodes, logging_level=None):\n",
        "  env = Environment(\n",
        "    rewards=lett_rewards,\n",
        "    wordle=Wordle(vocabulary=guesses, answers=answers, max_guesses=10),\n",
        "    state_instance=StateYesNo()\n",
        "  )\n",
        "\n",
        "  agent = Agent(\n",
        "    state_size=env.state.size,\n",
        "    action_size=len(env.wordle.vocabulary),\n",
        "    action_constructor=partial(ActionVocabulary, vocabulary=guesses),\n",
        "    priority_rate={ # change this values to optimal ones!\n",
        "      'alpha': 0.5,\n",
        "      'alpha_decay_rate': 0.5,\n",
        "    }\n",
        "  )\n",
        "\n",
        "  train(env=env, agent=agent, n_episodes=n_episodes, logging_level=logging_level)\n",
        "  env.wordle.max_guesses = 6\n",
        "  test(env=env, agent=agent)"
      ]
    },
    {
      "cell_type": "markdown",
      "metadata": {
        "id": "H5Xhi47i6LLE"
      },
      "source": [
        "### 15 on train, 6 on test"
      ]
    },
    {
      "cell_type": "code",
      "execution_count": null,
      "metadata": {
        "id": "Z-mG_jQG6LLG"
      },
      "outputs": [],
      "source": [
        "def experiment(answers, guesses, n_episodes, logging_level=None):\n",
        "  env = Environment(\n",
        "    rewards=lett_rewards,\n",
        "    wordle=Wordle(vocabulary=guesses, answers=answers, max_guesses=15),\n",
        "    state_instance=StateYesNo()\n",
        "  )\n",
        "\n",
        "  agent = Agent(\n",
        "    state_size=env.state.size,\n",
        "    action_size=len(env.wordle.vocabulary),\n",
        "    action_constructor=partial(ActionVocabulary, vocabulary=guesses),\n",
        "    priority_rate={ # change this values to optimal ones!\n",
        "      'alpha': 0.5,\n",
        "      'alpha_decay_rate': 0.5,\n",
        "    }\n",
        "  )\n",
        "\n",
        "  train(env=env, agent=agent, n_episodes=n_episodes, logging_level=logging_level)\n",
        "  env.wordle.max_guesses = 6\n",
        "  test(env=env, agent=agent)"
      ]
    },
    {
      "cell_type": "markdown",
      "metadata": {
        "id": "ek-LFrCx6Rbo"
      },
      "source": [
        "### stages on steps number"
      ]
    },
    {
      "cell_type": "markdown",
      "metadata": {
        "id": "ki8awWwy7G0O"
      },
      "source": [
        "Появилась идея: сначала обучить на 6, затем на 10, и наконец на inf+abortion."
      ]
    },
    {
      "cell_type": "code",
      "execution_count": null,
      "metadata": {
        "id": "P1AcbCLm6Rbq"
      },
      "outputs": [],
      "source": [
        "def steps_stage_train(answers, guesses, episodes_counts):\n",
        "  env = Environment(\n",
        "    rewards=lett_rewards,\n",
        "    wordle=Wordle(vocabulary=guesses, answers=answers, max_guesses=6),\n",
        "    state_instance=StateYesNo()\n",
        "  )\n",
        "\n",
        "  agent = Agent(\n",
        "    state_size=env.state.size,\n",
        "    action_size=len(guesses),\n",
        "    action_constructor=partial(ActionVocabulary, vocabulary=guesses),\n",
        "    priority_rate={ # change this values to optimal ones!\n",
        "      'alpha': 0.5,\n",
        "      'alpha_decay_rate': 0.5,\n",
        "    }\n",
        "  )\n",
        "\n",
        "  train(env=env, agent=agent, n_episodes=episode_counts['6']) # big number\n",
        "  test(env=env, agent=agent)\n",
        "\n",
        "  train(env=env, agent=agent, n_episodes=episode_counts['10']) # smaller\n",
        "  test(env=env, agent=agent)\n",
        "\n",
        "  train(env=env, agent=agent, n_episodes=episode_counts['inf'], # even smaller\n",
        "        end_of_episode=lambda env: env.worlde.win == True)\n",
        "  test(env=env, agent=agent)"
      ]
    },
    {
      "cell_type": "markdown",
      "metadata": {
        "id": "SAdt10bAo9J5"
      },
      "source": [
        "## Stages on answers list size"
      ]
    },
    {
      "cell_type": "markdown",
      "metadata": {
        "id": "QQpmxCVI9J01"
      },
      "source": [
        "Фиксированный guesses размера 100. Меняющийся answers по порядку: 10, 40, 70, 100."
      ]
    },
    {
      "cell_type": "code",
      "execution_count": null,
      "metadata": {
        "id": "UOPFU6fJ86GA"
      },
      "outputs": [],
      "source": [
        "def answer_stage_train(\n",
        "    guesses, start_size, end_size, n_stages, episodes_counts\n",
        ")\n",
        "  agent = Agent(\n",
        "    state_size=StateYesNo().size + 100,\n",
        "    action_size=len(guesses),\n",
        "    action_constructor=partial(ActionVocabulary, vocabulary=guesses),\n",
        "    priority_rate={ # change this values to optimal ones!\n",
        "      'alpha': 0.5,\n",
        "      'alpha_decay_rate': 0.5,\n",
        "    }\n",
        "  )\n",
        "\n",
        "  for i in range(n_stages):\n",
        "    t = i / (n_stages - 1)\n",
        "    size = start_size * (1 - t) + end_size * t\n",
        "    answers = guesses[:size]\n",
        "\n",
        "    env = Environment(\n",
        "      rewards=letters_rewards,\n",
        "      wordle=Wordle(\n",
        "          vocabulary=guesses,\n",
        "          answers=answers\n",
        "      ),\n",
        "      state_instance=StateVocabulary(\n",
        "          answers_mask=np.fromiter((ans in guesses for ans in answers), dtype=bool)\n",
        "      )\n",
        "    )\n",
        "\n",
        "    train(env=env, agent=agent, n_episodes=episodes_counts[i])\n",
        "    test(env=env, agent=agent)\n",
        "    print('\\n============================')"
      ]
    },
    {
      "cell_type": "markdown",
      "metadata": {
        "id": "z-UmOL5zH_4Q"
      },
      "source": [
        "сетка генерит слово (не обязательно из словаря) а затем в словаре находит слово наиболее похожее на то, которое сгенерировала --- по идее это и есть embeddings"
      ]
    },
    {
      "cell_type": "code",
      "execution_count": null,
      "metadata": {
        "id": "549A1qKo8cjT"
      },
      "outputs": [],
      "source": []
    }
  ],
  "metadata": {
    "colab": {
      "collapsed_sections": [
        "mDdaLrRqtE_E",
        "tkNWsl1No9Jz",
        "qrovaJV80a1Y",
        "WsGR_oi5o9J0",
        "fGu7igCV0ouu",
        "EAKNk4DK0u7R",
        "l5e-8g7O1pGf",
        "kaJJBBhU5wLL"
      ],
      "provenance": [],
      "toc_visible": true
    },
    "kernelspec": {
      "display_name": "Python 3",
      "language": "python",
      "name": "python3"
    },
    "language_info": {
      "codemirror_mode": {
        "name": "ipython",
        "version": 3
      },
      "file_extension": ".py",
      "mimetype": "text/x-python",
      "name": "python",
      "nbconvert_exporter": "python",
      "pygments_lexer": "ipython3",
      "version": "3.10.6"
    },
    "orig_nbformat": 4
  },
  "nbformat": 4,
  "nbformat_minor": 0
}
