{
 "cells": [
  {
   "attachments": {},
   "cell_type": "markdown",
   "metadata": {},
   "source": [
    "# Implementing DQN with embeddings"
   ]
  },
  {
   "attachments": {},
   "cell_type": "markdown",
   "metadata": {},
   "source": [
    "## Input Convex Network"
   ]
  },
  {
   "attachments": {},
   "cell_type": "markdown",
   "metadata": {},
   "source": [
    "forward pass computes $Q(s,a)$ and maximizes it by one of inputs using L-BFGS"
   ]
  },
  {
   "cell_type": "code",
   "execution_count": 168,
   "metadata": {},
   "outputs": [],
   "source": [
    "from dqn.model import QNetwork\n",
    "\n",
    "\n",
    "state_size=10\n",
    "\n",
    "model = QNetwork(\n",
    "    state_size=state_size,\n",
    "    action_size=1,\n",
    "    seed=0\n",
    ")"
   ]
  },
  {
   "cell_type": "code",
   "execution_count": 169,
   "metadata": {},
   "outputs": [],
   "source": [
    "import torch\n",
    "\n",
    "\n",
    "n_samples = 300\n",
    "\n",
    "s = torch.tile(torch.randn(1, state_size), dims=[n_samples, 1])\n",
    "# s_same = torch.tile(torch.randn(1, state_size), dims=[n_samples, 1])\n",
    "# a_grid = torch.tile(torch.randn(1, emb_size), dims=[n_samples, 1])"
   ]
  },
  {
   "cell_type": "code",
   "execution_count": 172,
   "metadata": {},
   "outputs": [],
   "source": [
    "i_coord = 4\n",
    "left = -100\n",
    "right = 100\n",
    "\n",
    "s[:, i_coord] = torch.linspace(left, right, n_samples)\n",
    "# a_grid[:, i_coord] = torch.linspace(left, right, n_samples)\n",
    "# qfunc, a = model.forward(s_same, a_grid)\n",
    "qfunc = model.forward(s)"
   ]
  },
  {
   "cell_type": "code",
   "execution_count": 173,
   "metadata": {},
   "outputs": [
    {
     "data": {
      "text/plain": [
       "[<matplotlib.lines.Line2D at 0x7f4bc7ddd810>]"
      ]
     },
     "execution_count": 173,
     "metadata": {},
     "output_type": "execute_result"
    },
    {
     "data": {
      "image/png": "[encoded data removed]",
      "text/plain": [
       "<Figure size 640x480 with 1 Axes>"
      ]
     },
     "metadata": {},
     "output_type": "display_data"
    }
   ],
   "source": [
    "import matplotlib.pyplot as plt\n",
    "\n",
    "# a_grid = a_grid.detach().squeeze()\n",
    "qfunc = qfunc.detach().squeeze()\n",
    "\n",
    "# plt.plot(a_grid[:, i_coord], qfunc)\n",
    "plt.plot(s[:, i_coord], qfunc)"
   ]
  },
  {
   "attachments": {},
   "cell_type": "markdown",
   "metadata": {},
   "source": [
    "## word2vec embeddings"
   ]
  },
  {
   "attachments": {},
   "cell_type": "markdown",
   "metadata": {},
   "source": [
    "by given word predict another word with shared letters"
   ]
  },
  {
   "attachments": {},
   "cell_type": "markdown",
   "metadata": {},
   "source": [
    "### torch dataset"
   ]
  },
  {
   "cell_type": "code",
   "execution_count": 102,
   "metadata": {},
   "outputs": [],
   "source": [
    "from environment.action import WordPairsDataset\n",
    "from wordle.wordlenp import Wordle\n",
    "import numpy as np\n",
    "\n",
    "vocabulary = Wordle._load_vocabulary('wordle/guesses.txt', astype=np.array)\n",
    "data = WordPairsDataset(vocabulary, 'word_pairs_dataset', generate=False)"
   ]
  },
  {
   "cell_type": "code",
   "execution_count": 108,
   "metadata": {},
   "outputs": [
    {
     "data": {
      "text/plain": [
       "204834634"
      ]
     },
     "execution_count": 108,
     "metadata": {},
     "output_type": "execute_result"
    }
   ],
   "source": [
    "len(data), data[2]"
   ]
  },
  {
   "attachments": {},
   "cell_type": "markdown",
   "metadata": {},
   "source": [
    "### model"
   ]
  },
  {
   "cell_type": "code",
   "execution_count": 2,
   "metadata": {},
   "outputs": [],
   "source": [
    "from environment.action import Embedding\n",
    "\n",
    "\n",
    "device = torch.device('cuda:0' if torch.cuda.is_available() else 'cpu')\n",
    "print(device)\n",
    "\n",
    "model = Embedding().to(device)\n",
    "loss_fn = torch.nn.CrossEntropyLoss(reduction='sum')\n",
    "optimizer = torch.optim.Adam(model.parameters())"
   ]
  },
  {
   "attachments": {},
   "cell_type": "markdown",
   "metadata": {},
   "source": [
    "### train"
   ]
  },
  {
   "cell_type": "code",
   "execution_count": 120,
   "metadata": {},
   "outputs": [
    {
     "name": "stdout",
     "output_type": "stream",
     "text": [
      "cpu\n"
     ]
    }
   ],
   "source": [
    "from torch.utils.data import DataLoader\n",
    "\n",
    "\n",
    "dataloader = DataLoader(\n",
    "    dataset=data,\n",
    "    batch_size=64,\n",
    "    shuffle=True,\n",
    "    num_workers=2\n",
    ")\n",
    "\n",
    "model.train_epoch(dataloader, loss_fn, optimizer, device)"
   ]
  },
  {
   "attachments": {},
   "cell_type": "markdown",
   "metadata": {},
   "source": [
    "### save"
   ]
  },
  {
   "cell_type": "code",
   "execution_count": null,
   "metadata": {},
   "outputs": [],
   "source": [
    "torch.save(model.state_dict(), 'embedding_model.pth')"
   ]
  },
  {
   "attachments": {},
   "cell_type": "markdown",
   "metadata": {},
   "source": [
    "# LETS GO"
   ]
  },
  {
   "cell_type": "code",
   "execution_count": 82,
   "metadata": {},
   "outputs": [
    {
     "data": {
      "text/plain": [
       "'cpu'"
      ]
     },
     "execution_count": 82,
     "metadata": {},
     "output_type": "execute_result"
    }
   ],
   "source": [
    "%load_ext autoreload\n",
    "%autoreload 2\n",
    "\n",
    "from collections import defaultdict\n",
    "import pickle\n",
    "\n",
    "from wordle.wordlenp import Wordle\n",
    "from environment.environment import Environment, StateYesNo, StateVocabulary\n",
    "from environment.action import ActionEmbedding, ActionLetters\n",
    "from dqn.agent import Agent\n",
    "from dqn.train import Trainer\n",
    "from replay_buffer.cpprb import PrioritizedReplayBuffer, ReplayBuffer\n",
    "\n",
    "import matplotlib.pyplot as plt\n",
    "import seaborn as sns\n",
    "sns.set(style='whitegrid')\n",
    "import torch\n",
    "import numpy as np\n",
    "np.random.seed(0)\n",
    "\n",
    "\"cuda:0\" if torch.cuda.is_available() else \"cpu\""
   ]
  },
  {
   "cell_type": "code",
   "execution_count": 83,
   "metadata": {},
   "outputs": [],
   "source": [
    "word_list = Wordle._load_vocabulary('wordle/guesses.txt', astype=np.array)\n",
    "\n",
    "def make_data(n_answers, n_guesses):\n",
    "    guesses = np.random.choice(word_list, size=n_guesses, replace=False)\n",
    "    answers = np.random.choice(guesses, size=n_answers, replace=False)\n",
    "    return answers, guesses\n",
    "\n",
    "answers_10_100, guesses_10_100 = make_data(10, 100)\n",
    "answers_100_100, guesses_100_100 = make_data(100, 100)\n",
    "step_rewards = {'B':0, 'Y':1, 'G':1, 'win':10, 'lose':-10, 'step':-5}\n",
    "tasks_results = defaultdict(dict)"
   ]
  },
  {
   "cell_type": "code",
   "execution_count": 114,
   "metadata": {},
   "outputs": [],
   "source": [
    "def experiment(answers, guesses, n_batches, n_batches_warm):\n",
    "    env_list = []\n",
    "    for _ in range(8):\n",
    "        env = Environment(\n",
    "            rewards=step_rewards,\n",
    "            wordle=Wordle(vocabulary=guesses, answers=answers),\n",
    "            state_instance=StateYesNo()\n",
    "        )\n",
    "        env_list.append(env)\n",
    "\n",
    "    agent = Agent(\n",
    "        state_size=env.state.size,\n",
    "        action_instance=ActionEmbedding(vocabulary=guesses, emb_size=10),\n",
    "        replay_buffer=ReplayBuffer(state_size=env.state.size),\n",
    "        optimize_interval=8\n",
    "    )\n",
    "\n",
    "    trainer = Trainer(\n",
    "        env_list, agent,\n",
    "        n_batches=n_batches,\n",
    "        n_batches_warm=n_batches_warm,\n",
    "    )\n",
    "    \n",
    "    res = trainer.train(eps_decay=0.99, eps_start=0, eps_end=0, nickname=f'embtest-{len(answers)}-{len(guesses)}')\n",
    "    return agent.qnetwork_local"
   ]
  },
  {
   "cell_type": "code",
   "execution_count": 139,
   "metadata": {},
   "outputs": [
    {
     "data": {
      "application/vnd.jupyter.widget-view+json": {
       "model_id": "a5ffb290328342f58256775f45feae1c",
       "version_major": 2,
       "version_minor": 0
      },
      "text/plain": [
       "WARM BATCHES:   0%|          | 0/8 [00:00<?, ?it/s]"
      ]
     },
     "metadata": {},
     "output_type": "display_data"
    },
    {
     "data": {
      "application/vnd.jupyter.widget-view+json": {
       "model_id": "9bb2d64fb278419ba3f3ab8a80cf558f",
       "version_major": 2,
       "version_minor": 0
      },
      "text/plain": [
       "TRAIN BATCHES:   0%|          | 0/8 [00:00<?, ?it/s]"
      ]
     },
     "metadata": {},
     "output_type": "display_data"
    },
    {
     "name": "stderr",
     "output_type": "stream",
     "text": [
      "/home/ilya/repos/wordle-rl/dqn/train.py:342: RuntimeWarning: Mean of empty slice.\n",
      "  mean_steps = steps[success.astype(bool)].mean()\n",
      "/home/ilya/.local/lib/python3.10/site-packages/numpy/core/_methods.py:190: RuntimeWarning: invalid value encountered in double_scalars\n",
      "  ret = ret.dtype.type(ret / rcount)\n"
     ]
    },
    {
     "name": "stdout",
     "output_type": "stream",
     "text": [
      "\n",
      "Batch    1\tTime: 10 s\tAgent Eps: 0.00\tTrain Win Rate: 0.00%\tTest Win Rate: 0.00%\tTest Mean Steps: nan\n",
      "\n",
      "Batch    2\tTime: 21 s\tAgent Eps: 0.00\tTrain Win Rate: 0.00%\tTest Win Rate: 0.00%\tTest Mean Steps: nan\n",
      "\n",
      "Batch    3\tTime: 32 s\tAgent Eps: 0.00\tTrain Win Rate: 0.00%\tTest Win Rate: 0.00%\tTest Mean Steps: nan\n",
      "\n",
      "Batch    4\tTime: 42 s\tAgent Eps: 0.00\tTrain Win Rate: 0.00%\tTest Win Rate: 0.00%\tTest Mean Steps: nan\n",
      "\n",
      "Batch    5\tTime: 52 s\tAgent Eps: 0.00\tTrain Win Rate: 0.00%\tTest Win Rate: 0.00%\tTest Mean Steps: nan\n",
      "\n",
      "Batch    6\tTime: 63 s\tAgent Eps: 0.00\tTrain Win Rate: 0.00%\tTest Win Rate: 0.00%\tTest Mean Steps: nan\n",
      "\n",
      "Batch    7\tTime: 75 s\tAgent Eps: 0.00\tTrain Win Rate: 0.00%\tTest Win Rate: 0.00%\tTest Mean Steps: nan\n",
      "\n",
      "Batch    8\tTime: 85 s\tAgent Eps: 0.00\tTrain Win Rate: 0.00%\tTest Win Rate: 0.00%\tTest Mean Steps: nan\n",
      "\n",
      "Saving checkpoint... Saved to embtest-10-100-1.pth\n"
     ]
    }
   ],
   "source": [
    "model = experiment(\n",
    "    answers_10_100, guesses_10_100,\n",
    "    n_batches=8, n_batches_warm=8,\n",
    ")"
   ]
  },
  {
   "cell_type": "code",
   "execution_count": 140,
   "metadata": {},
   "outputs": [],
   "source": [
    "import torch\n",
    "\n",
    "n_samples = 300\n",
    "state_size = model.state_size\n",
    "emb_size = model.emb_size\n",
    "n_samples = 300\n",
    "\n",
    "s_same = torch.tile(torch.randn(1, state_size), dims=[n_samples, 1])\n",
    "a_grid = torch.tile(torch.randn(1, emb_size), dims=[n_samples, 1])"
   ]
  },
  {
   "cell_type": "code",
   "execution_count": 141,
   "metadata": {},
   "outputs": [],
   "source": [
    "i_coord = 0\n",
    "left = -10\n",
    "right = 10\n",
    "\n",
    "a_grid[:, i_coord] = torch.linspace(left, right, n_samples)\n",
    "qfunc, a = model.forward(s_same, a_grid * 100)"
   ]
  },
  {
   "cell_type": "code",
   "execution_count": 142,
   "metadata": {},
   "outputs": [
    {
     "data": {
      "text/plain": [
       "[<matplotlib.lines.Line2D at 0x7f4bebab89a0>]"
      ]
     },
     "execution_count": 142,
     "metadata": {},
     "output_type": "execute_result"
    },
    {
     "data": {
      "image/png": "[encoded data removed]",
      "text/plain": [
       "<Figure size 640x480 with 1 Axes>"
      ]
     },
     "metadata": {},
     "output_type": "display_data"
    }
   ],
   "source": [
    "import matplotlib.pyplot as plt\n",
    "\n",
    "a_grid = a_grid.detach().squeeze()\n",
    "qfunc = qfunc.detach().squeeze()\n",
    "\n",
    "plt.plot(a_grid[:, i_coord], qfunc)"
   ]
  }
 ],
 "metadata": {
  "kernelspec": {
   "display_name": "Python 3",
   "language": "python",
   "name": "python3"
  },
  "language_info": {
   "codemirror_mode": {
    "name": "ipython",
    "version": 3
   },
   "file_extension": ".py",
   "mimetype": "text/x-python",
   "name": "python",
   "nbconvert_exporter": "python",
   "pygments_lexer": "ipython3",
   "version": "3.10.6"
  },
  "orig_nbformat": 4
 },
 "nbformat": 4,
 "nbformat_minor": 2
}
