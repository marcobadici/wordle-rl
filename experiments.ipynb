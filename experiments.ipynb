{
  "cells": [
    {
      "cell_type": "markdown",
      "metadata": {
        "id": "H7DAM3GBo9Jd"
      },
      "source": [
        "# Testbed"
      ]
    },
    {
      "cell_type": "code",
      "source": [
        "from google.colab import drive\n",
        "drive.mount('/content/drive')"
      ],
      "metadata": {
        "colab": {
          "base_uri": "https://localhost:8080/"
        },
        "id": "xA69md4IyFio",
        "outputId": "a6538b6c-75c4-40eb-8e02-a2091e879462"
      },
      "execution_count": 1,
      "outputs": [
        {
          "output_type": "stream",
          "name": "stdout",
          "text": [
            "Mounted at /content/drive\n"
          ]
        }
      ]
    },
    {
      "cell_type": "code",
      "source": [
        "! cp -a -n /content/drive/MyDrive/wordle-rl/. /content/\n",
        "! mkdir /content/drive/MyDrive/wordle-rl/tests"
      ],
      "metadata": {
        "colab": {
          "base_uri": "https://localhost:8080/"
        },
        "id": "38KwwBif2llq",
        "outputId": "b0a9abfc-0943-4041-d3b6-e06d3a048bbf"
      },
      "execution_count": 2,
      "outputs": [
        {
          "output_type": "stream",
          "name": "stdout",
          "text": [
            "cp: cannot stat '/content/drive/MyDrive/wordle-rl/./tests': No such file or directory\n"
          ]
        }
      ]
    },
    {
      "cell_type": "code",
      "source": [
        "! pip install cpprb"
      ],
      "metadata": {
        "colab": {
          "base_uri": "https://localhost:8080/"
        },
        "id": "FuaP33ab1zQF",
        "outputId": "6ee912cf-4716-4076-8bff-9308f0bdbd04"
      },
      "execution_count": 3,
      "outputs": [
        {
          "output_type": "stream",
          "name": "stdout",
          "text": [
            "Looking in indexes: https://pypi.org/simple, https://us-python.pkg.dev/colab-wheels/public/simple/\n",
            "Collecting cpprb\n",
            "  Downloading cpprb-10.6.4-cp39-cp39-manylinux_2_5_x86_64.manylinux1_x86_64.manylinux_2_12_x86_64.manylinux2010_x86_64.whl (2.4 MB)\n",
            "\u001b[2K     \u001b[90m━━━━━━━━━━━━━━━━━━━━━━━━━━━━━━━━━━━━━━━━\u001b[0m \u001b[32m2.4/2.4 MB\u001b[0m \u001b[31m43.5 MB/s\u001b[0m eta \u001b[36m0:00:00\u001b[0m\n",
            "\u001b[?25hRequirement already satisfied: numpy in /usr/local/lib/python3.9/dist-packages (from cpprb) (1.22.4)\n",
            "Installing collected packages: cpprb\n",
            "Successfully installed cpprb-10.6.4\n"
          ]
        }
      ]
    },
    {
      "cell_type": "code",
      "execution_count": 4,
      "metadata": {
        "id": "sfECmbvbo9Ji"
      },
      "outputs": [],
      "source": [
        "%load_ext autoreload\n",
        "%autoreload 2\n",
        "\n",
        "from functools import partial\n",
        "from collections import defaultdict\n",
        "import pickle\n",
        "\n",
        "from wordle.wordlenp import Wordle\n",
        "from environment.environment import Environment, StateYesNo, StateVocabulary, ActionVocabulary\n",
        "from dqn.cpprb_agent import Agent\n",
        "from dqn.train import train, test\n",
        "from replay_buffer.cpprb import PrioritizedReplayBuffer, ReplayBuffer\n",
        "\n",
        "import matplotlib.pyplot as plt\n",
        "import seaborn as sns\n",
        "sns.set(style='whitegrid')\n",
        "import torch\n",
        "import numpy as np\n",
        "np.random.seed(0)"
      ]
    },
    {
      "cell_type": "markdown",
      "metadata": {
        "id": "PSty1zZfo9Jl"
      },
      "source": [
        "## Датасеты"
      ]
    },
    {
      "cell_type": "code",
      "execution_count": 5,
      "metadata": {
        "id": "k1YLmWP3o9Jm"
      },
      "outputs": [],
      "source": [
        "word_list = Wordle._load_vocabulary('wordle/guesses.txt', astype=np.array)\n",
        "\n",
        "def make_data(n_answers, n_guesses):\n",
        "    guesses = np.random.choice(word_list, size=n_guesses, replace=False)\n",
        "    answers = np.random.choice(guesses, size=n_answers, replace=False)\n",
        "    return answers, guesses"
      ]
    },
    {
      "cell_type": "markdown",
      "metadata": {
        "id": "XkpsKHBDo9Jn"
      },
      "source": [
        "### 10 answers, 100 guesses"
      ]
    },
    {
      "cell_type": "code",
      "execution_count": 6,
      "metadata": {
        "id": "zC0apMvDo9Jo",
        "outputId": "b075715f-1bc1-4b7d-a769-f435793a36fa",
        "colab": {
          "base_uri": "https://localhost:8080/"
        }
      },
      "outputs": [
        {
          "output_type": "stream",
          "name": "stdout",
          "text": [
            "['abmho' 'cites' 'aware' 'blays' 'acker' 'rawin' 'anile' 'eorls' 'feers'\n",
            " 'sadza']\n"
          ]
        }
      ],
      "source": [
        "answers_10_100, guesses_10_100 = make_data(10, 100)\n",
        "print(answers_10_100)"
      ]
    },
    {
      "cell_type": "markdown",
      "metadata": {
        "id": "88h7mFnko9Jp"
      },
      "source": [
        "### 100 answers, 100 guesses"
      ]
    },
    {
      "cell_type": "code",
      "execution_count": 7,
      "metadata": {
        "id": "WY6bCEq7o9Jq",
        "outputId": "5e80e6c9-bf8d-4e98-e76c-56e2b227f6af",
        "colab": {
          "base_uri": "https://localhost:8080/"
        }
      },
      "outputs": [
        {
          "output_type": "stream",
          "name": "stdout",
          "text": [
            "['lilac' 'orles' 'twirl' 'unled' 'sings' 'grind' 'sheaf' 'benny' 'slews'\n",
            " 'karst' 'rimus' 'lossy' 'joker' 'leash' 'scopa' 'viols' 'giron' 'raiks'\n",
            " 'lummy' 'renig' 'tinds' 'infos' 'logon' 'drill' 'gudes' 'ammon' 'bhoot'\n",
            " 'hurry' 'noils' 'coven' 'beryl' 'margs' 'sorbo' 'momes' 'scald' 'potch'\n",
            " 'flows' 'torus' 'prill' 'scuts' 'brith' 'tamin' 'sewar' 'joram' 'aldol'\n",
            " 'hazel' 'texes' 'sibbs' 'truth' 'spoil' 'hames' 'actin' 'maces' 'rayas'\n",
            " 'thuya' 'sugan' 'felly' 'newsy' 'bolos' 'mimeo' 'chems' 'dicty' 'liefs'\n",
            " 'scuff' 'burps' 'abyes' 'zones' 'cuspy' 'kerve' 'haith' 'amino' 'zygal'\n",
            " 'kokum' 'zambo' 'icier' 'piers' 'sambo' 'laden' 'barge' 'solei' 'mauts'\n",
            " 'groat' 'pearl' 'curse' 'jujus' 'troop' 'bilge' 'sibyl' 'gassy' 'elain'\n",
            " 'daube' 'feyly' 'duals' 'hoper' 'hains' 'beige' 'poove' 'miffy' 'lesbo'\n",
            " 'dawds']\n"
          ]
        }
      ],
      "source": [
        "answers_100_100, guesses_100_100 = make_data(100, 100)\n",
        "print(answers_100_100)"
      ]
    },
    {
      "cell_type": "markdown",
      "metadata": {
        "id": "IBCQ-xvto9Jq"
      },
      "source": [
        "### 50 answers, 200 guesses"
      ]
    },
    {
      "cell_type": "code",
      "execution_count": 8,
      "metadata": {
        "id": "XaNIzQh5o9Jr",
        "outputId": "67ef0c49-ed86-4150-8f66-c8c4ebdb1918",
        "colab": {
          "base_uri": "https://localhost:8080/"
        }
      },
      "outputs": [
        {
          "output_type": "stream",
          "name": "stdout",
          "text": [
            "['toran' 'burka' 'umpie' 'brock' 'civic' 'beige' 'hoiks' 'biffo' 'nagas'\n",
            " 'sheol' 'malls' 'matzo' 'peeve' 'deshi' 'mooli' 'scaud' 'ameba' 'wadds'\n",
            " 'bayts' 'glees' 'kaput' 'bitos' 'comae' 'dosed' 'rabis' 'neats' 'tutti'\n",
            " 'stays' 'smoky' 'chase' 'resaw' 'simas' 'sowne' 'rorid' 'rebec' 'deawy'\n",
            " 'hinny' 'sores' 'cerge' 'yogas' 'fouet' 'wheel' 'sowfs' 'talus' 'yabas'\n",
            " 'topee' 'sabin' 'unbox' 'dyers' 'qophs']\n"
          ]
        }
      ],
      "source": [
        "answers_50_200, guesses_50_200 = make_data(50, 200)\n",
        "print(answers_50_200)"
      ]
    },
    {
      "cell_type": "markdown",
      "metadata": {
        "id": "ZiJDpKE2o9Jr"
      },
      "source": [
        "### 300 answers, 300 guesses"
      ]
    },
    {
      "cell_type": "code",
      "execution_count": 9,
      "metadata": {
        "id": "A7su7MaMo9Jr",
        "outputId": "392acbda-985b-4813-e68f-8ba6ee15b24c",
        "colab": {
          "base_uri": "https://localhost:8080/"
        }
      },
      "outputs": [
        {
          "output_type": "stream",
          "name": "stdout",
          "text": [
            "['hoied' 'aarti' 'dyers' 'ingot' 'hasty' 'tices' 'tache' 'deoxy' 'sutta'\n",
            " 'score' 'fiefs' 'sling' 'ready' 'wests' 'dobes' 'tells' 'bitts' 'roper'\n",
            " 'veena' 'hewer' 'chats' 'jarta' 'ceric' 'olent' 'feare' 'bodge' 'fleer'\n",
            " 'prats' 'spiny' 'tryps' 'welts' 'march' 'jelly' 'furor' 'okapi' 'penni'\n",
            " 'curve' 'altar' 'aboon' 'salut' 'amido' 'razor' 'vouch' 'prill' 'ganev'\n",
            " 'dukka' 'noxal' 'briar' 'wills' 'trigo' 'dusts' 'meter' 'veale' 'hafiz'\n",
            " 'dosha' 'wilis' 'ohmic' 'silds' 'giust' 'blimy' 'zerda' 'mucus' 'abrin'\n",
            " 'nandu' 'larva' 'cruds' 'kaies' 'hussy' 'dolce' 'birch' 'madam' 'chase'\n",
            " 'onely' 'molys' 'scape' 'sauce' 'amate' 'mohur' 'vagal' 'royne' 'spics'\n",
            " 'azuki' 'acres' 'shops' 'sicks' 'sunup' 'cosey' 'louse' 'aweel' 'skosh'\n",
            " 'twoer' 'loves' 'wents' 'reest' 'winna' 'rosed' 'mbira' 'rangy' 'omega'\n",
            " 'moira' 'typey' 'romal' 'bachs' 'floss' 'scath' 'roast' 'moola' 'moles'\n",
            " 'witch' 'rabbi' 'chest' 'aulos' 'yokes' 'aspen' 'sepic' 'lirot' 'lemon'\n",
            " 'musts' 'drouk' 'kudzu' 'yacka' 'sonny' 'hived' 'letch' 'zuzim' 'diota'\n",
            " 'sared' 'diker' 'ripps' 'dinge' 'cides' 'grimy' 'flexo' 'wider' 'thaws'\n",
            " 'djins' 'twirp' 'gulps' 'sated' 'tommy' 'amice' 'anode' 'strut' 'empty'\n",
            " 'maqui' 'etnas' 'saids' 'schul' 'surds' 'spoil' 'stele' 'caulk' 'muted'\n",
            " 'whist' 'teuch' 'allow' 'calls' 'agism' 'nifes' 'phons' 'horks' 'sucky'\n",
            " 'booms' 'cling' 'sikas' 'repay' 'neive' 'drops' 'mavin' 'cobbs' 'trefa'\n",
            " 'benny' 'nutsy' 'manul' 'anomy' 'adhan' 'muons' 'chelp' 'fagin' 'piper'\n",
            " 'dynel' 'cotes' 'dangs' 'weber' 'hooey' 'texas' 'baize' 'plumy' 'lurve'\n",
            " 'joint' 'fusts' 'repot' 'cloze' 'ditsy' 'stirp' 'scars' 'ribby' 'sluts'\n",
            " 'thema' 'flume' 'noahs' 'linns' 'cymol' 'creme' 'shirk' 'shakt' 'segol'\n",
            " 'dreks' 'mamma' 'dyads' 'broil' 'roupy' 'leeze' 'gears' 'atoks' 'maths'\n",
            " 'bindi' 'coden' 'coram' 'cardy' 'lupus' 'etats' 'anoas' 'south' 'hotel'\n",
            " 'golly' 'razoo' 'pulse' 'smews' 'capex' 'bonds' 'rewet' 'kines' 'stool'\n",
            " 'marid' 'bloat' 'trass' 'rases' 'diddy' 'fetas' 'gadso' 'gauje' 'heids'\n",
            " 'pesky' 'ponga' 'yogic' 'purin' 'sower' 'doats' 'kybos' 'azoth' 'genty'\n",
            " 'unled' 'alway' 'camus' 'laith' 'roost' 'meows' 'aking' 'skeer' 'hiois'\n",
            " 'dowle' 'ragas' 'rucks' 'thuds' 'welch' 'lurex' 'uplay' 'bedim' 'incle'\n",
            " 'manis' 'tenon' 'dated' 'kamas' 'bydes' 'treyf' 'roses' 'kotow' 'quasi'\n",
            " 'apode' 'walla' 'games' 'uncoy' 'angel' 'primy' 'parly' 'izzat' 'dukas'\n",
            " 'lands' 'saunt' 'coppy' 'trest' 'ticca' 'waite' 'verge' 'jenny' 'pshaw'\n",
            " 'linga' 'afore' 'yowza']\n"
          ]
        }
      ],
      "source": [
        "answers_300_300, guesses_300_300 = make_data(300, 300)\n",
        "print(answers_300_300)"
      ]
    },
    {
      "cell_type": "markdown",
      "metadata": {
        "id": "_y8uiOLro9Js"
      },
      "source": [
        "### 100 answers, 2000 guesses"
      ]
    },
    {
      "cell_type": "code",
      "execution_count": 10,
      "metadata": {
        "id": "95mdLNsio9Js",
        "outputId": "0614731f-825c-433a-a69e-9513f88548e2",
        "colab": {
          "base_uri": "https://localhost:8080/"
        }
      },
      "outputs": [
        {
          "output_type": "stream",
          "name": "stdout",
          "text": [
            "['fumed' 'rival' 'zizit' 'wests' 'scrog' 'gryce' 'seils' 'sugar' 'glims'\n",
            " 'pharm' 'pyets' 'kilts' 'bings' 'emyde' 'duads' 'shahs' 'spaza' 'spore'\n",
            " 'redub' 'sidas' 'choco' 'woofs' 'sukuk' 'spumy' 'mirex' 'sluse' 'tween'\n",
            " 'nodus' 'wands' 'unled' 'rates' 'toxin' 'lotes' 'wacko' 'ariot' 'baisa'\n",
            " 'sways' 'roads' 'poked' 'popsy' 'gonif' 'vutty' 'bicep' 'parky' 'braid'\n",
            " 'ports' 'spyal' 'match' 'spook' 'scowp' 'sdein' 'lovie' 'torii' 'souks'\n",
            " 'vibey' 'genny' 'clues' 'decaf' 'diced' 'delay' 'mirly' 'flogs' 'lotos'\n",
            " 'whine' 'seems' 'jerry' 'scram' 'gosse' 'roped' 'pipis' 'spank' 'seder'\n",
            " 'doorn' 'evict' 'buteo' 'ponks' 'miffy' 'potin' 'rathe' 'papaw' 'local'\n",
            " 'tolus' 'apode' 'jouks' 'decad' 'temes' 'wafts' 'liter' 'kagos' 'piste'\n",
            " 'ogmic' 'fyles' 'brace' 'adage' 'hepar' 'bales' 'molal' 'eject' 'seles'\n",
            " 'commy']\n"
          ]
        }
      ],
      "source": [
        "answers_100_2000, guesses_100_2000 = make_data(100, 2000)\n",
        "print(answers_100_2000)"
      ]
    },
    {
      "cell_type": "markdown",
      "source": [
        "## Plotting Utility"
      ],
      "metadata": {
        "id": "mTgeplU9nObE"
      }
    },
    {
      "cell_type": "code",
      "source": [
        "def plot_results(tasks_results, figname):\n",
        "    n_tasks = len(tasks_results)\n",
        "    _, ax = plt.subplots(1, n_tasks, figsize=(4*n_tasks, 5))\n",
        "    \n",
        "    # over tasks\n",
        "    for i, (task_name, results) in enumerate(tasks_results.items()):\n",
        "        # over methods\n",
        "        for method_name, (timers, win_rates) in results.items():\n",
        "            ax[i].plot(timers, win_rates, label=method_name)\n",
        "        ax[i].set_xlabel('time, s')\n",
        "        ax[i].set_ylabel('win rate, s')\n",
        "        ax[i].legend()\n",
        "        ax[i].set_title(task_name)\n",
        "    plt.savefig(figname + '.svg', bbox_inches='tight')\n",
        "    plt.show()"
      ],
      "metadata": {
        "id": "rU2Kt6knnSEZ"
      },
      "execution_count": 11,
      "outputs": []
    },
    {
      "cell_type": "markdown",
      "metadata": {
        "id": "tkNWsl1No9Jz"
      },
      "source": [
        "## Replay Sampling"
      ]
    },
    {
      "cell_type": "code",
      "execution_count": 15,
      "metadata": {
        "id": "RKVtnySko9Jt"
      },
      "outputs": [],
      "source": [
        "soft_rewards = {'B':1, 'Y':2, 'G':3, 'win':20, 'lose':-10, 'step':-4}\n",
        "hard_rewards = {'B':0, 'Y':0, 'G':0, 'win':10, 'lose':-10, 'step':-2}\n",
        "step_rewards = {'B':0, 'Y':1, 'G':1, 'win':10, 'lose':-10, 'step':-5}\n",
        "char_rewards = {'B':0, 'Y':1, 'G':1, 'win':10, 'lose':-10, 'step':-2}"
      ]
    },
    {
      "cell_type": "code",
      "source": [
        "tasks_results = defaultdict(dict)"
      ],
      "metadata": {
        "id": "py_w8VpGu1AD"
      },
      "execution_count": 63,
      "outputs": []
    },
    {
      "cell_type": "markdown",
      "metadata": {
        "id": "qrovaJV80a1Y"
      },
      "source": [
        "### Uniform"
      ]
    },
    {
      "cell_type": "code",
      "execution_count": 68,
      "metadata": {
        "id": "Sn4PeUTayARQ"
      },
      "outputs": [],
      "source": [
        "def experiment(answers, guesses, n_episodes, n_warm=500, logging_level=None):\n",
        "    env = Environment(\n",
        "        rewards=step_rewards,\n",
        "        wordle=Wordle(vocabulary=guesses, answers=answers),\n",
        "        state_instance=StateVocabulary(\n",
        "            answers_mask=np.fromiter((g in answers for g in guesses), dtype=bool)\n",
        "        )\n",
        "    )\n",
        "\n",
        "    agent = Agent(\n",
        "        state_size=env.state.size,\n",
        "        action_size=len(guesses),\n",
        "        action_constructor=partial(ActionVocabulary, vocabulary=guesses),\n",
        "        # here is what we are experimenting with\n",
        "        replay_buffer=ReplayBuffer(state_size=env.state.size),\n",
        "        n_warm=n_warm\n",
        "    )\n",
        "\n",
        "    res = train(\n",
        "        env=env, agent=agent, nickname='uniform',\n",
        "        n_episodes=n_episodes, logging_level=logging_level\n",
        "    )\n",
        "    test(env=env, agent=agent)\n",
        "    return res"
      ]
    },
    {
      "cell_type": "code",
      "execution_count": 69,
      "metadata": {
        "colab": {
          "base_uri": "https://localhost:8080/"
        },
        "id": "xr_4H8aiyARR",
        "outputId": "4f460a8d-a981-417c-f1e3-b63a1eb31891"
      },
      "outputs": [
        {
          "output_type": "stream",
          "name": "stdout",
          "text": [
            "Playing 500 initial games (warm start)... Collected! Time: 5.1 s\n",
            "\n",
            "Episode  500\tScore: -4.98\tSuccess Rate: 74.8%\tRMSE: 16.799\tTime: 8.5 s\n",
            "\n",
            "Episode 1000\tScore: 6.32\tSuccess Rate: 99.4%\tRMSE: 16.397\tTime: 10.7 s\n",
            "\n",
            "Episode 1500\tScore: 6.55\tSuccess Rate: 99.6%\tRMSE: 18.610\tTime: 12.9 s\n",
            "\n",
            "Episode 2000\tScore: 7.10\tSuccess Rate: 100.0%\tRMSE: 14.558\tTime: 15.2 s\n",
            "\n",
            "Episode 2500\tScore: 7.05\tSuccess Rate: 100.0%\tRMSE: 12.715\tTime: 18.1 s\n",
            "\n",
            "Episode 3000\tScore: 6.58\tSuccess Rate: 99.2%\tRMSE: 10.766\tTime: 20.9 s\n",
            "\n",
            "Episode 3500\tScore: 6.56\tSuccess Rate: 99.2%\tRMSE: 10.926\tTime: 23.3 s\n",
            "\n",
            "Episode 4000\tScore: 6.79\tSuccess Rate: 99.8%\tRMSE: 10.383\tTime: 25.5 s\n",
            "\n",
            "Episode 4500\tScore: 6.73\tSuccess Rate: 99.2%\tRMSE: 8.216\tTime: 28.5 s\n",
            "\n",
            "Episode 5000\tScore: 6.80\tSuccess Rate: 99.6%\tRMSE: 7.937\tTime: 32.6 s\n",
            "\n",
            "Saving checkpoint... Saved to uniform-1-21-03-2023-03:42:34.pth\n",
            "\n",
            "Success: 10 / 10 (100.0000%)\tSteps: 2.2000\tTime: 0.0 s\tSaved to: test21-03-2023-03:43:07.txt\n",
            "\n"
          ]
        }
      ],
      "source": [
        "res = experiment(answers_10_100, guesses_10_100, 5000)\n",
        "tasks_results['10/100']['uniform'] = res"
      ]
    },
    {
      "cell_type": "code",
      "execution_count": 70,
      "metadata": {
        "id": "CIzlYdgByARR",
        "outputId": "bea77a96-331d-4469-9f10-e4863d017e60",
        "colab": {
          "base_uri": "https://localhost:8080/"
        }
      },
      "outputs": [
        {
          "output_type": "stream",
          "name": "stdout",
          "text": [
            "Playing 500 initial games (warm start)... Collected! Time: 4.2 s\n",
            "\n",
            "Episode 2000\tScore: -25.48\tSuccess Rate: 16.9%\tRMSE: 40.974\tTime: 31.3 s\n",
            "\n",
            "Episode 4000\tScore: -21.74\tSuccess Rate: 27.9%\tRMSE: 38.683\tTime: 58.9 s\n",
            "\n",
            "Saving checkpoint... Saved to uniform-1-21-03-2023-03:43:07.pth\n",
            "\n",
            "Episode 6000\tScore: -18.95\tSuccess Rate: 35.9%\tRMSE: 29.772\tTime: 84.9 s\n",
            "\n",
            "Episode 8000\tScore: -17.26\tSuccess Rate: 40.9%\tRMSE: 41.140\tTime: 108.2 s\n",
            "\n",
            "Episode 10000\tScore: -14.22\tSuccess Rate: 50.2%\tRMSE: 41.650\tTime: 129.9 s\n",
            "\n",
            "Saving checkpoint... Saved to uniform-2-21-03-2023-03:43:07.pth\n",
            "\n",
            "Episode 12000\tScore: -12.10\tSuccess Rate: 56.4%\tRMSE: 39.028\tTime: 150.6 s\n",
            "\n",
            "Episode 14000\tScore: -9.65\tSuccess Rate: 64.4%\tRMSE: 40.784\tTime: 169.1 s\n",
            "\n",
            "Saving checkpoint... Saved to uniform-3-21-03-2023-03:43:07.pth\n",
            "\n",
            "Episode 16000\tScore: -7.61\tSuccess Rate: 69.3%\tRMSE: 37.369\tTime: 187.7 s\n",
            "\n",
            "Episode 18000\tScore: -6.71\tSuccess Rate: 72.1%\tRMSE: 31.603\tTime: 206.2 s\n",
            "\n",
            "Episode 20000\tScore: -4.01\tSuccess Rate: 78.8%\tRMSE: 30.323\tTime: 222.5 s\n",
            "\n",
            "Saving checkpoint... Saved to uniform-4-21-03-2023-03:43:07.pth\n",
            "\n",
            "Success: 81 / 100 (81.0000%)\tSteps: 2.9012\tTime: 0.2 s\tSaved to: test21-03-2023-03:46:50.txt\n",
            "\n"
          ]
        }
      ],
      "source": [
        "res = experiment(answers_100_100, guesses_100_100, 20000)\n",
        "tasks_results['100/100']['uniform'] = res"
      ]
    },
    {
      "cell_type": "code",
      "source": [
        "with open('sampling.pickle', 'wb') as handle:\n",
        "    pickle.dump(tasks_results, handle, protocol=pickle.HIGHEST_PROTOCOL)\n",
        "\n",
        "! cp -n *.txt /content/drive/MyDrive/wordle-rl/tests\n",
        "! cp -n *.pth /content/drive/MyDrive/wordle-rl/tests"
      ],
      "metadata": {
        "id": "fcjjDA_hwCLe"
      },
      "execution_count": 71,
      "outputs": []
    },
    {
      "cell_type": "code",
      "source": [
        "res = experiment(answers_300_300, guesses_300_300, 30000, n_warm=1500)\n",
        "tasks_results['300/300']['uniform'] = res"
      ],
      "metadata": {
        "id": "O-r36cQBA_mf",
        "colab": {
          "base_uri": "https://localhost:8080/"
        },
        "outputId": "9b61c2f0-03d7-427f-f24c-a20cf46185af"
      },
      "execution_count": 72,
      "outputs": [
        {
          "output_type": "stream",
          "name": "stdout",
          "text": [
            "Playing 1500 initial games (warm start)... Collected! Time: 13.9 s\n",
            "\n",
            "Episode 3000\tScore: -30.50\tSuccess Rate: 3.6%\tRMSE: 18.005\tTime: 54.0 s\n",
            "\n",
            "Saving checkpoint... Saved to uniform-1-21-03-2023-03:46:51.pth\n",
            "\n",
            "Episode 6000\tScore: -29.71\tSuccess Rate: 4.5%\tRMSE: 20.677\tTime: 95.4 s\n",
            "\n",
            "Episode 9000\tScore: -29.00\tSuccess Rate: 6.3%\tRMSE: 29.335\tTime: 136.6 s\n",
            "\n",
            "Saving checkpoint... Saved to uniform-2-21-03-2023-03:46:51.pth\n",
            "\n",
            "Episode 12000\tScore: -28.49\tSuccess Rate: 7.7%\tRMSE: 25.879\tTime: 177.6 s\n",
            "\n",
            "Episode 15000\tScore: -28.13\tSuccess Rate: 8.6%\tRMSE: 22.004\tTime: 220.0 s\n",
            "\n",
            "Saving checkpoint... Saved to uniform-3-21-03-2023-03:46:51.pth\n",
            "\n",
            "Episode 18000\tScore: -28.09\tSuccess Rate: 8.7%\tRMSE: 23.368\tTime: 262.0 s\n",
            "\n",
            "Saving checkpoint... Saved to uniform-4-21-03-2023-03:46:51.pth\n",
            "\n",
            "Episode 21000\tScore: -26.58\tSuccess Rate: 13.3%\tRMSE: 32.475\tTime: 302.3 s\n",
            "\n",
            "Episode 24000\tScore: -26.15\tSuccess Rate: 14.4%\tRMSE: 33.903\tTime: 342.8 s\n",
            "\n",
            "Saving checkpoint... Saved to uniform-5-21-03-2023-03:46:51.pth\n",
            "\n",
            "Episode 27000\tScore: -24.43\tSuccess Rate: 19.9%\tRMSE: 17.261\tTime: 382.5 s\n",
            "\n",
            "Episode 30000\tScore: -23.61\tSuccess Rate: 22.3%\tRMSE: 27.434\tTime: 422.0 s\n",
            "\n",
            "Saving checkpoint... Saved to uniform-6-21-03-2023-03:46:51.pth\n",
            "\n",
            "Success: 76 / 300 (25.3333%)\tSteps: 3.9605\tTime: 1.3 s\tSaved to: test21-03-2023-03:53:53.txt\n",
            "\n"
          ]
        }
      ]
    },
    {
      "cell_type": "code",
      "source": [
        "with open('sampling.pickle', 'wb') as handle:\n",
        "    pickle.dump(tasks_results, handle, protocol=pickle.HIGHEST_PROTOCOL)\n",
        "\n",
        "! cp -n *.txt /content/drive/MyDrive/wordle-rl/tests\n",
        "! cp -n *.pth /content/drive/MyDrive/wordle-rl/tests"
      ],
      "metadata": {
        "id": "hUAQEQq_EuUi"
      },
      "execution_count": 73,
      "outputs": []
    },
    {
      "cell_type": "code",
      "source": [
        "res = experiment(answers_100_2000, guesses_100_2000, 40000, n_warm=3000)\n",
        "tasks_results['100/2000']['uniform'] = res"
      ],
      "metadata": {
        "colab": {
          "base_uri": "https://localhost:8080/"
        },
        "id": "TrNS4V1awTQz",
        "outputId": "bd93a45b-d785-4d79-f68e-0c3657871067"
      },
      "execution_count": 74,
      "outputs": [
        {
          "output_type": "stream",
          "name": "stdout",
          "text": [
            "Playing 3000 initial games (warm start)... Collected! Time: 32.6 s\n",
            "\n",
            "Episode 4000\tScore: -32.09\tSuccess Rate: 0.2%\tRMSE: 263.052\tTime: 92.8 s\n",
            "\n",
            "Saving checkpoint... Saved to uniform-1-21-03-2023-03:53:56.pth\n",
            "\n",
            "Episode 8000\tScore: -31.89\tSuccess Rate: 0.2%\tRMSE: 34.869\tTime: 155.3 s\n",
            "\n",
            "Saving checkpoint... Saved to uniform-2-21-03-2023-03:53:56.pth\n",
            "\n",
            "Episode 12000\tScore: -33.01\tSuccess Rate: 0.2%\tRMSE: 30.056\tTime: 218.0 s\n",
            "\n",
            "Saving checkpoint... Saved to uniform-3-21-03-2023-03:53:56.pth\n",
            "\n",
            "Episode 16000\tScore: -33.50\tSuccess Rate: 0.1%\tRMSE: 21.079\tTime: 279.6 s\n",
            "\n",
            "Episode 20000\tScore: -33.57\tSuccess Rate: 0.0%\tRMSE: 29.491\tTime: 342.0 s\n",
            "\n",
            "Saving checkpoint... Saved to uniform-4-21-03-2023-03:53:56.pth\n",
            "\n",
            "Episode 24000\tScore: -33.49\tSuccess Rate: 0.0%\tRMSE: 35.694\tTime: 403.1 s\n",
            "\n",
            "Saving checkpoint... Saved to uniform-5-21-03-2023-03:53:56.pth\n",
            "\n",
            "Episode 28000\tScore: -33.42\tSuccess Rate: 0.1%\tRMSE: 33.989\tTime: 465.3 s\n",
            "\n",
            "Saving checkpoint... Saved to uniform-6-21-03-2023-03:53:56.pth\n",
            "\n",
            "Episode 32000\tScore: -33.33\tSuccess Rate: 0.0%\tRMSE: 37.520\tTime: 526.9 s\n",
            "\n",
            "Saving checkpoint... Saved to uniform-7-21-03-2023-03:53:56.pth\n",
            "\n",
            "Episode 36000\tScore: -33.40\tSuccess Rate: 0.1%\tRMSE: 31.703\tTime: 588.4 s\n",
            "\n",
            "Episode 40000\tScore: -33.29\tSuccess Rate: 0.1%\tRMSE: 38.211\tTime: 650.2 s\n",
            "\n",
            "Saving checkpoint... Saved to uniform-8-21-03-2023-03:53:56.pth\n",
            "\n",
            "Success: 0 / 100 (0.0000%)\tSteps: nan\tTime: 0.4 s\tSaved to: test21-03-2023-04:04:46.txt\n",
            "\n"
          ]
        },
        {
          "output_type": "stream",
          "name": "stderr",
          "text": [
            "/content/dqn/train.py:185: RuntimeWarning: Mean of empty slice.\n",
            "  f'Steps: {steps[success.astype(bool)].mean():.4f}',\n",
            "/usr/local/lib/python3.9/dist-packages/numpy/core/_methods.py:189: RuntimeWarning: invalid value encountered in double_scalars\n",
            "  ret = ret.dtype.type(ret / rcount)\n"
          ]
        }
      ]
    },
    {
      "cell_type": "code",
      "source": [
        "with open('sampling.pickle', 'wb') as handle:\n",
        "    pickle.dump(tasks_results, handle, protocol=pickle.HIGHEST_PROTOCOL)\n",
        "\n",
        "! cp -n *.txt /content/drive/MyDrive/wordle-rl/tests\n",
        "! cp -n *.pth /content/drive/MyDrive/wordle-rl/tests"
      ],
      "metadata": {
        "id": "scXfbGc18maD"
      },
      "execution_count": 75,
      "outputs": []
    },
    {
      "cell_type": "markdown",
      "metadata": {
        "id": "WsGR_oi5o9J0"
      },
      "source": [
        "### A Little Prioritized"
      ]
    },
    {
      "cell_type": "code",
      "execution_count": 76,
      "metadata": {
        "id": "rkFZvMC6t1o6"
      },
      "outputs": [],
      "source": [
        "def experiment(answers, guesses, n_episodes, logging_level=None, n_warm=500):\n",
        "    env = Environment(\n",
        "        rewards=step_rewards,\n",
        "        wordle=Wordle(vocabulary=guesses, answers=answers),\n",
        "        state_instance=StateVocabulary(\n",
        "            answers_mask=np.fromiter((g in answers for g in guesses), dtype=bool)\n",
        "        )\n",
        "    )\n",
        "\n",
        "    agent = Agent(\n",
        "        state_size=env.state.size,\n",
        "        action_size=len(guesses),\n",
        "        action_constructor=partial(ActionVocabulary, vocabulary=guesses),\n",
        "        # here is what we are experimenting with\n",
        "        replay_buffer=PrioritizedReplayBuffer(\n",
        "            state_size=env.state.size,\n",
        "            alpha=0.1, beta=0.9,\n",
        "            beta_growth_rate=1.05\n",
        "        ),\n",
        "        n_warm=n_warm\n",
        "    )\n",
        "\n",
        "    res = train(\n",
        "        env=env, agent=agent, nickname='little',\n",
        "        n_episodes=n_episodes, logging_level=logging_level\n",
        "    )\n",
        "    test(env=env, agent=agent)\n",
        "    return res"
      ]
    },
    {
      "cell_type": "code",
      "execution_count": 77,
      "metadata": {
        "id": "acBdKIGuyARS",
        "outputId": "478d4892-0f26-428c-cfbe-7caea985e87b",
        "colab": {
          "base_uri": "https://localhost:8080/"
        }
      },
      "outputs": [
        {
          "output_type": "stream",
          "name": "stdout",
          "text": [
            "Playing 500 initial games (warm start)... Collected! Time: 4.4 s\n",
            "\n",
            "Episode  500\tScore: -6.23\tSuccess Rate: 72.2%\tRMSE: 167.232\tTime: 8.5 s\n",
            "\n",
            "Episode 1000\tScore: 6.26\tSuccess Rate: 99.8%\tRMSE: 107.947\tTime: 11.3 s\n",
            "\n",
            "Episode 1500\tScore: 6.82\tSuccess Rate: 100.0%\tRMSE: 117.564\tTime: 13.5 s\n",
            "\n",
            "Episode 2000\tScore: 7.06\tSuccess Rate: 100.0%\tRMSE: 99.782\tTime: 15.6 s\n",
            "\n",
            "Episode 2500\tScore: 6.96\tSuccess Rate: 99.8%\tRMSE: 103.577\tTime: 17.8 s\n",
            "\n",
            "Episode 3000\tScore: 7.06\tSuccess Rate: 100.0%\tRMSE: 104.941\tTime: 19.9 s\n",
            "\n",
            "Episode 3500\tScore: 6.68\tSuccess Rate: 99.6%\tRMSE: 89.580\tTime: 22.7 s\n",
            "\n",
            "Episode 4000\tScore: 6.47\tSuccess Rate: 98.8%\tRMSE: 81.978\tTime: 25.3 s\n",
            "\n",
            "Episode 4500\tScore: 6.02\tSuccess Rate: 98.2%\tRMSE: 95.162\tTime: 27.6 s\n",
            "\n",
            "Episode 5000\tScore: 6.81\tSuccess Rate: 99.8%\tRMSE: 109.435\tTime: 29.7 s\n",
            "\n",
            "Saving checkpoint... Saved to little-1-21-03-2023-04:04:49.pth\n",
            "\n",
            "Success: 10 / 10 (100.0000%)\tSteps: 2.7000\tTime: 0.0 s\tSaved to: test21-03-2023-04:05:19.txt\n",
            "\n"
          ]
        }
      ],
      "source": [
        "res = experiment(answers_10_100, guesses_10_100, 5000)\n",
        "tasks_results['10/100']['little'] = res"
      ]
    },
    {
      "cell_type": "code",
      "execution_count": 78,
      "metadata": {
        "id": "5s8bD-knyART",
        "outputId": "b69bc15b-bc17-42ce-da39-989c71c3cce6",
        "colab": {
          "base_uri": "https://localhost:8080/"
        }
      },
      "outputs": [
        {
          "output_type": "stream",
          "name": "stdout",
          "text": [
            "Playing 500 initial games (warm start)... Collected! Time: 4.4 s\n",
            "\n",
            "Episode 2000\tScore: -26.76\tSuccess Rate: 14.0%\tRMSE: 202.116\tTime: 29.5 s\n",
            "\n",
            "Episode 4000\tScore: -23.50\tSuccess Rate: 22.6%\tRMSE: 230.657\tTime: 54.6 s\n",
            "\n",
            "Saving checkpoint... Saved to little-1-21-03-2023-04:05:19.pth\n",
            "\n",
            "Episode 6000\tScore: -20.95\tSuccess Rate: 30.2%\tRMSE: 293.987\tTime: 79.7 s\n",
            "\n",
            "Episode 8000\tScore: -17.76\tSuccess Rate: 39.7%\tRMSE: 303.914\tTime: 103.3 s\n",
            "\n",
            "Episode 10000\tScore: -16.10\tSuccess Rate: 45.5%\tRMSE: 285.872\tTime: 125.4 s\n",
            "\n",
            "Saving checkpoint... Saved to little-2-21-03-2023-04:05:19.pth\n",
            "\n",
            "Episode 12000\tScore: -14.15\tSuccess Rate: 50.4%\tRMSE: 309.886\tTime: 147.9 s\n",
            "\n",
            "Episode 14000\tScore: -12.25\tSuccess Rate: 56.3%\tRMSE: 309.381\tTime: 169.2 s\n",
            "\n",
            "Saving checkpoint... Saved to little-3-21-03-2023-04:05:19.pth\n",
            "\n",
            "Episode 16000\tScore: -9.25\tSuccess Rate: 63.8%\tRMSE: 296.213\tTime: 189.1 s\n",
            "\n",
            "Episode 18000\tScore: -8.40\tSuccess Rate: 66.6%\tRMSE: 283.565\tTime: 208.4 s\n",
            "\n",
            "Episode 20000\tScore: -7.16\tSuccess Rate: 69.5%\tRMSE: 229.181\tTime: 227.9 s\n",
            "\n",
            "Saving checkpoint... Saved to little-4-21-03-2023-04:05:19.pth\n",
            "\n",
            "Success: 74 / 100 (74.0000%)\tSteps: 2.9459\tTime: 0.3 s\tSaved to: test21-03-2023-04:09:07.txt\n",
            "\n"
          ]
        }
      ],
      "source": [
        "res = experiment(answers_100_100, guesses_100_100, 20000)\n",
        "tasks_results['100/100']['little'] = res"
      ]
    },
    {
      "cell_type": "code",
      "source": [
        "with open('sampling.pickle', 'wb') as handle:\n",
        "    pickle.dump(tasks_results, handle, protocol=pickle.HIGHEST_PROTOCOL)\n",
        "\n",
        "! cp -n *.txt /content/drive/MyDrive/wordle-rl/tests\n",
        "! cp -n *.pth /content/drive/MyDrive/wordle-rl/tests"
      ],
      "metadata": {
        "id": "t-rz0Z66wD5t"
      },
      "execution_count": 79,
      "outputs": []
    },
    {
      "cell_type": "code",
      "source": [
        "res = experiment(answers_300_300, guesses_300_300, 30000, n_warm=1500)\n",
        "tasks_results['300/300']['little'] = res"
      ],
      "metadata": {
        "id": "_M0Nn1WDBMvy",
        "colab": {
          "base_uri": "https://localhost:8080/"
        },
        "outputId": "4a2da757-4570-4c3c-f786-0416589c9aba"
      },
      "execution_count": 80,
      "outputs": [
        {
          "output_type": "stream",
          "name": "stdout",
          "text": [
            "Playing 1500 initial games (warm start)... Collected! Time: 14.9 s\n",
            "\n",
            "Episode 3000\tScore: -31.21\tSuccess Rate: 2.1%\tRMSE: 194.200\tTime: 57.6 s\n",
            "\n",
            "Saving checkpoint... Saved to little-1-21-03-2023-04:09:08.pth\n",
            "\n",
            "Episode 6000\tScore: -30.15\tSuccess Rate: 3.6%\tRMSE: 237.953\tTime: 100.9 s\n",
            "\n",
            "Episode 9000\tScore: -29.79\tSuccess Rate: 4.2%\tRMSE: 204.755\tTime: 144.2 s\n",
            "\n",
            "Saving checkpoint... Saved to little-2-21-03-2023-04:09:08.pth\n",
            "\n",
            "Episode 12000\tScore: -29.28\tSuccess Rate: 5.3%\tRMSE: 178.803\tTime: 187.2 s\n",
            "\n",
            "Episode 15000\tScore: -28.75\tSuccess Rate: 6.6%\tRMSE: 210.500\tTime: 230.1 s\n",
            "\n",
            "Saving checkpoint... Saved to little-3-21-03-2023-04:09:08.pth\n",
            "\n",
            "Episode 18000\tScore: -28.57\tSuccess Rate: 7.2%\tRMSE: 287.019\tTime: 273.5 s\n",
            "\n",
            "Saving checkpoint... Saved to little-4-21-03-2023-04:09:08.pth\n",
            "\n",
            "Episode 21000\tScore: -28.01\tSuccess Rate: 9.1%\tRMSE: 183.584\tTime: 316.2 s\n",
            "\n",
            "Episode 24000\tScore: -27.13\tSuccess Rate: 11.5%\tRMSE: 205.766\tTime: 358.2 s\n",
            "\n",
            "Saving checkpoint... Saved to little-5-21-03-2023-04:09:08.pth\n",
            "\n",
            "Episode 27000\tScore: -26.38\tSuccess Rate: 13.4%\tRMSE: 280.461\tTime: 400.4 s\n",
            "\n",
            "Episode 30000\tScore: -26.09\tSuccess Rate: 14.7%\tRMSE: 176.446\tTime: 442.8 s\n",
            "\n",
            "Saving checkpoint... Saved to little-6-21-03-2023-04:09:08.pth\n",
            "\n",
            "Success: 52 / 300 (17.3333%)\tSteps: 3.8077\tTime: 1.6 s\tSaved to: test21-03-2023-04:16:31.txt\n",
            "\n"
          ]
        }
      ]
    },
    {
      "cell_type": "code",
      "source": [
        "with open('sampling.pickle', 'wb') as handle:\n",
        "    pickle.dump(tasks_results, handle, protocol=pickle.HIGHEST_PROTOCOL)\n",
        "\n",
        "! cp -n *.txt /content/drive/MyDrive/wordle-rl/tests\n",
        "! cp -n *.pth /content/drive/MyDrive/wordle-rl/tests"
      ],
      "metadata": {
        "id": "sZ6GyCKuEvqj"
      },
      "execution_count": 81,
      "outputs": []
    },
    {
      "cell_type": "code",
      "source": [
        "res = experiment(answers_100_2000, guesses_100_2000, 40000, n_warm=3000)\n",
        "tasks_results['100/2000']['little'] = res"
      ],
      "metadata": {
        "colab": {
          "base_uri": "https://localhost:8080/"
        },
        "id": "S-DzZqmZwbnh",
        "outputId": "fd679240-3e30-40fc-e849-80728068f3ed"
      },
      "execution_count": 82,
      "outputs": [
        {
          "output_type": "stream",
          "name": "stdout",
          "text": [
            "Playing 3000 initial games (warm start)... Collected! Time: 32.7 s\n",
            "\n",
            "Episode 4000\tScore: -31.81\tSuccess Rate: 0.2%\tRMSE: 533.925\tTime: 95.6 s\n",
            "\n",
            "Saving checkpoint... Saved to little-1-21-03-2023-04:16:34.pth\n",
            "\n",
            "Episode 8000\tScore: -32.37\tSuccess Rate: 0.3%\tRMSE: 172.487\tTime: 158.8 s\n",
            "\n",
            "Saving checkpoint... Saved to little-2-21-03-2023-04:16:34.pth\n",
            "\n",
            "Episode 12000\tScore: -33.31\tSuccess Rate: 0.1%\tRMSE: 217.628\tTime: 222.7 s\n",
            "\n",
            "Saving checkpoint... Saved to little-3-21-03-2023-04:16:34.pth\n",
            "\n",
            "Episode 16000\tScore: -33.06\tSuccess Rate: 0.2%\tRMSE: 272.914\tTime: 286.2 s\n",
            "\n",
            "Episode 20000\tScore: -32.96\tSuccess Rate: 0.2%\tRMSE: 208.154\tTime: 349.4 s\n",
            "\n",
            "Saving checkpoint... Saved to little-4-21-03-2023-04:16:34.pth\n",
            "\n",
            "Episode 24000\tScore: -32.79\tSuccess Rate: 0.1%\tRMSE: 248.029\tTime: 412.4 s\n",
            "\n",
            "Saving checkpoint... Saved to little-5-21-03-2023-04:16:34.pth\n",
            "\n",
            "Episode 28000\tScore: -32.75\tSuccess Rate: 0.3%\tRMSE: 252.041\tTime: 475.9 s\n",
            "\n",
            "Saving checkpoint... Saved to little-6-21-03-2023-04:16:34.pth\n",
            "\n",
            "Episode 32000\tScore: -32.66\tSuccess Rate: 0.4%\tRMSE: 389.328\tTime: 539.2 s\n",
            "\n",
            "Saving checkpoint... Saved to little-7-21-03-2023-04:16:34.pth\n",
            "\n",
            "Episode 36000\tScore: -32.65\tSuccess Rate: 0.5%\tRMSE: 274.253\tTime: 602.0 s\n",
            "\n",
            "Episode 40000\tScore: -32.68\tSuccess Rate: 0.3%\tRMSE: 280.933\tTime: 665.4 s\n",
            "\n",
            "Saving checkpoint... Saved to little-8-21-03-2023-04:16:34.pth\n",
            "\n",
            "Success: 0 / 100 (0.0000%)\tSteps: nan\tTime: 0.4 s\tSaved to: test21-03-2023-04:27:39.txt\n",
            "\n"
          ]
        },
        {
          "output_type": "stream",
          "name": "stderr",
          "text": [
            "/content/dqn/train.py:185: RuntimeWarning: Mean of empty slice.\n",
            "  f'Steps: {steps[success.astype(bool)].mean():.4f}',\n",
            "/usr/local/lib/python3.9/dist-packages/numpy/core/_methods.py:189: RuntimeWarning: invalid value encountered in double_scalars\n",
            "  ret = ret.dtype.type(ret / rcount)\n"
          ]
        }
      ]
    },
    {
      "cell_type": "code",
      "source": [
        "with open('sampling.pickle', 'wb') as handle:\n",
        "    pickle.dump(tasks_results, handle, protocol=pickle.HIGHEST_PROTOCOL)\n",
        "\n",
        "! cp -n *.txt /content/drive/MyDrive/wordle-rl/tests\n",
        "! cp -n *.pth /content/drive/MyDrive/wordle-rl/tests"
      ],
      "metadata": {
        "id": "l6xZPbU2wcMo"
      },
      "execution_count": 83,
      "outputs": []
    },
    {
      "cell_type": "markdown",
      "metadata": {
        "id": "fGu7igCV0ouu"
      },
      "source": [
        "### Middle Prioritized"
      ]
    },
    {
      "cell_type": "code",
      "source": [
        "def experiment(answers, guesses, n_episodes, logging_level=None, n_warm=500):\n",
        "    env = Environment(\n",
        "        rewards=step_rewards,\n",
        "        wordle=Wordle(vocabulary=guesses, answers=answers),\n",
        "        state_instance=StateVocabulary(\n",
        "            answers_mask=np.fromiter((g in answers for g in guesses), dtype=bool)\n",
        "        )\n",
        "    )\n",
        "\n",
        "    agent = Agent(\n",
        "        state_size=env.state.size,\n",
        "        action_size=len(guesses),\n",
        "        action_constructor=partial(ActionVocabulary, vocabulary=guesses),\n",
        "        # here is what we are experimenting with\n",
        "        replay_buffer=PrioritizedReplayBuffer(\n",
        "            state_size=env.state.size,\n",
        "            alpha=0.4, beta=0.9,\n",
        "            beta_growth_rate=1.007\n",
        "        ),\n",
        "        n_warm=n_warm\n",
        "    )\n",
        "\n",
        "    res = train(\n",
        "        env=env, agent=agent, nickname='middle',\n",
        "        n_episodes=n_episodes, logging_level=logging_level\n",
        "    )\n",
        "    test(env=env, agent=agent)\n",
        "    return res"
      ],
      "metadata": {
        "id": "0SYpNwxwRDTh"
      },
      "execution_count": 84,
      "outputs": []
    },
    {
      "cell_type": "code",
      "execution_count": 85,
      "metadata": {
        "id": "wf3CBVghyART",
        "outputId": "3845d33c-f4d9-4bfb-eec2-fc51355d1911",
        "colab": {
          "base_uri": "https://localhost:8080/"
        }
      },
      "outputs": [
        {
          "output_type": "stream",
          "name": "stdout",
          "text": [
            "Playing 500 initial games (warm start)... Collected! Time: 4.4 s\n",
            "\n",
            "Episode  500\tScore: -6.87\tSuccess Rate: 71.4%\tRMSE: 105.104\tTime: 9.4 s\n",
            "\n",
            "Episode 1000\tScore: 4.56\tSuccess Rate: 96.6%\tRMSE: 147.263\tTime: 11.9 s\n",
            "\n",
            "Episode 1500\tScore: 6.78\tSuccess Rate: 100.0%\tRMSE: 130.129\tTime: 14.1 s\n",
            "\n",
            "Episode 2000\tScore: 7.02\tSuccess Rate: 100.0%\tRMSE: 97.114\tTime: 16.1 s\n",
            "\n",
            "Episode 2500\tScore: 7.15\tSuccess Rate: 100.0%\tRMSE: 113.635\tTime: 18.2 s\n",
            "\n",
            "Episode 3000\tScore: 7.11\tSuccess Rate: 100.0%\tRMSE: 93.896\tTime: 20.9 s\n",
            "\n",
            "Episode 3500\tScore: 7.17\tSuccess Rate: 100.0%\tRMSE: 67.322\tTime: 23.3 s\n",
            "\n",
            "Episode 4000\tScore: 6.85\tSuccess Rate: 99.6%\tRMSE: 72.459\tTime: 25.4 s\n",
            "\n",
            "Episode 4500\tScore: 7.07\tSuccess Rate: 100.0%\tRMSE: 69.136\tTime: 27.6 s\n",
            "\n",
            "Episode 5000\tScore: 6.53\tSuccess Rate: 99.2%\tRMSE: 91.919\tTime: 29.8 s\n",
            "\n",
            "Saving checkpoint... Saved to middle-1-21-03-2023-04:27:41.pth\n",
            "\n",
            "Success: 10 / 10 (100.0000%)\tSteps: 1.9000\tTime: 0.0 s\tSaved to: test21-03-2023-04:28:11.txt\n",
            "\n"
          ]
        }
      ],
      "source": [
        "res = experiment(answers_10_100, guesses_10_100, 5000)\n",
        "tasks_results['10/100']['middle'] = res"
      ]
    },
    {
      "cell_type": "code",
      "execution_count": 86,
      "metadata": {
        "id": "-BbQbAH_yARU",
        "outputId": "416d88cd-16c1-40f7-9484-f9fb4b31bbc8",
        "colab": {
          "base_uri": "https://localhost:8080/"
        }
      },
      "outputs": [
        {
          "output_type": "stream",
          "name": "stdout",
          "text": [
            "Playing 500 initial games (warm start)... Collected! Time: 5.0 s\n",
            "\n",
            "Episode 2000\tScore: -26.85\tSuccess Rate: 12.8%\tRMSE: 179.846\tTime: 29.9 s\n",
            "\n",
            "Episode 4000\tScore: -23.14\tSuccess Rate: 23.5%\tRMSE: 230.242\tTime: 54.7 s\n",
            "\n",
            "Saving checkpoint... Saved to middle-1-21-03-2023-04:28:11.pth\n",
            "\n",
            "Episode 6000\tScore: -18.41\tSuccess Rate: 37.1%\tRMSE: 304.490\tTime: 78.1 s\n",
            "\n",
            "Episode 8000\tScore: -15.61\tSuccess Rate: 45.9%\tRMSE: 313.018\tTime: 100.7 s\n",
            "\n",
            "Episode 10000\tScore: -12.10\tSuccess Rate: 55.8%\tRMSE: 242.716\tTime: 120.7 s\n",
            "\n",
            "Saving checkpoint... Saved to middle-2-21-03-2023-04:28:11.pth\n",
            "\n",
            "Episode 12000\tScore: -8.68\tSuccess Rate: 64.5%\tRMSE: 316.267\tTime: 139.7 s\n",
            "\n",
            "Episode 14000\tScore: -6.38\tSuccess Rate: 70.9%\tRMSE: 312.407\tTime: 157.5 s\n",
            "\n",
            "Saving checkpoint... Saved to middle-3-21-03-2023-04:28:11.pth\n",
            "\n",
            "Episode 16000\tScore: -3.25\tSuccess Rate: 78.3%\tRMSE: 350.311\tTime: 173.5 s\n",
            "\n",
            "Episode 18000\tScore: -2.39\tSuccess Rate: 81.0%\tRMSE: 298.721\tTime: 189.2 s\n",
            "\n",
            "Episode 20000\tScore: -2.23\tSuccess Rate: 81.0%\tRMSE: 348.604\tTime: 205.2 s\n",
            "\n",
            "Saving checkpoint... Saved to middle-4-21-03-2023-04:28:11.pth\n",
            "\n",
            "Success: 84 / 100 (84.0000%)\tSteps: 2.6310\tTime: 0.3 s\tSaved to: test21-03-2023-04:31:36.txt\n",
            "\n"
          ]
        }
      ],
      "source": [
        "res = experiment(answers_100_100, guesses_100_100, 20000)\n",
        "tasks_results['100/100']['middle'] = res"
      ]
    },
    {
      "cell_type": "code",
      "source": [
        "with open('sampling.pickle', 'wb') as handle:\n",
        "    pickle.dump(tasks_results, handle, protocol=pickle.HIGHEST_PROTOCOL)\n",
        "\n",
        "! cp -n *.txt /content/drive/MyDrive/wordle-rl/tests\n",
        "! cp -n *.pth /content/drive/MyDrive/wordle-rl/tests"
      ],
      "metadata": {
        "id": "F0nGX7VKwHiV"
      },
      "execution_count": 87,
      "outputs": []
    },
    {
      "cell_type": "code",
      "source": [
        "res = experiment(answers_300_300, guesses_300_300, 30000, n_warm=1500)\n",
        "tasks_results['300/300']['middle'] = res"
      ],
      "metadata": {
        "id": "KGBcQMF2BPYF",
        "colab": {
          "base_uri": "https://localhost:8080/"
        },
        "outputId": "c8dcaa0e-d50e-4593-d644-16b54384522f"
      },
      "execution_count": 88,
      "outputs": [
        {
          "output_type": "stream",
          "name": "stdout",
          "text": [
            "Playing 1500 initial games (warm start)... Collected! Time: 14.5 s\n",
            "\n",
            "Episode 3000\tScore: -31.17\tSuccess Rate: 2.0%\tRMSE: 161.304\tTime: 55.5 s\n",
            "\n",
            "Saving checkpoint... Saved to middle-1-21-03-2023-04:31:38.pth\n",
            "\n",
            "Episode 6000\tScore: -29.88\tSuccess Rate: 4.2%\tRMSE: 159.387\tTime: 97.4 s\n",
            "\n",
            "Episode 9000\tScore: -29.47\tSuccess Rate: 5.1%\tRMSE: 196.525\tTime: 139.2 s\n",
            "\n",
            "Saving checkpoint... Saved to middle-2-21-03-2023-04:31:38.pth\n",
            "\n",
            "Episode 12000\tScore: -29.08\tSuccess Rate: 5.8%\tRMSE: 308.432\tTime: 180.9 s\n",
            "\n",
            "Episode 15000\tScore: -28.71\tSuccess Rate: 6.9%\tRMSE: 265.736\tTime: 223.6 s\n",
            "\n",
            "Saving checkpoint... Saved to middle-3-21-03-2023-04:31:38.pth\n",
            "\n",
            "Episode 18000\tScore: -28.17\tSuccess Rate: 8.9%\tRMSE: 181.898\tTime: 265.2 s\n",
            "\n",
            "Saving checkpoint... Saved to middle-4-21-03-2023-04:31:38.pth\n",
            "\n",
            "Episode 21000\tScore: -27.99\tSuccess Rate: 9.3%\tRMSE: 227.878\tTime: 306.9 s\n",
            "\n",
            "Episode 24000\tScore: -26.81\tSuccess Rate: 12.5%\tRMSE: 216.972\tTime: 348.1 s\n",
            "\n",
            "Saving checkpoint... Saved to middle-5-21-03-2023-04:31:38.pth\n",
            "\n",
            "Episode 27000\tScore: -26.18\tSuccess Rate: 13.9%\tRMSE: 269.069\tTime: 389.3 s\n",
            "\n",
            "Episode 30000\tScore: -25.03\tSuccess Rate: 18.1%\tRMSE: 251.229\tTime: 429.8 s\n",
            "\n",
            "Saving checkpoint... Saved to middle-6-21-03-2023-04:31:38.pth\n",
            "\n",
            "Success: 56 / 300 (18.6667%)\tSteps: 3.8214\tTime: 1.5 s\tSaved to: test21-03-2023-04:38:48.txt\n",
            "\n"
          ]
        }
      ]
    },
    {
      "cell_type": "code",
      "source": [
        "with open('sampling.pickle', 'wb') as handle:\n",
        "    pickle.dump(tasks_results, handle, protocol=pickle.HIGHEST_PROTOCOL)\n",
        "\n",
        "! cp -n *.txt /content/drive/MyDrive/wordle-rl/tests\n",
        "! cp -n *.pth /content/drive/MyDrive/wordle-rl/tests"
      ],
      "metadata": {
        "id": "WpesTFgCEw9L"
      },
      "execution_count": 89,
      "outputs": []
    },
    {
      "cell_type": "code",
      "source": [
        "res = experiment(answers_100_2000, guesses_100_2000, 40000, n_warm=3000)\n",
        "tasks_results['100/2000']['middle'] = res"
      ],
      "metadata": {
        "colab": {
          "base_uri": "https://localhost:8080/"
        },
        "id": "MzOeJ0DQwlj3",
        "outputId": "bc95cee2-6e0c-4e16-f1c5-70810fa6f979"
      },
      "execution_count": 90,
      "outputs": [
        {
          "output_type": "stream",
          "name": "stdout",
          "text": [
            "Playing 3000 initial games (warm start)... Collected! Time: 32.0 s\n",
            "\n",
            "Episode 4000\tScore: -31.90\tSuccess Rate: 0.1%\tRMSE: 368.403\tTime: 93.9 s\n",
            "\n",
            "Saving checkpoint... Saved to middle-1-21-03-2023-04:38:52.pth\n",
            "\n",
            "Episode 8000\tScore: -32.33\tSuccess Rate: 0.3%\tRMSE: 148.266\tTime: 157.2 s\n",
            "\n",
            "Saving checkpoint... Saved to middle-2-21-03-2023-04:38:52.pth\n",
            "\n",
            "Episode 12000\tScore: -33.21\tSuccess Rate: 0.1%\tRMSE: 136.897\tTime: 221.8 s\n",
            "\n",
            "Saving checkpoint... Saved to middle-3-21-03-2023-04:38:52.pth\n",
            "\n",
            "Episode 16000\tScore: -32.64\tSuccess Rate: 0.4%\tRMSE: 295.285\tTime: 286.3 s\n",
            "\n",
            "Episode 20000\tScore: -32.67\tSuccess Rate: 0.5%\tRMSE: 279.514\tTime: 349.9 s\n",
            "\n",
            "Saving checkpoint... Saved to middle-4-21-03-2023-04:38:52.pth\n",
            "\n",
            "Episode 24000\tScore: -32.64\tSuccess Rate: 0.5%\tRMSE: 264.570\tTime: 413.9 s\n",
            "\n",
            "Saving checkpoint... Saved to middle-5-21-03-2023-04:38:52.pth\n",
            "\n",
            "Episode 28000\tScore: -32.44\tSuccess Rate: 0.8%\tRMSE: 237.283\tTime: 478.7 s\n",
            "\n",
            "Saving checkpoint... Saved to middle-6-21-03-2023-04:38:52.pth\n",
            "\n",
            "Episode 32000\tScore: -32.52\tSuccess Rate: 0.6%\tRMSE: 241.743\tTime: 543.2 s\n",
            "\n",
            "Saving checkpoint... Saved to middle-7-21-03-2023-04:38:52.pth\n",
            "\n",
            "Episode 36000\tScore: -32.33\tSuccess Rate: 0.9%\tRMSE: 293.726\tTime: 606.9 s\n",
            "\n",
            "Episode 40000\tScore: -32.25\tSuccess Rate: 1.0%\tRMSE: 233.413\tTime: 670.9 s\n",
            "\n",
            "Saving checkpoint... Saved to middle-8-21-03-2023-04:38:52.pth\n",
            "\n",
            "Success: 1 / 100 (1.0000%)\tSteps: 3.0000\tTime: 0.4 s\tSaved to: test21-03-2023-04:50:03.txt\n",
            "\n"
          ]
        }
      ]
    },
    {
      "cell_type": "code",
      "source": [
        "with open('sampling.pickle', 'wb') as handle:\n",
        "    pickle.dump(tasks_results, handle, protocol=pickle.HIGHEST_PROTOCOL)\n",
        "\n",
        "! cp -n *.txt /content/drive/MyDrive/wordle-rl/tests\n",
        "! cp -n *.pth /content/drive/MyDrive/wordle-rl/tests\n",
        "! cp -n *.pickle /content/drive/MyDrive/wordle-rl/tests"
      ],
      "metadata": {
        "id": "IFCbW4__wlj4"
      },
      "execution_count": 91,
      "outputs": []
    },
    {
      "cell_type": "markdown",
      "metadata": {
        "id": "EAKNk4DK0u7R"
      },
      "source": [
        "### Much Prioritized"
      ]
    },
    {
      "cell_type": "code",
      "execution_count": 92,
      "metadata": {
        "id": "NdJaA_qZ0yzX"
      },
      "outputs": [],
      "source": [
        "def experiment(answers, guesses, n_episodes, logging_level=None, n_warm=500):\n",
        "    env = Environment(\n",
        "        rewards=step_rewards,\n",
        "        wordle=Wordle(vocabulary=guesses, answers=answers),\n",
        "        state_instance=StateVocabulary(\n",
        "            answers_mask=np.fromiter((g in answers for g in guesses), dtype=bool)\n",
        "        )\n",
        "    )\n",
        "\n",
        "    agent = Agent(\n",
        "        state_size=env.state.size,\n",
        "        action_size=len(guesses),\n",
        "        action_constructor=partial(ActionVocabulary, vocabulary=guesses),\n",
        "        # here is what we are experimenting with\n",
        "        replay_buffer=PrioritizedReplayBuffer(\n",
        "            state_size=env.state.size,\n",
        "            alpha=0.7, beta=0.9,\n",
        "            beta_growth_rate=1.007\n",
        "        ),\n",
        "        n_warm=n_warm\n",
        "    )\n",
        "\n",
        "    res = train(\n",
        "        env=env, agent=agent, nickname='much',\n",
        "        n_episodes=n_episodes, logging_level=logging_level\n",
        "    )\n",
        "    test(env=env, agent=agent)\n",
        "    return res"
      ]
    },
    {
      "cell_type": "code",
      "execution_count": 93,
      "metadata": {
        "id": "iWHGphlYyARV",
        "outputId": "4df03c13-fc27-46f8-b73c-fbcc41855878",
        "colab": {
          "base_uri": "https://localhost:8080/"
        }
      },
      "outputs": [
        {
          "output_type": "stream",
          "name": "stdout",
          "text": [
            "Playing 500 initial games (warm start)... Collected! Time: 5.3 s\n",
            "\n",
            "Episode  500\tScore: -8.67\tSuccess Rate: 65.6%\tRMSE: 132.839\tTime: 9.5 s\n",
            "\n",
            "Episode 1000\tScore: 1.79\tSuccess Rate: 87.8%\tRMSE: 186.654\tTime: 12.3 s\n",
            "\n",
            "Episode 1500\tScore: 2.98\tSuccess Rate: 89.4%\tRMSE: 145.685\tTime: 15.0 s\n",
            "\n",
            "Episode 2000\tScore: 3.33\tSuccess Rate: 90.0%\tRMSE: 155.142\tTime: 18.5 s\n",
            "\n",
            "Episode 2500\tScore: 2.98\tSuccess Rate: 89.8%\tRMSE: 172.054\tTime: 21.3 s\n",
            "\n",
            "Episode 3000\tScore: 5.80\tSuccess Rate: 98.0%\tRMSE: 160.249\tTime: 23.8 s\n",
            "\n",
            "Episode 3500\tScore: 6.96\tSuccess Rate: 99.8%\tRMSE: 134.518\tTime: 26.0 s\n",
            "\n",
            "Episode 4000\tScore: 6.65\tSuccess Rate: 98.8%\tRMSE: 59.789\tTime: 28.4 s\n",
            "\n",
            "Episode 4500\tScore: 7.05\tSuccess Rate: 99.6%\tRMSE: 107.006\tTime: 31.3 s\n",
            "\n",
            "Episode 5000\tScore: 7.20\tSuccess Rate: 100.0%\tRMSE: 140.123\tTime: 33.8 s\n",
            "\n",
            "Saving checkpoint... Saved to much-1-21-03-2023-04:50:04.pth\n",
            "\n",
            "Success: 8 / 10 (80.0000%)\tSteps: 2.2500\tTime: 0.0 s\tSaved to: test21-03-2023-04:50:38.txt\n",
            "\n"
          ]
        }
      ],
      "source": [
        "res = experiment(answers_10_100, guesses_10_100, 5000)\n",
        "tasks_results['10/100']['much'] = res"
      ]
    },
    {
      "cell_type": "code",
      "execution_count": 94,
      "metadata": {
        "id": "akZPvfv4yARV",
        "outputId": "4b66baad-540e-40c6-b914-6834b21d542e",
        "colab": {
          "base_uri": "https://localhost:8080/"
        }
      },
      "outputs": [
        {
          "output_type": "stream",
          "name": "stdout",
          "text": [
            "Playing 500 initial games (warm start)... Collected! Time: 4.3 s\n",
            "\n",
            "Episode 2000\tScore: -26.89\tSuccess Rate: 13.2%\tRMSE: 285.181\tTime: 29.9 s\n",
            "\n",
            "Episode 4000\tScore: -22.50\tSuccess Rate: 25.9%\tRMSE: 351.297\tTime: 54.6 s\n",
            "\n",
            "Saving checkpoint... Saved to much-1-21-03-2023-04:50:39.pth\n",
            "\n",
            "Episode 6000\tScore: -19.30\tSuccess Rate: 35.2%\tRMSE: 336.985\tTime: 77.8 s\n",
            "\n",
            "Episode 8000\tScore: -15.16\tSuccess Rate: 46.8%\tRMSE: 280.321\tTime: 99.3 s\n",
            "\n",
            "Episode 10000\tScore: -10.96\tSuccess Rate: 58.6%\tRMSE: 325.249\tTime: 119.6 s\n",
            "\n",
            "Saving checkpoint... Saved to much-2-21-03-2023-04:50:39.pth\n",
            "\n",
            "Episode 12000\tScore: -9.21\tSuccess Rate: 63.3%\tRMSE: 256.831\tTime: 138.5 s\n",
            "\n",
            "Episode 14000\tScore: -4.61\tSuccess Rate: 74.9%\tRMSE: 273.392\tTime: 155.3 s\n",
            "\n",
            "Saving checkpoint... Saved to much-3-21-03-2023-04:50:39.pth\n",
            "\n",
            "Episode 16000\tScore: -2.50\tSuccess Rate: 79.8%\tRMSE: 307.973\tTime: 171.2 s\n",
            "\n",
            "Episode 18000\tScore: -2.09\tSuccess Rate: 81.1%\tRMSE: 298.504\tTime: 187.5 s\n",
            "\n",
            "Episode 20000\tScore: -1.94\tSuccess Rate: 81.5%\tRMSE: 250.037\tTime: 203.0 s\n",
            "\n",
            "Saving checkpoint... Saved to much-4-21-03-2023-04:50:39.pth\n",
            "\n",
            "Success: 83 / 100 (83.0000%)\tSteps: 2.6386\tTime: 0.2 s\tSaved to: test21-03-2023-04:54:02.txt\n",
            "\n"
          ]
        }
      ],
      "source": [
        "res = experiment(answers_100_100, guesses_100_100, 20000)\n",
        "tasks_results['100/100']['much'] = res"
      ]
    },
    {
      "cell_type": "code",
      "source": [
        "with open('sampling.pickle', 'wb') as handle:\n",
        "    pickle.dump(tasks_results, handle, protocol=pickle.HIGHEST_PROTOCOL)\n",
        "\n",
        "! cp -n *.txt /content/drive/MyDrive/wordle-rl/tests\n",
        "! cp -n *.pth /content/drive/MyDrive/wordle-rl/tests\n",
        "! cp -n *.pickle /content/drive/MyDrive/wordle-rl/tests"
      ],
      "metadata": {
        "id": "YcN-72c3wJAF"
      },
      "execution_count": 95,
      "outputs": []
    },
    {
      "cell_type": "code",
      "source": [
        "res = experiment(answers_300_300, guesses_300_300, 30000, n_warm=1500)\n",
        "tasks_results['300/300']['much'] = res"
      ],
      "metadata": {
        "id": "CnvWGzmVBR51",
        "colab": {
          "base_uri": "https://localhost:8080/"
        },
        "outputId": "2073126b-fd71-4a55-8be2-dc626568e5a7"
      },
      "execution_count": 96,
      "outputs": [
        {
          "output_type": "stream",
          "name": "stdout",
          "text": [
            "Playing 1500 initial games (warm start)... Collected! Time: 14.5 s\n",
            "\n",
            "Episode 3000\tScore: -31.36\tSuccess Rate: 1.7%\tRMSE: 228.497\tTime: 56.0 s\n",
            "\n",
            "Saving checkpoint... Saved to much-1-21-03-2023-04:54:03.pth\n",
            "\n",
            "Episode 6000\tScore: -30.09\tSuccess Rate: 3.6%\tRMSE: 167.439\tTime: 98.2 s\n",
            "\n",
            "Episode 9000\tScore: -29.46\tSuccess Rate: 4.5%\tRMSE: 221.741\tTime: 140.5 s\n",
            "\n",
            "Saving checkpoint... Saved to much-2-21-03-2023-04:54:03.pth\n",
            "\n",
            "Episode 12000\tScore: -29.18\tSuccess Rate: 5.6%\tRMSE: 135.211\tTime: 182.7 s\n",
            "\n",
            "Episode 15000\tScore: -28.82\tSuccess Rate: 6.3%\tRMSE: 176.898\tTime: 225.0 s\n",
            "\n",
            "Saving checkpoint... Saved to much-3-21-03-2023-04:54:03.pth\n",
            "\n",
            "Episode 18000\tScore: -28.00\tSuccess Rate: 9.0%\tRMSE: 209.741\tTime: 266.9 s\n",
            "\n",
            "Saving checkpoint... Saved to much-4-21-03-2023-04:54:03.pth\n",
            "\n",
            "Episode 21000\tScore: -26.46\tSuccess Rate: 13.1%\tRMSE: 200.957\tTime: 307.7 s\n",
            "\n",
            "Episode 24000\tScore: -26.24\tSuccess Rate: 14.0%\tRMSE: 261.934\tTime: 348.7 s\n",
            "\n",
            "Saving checkpoint... Saved to much-5-21-03-2023-04:54:03.pth\n",
            "\n",
            "Episode 27000\tScore: -24.45\tSuccess Rate: 19.4%\tRMSE: 287.399\tTime: 389.0 s\n",
            "\n",
            "Episode 30000\tScore: -23.27\tSuccess Rate: 23.3%\tRMSE: 280.754\tTime: 428.8 s\n",
            "\n",
            "Saving checkpoint... Saved to much-6-21-03-2023-04:54:03.pth\n",
            "\n",
            "Success: 39 / 300 (13.0000%)\tSteps: 4.1795\tTime: 1.2 s\tSaved to: test21-03-2023-05:01:12.txt\n",
            "\n"
          ]
        }
      ]
    },
    {
      "cell_type": "code",
      "source": [
        "with open('sampling.pickle', 'wb') as handle:\n",
        "    pickle.dump(tasks_results, handle, protocol=pickle.HIGHEST_PROTOCOL)\n",
        "\n",
        "! cp -n *.txt /content/drive/MyDrive/wordle-rl/tests\n",
        "! cp -n *.pth /content/drive/MyDrive/wordle-rl/tests\n",
        "! cp -n *.pickle /content/drive/MyDrive/wordle-rl/tests"
      ],
      "metadata": {
        "id": "XxOiQz-HEzbk"
      },
      "execution_count": 97,
      "outputs": []
    },
    {
      "cell_type": "code",
      "source": [
        "res = experiment(answers_100_2000, guesses_100_2000, 40000, n_warm=3000)\n",
        "tasks_results['100/2000']['much'] = res"
      ],
      "metadata": {
        "colab": {
          "base_uri": "https://localhost:8080/"
        },
        "id": "PdDpp-8iwpVy",
        "outputId": "5d3bc395-4e24-48ac-f8ff-bcc723b640e5"
      },
      "execution_count": 98,
      "outputs": [
        {
          "output_type": "stream",
          "name": "stdout",
          "text": [
            "Playing 3000 initial games (warm start)... Collected! Time: 32.2 s\n",
            "\n",
            "Episode 4000\tScore: -31.77\tSuccess Rate: 0.3%\tRMSE: 777.975\tTime: 93.8 s\n",
            "\n",
            "Saving checkpoint... Saved to much-1-21-03-2023-05:01:15.pth\n",
            "\n",
            "Episode 8000\tScore: -31.96\tSuccess Rate: 0.2%\tRMSE: 135.216\tTime: 156.5 s\n",
            "\n",
            "Saving checkpoint... Saved to much-2-21-03-2023-05:01:15.pth\n",
            "\n",
            "Episode 12000\tScore: -32.96\tSuccess Rate: 0.1%\tRMSE: 204.069\tTime: 219.6 s\n",
            "\n",
            "Saving checkpoint... Saved to much-3-21-03-2023-05:01:15.pth\n",
            "\n",
            "Episode 16000\tScore: -32.50\tSuccess Rate: 0.3%\tRMSE: 204.138\tTime: 283.1 s\n",
            "\n",
            "Episode 20000\tScore: -32.57\tSuccess Rate: 0.1%\tRMSE: 185.179\tTime: 346.9 s\n",
            "\n",
            "Saving checkpoint... Saved to much-4-21-03-2023-05:01:15.pth\n",
            "\n",
            "Episode 24000\tScore: -32.71\tSuccess Rate: 0.1%\tRMSE: 199.235\tTime: 409.1 s\n",
            "\n",
            "Saving checkpoint... Saved to much-5-21-03-2023-05:01:15.pth\n",
            "\n",
            "Episode 28000\tScore: -32.79\tSuccess Rate: 0.2%\tRMSE: 236.855\tTime: 472.4 s\n",
            "\n",
            "Saving checkpoint... Saved to much-6-21-03-2023-05:01:15.pth\n",
            "\n",
            "Episode 32000\tScore: -32.51\tSuccess Rate: 0.6%\tRMSE: 287.064\tTime: 535.4 s\n",
            "\n",
            "Saving checkpoint... Saved to much-7-21-03-2023-05:01:15.pth\n",
            "\n",
            "Episode 36000\tScore: -32.54\tSuccess Rate: 0.3%\tRMSE: 248.106\tTime: 598.2 s\n",
            "\n",
            "Episode 40000\tScore: -32.32\tSuccess Rate: 0.6%\tRMSE: 237.424\tTime: 661.6 s\n",
            "\n",
            "Saving checkpoint... Saved to much-8-21-03-2023-05:01:15.pth\n",
            "\n",
            "Success: 2 / 100 (2.0000%)\tSteps: 3.0000\tTime: 0.4 s\tSaved to: test21-03-2023-05:12:17.txt\n",
            "\n"
          ]
        }
      ]
    },
    {
      "cell_type": "code",
      "source": [
        "with open('sampling.pickle', 'wb') as handle:\n",
        "    pickle.dump(tasks_results, handle, protocol=pickle.HIGHEST_PROTOCOL)\n",
        "\n",
        "! cp -n *.txt /content/drive/MyDrive/wordle-rl/tests\n",
        "! cp -n *.pth /content/drive/MyDrive/wordle-rl/tests\n",
        "! cp -n *.pickle /content/drive/MyDrive/wordle-rl/tests"
      ],
      "metadata": {
        "id": "AUC-Te4TwpVz"
      },
      "execution_count": 99,
      "outputs": []
    },
    {
      "cell_type": "markdown",
      "source": [
        "### Plot Results"
      ],
      "metadata": {
        "id": "O0FiVaC5yiPy"
      }
    },
    {
      "cell_type": "code",
      "source": [
        "plot_results(tasks_results, 'sampling_warm')"
      ],
      "metadata": {
        "colab": {
          "base_uri": "https://localhost:8080/",
          "height": 352
        },
        "id": "41cnCYFpyj-O",
        "outputId": "5a97793d-beaa-4a45-ef48-5f156b1b5578"
      },
      "execution_count": 100,
      "outputs": [
        {
          "output_type": "display_data",
          "data": {
            "text/plain": [
              "<Figure size 1152x360 with 4 Axes>"
            ],
            "image/png": "[encoded data removed]"
          },
          "metadata": {}
        }
      ]
    },
    {
      "cell_type": "code",
      "source": [
        "! cp -n *.svg /content/drive/MyDrive/wordle-rl/tests"
      ],
      "metadata": {
        "id": "B2FS-Arg6eho"
      },
      "execution_count": 101,
      "outputs": []
    },
    {
      "cell_type": "markdown",
      "metadata": {
        "id": "bvUjljxzo9Js"
      },
      "source": [
        "## Rewards"
      ]
    },
    {
      "cell_type": "code",
      "execution_count": 16,
      "metadata": {
        "id": "pWFQakxrLYA5"
      },
      "outputs": [],
      "source": [
        "def experiment(rewards, answers, guesses, n_episodes, nickname, logging_level=None):\n",
        "    env = Environment(\n",
        "        rewards=rewards,\n",
        "        wordle=Wordle(vocabulary=guesses, answers=answers),\n",
        "        state_instance=StateYesNo()\n",
        "    )\n",
        "\n",
        "    agent = Agent(\n",
        "        state_size=env.state.size,\n",
        "        action_size=len(guesses),\n",
        "        action_constructor=partial(ActionVocabulary, vocabulary=guesses),\n",
        "        replay_buffer=PrioritizedReplayBuffer(state_size=env.state.size)\n",
        "    )\n",
        "\n",
        "    res = train(\n",
        "        env=env, agent=agent, nickname=nickname,\n",
        "        n_episodes=n_episodes, logging_level=logging_level\n",
        "    )\n",
        "    test(env=env, agent=agent)\n",
        "    return res"
      ]
    },
    {
      "cell_type": "code",
      "source": [
        "tasks_results = defaultdict(dict)\n",
        "nickname = 'rewards'"
      ],
      "metadata": {
        "id": "DZwgPGlGos_5"
      },
      "execution_count": 17,
      "outputs": []
    },
    {
      "cell_type": "markdown",
      "metadata": {
        "id": "u6SwlTeRLVUz"
      },
      "source": [
        "### Soft"
      ]
    },
    {
      "cell_type": "code",
      "execution_count": 18,
      "metadata": {
        "colab": {
          "base_uri": "https://localhost:8080/"
        },
        "id": "LmLWThx-yARJ",
        "outputId": "5e345887-2bb1-4d4f-99cb-2a5e41e99335"
      },
      "outputs": [
        {
          "output_type": "stream",
          "name": "stdout",
          "text": [
            "Playing 500 initial games (warm start)... Collected! Time: 7.7 s\n",
            "\n",
            "Episode  500\tScore: 9.18\tSuccess Rate: 54.0%\tRMSE: 178.171\tTime: 12.7 s\n",
            "\n",
            "Episode 1000\tScore: 20.31\tSuccess Rate: 88.2%\tRMSE: 171.060\tTime: 16.9 s\n",
            "\n",
            "Episode 1500\tScore: 22.00\tSuccess Rate: 92.6%\tRMSE: 168.985\tTime: 20.4 s\n",
            "\n",
            "Episode 2000\tScore: 23.16\tSuccess Rate: 93.4%\tRMSE: 171.522\tTime: 24.3 s\n",
            "\n",
            "Episode 2500\tScore: 21.91\tSuccess Rate: 89.0%\tRMSE: 241.208\tTime: 29.7 s\n",
            "\n",
            "Episode 3000\tScore: 21.68\tSuccess Rate: 88.8%\tRMSE: 171.081\tTime: 34.6 s\n",
            "\n",
            "Episode 3500\tScore: 22.63\tSuccess Rate: 89.6%\tRMSE: 147.364\tTime: 39.9 s\n",
            "\n",
            "Episode 4000\tScore: 23.10\tSuccess Rate: 91.2%\tRMSE: 234.211\tTime: 45.9 s\n",
            "\n",
            "Episode 4500\tScore: 23.80\tSuccess Rate: 92.2%\tRMSE: 195.092\tTime: 51.2 s\n",
            "\n",
            "Episode 5000\tScore: 25.16\tSuccess Rate: 94.2%\tRMSE: 196.826\tTime: 57.4 s\n",
            "\n",
            "Saving checkpoint... Saved to soft-1-21-03-2023-11:37:51.pth\n",
            "\n",
            "Success: 9 / 10 (90.0000%)\tSteps: 4.6667\tTime: 0.0 s\tSaved to: test21-03-2023-11:38:49.txt\n",
            "\n"
          ]
        }
      ],
      "source": [
        "res = experiment(soft_rewards, answers_10_100, guesses_10_100, 5000, 'soft')\n",
        "tasks_results['10/100']['soft'] = res"
      ]
    },
    {
      "cell_type": "code",
      "execution_count": 19,
      "metadata": {
        "id": "xz3wQRWFyARJ",
        "outputId": "eb7607dc-24da-4356-e0ad-16b0b69dfcbe",
        "colab": {
          "base_uri": "https://localhost:8080/"
        }
      },
      "outputs": [
        {
          "output_type": "stream",
          "name": "stdout",
          "text": [
            "Playing 500 initial games (warm start)... Collected! Time: 4.5 s\n",
            "\n",
            "Episode 2000\tScore: -2.67\tSuccess Rate: 17.8%\tRMSE: 236.112\tTime: 30.5 s\n",
            "\n",
            "Episode 4000\tScore: 3.36\tSuccess Rate: 34.2%\tRMSE: 208.909\tTime: 55.3 s\n",
            "\n",
            "Saving checkpoint... Saved to soft-1-21-03-2023-11:38:49.pth\n",
            "\n",
            "Episode 6000\tScore: 6.48\tSuccess Rate: 43.7%\tRMSE: 292.561\tTime: 78.5 s\n",
            "\n",
            "Episode 8000\tScore: 9.22\tSuccess Rate: 51.4%\tRMSE: 284.811\tTime: 102.5 s\n",
            "\n",
            "Episode 10000\tScore: 10.28\tSuccess Rate: 54.9%\tRMSE: 293.174\tTime: 126.3 s\n",
            "\n",
            "Saving checkpoint... Saved to soft-2-21-03-2023-11:38:49.pth\n",
            "\n",
            "Episode 12000\tScore: 12.74\tSuccess Rate: 61.4%\tRMSE: 382.436\tTime: 148.8 s\n",
            "\n",
            "Episode 14000\tScore: 13.01\tSuccess Rate: 62.4%\tRMSE: 304.816\tTime: 171.8 s\n",
            "\n",
            "Saving checkpoint... Saved to soft-3-21-03-2023-11:38:49.pth\n",
            "\n",
            "Episode 16000\tScore: 15.53\tSuccess Rate: 70.5%\tRMSE: 339.722\tTime: 194.3 s\n",
            "\n",
            "Episode 18000\tScore: 16.16\tSuccess Rate: 72.3%\tRMSE: 311.041\tTime: 216.2 s\n",
            "\n",
            "Episode 20000\tScore: 17.08\tSuccess Rate: 74.9%\tRMSE: 305.011\tTime: 239.1 s\n",
            "\n",
            "Saving checkpoint... Saved to soft-4-21-03-2023-11:38:49.pth\n",
            "\n",
            "Success: 75 / 100 (75.0000%)\tSteps: 4.2000\tTime: 0.3 s\tSaved to: test21-03-2023-11:42:48.txt\n",
            "\n"
          ]
        }
      ],
      "source": [
        "res = experiment(soft_rewards, answers_100_100, guesses_100_100, 20000, 'soft')\n",
        "tasks_results['100/100']['soft'] = res"
      ]
    },
    {
      "cell_type": "code",
      "source": [
        "with open(nickname + '.pickle', 'wb') as handle:\n",
        "    pickle.dump(tasks_results, handle, protocol=pickle.HIGHEST_PROTOCOL)\n",
        "\n",
        "! cp -n *.txt /content/drive/MyDrive/wordle-rl/tests\n",
        "! cp -n *.pth /content/drive/MyDrive/wordle-rl/tests\n",
        "! cp -n *.pickle /content/drive/MyDrive/wordle-rl/tests"
      ],
      "metadata": {
        "id": "RgI9mY3cEj0W"
      },
      "execution_count": 20,
      "outputs": []
    },
    {
      "cell_type": "markdown",
      "metadata": {
        "id": "2QqT79_gLm_9"
      },
      "source": [
        "### Hard"
      ]
    },
    {
      "cell_type": "code",
      "execution_count": 21,
      "metadata": {
        "id": "flJOFK6syARK",
        "outputId": "7290a762-688e-4b5f-e58b-dfcee0ceb3d5",
        "colab": {
          "base_uri": "https://localhost:8080/"
        }
      },
      "outputs": [
        {
          "output_type": "stream",
          "name": "stdout",
          "text": [
            "Playing 500 initial games (warm start)... Collected! Time: 4.6 s\n",
            "\n",
            "Episode  500\tScore: -1.59\tSuccess Rate: 70.6%\tRMSE: 91.845\tTime: 9.4 s\n",
            "\n",
            "Episode 1000\tScore: 7.57\tSuccess Rate: 100.0%\tRMSE: 128.200\tTime: 12.0 s\n",
            "\n",
            "Episode 1500\tScore: 7.87\tSuccess Rate: 100.0%\tRMSE: 100.922\tTime: 14.4 s\n",
            "\n",
            "Episode 2000\tScore: 7.78\tSuccess Rate: 99.2%\tRMSE: 116.158\tTime: 16.7 s\n",
            "\n",
            "Episode 2500\tScore: 7.91\tSuccess Rate: 99.6%\tRMSE: 72.128\tTime: 19.3 s\n",
            "\n",
            "Episode 3000\tScore: 6.56\tSuccess Rate: 94.8%\tRMSE: 78.913\tTime: 22.4 s\n",
            "\n",
            "Episode 3500\tScore: 7.48\tSuccess Rate: 98.4%\tRMSE: 166.796\tTime: 24.8 s\n",
            "\n",
            "Episode 4000\tScore: 6.17\tSuccess Rate: 93.6%\tRMSE: 83.619\tTime: 27.5 s\n",
            "\n",
            "Episode 4500\tScore: 5.64\tSuccess Rate: 92.2%\tRMSE: 143.999\tTime: 30.2 s\n",
            "\n",
            "Episode 5000\tScore: 5.53\tSuccess Rate: 92.6%\tRMSE: 64.119\tTime: 33.4 s\n",
            "\n",
            "Saving checkpoint... Saved to hard-1-21-03-2023-11:42:49.pth\n",
            "\n",
            "Success: 10 / 10 (100.0000%)\tSteps: 2.0000\tTime: 0.0 s\tSaved to: test21-03-2023-11:43:23.txt\n",
            "\n"
          ]
        }
      ],
      "source": [
        "res = experiment(hard_rewards, answers_10_100, guesses_10_100, 5000, 'hard')\n",
        "tasks_results['10/100']['hard'] = res"
      ]
    },
    {
      "cell_type": "code",
      "execution_count": 22,
      "metadata": {
        "id": "2-2fWODWyARL",
        "outputId": "7a3259d7-fff5-4a90-da06-eb5a5e8e1cfb",
        "colab": {
          "base_uri": "https://localhost:8080/"
        }
      },
      "outputs": [
        {
          "output_type": "stream",
          "name": "stdout",
          "text": [
            "Playing 500 initial games (warm start)... Collected! Time: 4.9 s\n",
            "\n",
            "Episode 2000\tScore: -17.32\tSuccess Rate: 10.5%\tRMSE: 93.438\tTime: 31.6 s\n",
            "\n",
            "Episode 4000\tScore: -14.31\tSuccess Rate: 22.4%\tRMSE: 135.826\tTime: 57.6 s\n",
            "\n",
            "Saving checkpoint... Saved to hard-1-21-03-2023-11:43:23.pth\n",
            "\n",
            "Episode 6000\tScore: -11.83\tSuccess Rate: 32.7%\tRMSE: 207.597\tTime: 81.9 s\n",
            "\n",
            "Episode 8000\tScore: -10.03\tSuccess Rate: 39.7%\tRMSE: 203.721\tTime: 105.9 s\n",
            "\n",
            "Episode 10000\tScore: -8.55\tSuccess Rate: 45.5%\tRMSE: 247.262\tTime: 129.4 s\n",
            "\n",
            "Saving checkpoint... Saved to hard-2-21-03-2023-11:43:23.pth\n",
            "\n",
            "Episode 12000\tScore: -7.66\tSuccess Rate: 49.6%\tRMSE: 214.728\tTime: 152.8 s\n",
            "\n",
            "Episode 14000\tScore: -6.86\tSuccess Rate: 53.0%\tRMSE: 270.198\tTime: 175.5 s\n",
            "\n",
            "Saving checkpoint... Saved to hard-3-21-03-2023-11:43:23.pth\n",
            "\n",
            "Episode 16000\tScore: -5.15\tSuccess Rate: 59.9%\tRMSE: 206.676\tTime: 198.1 s\n",
            "\n",
            "Episode 18000\tScore: -4.64\tSuccess Rate: 62.5%\tRMSE: 271.697\tTime: 220.0 s\n",
            "\n",
            "Episode 20000\tScore: -3.42\tSuccess Rate: 67.5%\tRMSE: 276.443\tTime: 241.9 s\n",
            "\n",
            "Saving checkpoint... Saved to hard-4-21-03-2023-11:43:23.pth\n",
            "\n",
            "Success: 60 / 100 (60.0000%)\tSteps: 3.5833\tTime: 0.3 s\tSaved to: test21-03-2023-11:47:25.txt\n",
            "\n"
          ]
        }
      ],
      "source": [
        "res = experiment(hard_rewards, answers_100_100, guesses_100_100, 20000, 'hard')\n",
        "tasks_results['100/100']['hard'] = res"
      ]
    },
    {
      "cell_type": "code",
      "source": [
        "with open(nickname + '.pickle', 'wb') as handle:\n",
        "    pickle.dump(tasks_results, handle, protocol=pickle.HIGHEST_PROTOCOL)\n",
        "\n",
        "! cp -n *.txt /content/drive/MyDrive/wordle-rl/tests\n",
        "! cp -n *.pth /content/drive/MyDrive/wordle-rl/tests\n",
        "! cp -n *.pickle /content/drive/MyDrive/wordle-rl/tests"
      ],
      "metadata": {
        "id": "XdUOtQSlEljO"
      },
      "execution_count": 23,
      "outputs": []
    },
    {
      "cell_type": "markdown",
      "metadata": {
        "id": "HLo5p8ugLsw1"
      },
      "source": [
        "### Step"
      ]
    },
    {
      "cell_type": "code",
      "execution_count": 24,
      "metadata": {
        "id": "Cf58B20HyARL",
        "outputId": "d8285da6-a231-4cf0-de1c-4981082418cc",
        "colab": {
          "base_uri": "https://localhost:8080/"
        }
      },
      "outputs": [
        {
          "output_type": "stream",
          "name": "stdout",
          "text": [
            "Playing 500 initial games (warm start)... Collected! Time: 5.0 s\n",
            "\n",
            "Episode  500\tScore: -8.03\tSuccess Rate: 66.0%\tRMSE: 185.484\tTime: 9.5 s\n",
            "\n",
            "Episode 1000\tScore: 5.98\tSuccess Rate: 98.6%\tRMSE: 88.748\tTime: 12.0 s\n",
            "\n",
            "Episode 1500\tScore: 7.03\tSuccess Rate: 100.0%\tRMSE: 131.567\tTime: 14.1 s\n",
            "\n",
            "Episode 2000\tScore: 7.04\tSuccess Rate: 99.8%\tRMSE: 118.566\tTime: 16.3 s\n",
            "\n",
            "Episode 2500\tScore: 6.81\tSuccess Rate: 99.4%\tRMSE: 117.573\tTime: 19.0 s\n",
            "\n",
            "Episode 3000\tScore: 7.05\tSuccess Rate: 100.0%\tRMSE: 83.640\tTime: 21.8 s\n",
            "\n",
            "Episode 3500\tScore: 6.74\tSuccess Rate: 99.8%\tRMSE: 62.615\tTime: 24.0 s\n",
            "\n",
            "Episode 4000\tScore: 6.68\tSuccess Rate: 99.6%\tRMSE: 90.589\tTime: 26.4 s\n",
            "\n",
            "Episode 4500\tScore: 7.00\tSuccess Rate: 99.8%\tRMSE: 86.048\tTime: 28.6 s\n",
            "\n",
            "Episode 5000\tScore: 6.75\tSuccess Rate: 99.6%\tRMSE: 64.183\tTime: 30.8 s\n",
            "\n",
            "Saving checkpoint... Saved to step-1-21-03-2023-11:47:26.pth\n",
            "\n",
            "Success: 10 / 10 (100.0000%)\tSteps: 1.9000\tTime: 0.0 s\tSaved to: test21-03-2023-11:47:57.txt\n",
            "\n"
          ]
        }
      ],
      "source": [
        "res = experiment(step_rewards, answers_10_100, guesses_10_100, 5000, 'step')\n",
        "tasks_results['10/100']['step'] = res"
      ]
    },
    {
      "cell_type": "code",
      "execution_count": 25,
      "metadata": {
        "id": "5v_aW47JyARM",
        "outputId": "96757aac-92af-418a-eea8-20f24c8d918b",
        "colab": {
          "base_uri": "https://localhost:8080/"
        }
      },
      "outputs": [
        {
          "output_type": "stream",
          "name": "stdout",
          "text": [
            "Playing 500 initial games (warm start)... Collected! Time: 5.5 s\n",
            "\n",
            "Episode 2000\tScore: -26.86\tSuccess Rate: 13.1%\tRMSE: 250.945\tTime: 31.8 s\n",
            "\n",
            "Episode 4000\tScore: -24.07\tSuccess Rate: 21.2%\tRMSE: 271.349\tTime: 58.0 s\n",
            "\n",
            "Saving checkpoint... Saved to step-1-21-03-2023-11:47:57.pth\n",
            "\n",
            "Episode 6000\tScore: -21.24\tSuccess Rate: 30.0%\tRMSE: 231.645\tTime: 83.5 s\n",
            "\n",
            "Episode 8000\tScore: -17.43\tSuccess Rate: 41.9%\tRMSE: 301.573\tTime: 107.9 s\n",
            "\n",
            "Episode 10000\tScore: -14.71\tSuccess Rate: 50.4%\tRMSE: 252.990\tTime: 135.7 s\n",
            "\n",
            "Saving checkpoint... Saved to step-2-21-03-2023-11:47:57.pth\n",
            "\n",
            "Episode 12000\tScore: -11.80\tSuccess Rate: 58.6%\tRMSE: 285.975\tTime: 158.1 s\n",
            "\n",
            "Episode 14000\tScore: -9.68\tSuccess Rate: 64.0%\tRMSE: 315.488\tTime: 178.8 s\n",
            "\n",
            "Saving checkpoint... Saved to step-3-21-03-2023-11:47:57.pth\n",
            "\n",
            "Episode 16000\tScore: -8.24\tSuccess Rate: 68.5%\tRMSE: 256.385\tTime: 200.2 s\n",
            "\n",
            "Episode 18000\tScore: -6.87\tSuccess Rate: 73.2%\tRMSE: 269.684\tTime: 219.6 s\n",
            "\n",
            "Episode 20000\tScore: -5.41\tSuccess Rate: 76.7%\tRMSE: 310.033\tTime: 239.1 s\n",
            "\n",
            "Saving checkpoint... Saved to step-4-21-03-2023-11:47:57.pth\n",
            "\n",
            "Success: 81 / 100 (81.0000%)\tSteps: 2.8395\tTime: 0.3 s\tSaved to: test21-03-2023-11:51:56.txt\n",
            "\n"
          ]
        }
      ],
      "source": [
        "res = experiment(step_rewards, answers_100_100, guesses_100_100, 20000, 'step')\n",
        "tasks_results['100/100']['step'] = res"
      ]
    },
    {
      "cell_type": "code",
      "source": [
        "with open(nickname + '.pickle', 'wb') as handle:\n",
        "    pickle.dump(tasks_results, handle, protocol=pickle.HIGHEST_PROTOCOL)\n",
        "\n",
        "! cp -n *.txt /content/drive/MyDrive/wordle-rl/tests\n",
        "! cp -n *.pth /content/drive/MyDrive/wordle-rl/tests\n",
        "! cp -n *.pickle /content/drive/MyDrive/wordle-rl/tests"
      ],
      "metadata": {
        "id": "7ggeycG0Enjv"
      },
      "execution_count": 26,
      "outputs": []
    },
    {
      "cell_type": "markdown",
      "metadata": {
        "id": "BBtmu615MYIM"
      },
      "source": [
        "### Char"
      ]
    },
    {
      "cell_type": "code",
      "execution_count": 27,
      "metadata": {
        "id": "tXFujlbmyARM",
        "outputId": "8e61365b-dba8-4312-f5bd-54fb6839faeb",
        "colab": {
          "base_uri": "https://localhost:8080/"
        }
      },
      "outputs": [
        {
          "output_type": "stream",
          "name": "stdout",
          "text": [
            "Playing 500 initial games (warm start)... Collected! Time: 4.5 s\n",
            "\n",
            "Episode  500\tScore: -1.37\tSuccess Rate: 58.4%\tRMSE: 150.329\tTime: 8.8 s\n",
            "\n",
            "Episode 1000\tScore: 6.43\tSuccess Rate: 86.2%\tRMSE: 101.660\tTime: 12.8 s\n",
            "\n",
            "Episode 1500\tScore: 7.32\tSuccess Rate: 88.2%\tRMSE: 94.134\tTime: 15.9 s\n",
            "\n",
            "Episode 2000\tScore: 5.55\tSuccess Rate: 82.4%\tRMSE: 147.621\tTime: 19.4 s\n",
            "\n",
            "Episode 2500\tScore: 6.50\tSuccess Rate: 87.8%\tRMSE: 197.726\tTime: 23.0 s\n",
            "\n",
            "Episode 3000\tScore: 6.33\tSuccess Rate: 88.4%\tRMSE: 112.162\tTime: 27.8 s\n",
            "\n",
            "Episode 3500\tScore: 7.48\tSuccess Rate: 92.4%\tRMSE: 147.782\tTime: 31.6 s\n",
            "\n",
            "Episode 4000\tScore: 6.36\tSuccess Rate: 88.4%\tRMSE: 212.583\tTime: 35.6 s\n",
            "\n",
            "Episode 4500\tScore: 5.54\tSuccess Rate: 87.0%\tRMSE: 191.809\tTime: 40.8 s\n",
            "\n",
            "Episode 5000\tScore: 6.87\tSuccess Rate: 93.0%\tRMSE: 215.033\tTime: 45.2 s\n",
            "\n",
            "Saving checkpoint... Saved to char-1-21-03-2023-11:51:57.pth\n",
            "\n",
            "Success: 9 / 10 (90.0000%)\tSteps: 3.7778\tTime: 0.0 s\tSaved to: test21-03-2023-11:52:42.txt\n",
            "\n"
          ]
        }
      ],
      "source": [
        "res = experiment(char_rewards, answers_10_100, guesses_10_100, 5000, 'char')\n",
        "tasks_results['10/100']['char'] = res"
      ]
    },
    {
      "cell_type": "code",
      "execution_count": 28,
      "metadata": {
        "id": "3CmwUeTnyARN",
        "outputId": "bdc4a5f5-9251-4433-8712-e018a0ea3e12",
        "colab": {
          "base_uri": "https://localhost:8080/"
        }
      },
      "outputs": [
        {
          "output_type": "stream",
          "name": "stdout",
          "text": [
            "Playing 500 initial games (warm start)... Collected! Time: 4.5 s\n",
            "\n",
            "Episode 2000\tScore: -12.32\tSuccess Rate: 15.0%\tRMSE: 175.916\tTime: 31.2 s\n",
            "\n",
            "Episode 4000\tScore: -8.90\tSuccess Rate: 28.7%\tRMSE: 173.088\tTime: 57.2 s\n",
            "\n",
            "Saving checkpoint... Saved to char-1-21-03-2023-11:52:43.pth\n",
            "\n",
            "Episode 6000\tScore: -6.55\tSuccess Rate: 38.9%\tRMSE: 183.351\tTime: 82.3 s\n",
            "\n",
            "Episode 8000\tScore: -3.80\tSuccess Rate: 50.0%\tRMSE: 213.578\tTime: 106.6 s\n",
            "\n",
            "Episode 10000\tScore: -3.05\tSuccess Rate: 53.8%\tRMSE: 221.129\tTime: 129.7 s\n",
            "\n",
            "Saving checkpoint... Saved to char-2-21-03-2023-11:52:43.pth\n",
            "\n",
            "Episode 12000\tScore: -2.25\tSuccess Rate: 57.5%\tRMSE: 198.786\tTime: 153.8 s\n",
            "\n",
            "Episode 14000\tScore: -0.49\tSuccess Rate: 64.3%\tRMSE: 213.817\tTime: 176.8 s\n",
            "\n",
            "Saving checkpoint... Saved to char-3-21-03-2023-11:52:43.pth\n",
            "\n",
            "Episode 16000\tScore: -0.24\tSuccess Rate: 65.8%\tRMSE: 221.120\tTime: 199.0 s\n",
            "\n",
            "Episode 18000\tScore: -0.27\tSuccess Rate: 66.0%\tRMSE: 265.658\tTime: 222.1 s\n",
            "\n",
            "Episode 20000\tScore: 0.84\tSuccess Rate: 70.7%\tRMSE: 212.388\tTime: 244.9 s\n",
            "\n",
            "Saving checkpoint... Saved to char-4-21-03-2023-11:52:43.pth\n",
            "\n",
            "Success: 74 / 100 (74.0000%)\tSteps: 3.6892\tTime: 0.3 s\tSaved to: test21-03-2023-11:56:47.txt\n",
            "\n"
          ]
        }
      ],
      "source": [
        "res = experiment(char_rewards, answers_100_100, guesses_100_100, 20000, 'char')\n",
        "tasks_results['100/100']['char'] = res"
      ]
    },
    {
      "cell_type": "code",
      "source": [
        "with open(nickname + '.pickle', 'wb') as handle:\n",
        "    pickle.dump(tasks_results, handle, protocol=pickle.HIGHEST_PROTOCOL)\n",
        "\n",
        "! cp -n *.txt /content/drive/MyDrive/wordle-rl/tests\n",
        "! cp -n *.pth /content/drive/MyDrive/wordle-rl/tests\n",
        "! cp -n *.pickle /content/drive/MyDrive/wordle-rl/tests"
      ],
      "metadata": {
        "id": "aU1pv9TjEorP"
      },
      "execution_count": 29,
      "outputs": []
    },
    {
      "cell_type": "markdown",
      "source": [
        "### Plot Results"
      ],
      "metadata": {
        "id": "2zfdIpxTyyXO"
      }
    },
    {
      "cell_type": "code",
      "source": [
        "plot_results(tasks_results, nickname)"
      ],
      "metadata": {
        "colab": {
          "base_uri": "https://localhost:8080/",
          "height": 355
        },
        "id": "MF1VDAUeyyHy",
        "outputId": "8c31c18f-6a3e-44eb-b33d-cec95d39b493"
      },
      "execution_count": 30,
      "outputs": [
        {
          "output_type": "display_data",
          "data": {
            "text/plain": [
              "<Figure size 576x360 with 2 Axes>"
            ],
            "image/png": "[encoded data removed]"
          },
          "metadata": {}
        }
      ]
    },
    {
      "cell_type": "code",
      "source": [
        "! cp -n *.svg /content/drive/MyDrive/wordle-rl/tests"
      ],
      "metadata": {
        "id": "5Jo8dlLP8AMI"
      },
      "execution_count": 31,
      "outputs": []
    },
    {
      "cell_type": "markdown",
      "metadata": {
        "id": "NOu81lF2o9Jt"
      },
      "source": [
        "## States"
      ]
    },
    {
      "cell_type": "code",
      "source": [
        "tasks_results = defaultdict(dict)\n",
        "nickname = 'state'"
      ],
      "metadata": {
        "id": "LVHB6HJHy66i"
      },
      "execution_count": 32,
      "outputs": []
    },
    {
      "cell_type": "markdown",
      "metadata": {
        "id": "oGEwB2Hvo9Ju"
      },
      "source": [
        "### StateYesNo"
      ]
    },
    {
      "cell_type": "code",
      "execution_count": 33,
      "metadata": {
        "id": "h-l8p6ujr9XH"
      },
      "outputs": [],
      "source": [
        "def experiment(answers, guesses, n_episodes, logging_level=None):\n",
        "    env = Environment(\n",
        "        rewards=step_rewards,\n",
        "        wordle=Wordle(vocabulary=guesses, answers=answers),\n",
        "        # here is what we are experimenting with\n",
        "        state_instance=StateYesNo()\n",
        "    )\n",
        "\n",
        "    agent = Agent(\n",
        "        state_size=env.state.size,\n",
        "        action_size=len(guesses),\n",
        "        action_constructor=partial(ActionVocabulary, vocabulary=guesses),\n",
        "        replay_buffer=PrioritizedReplayBuffer(state_size=env.state.size)\n",
        "    )\n",
        "\n",
        "    res = train(\n",
        "        env=env, agent=agent, nickname='yesno',\n",
        "        n_episodes=n_episodes, logging_level=logging_level\n",
        "    )\n",
        "    test(env=env, agent=agent)\n",
        "    return res"
      ]
    },
    {
      "cell_type": "code",
      "execution_count": 34,
      "metadata": {
        "id": "tA9RSM7Vo9Ju",
        "outputId": "aefb2770-d68c-4778-d537-95b164e7c0ed",
        "colab": {
          "base_uri": "https://localhost:8080/"
        }
      },
      "outputs": [
        {
          "output_type": "stream",
          "name": "stdout",
          "text": [
            "Playing 500 initial games (warm start)... Collected! Time: 4.6 s\n",
            "\n",
            "Episode  500\tScore: -7.15\tSuccess Rate: 71.2%\tRMSE: 128.533\tTime: 9.1 s\n",
            "\n",
            "Episode 1000\tScore: 4.63\tSuccess Rate: 98.6%\tRMSE: 111.610\tTime: 12.2 s\n",
            "\n",
            "Episode 1500\tScore: 6.50\tSuccess Rate: 100.0%\tRMSE: 140.448\tTime: 14.6 s\n",
            "\n",
            "Episode 2000\tScore: 6.67\tSuccess Rate: 100.0%\tRMSE: 134.571\tTime: 16.9 s\n",
            "\n",
            "Episode 2500\tScore: 6.57\tSuccess Rate: 99.6%\tRMSE: 113.270\tTime: 19.3 s\n",
            "\n",
            "Episode 3000\tScore: 6.70\tSuccess Rate: 100.0%\tRMSE: 89.728\tTime: 21.8 s\n",
            "\n",
            "Episode 3500\tScore: 6.42\tSuccess Rate: 99.8%\tRMSE: 90.130\tTime: 25.0 s\n",
            "\n",
            "Episode 4000\tScore: 6.60\tSuccess Rate: 100.0%\tRMSE: 81.406\tTime: 27.4 s\n",
            "\n",
            "Episode 4500\tScore: 5.36\tSuccess Rate: 97.8%\tRMSE: 78.920\tTime: 30.0 s\n",
            "\n",
            "Episode 5000\tScore: 6.15\tSuccess Rate: 98.8%\tRMSE: 98.404\tTime: 32.4 s\n",
            "\n",
            "Saving checkpoint... Saved to yesno-1-21-03-2023-11:56:50.pth\n",
            "\n",
            "Success: 10 / 10 (100.0000%)\tSteps: 2.4000\tTime: 0.0 s\tSaved to: test21-03-2023-11:57:23.txt\n",
            "\n"
          ]
        }
      ],
      "source": [
        "res = experiment(answers_10_100, guesses_10_100, 5000)\n",
        "tasks_results['10/100']['yesno'] = res"
      ]
    },
    {
      "cell_type": "code",
      "execution_count": 35,
      "metadata": {
        "id": "4T4SEw3eo9Jx",
        "outputId": "6f95a2f2-5f64-4e72-8579-183922c7fc8a",
        "colab": {
          "base_uri": "https://localhost:8080/"
        }
      },
      "outputs": [
        {
          "output_type": "stream",
          "name": "stdout",
          "text": [
            "Playing 500 initial games (warm start)... Collected! Time: 5.5 s\n",
            "\n",
            "Episode 2000\tScore: -24.86\tSuccess Rate: 19.2%\tRMSE: 249.155\tTime: 31.0 s\n",
            "\n",
            "Episode 4000\tScore: -20.09\tSuccess Rate: 33.1%\tRMSE: 214.819\tTime: 55.3 s\n",
            "\n",
            "Saving checkpoint... Saved to yesno-1-21-03-2023-11:57:23.pth\n",
            "\n",
            "Episode 6000\tScore: -16.40\tSuccess Rate: 43.8%\tRMSE: 285.534\tTime: 78.7 s\n",
            "\n",
            "Episode 8000\tScore: -11.55\tSuccess Rate: 58.5%\tRMSE: 325.758\tTime: 99.4 s\n",
            "\n",
            "Episode 10000\tScore: -8.29\tSuccess Rate: 66.8%\tRMSE: 279.598\tTime: 119.9 s\n",
            "\n",
            "Saving checkpoint... Saved to yesno-2-21-03-2023-11:57:23.pth\n",
            "\n",
            "Episode 12000\tScore: -5.92\tSuccess Rate: 72.4%\tRMSE: 334.337\tTime: 137.9 s\n",
            "\n",
            "Episode 14000\tScore: -4.19\tSuccess Rate: 79.5%\tRMSE: 291.382\tTime: 156.0 s\n",
            "\n",
            "Saving checkpoint... Saved to yesno-3-21-03-2023-11:57:23.pth\n",
            "\n",
            "Episode 16000\tScore: -0.39\tSuccess Rate: 87.1%\tRMSE: 238.146\tTime: 172.3 s\n",
            "\n",
            "Episode 18000\tScore: 1.41\tSuccess Rate: 91.3%\tRMSE: 254.714\tTime: 187.3 s\n",
            "\n",
            "Episode 20000\tScore: 1.42\tSuccess Rate: 91.5%\tRMSE: 285.640\tTime: 202.0 s\n",
            "\n",
            "Saving checkpoint... Saved to yesno-4-21-03-2023-11:57:23.pth\n",
            "\n",
            "Success: 46 / 50 (92.0000%)\tSteps: 2.6957\tTime: 0.1 s\tSaved to: test21-03-2023-12:00:45.txt\n",
            "\n"
          ]
        }
      ],
      "source": [
        "res = experiment(answers_50_200, guesses_50_200, 20000)\n",
        "tasks_results['50/200']['yesno'] = res"
      ]
    },
    {
      "cell_type": "code",
      "source": [
        "with open(nickname + '.pickle', 'wb') as handle:\n",
        "    pickle.dump(tasks_results, handle, protocol=pickle.HIGHEST_PROTOCOL)\n",
        "\n",
        "! cp -n *.txt /content/drive/MyDrive/wordle-rl/tests\n",
        "! cp -n *.pth /content/drive/MyDrive/wordle-rl/tests\n",
        "! cp -n *.pickle /content/drive/MyDrive/wordle-rl/tests"
      ],
      "metadata": {
        "id": "X09yRR_vEqSQ"
      },
      "execution_count": 36,
      "outputs": []
    },
    {
      "cell_type": "markdown",
      "metadata": {
        "id": "mDdaLrRqtE_E"
      },
      "source": [
        "### StateVocabulary"
      ]
    },
    {
      "cell_type": "code",
      "execution_count": 37,
      "metadata": {
        "id": "7hF26hGdtE_F"
      },
      "outputs": [],
      "source": [
        "def experiment(answers, guesses, n_episodes, logging_level=None):\n",
        "    env = Environment(\n",
        "        rewards=step_rewards,\n",
        "        wordle=Wordle(vocabulary=guesses, answers=answers),\n",
        "        # here is what we are experimenting with\n",
        "        state_instance=StateVocabulary(\n",
        "            answers_mask=np.fromiter((g in answers for g in guesses), dtype=bool)\n",
        "        )\n",
        "    )\n",
        "\n",
        "    agent = Agent(\n",
        "        state_size=env.state.size,\n",
        "        action_size=len(guesses),\n",
        "        action_constructor=partial(ActionVocabulary, vocabulary=guesses),\n",
        "        replay_buffer=PrioritizedReplayBuffer(state_size=env.state.size)\n",
        "    )\n",
        "\n",
        "    res = train(\n",
        "        env=env, agent=agent, nickname='vocab',\n",
        "        n_episodes=n_episodes, logging_level=logging_level\n",
        "    )\n",
        "    test(env=env, agent=agent)\n",
        "    return res"
      ]
    },
    {
      "cell_type": "code",
      "execution_count": 38,
      "metadata": {
        "colab": {
          "base_uri": "https://localhost:8080/"
        },
        "id": "grQJsfntyARP",
        "outputId": "fffe4a8b-ddaa-4534-b995-21bf55983f73"
      },
      "outputs": [
        {
          "output_type": "stream",
          "name": "stdout",
          "text": [
            "Playing 500 initial games (warm start)... Collected! Time: 4.7 s\n",
            "\n",
            "Episode  500\tScore: -4.96\tSuccess Rate: 76.0%\tRMSE: 137.787\tTime: 9.1 s\n",
            "\n",
            "Episode 1000\tScore: 6.52\tSuccess Rate: 100.0%\tRMSE: 121.088\tTime: 12.1 s\n",
            "\n",
            "Episode 1500\tScore: 6.98\tSuccess Rate: 100.0%\tRMSE: 126.901\tTime: 14.4 s\n",
            "\n",
            "Episode 2000\tScore: 7.07\tSuccess Rate: 100.0%\tRMSE: 122.026\tTime: 16.7 s\n",
            "\n",
            "Episode 2500\tScore: 7.01\tSuccess Rate: 100.0%\tRMSE: 100.369\tTime: 19.0 s\n",
            "\n",
            "Episode 3000\tScore: 6.94\tSuccess Rate: 99.8%\tRMSE: 96.328\tTime: 21.3 s\n",
            "\n",
            "Episode 3500\tScore: 6.89\tSuccess Rate: 99.8%\tRMSE: 68.610\tTime: 24.3 s\n",
            "\n",
            "Episode 4000\tScore: 6.17\tSuccess Rate: 98.0%\tRMSE: 79.313\tTime: 26.8 s\n",
            "\n",
            "Episode 4500\tScore: 6.81\tSuccess Rate: 99.6%\tRMSE: 87.706\tTime: 29.1 s\n",
            "\n",
            "Episode 5000\tScore: 5.96\tSuccess Rate: 98.2%\tRMSE: 65.680\tTime: 31.6 s\n",
            "\n",
            "Saving checkpoint... Saved to vocab-1-21-03-2023-12:00:46.pth\n",
            "\n",
            "Success: 10 / 10 (100.0000%)\tSteps: 1.9000\tTime: 0.0 s\tSaved to: test21-03-2023-12:01:18.txt\n",
            "\n"
          ]
        }
      ],
      "source": [
        "res = experiment(answers_10_100, guesses_10_100, 5000)\n",
        "tasks_results['10/100']['vocab'] = res"
      ]
    },
    {
      "cell_type": "code",
      "execution_count": 39,
      "metadata": {
        "id": "QzaSiUUsyARQ",
        "outputId": "c835cdad-4e9c-48ae-a71a-ff7c85f8e8ee",
        "colab": {
          "base_uri": "https://localhost:8080/"
        }
      },
      "outputs": [
        {
          "output_type": "stream",
          "name": "stdout",
          "text": [
            "Playing 500 initial games (warm start)... Collected! Time: 5.4 s\n",
            "\n",
            "Episode 2000\tScore: -24.69\tSuccess Rate: 19.7%\tRMSE: 269.889\tTime: 31.5 s\n",
            "\n",
            "Episode 4000\tScore: -20.96\tSuccess Rate: 31.1%\tRMSE: 245.485\tTime: 57.2 s\n",
            "\n",
            "Saving checkpoint... Saved to vocab-1-21-03-2023-12:01:18.pth\n",
            "\n",
            "Episode 6000\tScore: -15.71\tSuccess Rate: 45.9%\tRMSE: 264.458\tTime: 81.7 s\n",
            "\n",
            "Episode 8000\tScore: -13.09\tSuccess Rate: 53.1%\tRMSE: 323.006\tTime: 104.5 s\n",
            "\n",
            "Episode 10000\tScore: -11.60\tSuccess Rate: 58.4%\tRMSE: 362.139\tTime: 125.7 s\n",
            "\n",
            "Saving checkpoint... Saved to vocab-2-21-03-2023-12:01:18.pth\n",
            "\n",
            "Episode 12000\tScore: -8.90\tSuccess Rate: 65.2%\tRMSE: 291.693\tTime: 146.7 s\n",
            "\n",
            "Episode 14000\tScore: -5.55\tSuccess Rate: 74.6%\tRMSE: 293.771\tTime: 165.3 s\n",
            "\n",
            "Saving checkpoint... Saved to vocab-3-21-03-2023-12:01:18.pth\n",
            "\n",
            "Episode 16000\tScore: -2.40\tSuccess Rate: 81.5%\tRMSE: 282.489\tTime: 182.0 s\n",
            "\n",
            "Episode 18000\tScore: -0.99\tSuccess Rate: 85.1%\tRMSE: 262.322\tTime: 198.7 s\n",
            "\n",
            "Episode 20000\tScore: -0.81\tSuccess Rate: 86.2%\tRMSE: 295.449\tTime: 215.5 s\n",
            "\n",
            "Saving checkpoint... Saved to vocab-4-21-03-2023-12:01:18.pth\n",
            "\n",
            "Success: 41 / 50 (82.0000%)\tSteps: 3.3415\tTime: 0.1 s\tSaved to: test21-03-2023-12:04:53.txt\n",
            "\n"
          ]
        }
      ],
      "source": [
        "res = experiment(answers_50_200, guesses_50_200, 20000)\n",
        "tasks_results['50/200']['vocab'] = res"
      ]
    },
    {
      "cell_type": "code",
      "source": [
        "with open(nickname + '.pickle', 'wb') as handle:\n",
        "    pickle.dump(tasks_results, handle, protocol=pickle.HIGHEST_PROTOCOL)\n",
        "\n",
        "! cp -n *.txt /content/drive/MyDrive/wordle-rl/tests\n",
        "! cp -n *.pth /content/drive/MyDrive/wordle-rl/tests\n",
        "! cp -n *.pickle /content/drive/MyDrive/wordle-rl/tests"
      ],
      "metadata": {
        "id": "tiSloegPErTp"
      },
      "execution_count": 40,
      "outputs": []
    },
    {
      "cell_type": "markdown",
      "source": [
        "### Plot Results"
      ],
      "metadata": {
        "id": "aufaw07H6kVT"
      }
    },
    {
      "cell_type": "code",
      "source": [
        "plot_results(tasks_results, nickname)"
      ],
      "metadata": {
        "colab": {
          "base_uri": "https://localhost:8080/",
          "height": 355
        },
        "id": "ckD9naqa6kqt",
        "outputId": "5711c048-1ef3-41fb-9ae9-b357fd8d282d"
      },
      "execution_count": 41,
      "outputs": [
        {
          "output_type": "display_data",
          "data": {
            "text/plain": [
              "<Figure size 576x360 with 2 Axes>"
            ],
            "image/png": "[encoded data removed]"
          },
          "metadata": {}
        }
      ]
    },
    {
      "cell_type": "markdown",
      "metadata": {
        "id": "8WgacXQ41iST"
      },
      "source": [
        "## Steps"
      ]
    },
    {
      "cell_type": "markdown",
      "metadata": {
        "id": "VaMmH_Wx5aPH"
      },
      "source": [
        "Здесь используем оптимальные параметры с предыдущих экспериментов."
      ]
    },
    {
      "cell_type": "markdown",
      "metadata": {
        "id": "l5e-8g7O1pGf"
      },
      "source": [
        "### 6 on train, 6 on test"
      ]
    },
    {
      "cell_type": "code",
      "execution_count": null,
      "metadata": {
        "id": "227zaXZD1sPH"
      },
      "outputs": [],
      "source": [
        "def experiment(answers, guesses, n_episodes, logging_level=None):\n",
        "  env = Environment(\n",
        "    rewards=step_rewards,\n",
        "    wordle=Wordle(vocabulary=guesses, answers=answers),\n",
        "    state_instance=StateVocabulary(\n",
        "        answers_mask=np.fromiter((g in answers for g in guesses), dtype=bool)\n",
        "    )\n",
        "  )\n",
        "\n",
        "  agent = Agent(\n",
        "    state_size=env.state.size,\n",
        "    action_size=len(guesses),\n",
        "    action_constructor=partial(ActionVocabulary, vocabulary=guesses)\n",
        "  )\n",
        "\n",
        "  train(env=env, agent=agent, n_episodes=n_episodes, logging_level=logging_level)\n",
        "  test(env=env, agent=agent)"
      ]
    },
    {
      "cell_type": "code",
      "execution_count": null,
      "metadata": {
        "id": "0g4DPWgmyARX"
      },
      "outputs": [],
      "source": [
        "experiment(answers_10_100, guesses_10_100, 5000)"
      ]
    },
    {
      "cell_type": "code",
      "execution_count": null,
      "metadata": {
        "id": "7ODj7CHXyARX"
      },
      "outputs": [],
      "source": [
        "experiment(answers_100_100, guesses_100_100, 20000)"
      ]
    },
    {
      "cell_type": "code",
      "source": [
        "experiment(answers_100_2000, guesses_100_2000, 40000)"
      ],
      "metadata": {
        "id": "q2qXx3hOBVLv"
      },
      "execution_count": null,
      "outputs": []
    },
    {
      "cell_type": "code",
      "source": [
        "! cp -n *.txt /content/drive/MyDrive/wordle-rl/tests\n",
        "! cp -n *.pth /content/drive/MyDrive/wordle-rl/tests"
      ],
      "metadata": {
        "id": "4Yfxxrh3E201"
      },
      "execution_count": null,
      "outputs": []
    },
    {
      "cell_type": "markdown",
      "metadata": {
        "id": "kaJJBBhU5wLL"
      },
      "source": [
        "### 10 on train, 6 on test"
      ]
    },
    {
      "cell_type": "code",
      "execution_count": null,
      "metadata": {
        "id": "FxUTIUv052Sy"
      },
      "outputs": [],
      "source": [
        "def experiment(answers, guesses, n_episodes, logging_level=None):\n",
        "  env = Environment(\n",
        "    rewards=step_rewards,\n",
        "    wordle=Wordle(vocabulary=guesses, answers=answers, max_guesses=10), # here is what we are experimenting with\n",
        "    state_instance=StateVocabulary(\n",
        "        answers_mask=np.fromiter((g in answers for g in guesses), dtype=bool)\n",
        "    )\n",
        "  )\n",
        "\n",
        "  agent = Agent(\n",
        "    state_size=env.state.size,\n",
        "    action_size=len(guesses),\n",
        "    action_constructor=partial(ActionVocabulary, vocabulary=guesses),\n",
        "  )\n",
        "\n",
        "  train(env=env, agent=agent, n_episodes=n_episodes, logging_level=logging_level)\n",
        "  env.wordle.max_guesses = 6 \n",
        "  test(env=env, agent=agent)"
      ]
    },
    {
      "cell_type": "code",
      "execution_count": null,
      "metadata": {
        "id": "mKwLqsm1yARY"
      },
      "outputs": [],
      "source": [
        "experiment(answers_10_100, guesses_10_100, 5000)"
      ]
    },
    {
      "cell_type": "code",
      "execution_count": null,
      "metadata": {
        "id": "4GIDTkbvyARY"
      },
      "outputs": [],
      "source": [
        "experiment(answers_100_100, guesses_100_100, 20000)"
      ]
    },
    {
      "cell_type": "code",
      "source": [
        "experiment(answers_100_2000, guesses_100_2000, 40000)"
      ],
      "metadata": {
        "id": "JmHISNOwBV-n"
      },
      "execution_count": null,
      "outputs": []
    },
    {
      "cell_type": "code",
      "source": [
        "! cp -n *.txt /content/drive/MyDrive/wordle-rl/tests\n",
        "! cp -n *.pth /content/drive/MyDrive/wordle-rl/tests"
      ],
      "metadata": {
        "id": "7A33PXWRGkZs"
      },
      "execution_count": null,
      "outputs": []
    },
    {
      "cell_type": "markdown",
      "metadata": {
        "id": "H5Xhi47i6LLE"
      },
      "source": [
        "### 15 on train, 6 on test"
      ]
    },
    {
      "cell_type": "code",
      "execution_count": null,
      "metadata": {
        "id": "Z-mG_jQG6LLG"
      },
      "outputs": [],
      "source": [
        "def experiment(answers, guesses, n_episodes, logging_level=None):\n",
        "  env = Environment(\n",
        "    rewards=step_rewards,\n",
        "    wordle=Wordle(vocabulary=guesses, answers=answers, max_guesses=15), # here is what we are experimenting with\n",
        "    state_instance=StateVocabulary(\n",
        "        answers_mask=np.fromiter((g in answers for g in guesses), dtype=bool)\n",
        "    )\n",
        "  )\n",
        "\n",
        "  agent = Agent(\n",
        "    state_size=env.state.size,\n",
        "    action_size=len(env.wordle.vocabulary),\n",
        "    action_constructor=partial(ActionVocabulary, vocabulary=guesses),\n",
        "  )\n",
        "\n",
        "  train(env=env, agent=agent, n_episodes=n_episodes, logging_level=logging_level)\n",
        "  env.wordle.max_guesses = 6\n",
        "  test(env=env, agent=agent)"
      ]
    },
    {
      "cell_type": "code",
      "execution_count": null,
      "metadata": {
        "id": "4zKXoM5fyARZ"
      },
      "outputs": [],
      "source": [
        "experiment(answers_10_100, guesses_10_100, 5000)"
      ]
    },
    {
      "cell_type": "code",
      "execution_count": null,
      "metadata": {
        "id": "1_du-e2DyARZ"
      },
      "outputs": [],
      "source": [
        "experiment(answers_100_100, guesses_100_100, 20000)"
      ]
    },
    {
      "cell_type": "code",
      "source": [
        "! cp -n *.txt /content/drive/MyDrive/wordle-rl/tests\n",
        "! cp -n *.pth /content/drive/MyDrive/wordle-rl/tests"
      ],
      "metadata": {
        "id": "wGezFnh5Gqjd"
      },
      "execution_count": null,
      "outputs": []
    },
    {
      "cell_type": "code",
      "source": [
        "experiment(answers_100_2000, guesses_100_2000, 40000)"
      ],
      "metadata": {
        "id": "RWBU1s9xBYiw"
      },
      "execution_count": null,
      "outputs": []
    },
    {
      "cell_type": "code",
      "source": [
        "! cp -n *.txt /content/drive/MyDrive/wordle-rl/tests\n",
        "! cp -n *.pth /content/drive/MyDrive/wordle-rl/tests"
      ],
      "metadata": {
        "id": "vBxpCdvdGlYJ"
      },
      "execution_count": null,
      "outputs": []
    },
    {
      "cell_type": "markdown",
      "metadata": {
        "id": "ek-LFrCx6Rbo"
      },
      "source": [
        "### stages on steps number"
      ]
    },
    {
      "cell_type": "markdown",
      "metadata": {
        "id": "ki8awWwy7G0O"
      },
      "source": [
        "Появилась идея: сначала обучить на 6, затем на 10, и наконец на 15."
      ]
    },
    {
      "cell_type": "code",
      "execution_count": null,
      "metadata": {
        "id": "P1AcbCLm6Rbq"
      },
      "outputs": [],
      "source": [
        "def steps_stage_train(answers, guesses, episodes_counts:dict):\n",
        "  env = Environment(\n",
        "    rewards=step_rewards,\n",
        "    wordle=Wordle(vocabulary=guesses, answers=answers),\n",
        "    state_instance=StateVocabulary(\n",
        "        answers_mask=np.fromiter((g in answers for g in guesses), dtype=bool)\n",
        "    )\n",
        "  )\n",
        "\n",
        "  agent = Agent(\n",
        "    state_size=env.state.size,\n",
        "    action_size=len(guesses),\n",
        "    action_constructor=partial(ActionVocabulary, vocabulary=guesses),\n",
        "  )\n",
        "\n",
        "  for steps, n_episodes in episodes_counts.items():\n",
        "    env.wordle.max_guesses = steps  # here is what we are experimenting with\n",
        "    train(env=env, agent=agent, n_episodes=n_episodes)\n",
        "    env.wordle.max_guesses = 6\n",
        "    test(env=env, agent=agent)"
      ]
    },
    {
      "cell_type": "code",
      "execution_count": null,
      "metadata": {
        "id": "BRkZfFBxyARa"
      },
      "outputs": [],
      "source": [
        "episodes_counts = {6: 15000, 10: 4000, 15: 1000}\n",
        "steps_stage_train(answers_100_100, guesses_100_100, episodes_counts)"
      ]
    },
    {
      "cell_type": "code",
      "source": [
        "! cp -n *.txt /content/drive/MyDrive/wordle-rl/tests\n",
        "! cp -n *.pth /content/drive/MyDrive/wordle-rl/tests"
      ],
      "metadata": {
        "id": "oySaul5dGpjk"
      },
      "execution_count": null,
      "outputs": []
    },
    {
      "cell_type": "code",
      "source": [
        "episodes_counts = {6: 30000, 10: 7000, 15: 3000}\n",
        "steps_stage_train(answers_100_2000, guesses_100_2000, episodes_counts)"
      ],
      "metadata": {
        "id": "OpBEqsvzBb4p"
      },
      "execution_count": null,
      "outputs": []
    },
    {
      "cell_type": "code",
      "source": [
        "! cp -n *.txt /content/drive/MyDrive/wordle-rl/tests\n",
        "! cp -n *.pth /content/drive/MyDrive/wordle-rl/tests"
      ],
      "metadata": {
        "id": "goXuTEHXGncF"
      },
      "execution_count": null,
      "outputs": []
    },
    {
      "cell_type": "markdown",
      "metadata": {
        "id": "SAdt10bAo9J5"
      },
      "source": [
        "## Stages on answers list size"
      ]
    },
    {
      "cell_type": "markdown",
      "metadata": {
        "id": "QQpmxCVI9J01"
      },
      "source": [
        "Фиксированный guesses размера 100. Меняющийся answers по порядку: 10, 40, 70, 100."
      ]
    },
    {
      "cell_type": "code",
      "execution_count": null,
      "metadata": {
        "id": "UOPFU6fJ86GA"
      },
      "outputs": [],
      "source": [
        "def answer_stage_train(\n",
        "    full_answers, guesses, start_size, end_size, n_stages, episodes_counts\n",
        "  ):\n",
        "  agent = Agent(\n",
        "    state_size=StateYesNo().size + 100,\n",
        "    action_size=len(guesses),\n",
        "    action_constructor=partial(ActionVocabulary, vocabulary=guesses),\n",
        "  )\n",
        "\n",
        "  for i in range(n_stages):\n",
        "    t = i / (n_stages - 1)\n",
        "    size = start_size * (1 - t) + end_size * t\n",
        "    answers = full_answers[:size]\n",
        "\n",
        "    env = Environment(\n",
        "      rewards=step_rewards,\n",
        "      wordle=Wordle(\n",
        "          vocabulary=guesses,\n",
        "          answers=answers\n",
        "      ),\n",
        "      state_instance=StateVocabulary(\n",
        "          answers_mask=np.fromiter((g in answers for g in guesses), dtype=bool)\n",
        "      )\n",
        "    )\n",
        "\n",
        "    train(env=env, agent=agent, n_episodes=episodes_counts[i])\n",
        "    test(env=env, agent=agent)\n",
        "    print('\\n============================')"
      ]
    },
    {
      "cell_type": "code",
      "execution_count": null,
      "metadata": {
        "id": "549A1qKo8cjT"
      },
      "outputs": [],
      "source": [
        "answer_stage_train(\n",
        "    full_answers=answers_100_2000,\n",
        "    guesses=guesses_100_2000,\n",
        "    start_size=30,\n",
        "    end_size=100,\n",
        "    n_stages=3,\n",
        "    episodes_counts=[10000, 10000, 20000]\n",
        ")"
      ]
    },
    {
      "cell_type": "code",
      "source": [
        "! cp -n *.txt /content/drive/MyDrive/wordle-rl/tests\n",
        "! cp -n *.pth /content/drive/MyDrive/wordle-rl/tests"
      ],
      "metadata": {
        "id": "41njarloGr9n"
      },
      "execution_count": null,
      "outputs": []
    }
  ],
  "metadata": {
    "colab": {
      "collapsed_sections": [
        "PSty1zZfo9Jl",
        "l5e-8g7O1pGf",
        "kaJJBBhU5wLL"
      ],
      "provenance": [],
      "toc_visible": true
    },
    "kernelspec": {
      "display_name": "Python 3",
      "language": "python",
      "name": "python3"
    },
    "language_info": {
      "codemirror_mode": {
        "name": "ipython",
        "version": 3
      },
      "file_extension": ".py",
      "mimetype": "text/x-python",
      "name": "python",
      "nbconvert_exporter": "python",
      "pygments_lexer": "ipython3",
      "version": "3.10.6"
    },
    "orig_nbformat": 4,
    "accelerator": "GPU",
    "gpuClass": "standard"
  },
  "nbformat": 4,
  "nbformat_minor": 0
}