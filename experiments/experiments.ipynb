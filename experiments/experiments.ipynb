{
  "cells": [
    {
      "attachments": {},
      "cell_type": "markdown",
      "metadata": {
        "id": "H7DAM3GBo9Jd"
      },
      "source": [
        "# Testbed"
      ]
    },
    {
      "cell_type": "code",
      "execution_count": 1,
      "metadata": {
        "id": "sfECmbvbo9Ji"
      },
      "outputs": [],
      "source": [
        "%load_ext autoreload\n",
        "%autoreload 2\n",
        "\n",
        "from functools import partial\n",
        "\n",
        "from wordle.wordlenp import Wordle\n",
        "from environment.environment import Environment, StateYesNo, StateVocabulary, ActionVocabulary\n",
        "from dqn.agent import Agent\n",
        "from dqn.train import train, test\n",
        "\n",
        "import torch\n",
        "import numpy as np\n",
        "np.random.seed(0)"
      ]
    },
    {
      "cell_type": "markdown",
      "metadata": {
        "id": "PSty1zZfo9Jl"
      },
      "source": [
        "## Датасеты"
      ]
    },
    {
      "cell_type": "code",
      "execution_count": 2,
      "metadata": {
        "id": "k1YLmWP3o9Jm"
      },
      "outputs": [],
      "source": [
        "word_list = Wordle._load_vocabulary('wordle/guesses.txt', astype=np.array)\n",
        "\n",
        "def make_data(n_answers, n_guesses):\n",
        "    guesses = np.random.choice(word_list, size=n_guesses, replace=False)\n",
        "    answers = np.random.choice(guesses, size=n_answers, replace=False)\n",
        "    return answers, guesses"
      ]
    },
    {
      "cell_type": "markdown",
      "metadata": {
        "id": "XkpsKHBDo9Jn"
      },
      "source": [
        "### 10 answers, 100 guesses"
      ]
    },
    {
      "cell_type": "code",
      "execution_count": 3,
      "metadata": {
        "id": "zC0apMvDo9Jo",
        "outputId": "6f0cc2c6-62fa-4972-9a6d-3e42ca6c2719"
      },
      "outputs": [
        {
          "name": "stdout",
          "output_type": "stream",
          "text": [
            "['abmho' 'cites' 'aware' 'blays' 'acker' 'rawin' 'anile' 'eorls' 'feers'\n",
            " 'sadza']\n"
          ]
        }
      ],
      "source": [
        "answers_10_100, guesses_10_100 = make_data(10, 100)\n",
        "print(answers_10_100)"
      ]
    },
    {
      "cell_type": "markdown",
      "metadata": {
        "id": "88h7mFnko9Jp"
      },
      "source": [
        "### 100 answers, 100 guesses"
      ]
    },
    {
      "cell_type": "code",
      "execution_count": 4,
      "metadata": {
        "id": "WY6bCEq7o9Jq",
        "outputId": "400f92c7-ea94-4c15-9c2b-41329c1a0f55"
      },
      "outputs": [
        {
          "name": "stdout",
          "output_type": "stream",
          "text": [
            "['lilac' 'orles' 'twirl' 'unled' 'sings' 'grind' 'sheaf' 'benny' 'slews'\n",
            " 'karst' 'rimus' 'lossy' 'joker' 'leash' 'scopa' 'viols' 'giron' 'raiks'\n",
            " 'lummy' 'renig' 'tinds' 'infos' 'logon' 'drill' 'gudes' 'ammon' 'bhoot'\n",
            " 'hurry' 'noils' 'coven' 'beryl' 'margs' 'sorbo' 'momes' 'scald' 'potch'\n",
            " 'flows' 'torus' 'prill' 'scuts' 'brith' 'tamin' 'sewar' 'joram' 'aldol'\n",
            " 'hazel' 'texes' 'sibbs' 'truth' 'spoil' 'hames' 'actin' 'maces' 'rayas'\n",
            " 'thuya' 'sugan' 'felly' 'newsy' 'bolos' 'mimeo' 'chems' 'dicty' 'liefs'\n",
            " 'scuff' 'burps' 'abyes' 'zones' 'cuspy' 'kerve' 'haith' 'amino' 'zygal'\n",
            " 'kokum' 'zambo' 'icier' 'piers' 'sambo' 'laden' 'barge' 'solei' 'mauts'\n",
            " 'groat' 'pearl' 'curse' 'jujus' 'troop' 'bilge' 'sibyl' 'gassy' 'elain'\n",
            " 'daube' 'feyly' 'duals' 'hoper' 'hains' 'beige' 'poove' 'miffy' 'lesbo'\n",
            " 'dawds']\n"
          ]
        }
      ],
      "source": [
        "answers_100_100, guesses_100_100 = make_data(100, 100)\n",
        "print(answers_100_100)"
      ]
    },
    {
      "cell_type": "markdown",
      "metadata": {
        "id": "IBCQ-xvto9Jq"
      },
      "source": [
        "### 50 answers, 200 guesses"
      ]
    },
    {
      "cell_type": "code",
      "execution_count": 5,
      "metadata": {
        "id": "XaNIzQh5o9Jr",
        "outputId": "d08343fc-ea3d-4614-8171-703df08cfb3b"
      },
      "outputs": [
        {
          "name": "stdout",
          "output_type": "stream",
          "text": [
            "['toran' 'burka' 'umpie' 'brock' 'civic' 'beige' 'hoiks' 'biffo' 'nagas'\n",
            " 'sheol' 'malls' 'matzo' 'peeve' 'deshi' 'mooli' 'scaud' 'ameba' 'wadds'\n",
            " 'bayts' 'glees' 'kaput' 'bitos' 'comae' 'dosed' 'rabis' 'neats' 'tutti'\n",
            " 'stays' 'smoky' 'chase' 'resaw' 'simas' 'sowne' 'rorid' 'rebec' 'deawy'\n",
            " 'hinny' 'sores' 'cerge' 'yogas' 'fouet' 'wheel' 'sowfs' 'talus' 'yabas'\n",
            " 'topee' 'sabin' 'unbox' 'dyers' 'qophs']\n"
          ]
        }
      ],
      "source": [
        "answers_50_200, guesses_50_200 = make_data(50, 200)\n",
        "print(answers_50_200)"
      ]
    },
    {
      "cell_type": "markdown",
      "metadata": {
        "id": "ZiJDpKE2o9Jr"
      },
      "source": [
        "### 200 answers, 200 guesses"
      ]
    },
    {
      "cell_type": "code",
      "execution_count": 6,
      "metadata": {
        "id": "A7su7MaMo9Jr",
        "outputId": "592a9b8b-a61c-4bac-8403-6b1e371b5f67"
      },
      "outputs": [
        {
          "name": "stdout",
          "output_type": "stream",
          "text": [
            "['unled' 'shirk' 'horks' 'veena' 'winna' 'amate' 'scape' 'sunup' 'dukka'\n",
            " 'alway' 'typey' 'sated' 'sepic' 'vagal' 'dangs' 'bitts' 'giust' 'amice'\n",
            " 'roper' 'molys' 'moira' 'rosed' 'salut' 'cling' 'moles' 'azuki' 'chelp'\n",
            " 'lurve' 'mavin' 'scath' 'empty' 'stele' 'deoxy' 'zuzim' 'roupy' 'briar'\n",
            " 'anode' 'chest' 'moola' 'south' 'grimy' 'chats' 'joint' 'teuch' 'ticca'\n",
            " 'drouk' 'shops' 'fleer' 'olent' 'mucus' 'tryps' 'tices' 'broil' 'thema'\n",
            " 'rangy' 'ceric' 'jelly' 'ohmic' 'repay' 'drops' 'wills' 'aulos' 'hoied'\n",
            " 'trefa' 'strut' 'nutsy' 'twoer' 'anomy' 'adhan' 'ingot' 'hooey' 'sluts'\n",
            " 'sicks' 'cotes' 'bodge' 'weber' 'agism' 'texas' 'tommy' 'plumy' 'amido'\n",
            " 'cobbs' 'mamma' 'repot' 'whist' 'bloat' 'welts' 'flexo' 'loves' 'hussy'\n",
            " 'sower' 'noahs' 'roses' 'wents' 'chase' 'manul' 'muons' 'silds' 'yacka'\n",
            " 'okapi' 'maqui' 'mbira' 'ponga' 'romal' 'schul' 'sonny' 'coram' 'hived'\n",
            " 'lupus' 'segol' 'kybos' 'birch' 'leeze' 'golly' 'yokes' 'pulse' 'onely'\n",
            " 'curve' 'bonds' 'cosey' 'lemon' 'cruds' 'bachs' 'trigo' 'gears' 'hasty'\n",
            " 'dyads' 'diddy' 'fetas' 'gauje' 'pesky' 'yogic' 'doats' 'laith' 'roost'\n",
            " 'cloze' 'meows' 'capex' 'aking' 'skeer' 'trass' 'scars' 'maths' 'dowle'\n",
            " 'razoo' 'ragas' 'rucks' 'floss' 'welch' 'lurex' 'sutta' 'bedim' 'caulk'\n",
            " 'ready' 'omega' 'kamas' 'thaws' 'dobes' 'furor' 'bydes' 'aarti' 'cymol'\n",
            " 'treyf' 'hiois' 'apode' 'creme' 'skosh' 'djins' 'dusts' 'uncoy' 'angel'\n",
            " 'twirp' 'primy' 'etats' 'rases' 'dukas' 'lands' 'ditsy' 'saunt' 'coppy'\n",
            " 'ganev' 'ripps' 'razor' 'waite' 'diota' 'booms' 'verge' 'azoth' 'allow'\n",
            " 'jenny' 'pshaw' 'royne' 'linga' 'afore' 'shakt' 'kines' 'aweel' 'yowza'\n",
            " 'lirot' 'izzat']\n"
          ]
        }
      ],
      "source": [
        "answers_200_200, guesses_200_200 = make_data(200, 200)\n",
        "print(answers_200_200)"
      ]
    },
    {
      "cell_type": "markdown",
      "metadata": {
        "id": "_y8uiOLro9Js"
      },
      "source": [
        "### 100 answers, 2000 guesses"
      ]
    },
    {
      "cell_type": "code",
      "execution_count": 7,
      "metadata": {
        "id": "95mdLNsio9Js",
        "outputId": "bac92fa3-3078-4e22-e1ad-8d33af79f719"
      },
      "outputs": [
        {
          "name": "stdout",
          "output_type": "stream",
          "text": [
            "['layed' 'blady' 'welks' 'seame' 'ahing' 'stong' 'basks' 'oracy' 'trone'\n",
            " 'coved' 'agita' 'trust' 'kayak' 'giros' 'domed' 'yamen' 'delay' 'navvy'\n",
            " 'carby' 'tizes' 'hoses' 'daffs' 'diver' 'notch' 'slink' 'namma' 'drown'\n",
            " 'carks' 'pepsi' 'hoors' 'erect' 'benis' 'panty' 'cowps' 'amble' 'bitte'\n",
            " 'braid' 'murrs' 'coomb' 'stylo' 'imine' 'gatch' 'claes' 'smirr' 'cotts'\n",
            " 'fiats' 'paths' 'zoeae' 'cuing' 'dauts' 'boink' 'scops' 'staps' 'sanes'\n",
            " 'saute' 'gauss' 'shily' 'icing' 'pleat' 'signa' 'araba' 'flirt' 'begot'\n",
            " 'flier' 'ahent' 'mvule' 'kiack' 'glair' 'harim' 'sibyl' 'sudds' 'fines'\n",
            " 'carps' 'atlas' 'cloye' 'seams' 'wawas' 'repin' 'vives' 'linch' 'unwit'\n",
            " 'coapt' 'derth' 'deoxy' 'tases' 'pulmo' 'rhyne' 'unify' 'taish' 'gucks'\n",
            " 'hovel' 'culms' 'ennog' 'oonts' 'honor' 'afald' 'plain' 'fusee' 'utter'\n",
            " 'whins']\n"
          ]
        }
      ],
      "source": [
        "answers_100_2000, guesses_100_2000 = make_data(100, 2000)\n",
        "print(answers_100_2000)"
      ]
    },
    {
      "cell_type": "markdown",
      "metadata": {
        "id": "bvUjljxzo9Js"
      },
      "source": [
        "## Rewards"
      ]
    },
    {
      "cell_type": "code",
      "execution_count": 8,
      "metadata": {
        "id": "RKVtnySko9Jt"
      },
      "outputs": [],
      "source": [
        "soft_rewards = {'B':1, 'Y':2, 'G':3, 'win':20, 'lose':-10, 'step':-4}\n",
        "hard_rewards = {'B':0, 'Y':0, 'G':0, 'win':10, 'lose':-10, 'step':-2}\n",
        "step_rewards = {'B':0, 'Y':1, 'G':1, 'win':10, 'lose':-10, 'step':-5}\n",
        "char_rewards = {'B':0, 'Y':1, 'G':1, 'win':10, 'lose':-10, 'step':-2}"
      ]
    },
    {
      "cell_type": "code",
      "execution_count": 27,
      "metadata": {
        "id": "pWFQakxrLYA5"
      },
      "outputs": [],
      "source": [
        "def experiment(rewards, answers, guesses, n_episodes, logging_level=None):\n",
        "  env = Environment(\n",
        "      rewards=rewards,  # !\n",
        "      wordle=Wordle(vocabulary=guesses, answers=answers),\n",
        "      state_instance=StateYesNo()\n",
        "  )\n",
        "\n",
        "  agent = Agent(\n",
        "      state_size=env.state.size,\n",
        "      action_size=len(guesses),\n",
        "      action_constructor=partial(ActionVocabulary, vocabulary=guesses)\n",
        "  )\n",
        "\n",
        "  train(env=env, agent=agent, n_episodes=n_episodes, logging_level=logging_level)\n",
        "  test(env=env, agent=agent)"
      ]
    },
    {
      "cell_type": "markdown",
      "metadata": {
        "id": "u6SwlTeRLVUz"
      },
      "source": [
        "### Soft"
      ]
    },
    {
      "cell_type": "code",
      "execution_count": 28,
      "metadata": {},
      "outputs": [
        {
          "name": "stdout",
          "output_type": "stream",
          "text": [
            "\n",
            "Episode  500\tScore: 12.88\tSuccess Rate: 69.0%\tDuration: 23.5 s\n",
            "\n",
            "Episode 1000\tScore: 15.33\tSuccess Rate: 75.0%\tDuration: 41.8 s\n",
            "\n",
            "Episode 1500\tScore: 19.52\tSuccess Rate: 86.0%\tDuration: 60.2 s\n",
            "\n",
            "Episode 2000\tScore: 23.09\tSuccess Rate: 94.0%\tDuration: 78.7 s\n",
            "\n",
            "Episode 2500\tScore: 21.20\tSuccess Rate: 89.0%\tDuration: 98.0 s\n",
            "\n",
            "Episode 3000\tScore: 22.01\tSuccess Rate: 90.0%\tDuration: 120.1 s\n",
            "\n",
            "Episode 3500\tScore: 22.53\tSuccess Rate: 91.0%\tDuration: 140.6 s\n",
            "\n",
            "Episode 4000\tScore: 24.83\tSuccess Rate: 97.0%\tDuration: 163.0 s\n",
            "\n",
            "Episode 4500\tScore: 24.18\tSuccess Rate: 95.0%\tDuration: 185.9 s\n",
            "\n",
            "Episode 5000\tScore: 26.14\tSuccess Rate: 99.0%\tDuration: 214.2 s\n",
            "Success: 9 / 10 (90.0000%)\tSteps: 4.8889\tTime: 0.1 s\tSaved to: test18-03-2023-08:54:38.txt\n",
            "\n"
          ]
        }
      ],
      "source": [
        "experiment(soft_rewards, answers_10_100, guesses_10_100, 5000)"
      ]
    },
    {
      "cell_type": "code",
      "execution_count": 29,
      "metadata": {},
      "outputs": [
        {
          "name": "stdout",
          "output_type": "stream",
          "text": [
            "\n",
            "Episode 2000\tScore: -1.92\tSuccess Rate: 18.0%\tDuration: 119.6 s\n",
            "\n",
            "Episode 4000\tScore: 3.61\tSuccess Rate: 33.0%\tDuration: 239.6 s\n",
            "\n",
            "Episode 6000\tScore: 9.42\tSuccess Rate: 50.0%\tDuration: 357.7 s\n",
            "\n",
            "Episode 8000\tScore: 10.80\tSuccess Rate: 53.0%\tDuration: 471.9 s\n",
            "\n",
            "Episode 10000\tScore: 13.80\tSuccess Rate: 64.0%\tDuration: 584.8 s\n",
            "\n",
            "Episode 12000\tScore: 15.84\tSuccess Rate: 69.0%\tDuration: 698.1 s\n",
            "\n",
            "Episode 14000\tScore: 18.10\tSuccess Rate: 76.0%\tDuration: 812.4 s\n",
            "\n",
            "Episode 16000\tScore: 17.27\tSuccess Rate: 75.0%\tDuration: 927.9 s\n",
            "\n",
            "Episode 18000\tScore: 17.45\tSuccess Rate: 75.0%\tDuration: 1045.6 s\n",
            "\n",
            "Episode 20000\tScore: 16.96\tSuccess Rate: 73.0%\tDuration: 1169.8 s\n",
            "Success: 78 / 100 (78.0000%)\tSteps: 4.2564\tTime: 0.6 s\tSaved to: test18-03-2023-09:14:08.txt\n",
            "\n"
          ]
        }
      ],
      "source": [
        "experiment(soft_rewards, answers_100_100, guesses_100_100, 20000)"
      ]
    },
    {
      "cell_type": "markdown",
      "metadata": {
        "id": "2QqT79_gLm_9"
      },
      "source": [
        "### Hard"
      ]
    },
    {
      "cell_type": "code",
      "execution_count": 30,
      "metadata": {},
      "outputs": [
        {
          "name": "stdout",
          "output_type": "stream",
          "text": [
            "\n",
            "Episode  500\tScore: -6.78\tSuccess Rate: 47.0%\tDuration: 20.7 s\n",
            "\n",
            "Episode 1000\tScore: 2.46\tSuccess Rate: 80.0%\tDuration: 38.2 s\n",
            "\n",
            "Episode 1500\tScore: 7.16\tSuccess Rate: 98.0%\tDuration: 54.0 s\n",
            "\n",
            "Episode 2000\tScore: 7.96\tSuccess Rate: 100.0%\tDuration: 68.7 s\n",
            "\n",
            "Episode 2500\tScore: 7.98\tSuccess Rate: 100.0%\tDuration: 98.5 s\n",
            "\n",
            "Episode 3000\tScore: 7.46\tSuccess Rate: 100.0%\tDuration: 120.3 s\n",
            "\n",
            "Episode 3500\tScore: 5.24\tSuccess Rate: 91.0%\tDuration: 132.0 s\n",
            "\n",
            "Episode 4000\tScore: 8.28\tSuccess Rate: 100.0%\tDuration: 142.9 s\n",
            "\n",
            "Episode 4500\tScore: 5.28\tSuccess Rate: 94.0%\tDuration: 155.8 s\n",
            "\n",
            "Episode 5000\tScore: 5.98\tSuccess Rate: 94.0%\tDuration: 169.3 s\n",
            "Success: 10 / 10 (100.0000%)\tSteps: 1.9000\tTime: 0.0 s\tSaved to: test18-03-2023-09:16:59.txt\n",
            "\n"
          ]
        }
      ],
      "source": [
        "experiment(hard_rewards, answers_10_100, guesses_10_100, 5000)"
      ]
    },
    {
      "cell_type": "code",
      "execution_count": 31,
      "metadata": {},
      "outputs": [
        {
          "name": "stdout",
          "output_type": "stream",
          "text": [
            "\n",
            "Episode 2000\tScore: -15.00\tSuccess Rate: 19.0%\tDuration: 118.7 s\n",
            "\n",
            "Episode 4000\tScore: -15.92\tSuccess Rate: 16.0%\tDuration: 260.5 s\n",
            "\n",
            "Episode 6000\tScore: -12.56\tSuccess Rate: 30.0%\tDuration: 394.1 s\n",
            "\n",
            "Episode 8000\tScore: -6.36\tSuccess Rate: 53.0%\tDuration: 515.8 s\n",
            "\n",
            "Episode 10000\tScore: -8.86\tSuccess Rate: 44.0%\tDuration: 655.3 s\n",
            "\n",
            "Episode 12000\tScore: -5.88\tSuccess Rate: 54.0%\tDuration: 770.8 s\n",
            "\n",
            "Episode 14000\tScore: -5.38\tSuccess Rate: 58.0%\tDuration: 885.3 s\n",
            "\n",
            "Episode 16000\tScore: -7.42\tSuccess Rate: 51.0%\tDuration: 1027.4 s\n",
            "\n",
            "Episode 18000\tScore: -2.50\tSuccess Rate: 70.0%\tDuration: 1142.6 s\n",
            "\n",
            "Episode 20000\tScore: -2.66\tSuccess Rate: 71.0%\tDuration: 1247.2 s\n",
            "Success: 68 / 100 (68.0000%)\tSteps: 3.8088\tTime: 0.5 s\tSaved to: test18-03-2023-09:37:47.txt\n",
            "\n"
          ]
        }
      ],
      "source": [
        "experiment(hard_rewards, answers_100_100, guesses_100_100, 20000)"
      ]
    },
    {
      "cell_type": "markdown",
      "metadata": {
        "id": "HLo5p8ugLsw1"
      },
      "source": [
        "### Step"
      ]
    },
    {
      "cell_type": "code",
      "execution_count": 35,
      "metadata": {},
      "outputs": [
        {
          "name": "stdout",
          "output_type": "stream",
          "text": [
            "\n",
            "Episode  500\tScore: -7.31\tSuccess Rate: 65.0%\tRMSE: 3.944\tTime: 20.1 s\n",
            "\n",
            "Episode 1000\tScore: 0.12\tSuccess Rate: 84.0%\tRMSE: 3.605\tTime: 36.7 s\n",
            "\n",
            "Episode 1500\tScore: 1.31\tSuccess Rate: 84.0%\tRMSE: 3.811\tTime: 52.3 s\n",
            "\n",
            "Episode 2000\tScore: 6.46\tSuccess Rate: 100.0%\tRMSE: 4.146\tTime: 67.2 s\n",
            "\n",
            "Episode 2500\tScore: 7.21\tSuccess Rate: 100.0%\tRMSE: 3.283\tTime: 81.9 s\n",
            "\n",
            "Episode 3000\tScore: 6.73\tSuccess Rate: 100.0%\tRMSE: 2.802\tTime: 96.4 s\n",
            "\n",
            "Episode 3500\tScore: 5.61\tSuccess Rate: 97.0%\tRMSE: 2.467\tTime: 109.9 s\n",
            "\n",
            "Episode 4000\tScore: 4.98\tSuccess Rate: 96.0%\tRMSE: 2.535\tTime: 123.0 s\n",
            "\n",
            "Episode 4500\tScore: 5.95\tSuccess Rate: 98.0%\tRMSE: 2.622\tTime: 134.0 s\n",
            "\n",
            "Episode 5000\tScore: 6.55\tSuccess Rate: 99.0%\tRMSE: 2.467\tTime: 144.6 s\n",
            "\n",
            "Success: 10 / 10 (100.0000%)\tSteps: 2.1000\tTime: 0.0 s\tSaved to: test18-03-2023-10:21:38.txt\n",
            "\n"
          ]
        }
      ],
      "source": [
        "experiment(step_rewards, answers_10_100, guesses_10_100, 5000)"
      ]
    },
    {
      "cell_type": "code",
      "execution_count": 32,
      "metadata": {},
      "outputs": [
        {
          "name": "stdout",
          "output_type": "stream",
          "text": [
            "\n",
            "Episode 2000\tScore: -26.58\tSuccess Rate: 15.0%\tDuration: 116.9 s\n",
            "\n",
            "Episode 4000\tScore: -26.07\tSuccess Rate: 15.0%\tDuration: 233.6 s\n",
            "\n",
            "Episode 6000\tScore: -17.40\tSuccess Rate: 39.0%\tDuration: 347.3 s\n",
            "\n",
            "Episode 8000\tScore: -17.50\tSuccess Rate: 39.0%\tDuration: 462.2 s\n",
            "\n",
            "Episode 10000\tScore: -10.93\tSuccess Rate: 61.0%\tDuration: 566.8 s\n",
            "\n",
            "Episode 12000\tScore: -15.23\tSuccess Rate: 45.0%\tDuration: 657.9 s\n",
            "\n",
            "Episode 14000\tScore: -7.27\tSuccess Rate: 68.0%\tDuration: 757.3 s\n",
            "\n",
            "Episode 16000\tScore: -4.74\tSuccess Rate: 75.0%\tDuration: 850.6 s\n",
            "\n",
            "Episode 18000\tScore: -2.39\tSuccess Rate: 80.0%\tDuration: 944.3 s\n",
            "\n",
            "Episode 20000\tScore: -1.87\tSuccess Rate: 84.0%\tDuration: 1036.3 s\n",
            "Success: 83 / 100 (83.0000%)\tSteps: 2.7590\tTime: 0.4 s\tSaved to: test18-03-2023-09:55:05.txt\n",
            "\n"
          ]
        }
      ],
      "source": [
        "experiment(step_rewards, answers_100_100, guesses_100_100, 20000)"
      ]
    },
    {
      "cell_type": "markdown",
      "metadata": {
        "id": "BBtmu615MYIM"
      },
      "source": [
        "### Char"
      ]
    },
    {
      "cell_type": "code",
      "execution_count": 34,
      "metadata": {},
      "outputs": [
        {
          "name": "stdout",
          "output_type": "stream",
          "text": [
            "\n",
            "Episode  500\tScore: 1.18\tSuccess Rate: 68.0%\tRMSE: 3.155012607574463\tTime: 32.2 s\n",
            "\n",
            "Episode 1000\tScore: 3.36\tSuccess Rate: 76.0%\tRMSE: 3.106156349182129\tTime: 54.7 s\n",
            "\n",
            "Episode 1500\tScore: 1.26\tSuccess Rate: 67.0%\tRMSE: 3.114962100982666\tTime: 73.9 s\n",
            "\n",
            "Episode 2000\tScore: 4.18\tSuccess Rate: 77.0%\tRMSE: 3.101381778717041\tTime: 95.0 s\n",
            "\n",
            "Episode 2500\tScore: 5.56\tSuccess Rate: 86.0%\tRMSE: 3.2494874000549316\tTime: 115.8 s\n",
            "\n",
            "Episode 3000\tScore: 5.97\tSuccess Rate: 89.0%\tRMSE: 2.5868852138519287\tTime: 136.1 s\n",
            "\n",
            "Episode 3500\tScore: 8.27\tSuccess Rate: 98.0%\tRMSE: 3.5016274452209473\tTime: 157.2 s\n",
            "\n",
            "Episode 4000\tScore: 8.09\tSuccess Rate: 96.0%\tRMSE: 3.2956247329711914\tTime: 175.3 s\n",
            "\n",
            "Episode 4500\tScore: 8.21\tSuccess Rate: 97.0%\tRMSE: 4.088204383850098\tTime: 192.7 s\n",
            "\n",
            "Episode 5000\tScore: 8.78\tSuccess Rate: 97.0%\tRMSE: 3.91351318359375\tTime: 210.2 s\n",
            "\n",
            "Success: 10 / 10 (100.0000%)\tSteps: 3.1000\tTime: 0.0 s\tSaved to: test18-03-2023-10:19:12.txt\n",
            "\n"
          ]
        }
      ],
      "source": [
        "experiment(char_rewards, answers_10_100, guesses_10_100, 5000)"
      ]
    },
    {
      "cell_type": "code",
      "execution_count": 33,
      "metadata": {},
      "outputs": [
        {
          "name": "stdout",
          "output_type": "stream",
          "text": [
            "\n",
            "Episode 2000\tScore: -10.95\tSuccess Rate: 19.0%\tDuration: 120.0 s\n",
            "\n",
            "Episode 4000\tScore: -8.20\tSuccess Rate: 32.0%\tDuration: 243.4 s\n",
            "\n",
            "Episode 6000\tScore: -5.49\tSuccess Rate: 43.0%\tDuration: 361.8 s\n",
            "\n",
            "Episode 8000\tScore: -2.86\tSuccess Rate: 53.0%\tDuration: 475.3 s\n",
            "\n",
            "Episode 10000\tScore: -1.39\tSuccess Rate: 60.0%\tDuration: 597.6 s\n",
            "\n",
            "Episode 12000\tScore: -0.15\tSuccess Rate: 64.0%\tDuration: 711.2 s\n",
            "\n",
            "Episode 14000\tScore: 0.90\tSuccess Rate: 70.0%\tDuration: 828.7 s\n",
            "\n",
            "Episode 16000\tScore: 2.03\tSuccess Rate: 74.0%\tDuration: 945.2 s\n",
            "\n",
            "Episode 18000\tScore: 3.21\tSuccess Rate: 81.0%\tDuration: 1057.1 s\n",
            "\n",
            "Episode 20000\tScore: 3.04\tSuccess Rate: 80.0%\tDuration: 1176.1 s\n",
            "Success: 69 / 100 (69.0000%)\tSteps: 3.9130\tTime: 0.9 s\tSaved to: test18-03-2023-10:14:42.txt\n",
            "\n"
          ]
        }
      ],
      "source": [
        "experiment(char_rewards, answers_100_100, guesses_100_100, 20000)"
      ]
    },
    {
      "cell_type": "markdown",
      "metadata": {
        "id": "NOu81lF2o9Jt"
      },
      "source": [
        "## States"
      ]
    },
    {
      "cell_type": "markdown",
      "metadata": {
        "id": "oGEwB2Hvo9Ju"
      },
      "source": [
        "### StateYesNo"
      ]
    },
    {
      "cell_type": "code",
      "execution_count": 36,
      "metadata": {
        "id": "h-l8p6ujr9XH"
      },
      "outputs": [],
      "source": [
        "def experiment(answers, guesses, n_episodes, logging_level=None):\n",
        "    env = Environment(\n",
        "        rewards=step_rewards,\n",
        "        wordle=Wordle(vocabulary=guesses, answers=answers),\n",
        "        state_instance=StateYesNo()\n",
        "    )\n",
        "\n",
        "    agent = Agent(\n",
        "        state_size=env.state.size,\n",
        "        action_size=len(env.wordle.vocabulary),\n",
        "        action_constructor=partial(ActionVocabulary, vocabulary=guesses)\n",
        "    )\n",
        "\n",
        "    train(env=env, agent=agent, n_episodes=n_episodes, logging_level=logging_level)\n",
        "    test(env=env, agent=agent)"
      ]
    },
    {
      "cell_type": "code",
      "execution_count": 37,
      "metadata": {
        "id": "tA9RSM7Vo9Ju"
      },
      "outputs": [
        {
          "name": "stdout",
          "output_type": "stream",
          "text": [
            "\n",
            "Episode  500\tScore: 0.73\tSuccess Rate: 86.0%\tRMSE: 3.427\tTime: 18.9 s\n",
            "\n",
            "Episode 1000\tScore: 7.05\tSuccess Rate: 100.0%\tRMSE: 3.742\tTime: 31.7 s\n",
            "\n",
            "Episode 1500\tScore: 6.86\tSuccess Rate: 100.0%\tRMSE: 3.417\tTime: 42.4 s\n",
            "\n",
            "Episode 2000\tScore: 7.12\tSuccess Rate: 100.0%\tRMSE: 2.557\tTime: 52.9 s\n",
            "\n",
            "Episode 2500\tScore: 7.04\tSuccess Rate: 100.0%\tRMSE: 2.533\tTime: 63.9 s\n",
            "\n",
            "Episode 3000\tScore: 6.55\tSuccess Rate: 99.0%\tRMSE: 2.090\tTime: 74.8 s\n",
            "\n",
            "Episode 3500\tScore: 7.31\tSuccess Rate: 100.0%\tRMSE: 2.267\tTime: 85.6 s\n",
            "\n",
            "Episode 4000\tScore: 6.72\tSuccess Rate: 99.0%\tRMSE: 2.424\tTime: 96.9 s\n",
            "\n",
            "Episode 4500\tScore: 6.42\tSuccess Rate: 99.0%\tRMSE: 1.710\tTime: 107.9 s\n",
            "\n",
            "Episode 5000\tScore: 6.96\tSuccess Rate: 99.0%\tRMSE: 2.202\tTime: 118.8 s\n",
            "\n",
            "Success: 9 / 10 (90.0000%)\tSteps: 2.2222\tTime: 0.0 s\tSaved to: test18-03-2023-10:46:38.txt\n",
            "\n"
          ]
        }
      ],
      "source": [
        "experiment(answers_10_100, guesses_10_100, 5000)"
      ]
    },
    {
      "cell_type": "code",
      "execution_count": 38,
      "metadata": {
        "id": "4T4SEw3eo9Jx"
      },
      "outputs": [
        {
          "name": "stdout",
          "output_type": "stream",
          "text": [
            "\n",
            "Episode 2000\tScore: -26.24\tSuccess Rate: 16.0%\tRMSE: 4.531\tTime: 116.7 s\n",
            "\n",
            "Episode 4000\tScore: -20.15\tSuccess Rate: 33.0%\tRMSE: 6.672\tTime: 246.8 s\n",
            "\n",
            "Episode 6000\tScore: -15.66\tSuccess Rate: 44.0%\tRMSE: 6.629\tTime: 355.7 s\n",
            "\n",
            "Episode 8000\tScore: -12.74\tSuccess Rate: 52.0%\tRMSE: 6.569\tTime: 463.5 s\n",
            "\n",
            "Episode 10000\tScore: -11.04\tSuccess Rate: 58.0%\tRMSE: 6.947\tTime: 566.7 s\n",
            "\n",
            "Episode 12000\tScore: -6.55\tSuccess Rate: 71.0%\tRMSE: 6.467\tTime: 664.8 s\n",
            "\n",
            "Episode 14000\tScore: -8.23\tSuccess Rate: 65.0%\tRMSE: 6.579\tTime: 764.7 s\n",
            "\n",
            "Episode 16000\tScore: -9.31\tSuccess Rate: 65.0%\tRMSE: 6.394\tTime: 868.0 s\n",
            "\n",
            "Episode 18000\tScore: -6.10\tSuccess Rate: 75.0%\tRMSE: 5.482\tTime: 966.1 s\n",
            "\n",
            "Episode 20000\tScore: -6.78\tSuccess Rate: 70.0%\tRMSE: 6.890\tTime: 1062.4 s\n",
            "\n",
            "Success: 37 / 50 (74.0000%)\tSteps: 2.6216\tTime: 0.2 s\tSaved to: test18-03-2023-11:04:21.txt\n",
            "\n"
          ]
        }
      ],
      "source": [
        "experiment(answers_50_200, guesses_50_200, 20000)"
      ]
    },
    {
      "cell_type": "markdown",
      "metadata": {
        "id": "mDdaLrRqtE_E"
      },
      "source": [
        "### StateVocabulary"
      ]
    },
    {
      "cell_type": "code",
      "execution_count": 39,
      "metadata": {
        "id": "7hF26hGdtE_F"
      },
      "outputs": [],
      "source": [
        "def experiment(answers, guesses, n_episodes, logging_level=None):\n",
        "    env = Environment(\n",
        "        rewards=step_rewards,\n",
        "        wordle=Wordle(vocabulary=guesses, answers=answers),\n",
        "        state_instance=StateVocabulary(\n",
        "            answers_mask=np.fromiter((ans in guesses for ans in answers), dtype=bool)\n",
        "        )\n",
        "    )\n",
        "\n",
        "    agent = Agent(\n",
        "        state_size=env.state.size,\n",
        "        action_size=len(env.wordle.vocabulary),\n",
        "        action_constructor=partial(ActionVocabulary, vocabulary=guesses)\n",
        "    )\n",
        "\n",
        "    train(env=env, agent=agent, n_episodes=n_episodes, logging_level=logging_level)\n",
        "    test(env=env, agent=agent)"
      ]
    },
    {
      "cell_type": "code",
      "execution_count": 40,
      "metadata": {},
      "outputs": [
        {
          "name": "stdout",
          "output_type": "stream",
          "text": [
            "\n",
            "Episode  500\tScore: -10.41\tSuccess Rate: 55.0%\tRMSE: 3.617\tTime: 23.3 s\n",
            "\n",
            "Episode 1000\tScore: -3.07\tSuccess Rate: 74.0%\tRMSE: 3.275\tTime: 47.0 s\n",
            "\n",
            "Episode 1500\tScore: 1.41\tSuccess Rate: 86.0%\tRMSE: 4.449\tTime: 66.5 s\n",
            "\n",
            "Episode 2000\tScore: 4.79\tSuccess Rate: 97.0%\tRMSE: 4.595\tTime: 82.6 s\n",
            "\n",
            "Episode 2500\tScore: 6.33\tSuccess Rate: 100.0%\tRMSE: 4.426\tTime: 96.3 s\n",
            "\n",
            "Episode 3000\tScore: 6.39\tSuccess Rate: 100.0%\tRMSE: 3.272\tTime: 111.4 s\n",
            "\n",
            "Episode 3500\tScore: 6.43\tSuccess Rate: 100.0%\tRMSE: 3.361\tTime: 124.9 s\n",
            "\n",
            "Episode 4000\tScore: 6.76\tSuccess Rate: 100.0%\tRMSE: 3.545\tTime: 137.5 s\n",
            "\n",
            "Episode 4500\tScore: 6.23\tSuccess Rate: 98.0%\tRMSE: 2.980\tTime: 150.2 s\n",
            "\n",
            "Episode 5000\tScore: 6.70\tSuccess Rate: 100.0%\tRMSE: 3.502\tTime: 163.7 s\n",
            "\n",
            "Success: 10 / 10 (100.0000%)\tSteps: 1.9000\tTime: 0.0 s\tSaved to: test18-03-2023-11:07:06.txt\n",
            "\n"
          ]
        }
      ],
      "source": [
        "experiment(answers_10_100, guesses_10_100, 5000)"
      ]
    },
    {
      "cell_type": "code",
      "execution_count": 41,
      "metadata": {},
      "outputs": [
        {
          "name": "stdout",
          "output_type": "stream",
          "text": [
            "\n",
            "Episode 2000\tScore: -26.94\tSuccess Rate: 13.0%\tRMSE: 3.828\tTime: 142.2 s\n",
            "\n",
            "Episode 4000\tScore: -20.92\tSuccess Rate: 29.0%\tRMSE: 7.478\tTime: 285.8 s\n",
            "\n",
            "Episode 6000\tScore: -14.95\tSuccess Rate: 46.0%\tRMSE: 6.442\tTime: 420.4 s\n",
            "\n",
            "Episode 8000\tScore: -14.35\tSuccess Rate: 50.0%\tRMSE: 6.219\tTime: 562.8 s\n",
            "\n",
            "Episode 10000\tScore: -9.74\tSuccess Rate: 61.0%\tRMSE: 6.844\tTime: 695.1 s\n",
            "\n",
            "Episode 12000\tScore: -7.15\tSuccess Rate: 68.0%\tRMSE: 5.755\tTime: 847.4 s\n",
            "\n",
            "Episode 14000\tScore: -4.06\tSuccess Rate: 78.0%\tRMSE: 6.517\tTime: 984.7 s\n",
            "\n",
            "Episode 16000\tScore: -4.96\tSuccess Rate: 76.0%\tRMSE: 5.759\tTime: 1123.9 s\n",
            "\n",
            "Episode 18000\tScore: -3.10\tSuccess Rate: 80.0%\tRMSE: 5.481\tTime: 1263.5 s\n",
            "\n",
            "Episode 20000\tScore: -0.34\tSuccess Rate: 89.0%\tRMSE: 5.223\tTime: 1389.3 s\n",
            "\n",
            "Success: 42 / 50 (84.0000%)\tSteps: 3.0714\tTime: 0.3 s\tSaved to: test18-03-2023-11:30:16.txt\n",
            "\n"
          ]
        }
      ],
      "source": [
        "experiment(answers_50_200, guesses_50_200, 20000)"
      ]
    },
    {
      "cell_type": "markdown",
      "metadata": {
        "id": "tkNWsl1No9Jz"
      },
      "source": [
        "## Replay Sampling"
      ]
    },
    {
      "cell_type": "markdown",
      "metadata": {
        "id": "qrovaJV80a1Y"
      },
      "source": [
        "### Uniform"
      ]
    },
    {
      "cell_type": "code",
      "execution_count": 9,
      "metadata": {},
      "outputs": [],
      "source": [
        "def experiment(answers, guesses, n_episodes, logging_level=None):\n",
        "    env = Environment(\n",
        "        rewards=step_rewards,\n",
        "        wordle=Wordle(vocabulary=guesses, answers=answers),\n",
        "        state_instance=StateVocabulary(\n",
        "            answers_mask=np.fromiter((ans in guesses for ans in answers), dtype=bool)\n",
        "        )\n",
        "    )\n",
        "\n",
        "    agent = Agent(\n",
        "        state_size=env.state.size,\n",
        "        action_size=len(env.wordle.vocabulary),\n",
        "        action_constructor=partial(ActionVocabulary, vocabulary=guesses),\n",
        "        priority_rate={\n",
        "            'alpha': 0,\n",
        "            'alpha_decay_rate': 1,\n",
        "            'beta': 1,\n",
        "            'beta_growth_rate': 1\n",
        "        }\n",
        "    )\n",
        "\n",
        "    train(env=env, agent=agent, n_episodes=n_episodes, logging_level=logging_level)\n",
        "    test(env=env, agent=agent)"
      ]
    },
    {
      "cell_type": "code",
      "execution_count": 13,
      "metadata": {},
      "outputs": [
        {
          "name": "stdout",
          "output_type": "stream",
          "text": [
            "\n",
            "Episode  500\tScore: -9.68\tSuccess Rate: 58.0%\tRMSE: 2.453\tTime: 41.7 s\n",
            "\n",
            "Episode 1000\tScore: 1.96\tSuccess Rate: 88.0%\tRMSE: 2.607\tTime: 75.1 s\n",
            "\n",
            "Episode 1500\tScore: 5.31\tSuccess Rate: 97.0%\tRMSE: 1.837\tTime: 107.3 s\n",
            "\n",
            "Episode 2000\tScore: 6.52\tSuccess Rate: 100.0%\tRMSE: 2.177\tTime: 140.6 s\n",
            "\n",
            "Episode 2500\tScore: 6.00\tSuccess Rate: 99.0%\tRMSE: 2.706\tTime: 166.7 s\n",
            "\n",
            "Episode 3000\tScore: 6.65\tSuccess Rate: 100.0%\tRMSE: 2.426\tTime: 189.5 s\n",
            "\n",
            "Episode 3500\tScore: 5.16\tSuccess Rate: 98.0%\tRMSE: 1.760\tTime: 216.4 s\n",
            "\n",
            "Episode 4000\tScore: 4.33\tSuccess Rate: 96.0%\tRMSE: 2.397\tTime: 243.7 s\n",
            "\n",
            "Episode 4500\tScore: 6.83\tSuccess Rate: 100.0%\tRMSE: 1.842\tTime: 269.6 s\n",
            "\n",
            "Episode 5000\tScore: 6.31\tSuccess Rate: 100.0%\tRMSE: 1.724\tTime: 297.9 s\n",
            "\n",
            "Success: 10 / 10 (100.0000%)\tSteps: 2.0000\tTime: 0.1 s\tSaved to: test18-03-2023-20:32:59.txt\n",
            "\n"
          ]
        }
      ],
      "source": [
        "experiment(answers_10_100, guesses_10_100, 5000)"
      ]
    },
    {
      "cell_type": "code",
      "execution_count": 14,
      "metadata": {},
      "outputs": [
        {
          "name": "stdout",
          "output_type": "stream",
          "text": [
            "\n",
            "Episode 2000\tScore: -30.22\tSuccess Rate: 6.0%\tRMSE: 3.373\tTime: 270.4 s\n",
            "\n",
            "Episode 4000\tScore: -26.53\tSuccess Rate: 15.0%\tRMSE: 3.897\tTime: 527.2 s\n",
            "\n",
            "Episode 6000\tScore: -24.81\tSuccess Rate: 19.0%\tRMSE: 4.236\tTime: 776.6 s\n",
            "\n",
            "Episode 8000\tScore: -19.07\tSuccess Rate: 35.0%\tRMSE: 6.821\tTime: 1016.4 s\n",
            "\n",
            "Episode 10000\tScore: -14.18\tSuccess Rate: 48.0%\tRMSE: 5.566\tTime: 1310.4 s\n",
            "\n",
            "Episode 12000\tScore: -16.22\tSuccess Rate: 44.0%\tRMSE: 6.003\tTime: 1580.5 s\n",
            "\n",
            "Episode 14000\tScore: -15.15\tSuccess Rate: 46.0%\tRMSE: 6.170\tTime: 1801.1 s\n",
            "\n",
            "Episode 16000\tScore: -9.51\tSuccess Rate: 63.0%\tRMSE: 4.458\tTime: 2010.0 s\n",
            "\n",
            "Episode 18000\tScore: -8.50\tSuccess Rate: 65.0%\tRMSE: 4.228\tTime: 2224.4 s\n",
            "\n",
            "Episode 20000\tScore: -8.41\tSuccess Rate: 64.0%\tRMSE: 4.630\tTime: 2454.0 s\n",
            "\n",
            "Success: 67 / 100 (67.0000%)\tSteps: 2.7612\tTime: 1.1 s\tSaved to: test18-03-2023-21:14:48.txt\n",
            "\n"
          ]
        }
      ],
      "source": [
        "experiment(answers_100_100, guesses_100_100, 20000)"
      ]
    },
    {
      "cell_type": "markdown",
      "metadata": {
        "id": "WsGR_oi5o9J0"
      },
      "source": [
        "### A Little Prioritized"
      ]
    },
    {
      "cell_type": "code",
      "execution_count": 15,
      "metadata": {
        "id": "rkFZvMC6t1o6"
      },
      "outputs": [],
      "source": [
        "def experiment(answers, guesses, n_episodes, logging_level=None):\n",
        "  env = Environment(\n",
        "    rewards=step_rewards,\n",
        "    wordle=Wordle(vocabulary=guesses, answers=answers),\n",
        "    state_instance=StateYesNo()\n",
        "  )\n",
        "\n",
        "  agent = Agent(\n",
        "    state_size=env.state.size,\n",
        "    action_size=len(env.wordle.vocabulary),\n",
        "    action_constructor=partial(ActionVocabulary, vocabulary=guesses),\n",
        "    priority_rate={\n",
        "      'alpha': 0.3,\n",
        "      'alpha_decay_rate': 0.95,\n",
        "      'beta': 1,\n",
        "      'beta_growth_rate': 1\n",
        "    }\n",
        "  )\n",
        "\n",
        "  train(env=env, agent=agent, n_episodes=n_episodes, logging_level=logging_level)\n",
        "  test(env=env, agent=agent)"
      ]
    },
    {
      "cell_type": "code",
      "execution_count": 23,
      "metadata": {},
      "outputs": [
        {
          "name": "stdout",
          "output_type": "stream",
          "text": [
            "\n",
            "Episode  500\tScore: -11.40\tSuccess Rate: 53.0%\tRMSE: 2.376\tTime: 23.7 s\n",
            "\n",
            "Episode 1000\tScore: -3.35\tSuccess Rate: 75.0%\tRMSE: 3.608\tTime: 45.3 s\n",
            "\n",
            "Episode 1500\tScore: 4.86\tSuccess Rate: 94.0%\tRMSE: 3.738\tTime: 64.3 s\n",
            "\n",
            "Episode 2000\tScore: 7.51\tSuccess Rate: 100.0%\tRMSE: 2.834\tTime: 75.9 s\n",
            "\n",
            "Episode 2500\tScore: 6.28\tSuccess Rate: 99.0%\tRMSE: 2.660\tTime: 91.0 s\n",
            "\n",
            "Episode 3000\tScore: 6.97\tSuccess Rate: 100.0%\tRMSE: 3.216\tTime: 105.8 s\n",
            "\n",
            "Episode 3500\tScore: 6.88\tSuccess Rate: 100.0%\tRMSE: 3.262\tTime: 117.1 s\n",
            "\n",
            "Episode 4000\tScore: 6.71\tSuccess Rate: 100.0%\tRMSE: 3.361\tTime: 128.6 s\n",
            "\n",
            "Episode 4500\tScore: 7.18\tSuccess Rate: 100.0%\tRMSE: 2.358\tTime: 142.9 s\n",
            "\n",
            "Episode 5000\tScore: 6.70\tSuccess Rate: 100.0%\tRMSE: 2.715\tTime: 156.1 s\n",
            "\n",
            "Success: 10 / 10 (100.0000%)\tSteps: 2.0000\tTime: 0.0 s\tSaved to: test18-03-2023-19:32:50.txt\n",
            "\n"
          ]
        }
      ],
      "source": [
        "experiment(answers_10_100, guesses_10_100, 5000)"
      ]
    },
    {
      "cell_type": "code",
      "execution_count": 16,
      "metadata": {},
      "outputs": [
        {
          "name": "stdout",
          "output_type": "stream",
          "text": [
            "\n",
            "Episode 2000\tScore: -27.83\tSuccess Rate: 10.4%\tRMSE: 2.864\tTime: 239.2 s\n",
            "\n",
            "Episode 4000\tScore: -23.79\tSuccess Rate: 22.6%\tRMSE: 5.163\tTime: 460.9 s\n",
            "\n",
            "Episode 6000\tScore: -19.49\tSuccess Rate: 34.5%\tRMSE: 3.610\tTime: 677.2 s\n",
            "\n",
            "Episode 8000\tScore: -16.73\tSuccess Rate: 42.4%\tRMSE: 4.134\tTime: 875.0 s\n",
            "\n",
            "Episode 10000\tScore: -14.85\tSuccess Rate: 48.6%\tRMSE: 4.203\tTime: 1071.5 s\n",
            "\n",
            "Episode 12000\tScore: -12.74\tSuccess Rate: 54.7%\tRMSE: 5.986\tTime: 1267.0 s\n",
            "\n",
            "Episode 14000\tScore: -10.74\tSuccess Rate: 61.1%\tRMSE: 6.155\tTime: 1465.9 s\n",
            "\n",
            "Episode 16000\tScore: -7.93\tSuccess Rate: 68.3%\tRMSE: 4.236\tTime: 1649.1 s\n",
            "\n",
            "Episode 18000\tScore: -6.55\tSuccess Rate: 72.4%\tRMSE: 3.902\tTime: 1869.4 s\n",
            "\n",
            "Episode 20000\tScore: -3.46\tSuccess Rate: 79.5%\tRMSE: 4.418\tTime: 2034.2 s\n",
            "\n",
            "Success: 80 / 100 (80.0000%)\tSteps: 2.8875\tTime: 1.0 s\tSaved to: test18-03-2023-22:03:42.txt\n",
            "\n"
          ]
        }
      ],
      "source": [
        "experiment(answers_100_100, guesses_100_100, 20000)"
      ]
    },
    {
      "cell_type": "markdown",
      "metadata": {
        "id": "fGu7igCV0ouu"
      },
      "source": [
        "### Middle Prioritized"
      ]
    },
    {
      "cell_type": "code",
      "execution_count": 19,
      "metadata": {
        "id": "mLYxQPR_0rTT"
      },
      "outputs": [],
      "source": [
        "def experiment(answers, guesses, n_episodes, logging_level=None):\n",
        "  env = Environment(\n",
        "    rewards=step_rewards,\n",
        "    wordle=Wordle(vocabulary=guesses, answers=answers),\n",
        "    state_instance=StateYesNo()\n",
        "  )\n",
        "\n",
        "  agent = Agent(\n",
        "    state_size=env.state.size,\n",
        "    action_size=len(env.wordle.vocabulary),\n",
        "    action_constructor=partial(ActionVocabulary, vocabulary=guesses),\n",
        "    priority_rate={\n",
        "      'alpha': 0.6,\n",
        "      'alpha_decay_rate': 0.95,\n",
        "      'beta': 1,\n",
        "      'beta_growth_rate': 1\n",
        "    }\n",
        "  )\n",
        "\n",
        "  train(env=env, agent=agent, n_episodes=n_episodes, logging_level=logging_level)\n",
        "  test(env=env, agent=agent)"
      ]
    },
    {
      "cell_type": "code",
      "execution_count": 20,
      "metadata": {},
      "outputs": [
        {
          "name": "stdout",
          "output_type": "stream",
          "text": [
            "\n",
            "Episode  500\tScore: -16.45\tSuccess Rate: 40.6%\tRMSE: 3.893\tTime: 36.5 s\n",
            "\n",
            "Episode 1000\tScore: -3.55\tSuccess Rate: 74.2%\tRMSE: 3.556\tTime: 74.6 s\n",
            "\n",
            "Episode 1500\tScore: 2.54\tSuccess Rate: 90.2%\tRMSE: 3.762\tTime: 106.0 s\n",
            "\n",
            "Episode 2000\tScore: 2.61\tSuccess Rate: 90.2%\tRMSE: 4.109\tTime: 135.4 s\n",
            "\n",
            "Episode 2500\tScore: 4.88\tSuccess Rate: 96.6%\tRMSE: 4.043\tTime: 156.9 s\n",
            "\n",
            "Episode 3000\tScore: 6.20\tSuccess Rate: 99.4%\tRMSE: 3.444\tTime: 177.7 s\n",
            "\n",
            "Episode 3500\tScore: 6.82\tSuccess Rate: 99.4%\tRMSE: 3.496\tTime: 199.2 s\n",
            "\n",
            "Episode 4000\tScore: 6.61\tSuccess Rate: 99.0%\tRMSE: 3.239\tTime: 219.0 s\n",
            "\n",
            "Episode 4500\tScore: 7.22\tSuccess Rate: 99.8%\tRMSE: 3.302\tTime: 237.5 s\n",
            "\n",
            "Episode 5000\tScore: 6.73\tSuccess Rate: 98.8%\tRMSE: 2.657\tTime: 256.3 s\n",
            "\n",
            "Success: 10 / 10 (100.0000%)\tSteps: 2.0000\tTime: 0.0 s\tSaved to: test18-03-2023-22:15:39.txt\n",
            "\n"
          ]
        }
      ],
      "source": [
        "experiment(answers_10_100, guesses_10_100, 5000)"
      ]
    },
    {
      "cell_type": "code",
      "execution_count": 21,
      "metadata": {},
      "outputs": [
        {
          "name": "stdout",
          "output_type": "stream",
          "text": [
            "\n",
            "Episode 2000\tScore: -26.94\tSuccess Rate: 12.7%\tRMSE: 4.490\tTime: 180.0 s\n",
            "\n",
            "Episode 4000\tScore: -22.83\tSuccess Rate: 25.2%\tRMSE: 6.281\tTime: 362.7 s\n",
            "\n",
            "Episode 6000\tScore: -19.34\tSuccess Rate: 35.4%\tRMSE: 5.401\tTime: 538.6 s\n",
            "\n",
            "Episode 8000\tScore: -16.82\tSuccess Rate: 42.3%\tRMSE: 5.463\tTime: 709.8 s\n",
            "\n",
            "Episode 10000\tScore: -13.79\tSuccess Rate: 51.1%\tRMSE: 5.431\tTime: 873.1 s\n",
            "\n",
            "Episode 12000\tScore: -11.37\tSuccess Rate: 57.9%\tRMSE: 5.457\tTime: 1032.5 s\n",
            "\n",
            "Episode 14000\tScore: -9.88\tSuccess Rate: 63.8%\tRMSE: 5.039\tTime: 1185.2 s\n",
            "\n",
            "Episode 16000\tScore: -7.72\tSuccess Rate: 68.3%\tRMSE: 6.175\tTime: 1332.8 s\n",
            "\n",
            "Episode 18000\tScore: -7.01\tSuccess Rate: 71.3%\tRMSE: 5.104\tTime: 1477.9 s\n",
            "\n",
            "Episode 20000\tScore: -3.82\tSuccess Rate: 78.8%\tRMSE: 6.014\tTime: 1609.8 s\n",
            "\n",
            "Success: 81 / 100 (81.0000%)\tSteps: 2.8642\tTime: 0.6 s\tSaved to: test18-03-2023-22:42:30.txt\n",
            "\n"
          ]
        }
      ],
      "source": [
        "experiment(answers_100_100, guesses_100_100, 20000)"
      ]
    },
    {
      "cell_type": "markdown",
      "metadata": {
        "id": "EAKNk4DK0u7R"
      },
      "source": [
        "### Much Prioritized"
      ]
    },
    {
      "cell_type": "code",
      "execution_count": 22,
      "metadata": {
        "id": "NdJaA_qZ0yzX"
      },
      "outputs": [],
      "source": [
        "def experiment(answers, guesses, n_episodes, logging_level=None):\n",
        "  env = Environment(\n",
        "    rewards=step_rewards,\n",
        "    wordle=Wordle(vocabulary=guesses, answers=answers),\n",
        "    state_instance=StateYesNo()\n",
        "  )\n",
        "\n",
        "  agent = Agent(\n",
        "    state_size=env.state.size,\n",
        "    action_size=len(env.wordle.vocabulary),\n",
        "    action_constructor=partial(ActionVocabulary, vocabulary=guesses),\n",
        "    priority_rate={\n",
        "      'alpha': 0.9,\n",
        "      'alpha_decay_rate': 0.95,\n",
        "      'beta': 1,\n",
        "      'beta_growth_rate': 1\n",
        "    }\n",
        "  )\n",
        "\n",
        "  train(env=env, agent=agent, n_episodes=n_episodes, logging_level=logging_level)\n",
        "  test(env=env, agent=agent)"
      ]
    },
    {
      "cell_type": "code",
      "execution_count": 23,
      "metadata": {},
      "outputs": [
        {
          "name": "stdout",
          "output_type": "stream",
          "text": [
            "\n",
            "Episode  500\tScore: -18.32\tSuccess Rate: 35.0%\tRMSE: 4.363\tTime: 29.7 s\n",
            "\n",
            "Episode 1000\tScore: -7.21\tSuccess Rate: 63.4%\tRMSE: 5.846\tTime: 59.6 s\n",
            "\n",
            "Episode 1500\tScore: -0.90\tSuccess Rate: 82.0%\tRMSE: 5.946\tTime: 84.2 s\n",
            "\n",
            "Episode 2000\tScore: 2.70\tSuccess Rate: 89.6%\tRMSE: 4.664\tTime: 107.5 s\n",
            "\n",
            "Episode 2500\tScore: 2.01\tSuccess Rate: 88.0%\tRMSE: 5.397\tTime: 135.8 s\n",
            "\n",
            "Episode 3000\tScore: 1.45\tSuccess Rate: 88.2%\tRMSE: 4.961\tTime: 163.6 s\n",
            "\n",
            "Episode 3500\tScore: 4.13\tSuccess Rate: 94.2%\tRMSE: 6.029\tTime: 185.8 s\n",
            "\n",
            "Episode 4000\tScore: 5.85\tSuccess Rate: 98.8%\tRMSE: 4.352\tTime: 207.2 s\n",
            "\n",
            "Episode 4500\tScore: 6.71\tSuccess Rate: 99.8%\tRMSE: 4.008\tTime: 227.6 s\n",
            "\n",
            "Episode 5000\tScore: 6.74\tSuccess Rate: 99.4%\tRMSE: 3.625\tTime: 248.4 s\n",
            "\n",
            "Success: 10 / 10 (100.0000%)\tSteps: 2.1000\tTime: 0.0 s\tSaved to: test18-03-2023-22:46:40.txt\n",
            "\n"
          ]
        }
      ],
      "source": [
        "experiment(answers_10_100, guesses_10_100, 5000)"
      ]
    },
    {
      "cell_type": "code",
      "execution_count": 24,
      "metadata": {},
      "outputs": [
        {
          "name": "stdout",
          "output_type": "stream",
          "text": [
            "\n",
            "Episode 2000\tScore: -27.04\tSuccess Rate: 12.8%\tRMSE: 5.135\tTime: 223.6 s\n",
            "\n",
            "Episode 4000\tScore: -23.47\tSuccess Rate: 23.6%\tRMSE: 6.813\tTime: 461.5 s\n",
            "\n",
            "Episode 6000\tScore: -19.67\tSuccess Rate: 34.3%\tRMSE: 6.054\tTime: 701.8 s\n",
            "\n",
            "Episode 8000\tScore: -16.94\tSuccess Rate: 42.5%\tRMSE: 5.090\tTime: 954.2 s\n",
            "\n",
            "Episode 10000\tScore: -14.11\tSuccess Rate: 50.8%\tRMSE: 5.346\tTime: 1190.2 s\n",
            "\n",
            "Episode 12000\tScore: -10.90\tSuccess Rate: 60.1%\tRMSE: 5.577\tTime: 1404.1 s\n",
            "\n",
            "Episode 14000\tScore: -8.88\tSuccess Rate: 66.3%\tRMSE: 5.411\tTime: 1621.0 s\n",
            "\n",
            "Episode 16000\tScore: -5.81\tSuccess Rate: 73.9%\tRMSE: 4.778\tTime: 1812.3 s\n",
            "\n",
            "Episode 18000\tScore: -5.17\tSuccess Rate: 76.3%\tRMSE: 4.167\tTime: 1970.6 s\n",
            "\n",
            "Episode 20000\tScore: -5.18\tSuccess Rate: 76.1%\tRMSE: 5.223\tTime: 2164.0 s\n",
            "\n",
            "Success: 80 / 100 (80.0000%)\tSteps: 2.8250\tTime: 0.8 s\tSaved to: test18-03-2023-23:22:46.txt\n",
            "\n"
          ]
        }
      ],
      "source": [
        "experiment(answers_100_100, guesses_100_100, 20000)"
      ]
    },
    {
      "cell_type": "markdown",
      "metadata": {
        "id": "8WgacXQ41iST"
      },
      "source": [
        "## Steps"
      ]
    },
    {
      "cell_type": "markdown",
      "metadata": {
        "id": "VaMmH_Wx5aPH"
      },
      "source": [
        "Здесь используем оптимальные параметры с предыдущих экспериментов."
      ]
    },
    {
      "cell_type": "markdown",
      "metadata": {
        "id": "l5e-8g7O1pGf"
      },
      "source": [
        "### 6 on train, 6 on test"
      ]
    },
    {
      "cell_type": "code",
      "execution_count": 30,
      "metadata": {
        "id": "227zaXZD1sPH"
      },
      "outputs": [],
      "source": [
        "def experiment(answers, guesses, n_episodes, logging_level=None):\n",
        "  env = Environment(\n",
        "    rewards=step_rewards,\n",
        "    wordle=Wordle(vocabulary=guesses, answers=answers),\n",
        "    state_instance=StateYesNo()\n",
        "  )\n",
        "\n",
        "  agent = Agent(\n",
        "    state_size=env.state.size,\n",
        "    action_size=len(guesses),\n",
        "    action_constructor=partial(ActionVocabulary, vocabulary=guesses)\n",
        "  )\n",
        "\n",
        "  train(env=env, agent=agent, n_episodes=n_episodes, logging_level=logging_level)\n",
        "  test(env=env, agent=agent)"
      ]
    },
    {
      "cell_type": "code",
      "execution_count": 31,
      "metadata": {},
      "outputs": [
        {
          "name": "stdout",
          "output_type": "stream",
          "text": [
            "\n",
            "Episode  500\tScore: -20.55\tSuccess Rate: 28.8%\tRMSE: 3.120\tTime: 42.7 s\n",
            "\n",
            "Episode 1000\tScore: -6.95\tSuccess Rate: 65.8%\tRMSE: 4.944\tTime: 77.1 s\n",
            "\n",
            "Episode 1500\tScore: -3.61\tSuccess Rate: 73.8%\tRMSE: 5.414\tTime: 112.8 s\n",
            "\n",
            "Episode 2000\tScore: -0.14\tSuccess Rate: 83.6%\tRMSE: 5.784\tTime: 139.9 s\n",
            "\n",
            "Episode 2500\tScore: 1.78\tSuccess Rate: 88.6%\tRMSE: 5.940\tTime: 166.8 s\n",
            "\n",
            "Episode 3000\tScore: 2.66\tSuccess Rate: 91.2%\tRMSE: 6.007\tTime: 190.3 s\n",
            "\n",
            "Episode 3500\tScore: 3.33\tSuccess Rate: 93.2%\tRMSE: 4.608\tTime: 215.3 s\n",
            "\n",
            "Episode 4000\tScore: 5.88\tSuccess Rate: 99.6%\tRMSE: 4.237\tTime: 240.8 s\n",
            "\n",
            "Episode 4500\tScore: 6.06\tSuccess Rate: 100.0%\tRMSE: 5.285\tTime: 262.4 s\n",
            "\n",
            "Episode 5000\tScore: 5.89\tSuccess Rate: 99.6%\tRMSE: 3.987\tTime: 291.7 s\n",
            "\n",
            "Success: 10 / 10 (100.0000%)\tSteps: 2.1000\tTime: 0.1 s\tSaved to: test18-03-2023-23:34:24.txt\n",
            "\n"
          ]
        }
      ],
      "source": [
        "experiment(answers_10_100, guesses_10_100, 5000)"
      ]
    },
    {
      "cell_type": "code",
      "execution_count": 32,
      "metadata": {},
      "outputs": [
        {
          "name": "stdout",
          "output_type": "stream",
          "text": [
            "\n",
            "Episode 2000\tScore: -27.22\tSuccess Rate: 11.8%\tRMSE: 5.782\tTime: 221.3 s\n",
            "\n",
            "Episode 4000\tScore: -22.28\tSuccess Rate: 25.7%\tRMSE: 6.369\tTime: 428.8 s\n",
            "\n",
            "Episode 6000\tScore: -19.03\tSuccess Rate: 34.8%\tRMSE: 8.823\tTime: 638.6 s\n",
            "\n",
            "Episode 8000\tScore: -17.03\tSuccess Rate: 40.4%\tRMSE: 5.728\tTime: 847.6 s\n",
            "\n",
            "Episode 10000\tScore: -12.76\tSuccess Rate: 52.8%\tRMSE: 6.141\tTime: 1028.8 s\n",
            "\n",
            "Episode 12000\tScore: -9.30\tSuccess Rate: 62.5%\tRMSE: 6.190\tTime: 1209.7 s\n",
            "\n",
            "Episode 14000\tScore: -8.06\tSuccess Rate: 65.8%\tRMSE: 7.095\tTime: 1391.7 s\n",
            "\n",
            "Episode 16000\tScore: -6.87\tSuccess Rate: 69.0%\tRMSE: 5.983\tTime: 1560.1 s\n",
            "\n",
            "Episode 18000\tScore: -6.08\tSuccess Rate: 71.4%\tRMSE: 6.317\tTime: 1726.3 s\n",
            "\n",
            "Episode 20000\tScore: -5.44\tSuccess Rate: 74.0%\tRMSE: 5.949\tTime: 1908.5 s\n",
            "\n",
            "Success: 76 / 100 (76.0000%)\tSteps: 2.7763\tTime: 0.7 s\tSaved to: test19-03-2023-00:06:14.txt\n",
            "\n"
          ]
        }
      ],
      "source": [
        "experiment(answers_100_100, guesses_100_100, 20000)"
      ]
    },
    {
      "cell_type": "markdown",
      "metadata": {
        "id": "kaJJBBhU5wLL"
      },
      "source": [
        "### 10 on train, 6 on test"
      ]
    },
    {
      "cell_type": "code",
      "execution_count": 33,
      "metadata": {
        "id": "FxUTIUv052Sy"
      },
      "outputs": [],
      "source": [
        "def experiment(answers, guesses, n_episodes, logging_level=None):\n",
        "  env = Environment(\n",
        "    rewards=step_rewards,\n",
        "    wordle=Wordle(vocabulary=guesses, answers=answers, max_guesses=10),\n",
        "    state_instance=StateYesNo()\n",
        "  )\n",
        "\n",
        "  agent = Agent(\n",
        "    state_size=env.state.size,\n",
        "    action_size=len(guesses),\n",
        "    action_constructor=partial(ActionVocabulary, vocabulary=guesses),\n",
        "  )\n",
        "\n",
        "  train(env=env, agent=agent, n_episodes=n_episodes, logging_level=logging_level)\n",
        "  env.wordle.max_guesses = 6\n",
        "  test(env=env, agent=agent)"
      ]
    },
    {
      "cell_type": "code",
      "execution_count": 34,
      "metadata": {},
      "outputs": [
        {
          "name": "stdout",
          "output_type": "stream",
          "text": [
            "\n",
            "Episode  500\tScore: -14.71\tSuccess Rate: 66.2%\tRMSE: 4.282\tTime: 43.8 s\n",
            "\n",
            "Episode 1000\tScore: 6.48\tSuccess Rate: 100.0%\tRMSE: 4.394\tTime: 62.4 s\n",
            "\n",
            "Episode 1500\tScore: 6.56\tSuccess Rate: 100.0%\tRMSE: 3.570\tTime: 79.7 s\n",
            "\n",
            "Episode 2000\tScore: 6.67\tSuccess Rate: 100.0%\tRMSE: 3.498\tTime: 97.1 s\n",
            "\n",
            "Episode 2500\tScore: 6.40\tSuccess Rate: 99.6%\tRMSE: 3.301\tTime: 115.2 s\n",
            "\n",
            "Episode 3000\tScore: 6.29\tSuccess Rate: 99.4%\tRMSE: 2.979\tTime: 141.0 s\n",
            "\n",
            "Episode 3500\tScore: 6.08\tSuccess Rate: 99.4%\tRMSE: 2.922\tTime: 162.3 s\n",
            "\n",
            "Episode 4000\tScore: 6.09\tSuccess Rate: 99.2%\tRMSE: 2.255\tTime: 180.9 s\n",
            "\n",
            "Episode 4500\tScore: 6.35\tSuccess Rate: 99.4%\tRMSE: 3.233\tTime: 197.7 s\n",
            "\n",
            "Episode 5000\tScore: 6.49\tSuccess Rate: 99.8%\tRMSE: 2.848\tTime: 214.9 s\n",
            "\n",
            "Success: 10 / 10 (100.0000%)\tSteps: 2.0000\tTime: 0.0 s\tSaved to: test19-03-2023-00:09:52.txt\n",
            "\n"
          ]
        }
      ],
      "source": [
        "experiment(answers_10_100, guesses_10_100, 5000)"
      ]
    },
    {
      "cell_type": "code",
      "execution_count": 35,
      "metadata": {},
      "outputs": [
        {
          "name": "stdout",
          "output_type": "stream",
          "text": [
            "\n",
            "Episode 2000\tScore: -41.13\tSuccess Rate: 18.9%\tRMSE: 6.341\tTime: 311.9 s\n",
            "\n",
            "Episode 4000\tScore: -36.80\tSuccess Rate: 27.4%\tRMSE: 5.775\tTime: 628.7 s\n",
            "\n",
            "Episode 6000\tScore: -30.66\tSuccess Rate: 39.1%\tRMSE: 6.762\tTime: 964.9 s\n",
            "\n",
            "Episode 8000\tScore: -24.20\tSuccess Rate: 51.4%\tRMSE: 5.983\tTime: 1238.5 s\n",
            "\n",
            "Episode 10000\tScore: -18.75\tSuccess Rate: 61.3%\tRMSE: 4.822\tTime: 1505.7 s\n",
            "\n",
            "Episode 12000\tScore: -15.00\tSuccess Rate: 68.2%\tRMSE: 4.803\tTime: 1760.4 s\n",
            "\n",
            "Episode 14000\tScore: -14.36\tSuccess Rate: 69.7%\tRMSE: 6.252\tTime: 2009.4 s\n",
            "\n",
            "Episode 16000\tScore: -10.59\tSuccess Rate: 76.5%\tRMSE: 4.842\tTime: 2236.1 s\n",
            "wha\n"
          ]
        },
        {
          "ename": "UnboundLocalError",
          "evalue": "local variable 'states' referenced before assignment",
          "output_type": "error",
          "traceback": [
            "\u001b[0;31m---------------------------------------------------------------------------\u001b[0m",
            "\u001b[0;31mUnboundLocalError\u001b[0m                         Traceback (most recent call last)",
            "\u001b[1;32m/home/ilya/repos/wordle-rl/playground.ipynb Cell 65\u001b[0m in \u001b[0;36m1\n\u001b[0;32m----> <a href='vscode-notebook-cell:/home/ilya/repos/wordle-rl/playground.ipynb#Y404sZmlsZQ%3D%3D?line=0'>1</a>\u001b[0m experiment(answers_100_100, guesses_100_100, \u001b[39m20000\u001b[39;49m)\n",
            "\u001b[1;32m/home/ilya/repos/wordle-rl/playground.ipynb Cell 65\u001b[0m in \u001b[0;36m1\n\u001b[1;32m      <a href='vscode-notebook-cell:/home/ilya/repos/wordle-rl/playground.ipynb#Y404sZmlsZQ%3D%3D?line=1'>2</a>\u001b[0m env \u001b[39m=\u001b[39m Environment(\n\u001b[1;32m      <a href='vscode-notebook-cell:/home/ilya/repos/wordle-rl/playground.ipynb#Y404sZmlsZQ%3D%3D?line=2'>3</a>\u001b[0m   rewards\u001b[39m=\u001b[39mstep_rewards,\n\u001b[1;32m      <a href='vscode-notebook-cell:/home/ilya/repos/wordle-rl/playground.ipynb#Y404sZmlsZQ%3D%3D?line=3'>4</a>\u001b[0m   wordle\u001b[39m=\u001b[39mWordle(vocabulary\u001b[39m=\u001b[39mguesses, answers\u001b[39m=\u001b[39manswers, max_guesses\u001b[39m=\u001b[39m\u001b[39m10\u001b[39m),\n\u001b[1;32m      <a href='vscode-notebook-cell:/home/ilya/repos/wordle-rl/playground.ipynb#Y404sZmlsZQ%3D%3D?line=4'>5</a>\u001b[0m   state_instance\u001b[39m=\u001b[39mStateYesNo()\n\u001b[1;32m      <a href='vscode-notebook-cell:/home/ilya/repos/wordle-rl/playground.ipynb#Y404sZmlsZQ%3D%3D?line=5'>6</a>\u001b[0m )\n\u001b[1;32m      <a href='vscode-notebook-cell:/home/ilya/repos/wordle-rl/playground.ipynb#Y404sZmlsZQ%3D%3D?line=7'>8</a>\u001b[0m agent \u001b[39m=\u001b[39m Agent(\n\u001b[1;32m      <a href='vscode-notebook-cell:/home/ilya/repos/wordle-rl/playground.ipynb#Y404sZmlsZQ%3D%3D?line=8'>9</a>\u001b[0m   state_size\u001b[39m=\u001b[39menv\u001b[39m.\u001b[39mstate\u001b[39m.\u001b[39msize,\n\u001b[1;32m     <a href='vscode-notebook-cell:/home/ilya/repos/wordle-rl/playground.ipynb#Y404sZmlsZQ%3D%3D?line=9'>10</a>\u001b[0m   action_size\u001b[39m=\u001b[39m\u001b[39mlen\u001b[39m(guesses),\n\u001b[1;32m     <a href='vscode-notebook-cell:/home/ilya/repos/wordle-rl/playground.ipynb#Y404sZmlsZQ%3D%3D?line=10'>11</a>\u001b[0m   action_constructor\u001b[39m=\u001b[39mpartial(ActionVocabulary, vocabulary\u001b[39m=\u001b[39mguesses),\n\u001b[1;32m     <a href='vscode-notebook-cell:/home/ilya/repos/wordle-rl/playground.ipynb#Y404sZmlsZQ%3D%3D?line=11'>12</a>\u001b[0m )\n\u001b[0;32m---> <a href='vscode-notebook-cell:/home/ilya/repos/wordle-rl/playground.ipynb#Y404sZmlsZQ%3D%3D?line=13'>14</a>\u001b[0m train(env\u001b[39m=\u001b[39;49menv, agent\u001b[39m=\u001b[39;49magent, n_episodes\u001b[39m=\u001b[39;49mn_episodes, logging_level\u001b[39m=\u001b[39;49mlogging_level)\n\u001b[1;32m     <a href='vscode-notebook-cell:/home/ilya/repos/wordle-rl/playground.ipynb#Y404sZmlsZQ%3D%3D?line=14'>15</a>\u001b[0m env\u001b[39m.\u001b[39mwordle\u001b[39m.\u001b[39mmax_guesses \u001b[39m=\u001b[39m \u001b[39m6\u001b[39m\n\u001b[1;32m     <a href='vscode-notebook-cell:/home/ilya/repos/wordle-rl/playground.ipynb#Y404sZmlsZQ%3D%3D?line=15'>16</a>\u001b[0m test(env\u001b[39m=\u001b[39menv, agent\u001b[39m=\u001b[39magent)\n",
            "File \u001b[0;32m~/repos/wordle-rl/dqn/train.py:57\u001b[0m, in \u001b[0;36mtrain\u001b[0;34m(env, agent, logging_level, n_episodes, eps_start, eps_end, eps_decay, end_of_episode)\u001b[0m\n\u001b[1;32m     54\u001b[0m next_state, reward, done \u001b[39m=\u001b[39m env\u001b[39m.\u001b[39mstep(action)\n\u001b[1;32m     56\u001b[0m \u001b[39m# collect replay and learn from buffer\u001b[39;00m\n\u001b[0;32m---> 57\u001b[0m agent\u001b[39m.\u001b[39;49mstep(state, action, reward, next_state, done)\n\u001b[1;32m     59\u001b[0m \u001b[39m# collect reward and\u001b[39;00m\n\u001b[1;32m     60\u001b[0m score \u001b[39m+\u001b[39m\u001b[39m=\u001b[39m reward\n",
            "File \u001b[0;32m~/repos/wordle-rl/dqn/agent.py:89\u001b[0m, in \u001b[0;36mAgent.step\u001b[0;34m(self, state, action, reward, next_state, done)\u001b[0m\n\u001b[1;32m     85\u001b[0m \u001b[39mif\u001b[39;00m \u001b[39mself\u001b[39m\u001b[39m.\u001b[39mt_step_nn \u001b[39m==\u001b[39m \u001b[39m0\u001b[39m:\n\u001b[1;32m     86\u001b[0m     \u001b[39mif\u001b[39;00m \u001b[39mself\u001b[39m\u001b[39m.\u001b[39mmemory\u001b[39m.\u001b[39mn_collected \u001b[39m>\u001b[39m SAMPLE_SIZE:\n\u001b[1;32m     87\u001b[0m         \u001b[39m# if enough samples are available in memory\u001b[39;00m\n\u001b[1;32m     88\u001b[0m         \u001b[39m# get random subset and learn\u001b[39;00m\n\u001b[0;32m---> 89\u001b[0m         \u001b[39mself\u001b[39m\u001b[39m.\u001b[39mlearn(\u001b[39mself\u001b[39;49m\u001b[39m.\u001b[39;49mmemory\u001b[39m.\u001b[39;49msample(), GAMMA)\n\u001b[1;32m     91\u001b[0m \u001b[39mif\u001b[39;00m \u001b[39mself\u001b[39m\u001b[39m.\u001b[39mt_step_mem \u001b[39m==\u001b[39m \u001b[39m0\u001b[39m:\n\u001b[1;32m     92\u001b[0m     \u001b[39mself\u001b[39m\u001b[39m.\u001b[39mmemory\u001b[39m.\u001b[39mupdate_sample()\n",
            "File \u001b[0;32m~/repos/wordle-rl/dqn/replay_buffer.py:222\u001b[0m, in \u001b[0;36mReplayBuffer.sample\u001b[0;34m(self)\u001b[0m\n\u001b[1;32m    219\u001b[0m \u001b[39mexcept\u001b[39;00m:\n\u001b[1;32m    220\u001b[0m     \u001b[39mprint\u001b[39m(\u001b[39m'\u001b[39m\u001b[39mwha\u001b[39m\u001b[39m'\u001b[39m)\n\u001b[0;32m--> 222\u001b[0m \u001b[39mreturn\u001b[39;00m (states, actions, rewards, next_states, dones, weights, indices)\n",
            "\u001b[0;31mUnboundLocalError\u001b[0m: local variable 'states' referenced before assignment"
          ]
        }
      ],
      "source": [
        "experiment(answers_100_100, guesses_100_100, 20000)"
      ]
    },
    {
      "cell_type": "markdown",
      "metadata": {
        "id": "H5Xhi47i6LLE"
      },
      "source": [
        "### 15 on train, 6 on test"
      ]
    },
    {
      "cell_type": "code",
      "execution_count": null,
      "metadata": {
        "id": "Z-mG_jQG6LLG"
      },
      "outputs": [],
      "source": [
        "def experiment(answers, guesses, n_episodes, logging_level=None):\n",
        "  env = Environment(\n",
        "    rewards=step_rewards,\n",
        "    wordle=Wordle(vocabulary=guesses, answers=answers, max_guesses=15),\n",
        "    state_instance=StateYesNo()\n",
        "  )\n",
        "\n",
        "  agent = Agent(\n",
        "    state_size=env.state.size,\n",
        "    action_size=len(env.wordle.vocabulary),\n",
        "    action_constructor=partial(ActionVocabulary, vocabulary=guesses),\n",
        "  )\n",
        "\n",
        "  train(env=env, agent=agent, n_episodes=n_episodes, logging_level=logging_level)\n",
        "  env.wordle.max_guesses = 6\n",
        "  test(env=env, agent=agent)"
      ]
    },
    {
      "cell_type": "code",
      "execution_count": null,
      "metadata": {},
      "outputs": [],
      "source": [
        "experiment(answers_10_100, guesses_10_100, 5000)"
      ]
    },
    {
      "cell_type": "code",
      "execution_count": null,
      "metadata": {},
      "outputs": [],
      "source": [
        "experiment(answers_100_100, guesses_100_100, 20000)"
      ]
    },
    {
      "cell_type": "markdown",
      "metadata": {
        "id": "ek-LFrCx6Rbo"
      },
      "source": [
        "### stages on steps number"
      ]
    },
    {
      "attachments": {},
      "cell_type": "markdown",
      "metadata": {
        "id": "ki8awWwy7G0O"
      },
      "source": [
        "Появилась идея: сначала обучить на 6, затем на 10, и наконец на 15."
      ]
    },
    {
      "cell_type": "code",
      "execution_count": 37,
      "metadata": {
        "id": "P1AcbCLm6Rbq"
      },
      "outputs": [],
      "source": [
        "def steps_stage_train(answers, guesses, episodes_counts:dict):\n",
        "  env = Environment(\n",
        "    rewards=step_rewards,\n",
        "    wordle=Wordle(vocabulary=guesses, answers=answers),\n",
        "    state_instance=StateYesNo()\n",
        "  )\n",
        "\n",
        "  agent = Agent(\n",
        "    state_size=env.state.size,\n",
        "    action_size=len(guesses),\n",
        "    action_constructor=partial(ActionVocabulary, vocabulary=guesses),\n",
        "  )\n",
        "\n",
        "  for steps, n_episodes in episodes_counts.items():\n",
        "    env.wordle.max_guesses = steps\n",
        "    train(env=env, agent=agent, n_episodes=n_episodes)\n",
        "    env.wordle.max_guesses = 6\n",
        "    test(env=env, agent=agent)"
      ]
    },
    {
      "cell_type": "code",
      "execution_count": null,
      "metadata": {},
      "outputs": [],
      "source": [
        "episodes_counts = {6: 15000, 10: 4000, 15: 1000}\n",
        "steps_stage_train(answers_100_100, guesses_100_100, episodes_counts)"
      ]
    },
    {
      "cell_type": "markdown",
      "metadata": {
        "id": "SAdt10bAo9J5"
      },
      "source": [
        "## Stages on answers list size"
      ]
    },
    {
      "cell_type": "markdown",
      "metadata": {
        "id": "QQpmxCVI9J01"
      },
      "source": [
        "Фиксированный guesses размера 100. Меняющийся answers по порядку: 10, 40, 70, 100."
      ]
    },
    {
      "cell_type": "code",
      "execution_count": null,
      "metadata": {
        "id": "UOPFU6fJ86GA"
      },
      "outputs": [],
      "source": [
        "def answer_stage_train(\n",
        "    guesses, start_size, end_size, n_stages, episodes_counts\n",
        ")\n",
        "  agent = Agent(\n",
        "    state_size=StateYesNo().size + 100,\n",
        "    action_size=len(guesses),\n",
        "    action_constructor=partial(ActionVocabulary, vocabulary=guesses),\n",
        "  )\n",
        "\n",
        "  for i in range(n_stages):\n",
        "    t = i / (n_stages - 1)\n",
        "    size = start_size * (1 - t) + end_size * t\n",
        "    answers = guesses[:size]\n",
        "\n",
        "    env = Environment(\n",
        "      rewards=step_rewards,\n",
        "      wordle=Wordle(\n",
        "          vocabulary=guesses,\n",
        "          answers=answers\n",
        "      ),\n",
        "      state_instance=StateVocabulary(\n",
        "          answers_mask=np.fromiter((ans in guesses for ans in answers), dtype=bool)\n",
        "      )\n",
        "    )\n",
        "\n",
        "    train(env=env, agent=agent, n_episodes=episodes_counts[i])\n",
        "    test(env=env, agent=agent)\n",
        "    print('\\n============================')"
      ]
    },
    {
      "cell_type": "code",
      "execution_count": null,
      "metadata": {
        "id": "549A1qKo8cjT"
      },
      "outputs": [],
      "source": []
    }
  ],
  "metadata": {
    "colab": {
      "collapsed_sections": [
        "mDdaLrRqtE_E",
        "tkNWsl1No9Jz",
        "qrovaJV80a1Y",
        "WsGR_oi5o9J0",
        "fGu7igCV0ouu",
        "EAKNk4DK0u7R",
        "l5e-8g7O1pGf",
        "kaJJBBhU5wLL"
      ],
      "provenance": [],
      "toc_visible": true
    },
    "kernelspec": {
      "display_name": "Python 3",
      "language": "python",
      "name": "python3"
    },
    "language_info": {
      "codemirror_mode": {
        "name": "ipython",
        "version": 3
      },
      "file_extension": ".py",
      "mimetype": "text/x-python",
      "name": "python",
      "nbconvert_exporter": "python",
      "pygments_lexer": "ipython3",
      "version": "3.10.6"
    },
    "orig_nbformat": 4
  },
  "nbformat": 4,
  "nbformat_minor": 0
}
