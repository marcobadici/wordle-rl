{
  "nbformat": 4,
  "nbformat_minor": 0,
  "metadata": {
    "colab": {
      "provenance": []
    },
    "kernelspec": {
      "name": "python3",
      "display_name": "Python 3"
    },
    "language_info": {
      "name": "python"
    },
    "accelerator": "GPU",
    "gpuClass": "standard"
  },
  "cells": [
    {
      "cell_type": "markdown",
      "source": [
        "# Testing Naive Batch Learning"
      ],
      "metadata": {
        "id": "wdxRc13mgDUe"
      }
    },
    {
      "cell_type": "markdown",
      "source": [
        "Версия вторая: параллельные игры с уменьшающимся списком\n",
        "- вместо одной среды теперь будет список сред (игр) длины `play_batch_size`, с каждой из них собрать список состояний и подать на вход `agent.act` как батч; обновить список после завершения всех игр\n",
        "- плюс: баланс опыта и обучения\n",
        "- плюс: быстро (из-за `agent.act`)\n",
        "- минус: `agent.act` получает батчи разного размера если завершилась только часть игр\n",
        "- плюс: не нужно переписывать `Trainer.train`"
      ],
      "metadata": {
        "id": "hHriyaajJpK8"
      }
    },
    {
      "cell_type": "code",
      "execution_count": 1,
      "metadata": {
        "colab": {
          "base_uri": "https://localhost:8080/"
        },
        "id": "Ge8MAqbEe_Ov",
        "outputId": "53620ac0-2aea-4235-a0d8-1cec880d0761"
      },
      "outputs": [
        {
          "output_type": "stream",
          "name": "stdout",
          "text": [
            "Mounted at /content/drive\n"
          ]
        }
      ],
      "source": [
        "from google.colab import drive\n",
        "drive.mount('/content/drive')"
      ]
    },
    {
      "cell_type": "code",
      "source": [
        "! cp -a -n /content/drive/MyDrive/wordle-rl/. /content/"
      ],
      "metadata": {
        "id": "kUSMFiLwgHwD"
      },
      "execution_count": 2,
      "outputs": []
    },
    {
      "cell_type": "code",
      "source": [
        "! mkdir /content/drive/MyDrive/wordle-rl/tests"
      ],
      "metadata": {
        "id": "BqAjUDW-9C4I"
      },
      "execution_count": 3,
      "outputs": []
    },
    {
      "cell_type": "code",
      "source": [
        "! pip install cpprb"
      ],
      "metadata": {
        "colab": {
          "base_uri": "https://localhost:8080/"
        },
        "id": "GSBwZTapgws-",
        "outputId": "d6fda62e-3818-476f-c8c0-876921fac306"
      },
      "execution_count": 4,
      "outputs": [
        {
          "output_type": "stream",
          "name": "stdout",
          "text": [
            "Looking in indexes: https://pypi.org/simple, https://us-python.pkg.dev/colab-wheels/public/simple/\n",
            "Collecting cpprb\n",
            "  Downloading cpprb-10.7.1-cp39-cp39-manylinux_2_17_x86_64.manylinux2014_x86_64.whl (2.5 MB)\n",
            "\u001b[2K     \u001b[90m━━━━━━━━━━━━━━━━━━━━━━━━━━━━━━━━━━━━━━━━\u001b[0m \u001b[32m2.5/2.5 MB\u001b[0m \u001b[31m34.8 MB/s\u001b[0m eta \u001b[36m0:00:00\u001b[0m\n",
            "\u001b[?25hRequirement already satisfied: numpy in /usr/local/lib/python3.9/dist-packages (from cpprb) (1.22.4)\n",
            "Installing collected packages: cpprb\n",
            "Successfully installed cpprb-10.7.1\n"
          ]
        }
      ]
    },
    {
      "cell_type": "code",
      "source": [
        "%load_ext autoreload\n",
        "%autoreload 2\n",
        "\n",
        "from functools import partial\n",
        "from collections import defaultdict\n",
        "import pickle\n",
        "\n",
        "from wordle.wordlenp import Wordle\n",
        "from environment.environment import Environment, StateYesNo, StateVocabulary, ActionVocabulary\n",
        "from dqn.cpprb_agent import Agent\n",
        "from dqn.train import Trainer\n",
        "from replay_buffer.cpprb import PrioritizedReplayBuffer, ReplayBuffer\n",
        "\n",
        "import matplotlib.pyplot as plt\n",
        "import seaborn as sns\n",
        "sns.set(style='whitegrid')\n",
        "import torch\n",
        "import numpy as np\n",
        "np.random.seed(0)"
      ],
      "metadata": {
        "id": "7X31sq01gcMU"
      },
      "execution_count": 5,
      "outputs": []
    },
    {
      "cell_type": "markdown",
      "metadata": {
        "id": "PSty1zZfo9Jl"
      },
      "source": [
        "## Датасеты"
      ]
    },
    {
      "cell_type": "code",
      "execution_count": 6,
      "metadata": {
        "id": "k1YLmWP3o9Jm"
      },
      "outputs": [],
      "source": [
        "word_list = Wordle._load_vocabulary('wordle/guesses.txt', astype=np.array)\n",
        "\n",
        "def make_data(n_answers, n_guesses):\n",
        "    guesses = np.random.choice(word_list, size=n_guesses, replace=False)\n",
        "    answers = np.random.choice(guesses, size=n_answers, replace=False)\n",
        "    return answers, guesses"
      ]
    },
    {
      "cell_type": "markdown",
      "metadata": {
        "id": "XkpsKHBDo9Jn"
      },
      "source": [
        "### 10 answers, 100 guesses"
      ]
    },
    {
      "cell_type": "code",
      "execution_count": 7,
      "metadata": {
        "id": "zC0apMvDo9Jo",
        "outputId": "7bc575c1-babe-4b35-9f46-c6b372e0fdf8",
        "colab": {
          "base_uri": "https://localhost:8080/"
        }
      },
      "outputs": [
        {
          "output_type": "stream",
          "name": "stdout",
          "text": [
            "['abmho' 'cites' 'aware' 'blays' 'acker' 'rawin' 'anile' 'eorls' 'feers'\n",
            " 'sadza']\n"
          ]
        }
      ],
      "source": [
        "answers_10_100, guesses_10_100 = make_data(10, 100)\n",
        "print(answers_10_100)"
      ]
    },
    {
      "cell_type": "markdown",
      "metadata": {
        "id": "88h7mFnko9Jp"
      },
      "source": [
        "### 100 answers, 100 guesses"
      ]
    },
    {
      "cell_type": "code",
      "execution_count": 8,
      "metadata": {
        "id": "WY6bCEq7o9Jq",
        "outputId": "bef024f2-4bdb-4097-a48d-16ccc2f8f3f8",
        "colab": {
          "base_uri": "https://localhost:8080/"
        }
      },
      "outputs": [
        {
          "output_type": "stream",
          "name": "stdout",
          "text": [
            "['lilac' 'orles' 'twirl' 'unled' 'sings' 'grind' 'sheaf' 'benny' 'slews'\n",
            " 'karst' 'rimus' 'lossy' 'joker' 'leash' 'scopa' 'viols' 'giron' 'raiks'\n",
            " 'lummy' 'renig' 'tinds' 'infos' 'logon' 'drill' 'gudes' 'ammon' 'bhoot'\n",
            " 'hurry' 'noils' 'coven' 'beryl' 'margs' 'sorbo' 'momes' 'scald' 'potch'\n",
            " 'flows' 'torus' 'prill' 'scuts' 'brith' 'tamin' 'sewar' 'joram' 'aldol'\n",
            " 'hazel' 'texes' 'sibbs' 'truth' 'spoil' 'hames' 'actin' 'maces' 'rayas'\n",
            " 'thuya' 'sugan' 'felly' 'newsy' 'bolos' 'mimeo' 'chems' 'dicty' 'liefs'\n",
            " 'scuff' 'burps' 'abyes' 'zones' 'cuspy' 'kerve' 'haith' 'amino' 'zygal'\n",
            " 'kokum' 'zambo' 'icier' 'piers' 'sambo' 'laden' 'barge' 'solei' 'mauts'\n",
            " 'groat' 'pearl' 'curse' 'jujus' 'troop' 'bilge' 'sibyl' 'gassy' 'elain'\n",
            " 'daube' 'feyly' 'duals' 'hoper' 'hains' 'beige' 'poove' 'miffy' 'lesbo'\n",
            " 'dawds']\n"
          ]
        }
      ],
      "source": [
        "answers_100_100, guesses_100_100 = make_data(100, 100)\n",
        "print(answers_100_100)"
      ]
    },
    {
      "cell_type": "markdown",
      "metadata": {
        "id": "IBCQ-xvto9Jq"
      },
      "source": [
        "### 50 answers, 200 guesses"
      ]
    },
    {
      "cell_type": "code",
      "execution_count": 9,
      "metadata": {
        "id": "XaNIzQh5o9Jr",
        "outputId": "e979d23d-19ef-4559-d370-451493893faa",
        "colab": {
          "base_uri": "https://localhost:8080/"
        }
      },
      "outputs": [
        {
          "output_type": "stream",
          "name": "stdout",
          "text": [
            "['toran' 'burka' 'umpie' 'brock' 'civic' 'beige' 'hoiks' 'biffo' 'nagas'\n",
            " 'sheol' 'malls' 'matzo' 'peeve' 'deshi' 'mooli' 'scaud' 'ameba' 'wadds'\n",
            " 'bayts' 'glees' 'kaput' 'bitos' 'comae' 'dosed' 'rabis' 'neats' 'tutti'\n",
            " 'stays' 'smoky' 'chase' 'resaw' 'simas' 'sowne' 'rorid' 'rebec' 'deawy'\n",
            " 'hinny' 'sores' 'cerge' 'yogas' 'fouet' 'wheel' 'sowfs' 'talus' 'yabas'\n",
            " 'topee' 'sabin' 'unbox' 'dyers' 'qophs']\n"
          ]
        }
      ],
      "source": [
        "answers_50_200, guesses_50_200 = make_data(50, 200)\n",
        "print(answers_50_200)"
      ]
    },
    {
      "cell_type": "markdown",
      "metadata": {
        "id": "ZiJDpKE2o9Jr"
      },
      "source": [
        "### 300 answers, 300 guesses"
      ]
    },
    {
      "cell_type": "code",
      "execution_count": 10,
      "metadata": {
        "id": "A7su7MaMo9Jr",
        "outputId": "8b985121-9912-410b-f79b-57e2dc88ad52",
        "colab": {
          "base_uri": "https://localhost:8080/"
        }
      },
      "outputs": [
        {
          "output_type": "stream",
          "name": "stdout",
          "text": [
            "['hoied' 'aarti' 'dyers' 'ingot' 'hasty' 'tices' 'tache' 'deoxy' 'sutta'\n",
            " 'score' 'fiefs' 'sling' 'ready' 'wests' 'dobes' 'tells' 'bitts' 'roper'\n",
            " 'veena' 'hewer' 'chats' 'jarta' 'ceric' 'olent' 'feare' 'bodge' 'fleer'\n",
            " 'prats' 'spiny' 'tryps' 'welts' 'march' 'jelly' 'furor' 'okapi' 'penni'\n",
            " 'curve' 'altar' 'aboon' 'salut' 'amido' 'razor' 'vouch' 'prill' 'ganev'\n",
            " 'dukka' 'noxal' 'briar' 'wills' 'trigo' 'dusts' 'meter' 'veale' 'hafiz'\n",
            " 'dosha' 'wilis' 'ohmic' 'silds' 'giust' 'blimy' 'zerda' 'mucus' 'abrin'\n",
            " 'nandu' 'larva' 'cruds' 'kaies' 'hussy' 'dolce' 'birch' 'madam' 'chase'\n",
            " 'onely' 'molys' 'scape' 'sauce' 'amate' 'mohur' 'vagal' 'royne' 'spics'\n",
            " 'azuki' 'acres' 'shops' 'sicks' 'sunup' 'cosey' 'louse' 'aweel' 'skosh'\n",
            " 'twoer' 'loves' 'wents' 'reest' 'winna' 'rosed' 'mbira' 'rangy' 'omega'\n",
            " 'moira' 'typey' 'romal' 'bachs' 'floss' 'scath' 'roast' 'moola' 'moles'\n",
            " 'witch' 'rabbi' 'chest' 'aulos' 'yokes' 'aspen' 'sepic' 'lirot' 'lemon'\n",
            " 'musts' 'drouk' 'kudzu' 'yacka' 'sonny' 'hived' 'letch' 'zuzim' 'diota'\n",
            " 'sared' 'diker' 'ripps' 'dinge' 'cides' 'grimy' 'flexo' 'wider' 'thaws'\n",
            " 'djins' 'twirp' 'gulps' 'sated' 'tommy' 'amice' 'anode' 'strut' 'empty'\n",
            " 'maqui' 'etnas' 'saids' 'schul' 'surds' 'spoil' 'stele' 'caulk' 'muted'\n",
            " 'whist' 'teuch' 'allow' 'calls' 'agism' 'nifes' 'phons' 'horks' 'sucky'\n",
            " 'booms' 'cling' 'sikas' 'repay' 'neive' 'drops' 'mavin' 'cobbs' 'trefa'\n",
            " 'benny' 'nutsy' 'manul' 'anomy' 'adhan' 'muons' 'chelp' 'fagin' 'piper'\n",
            " 'dynel' 'cotes' 'dangs' 'weber' 'hooey' 'texas' 'baize' 'plumy' 'lurve'\n",
            " 'joint' 'fusts' 'repot' 'cloze' 'ditsy' 'stirp' 'scars' 'ribby' 'sluts'\n",
            " 'thema' 'flume' 'noahs' 'linns' 'cymol' 'creme' 'shirk' 'shakt' 'segol'\n",
            " 'dreks' 'mamma' 'dyads' 'broil' 'roupy' 'leeze' 'gears' 'atoks' 'maths'\n",
            " 'bindi' 'coden' 'coram' 'cardy' 'lupus' 'etats' 'anoas' 'south' 'hotel'\n",
            " 'golly' 'razoo' 'pulse' 'smews' 'capex' 'bonds' 'rewet' 'kines' 'stool'\n",
            " 'marid' 'bloat' 'trass' 'rases' 'diddy' 'fetas' 'gadso' 'gauje' 'heids'\n",
            " 'pesky' 'ponga' 'yogic' 'purin' 'sower' 'doats' 'kybos' 'azoth' 'genty'\n",
            " 'unled' 'alway' 'camus' 'laith' 'roost' 'meows' 'aking' 'skeer' 'hiois'\n",
            " 'dowle' 'ragas' 'rucks' 'thuds' 'welch' 'lurex' 'uplay' 'bedim' 'incle'\n",
            " 'manis' 'tenon' 'dated' 'kamas' 'bydes' 'treyf' 'roses' 'kotow' 'quasi'\n",
            " 'apode' 'walla' 'games' 'uncoy' 'angel' 'primy' 'parly' 'izzat' 'dukas'\n",
            " 'lands' 'saunt' 'coppy' 'trest' 'ticca' 'waite' 'verge' 'jenny' 'pshaw'\n",
            " 'linga' 'afore' 'yowza']\n"
          ]
        }
      ],
      "source": [
        "answers_300_300, guesses_300_300 = make_data(300, 300)\n",
        "print(answers_300_300)"
      ]
    },
    {
      "cell_type": "markdown",
      "metadata": {
        "id": "_y8uiOLro9Js"
      },
      "source": [
        "### 100 answers, 2000 guesses"
      ]
    },
    {
      "cell_type": "code",
      "execution_count": 11,
      "metadata": {
        "id": "95mdLNsio9Js",
        "outputId": "05c9210e-8582-4708-804b-3dee47ed8190",
        "colab": {
          "base_uri": "https://localhost:8080/"
        }
      },
      "outputs": [
        {
          "output_type": "stream",
          "name": "stdout",
          "text": [
            "['fumed' 'rival' 'zizit' 'wests' 'scrog' 'gryce' 'seils' 'sugar' 'glims'\n",
            " 'pharm' 'pyets' 'kilts' 'bings' 'emyde' 'duads' 'shahs' 'spaza' 'spore'\n",
            " 'redub' 'sidas' 'choco' 'woofs' 'sukuk' 'spumy' 'mirex' 'sluse' 'tween'\n",
            " 'nodus' 'wands' 'unled' 'rates' 'toxin' 'lotes' 'wacko' 'ariot' 'baisa'\n",
            " 'sways' 'roads' 'poked' 'popsy' 'gonif' 'vutty' 'bicep' 'parky' 'braid'\n",
            " 'ports' 'spyal' 'match' 'spook' 'scowp' 'sdein' 'lovie' 'torii' 'souks'\n",
            " 'vibey' 'genny' 'clues' 'decaf' 'diced' 'delay' 'mirly' 'flogs' 'lotos'\n",
            " 'whine' 'seems' 'jerry' 'scram' 'gosse' 'roped' 'pipis' 'spank' 'seder'\n",
            " 'doorn' 'evict' 'buteo' 'ponks' 'miffy' 'potin' 'rathe' 'papaw' 'local'\n",
            " 'tolus' 'apode' 'jouks' 'decad' 'temes' 'wafts' 'liter' 'kagos' 'piste'\n",
            " 'ogmic' 'fyles' 'brace' 'adage' 'hepar' 'bales' 'molal' 'eject' 'seles'\n",
            " 'commy']\n"
          ]
        }
      ],
      "source": [
        "answers_100_2000, guesses_100_2000 = make_data(100, 2000)\n",
        "print(answers_100_2000)"
      ]
    },
    {
      "cell_type": "markdown",
      "source": [
        "## Plotting Utility"
      ],
      "metadata": {
        "id": "mTgeplU9nObE"
      }
    },
    {
      "cell_type": "code",
      "source": [
        "def plot_results(tasks_results, figname):\n",
        "    n_tasks = len(tasks_results)\n",
        "    _, ax = plt.subplots(1, n_tasks, figsize=(4*n_tasks, 5))\n",
        "    \n",
        "    color = ['b','g','r','c','m','y','k','w']\n",
        "\n",
        "    # over tasks\n",
        "    for i, (task_name, results) in enumerate(tasks_results.items()):\n",
        "        # over methods\n",
        "        for c, (method_name, res) in enumerate(results.items()):\n",
        "            train_timers, train_win_rates, test_timers, test_win_rates = res\n",
        "            ax[i].plot(train_timers, train_win_rates, label=method_name+' (train)', c=color[c], alpha=0.2)\n",
        "            ax[i].plot(test_timers, test_win_rates, label=method_name+' (test)', c=color[c])\n",
        "        ax[i].set_xlabel('time, s')\n",
        "        ax[i].set_ylabel('win rate, s')\n",
        "        ax[i].legend()\n",
        "        ax[i].set_title(task_name)\n",
        "    plt.savefig(figname + '.svg', bbox_inches='tight')\n",
        "    plt.show()"
      ],
      "metadata": {
        "id": "rU2Kt6knnSEZ"
      },
      "execution_count": 12,
      "outputs": []
    },
    {
      "cell_type": "markdown",
      "source": [
        "## Sampling"
      ],
      "metadata": {
        "id": "E8c5rfLQtTMj"
      }
    },
    {
      "cell_type": "code",
      "source": [
        "soft_rewards = {'B':1, 'Y':2, 'G':3, 'win':20, 'lose':-10, 'step':-4}\n",
        "hard_rewards = {'B':0, 'Y':0, 'G':0, 'win':10, 'lose':-10, 'step':-2}\n",
        "step_rewards = {'B':0, 'Y':1, 'G':1, 'win':10, 'lose':-10, 'step':-5}\n",
        "char_rewards = {'B':0, 'Y':1, 'G':1, 'win':10, 'lose':-10, 'step':-2}"
      ],
      "metadata": {
        "id": "1tizC1fjtX1I"
      },
      "execution_count": 13,
      "outputs": []
    },
    {
      "cell_type": "code",
      "source": [
        "tasks_results = defaultdict(dict)"
      ],
      "metadata": {
        "id": "7TzDOf5QtZka"
      },
      "execution_count": 14,
      "outputs": []
    },
    {
      "cell_type": "markdown",
      "metadata": {
        "id": "qrovaJV80a1Y"
      },
      "source": [
        "### Uniform"
      ]
    },
    {
      "cell_type": "code",
      "execution_count": 15,
      "metadata": {
        "id": "Sn4PeUTayARQ"
      },
      "outputs": [],
      "source": [
        "def experiment(answers, guesses, play_batch_size, n_batches, n_batches_warm):\n",
        "    env_list = []\n",
        "    for _ in range(play_batch_size):\n",
        "        env = Environment(\n",
        "            rewards=step_rewards,\n",
        "            wordle=Wordle(vocabulary=guesses, answers=answers),\n",
        "            state_instance=StateYesNo()\n",
        "        )\n",
        "        env_list.append(env)\n",
        "\n",
        "    agent = Agent(\n",
        "        state_size=env.state.size,\n",
        "        action_size=len(guesses),\n",
        "        action_constructor=partial(ActionVocabulary, vocabulary=guesses),\n",
        "        # here is what we are experimenting with\n",
        "        replay_buffer=ReplayBuffer(state_size=env.state.size),\n",
        "    )\n",
        "\n",
        "    trainer = Trainer(\n",
        "        env_list, agent,\n",
        "        play_batch_size=play_batch_size,\n",
        "        n_batches=n_batches,\n",
        "        n_batches_warm=n_batches_warm\n",
        "    )\n",
        "    \n",
        "    res = trainer.train(eps_decay=0.9995, nickname=f'uniform-{len(answers)}-{len(guesses)}')\n",
        "    return res"
      ]
    },
    {
      "cell_type": "code",
      "execution_count": 16,
      "metadata": {
        "colab": {
          "base_uri": "https://localhost:8080/"
        },
        "id": "xr_4H8aiyARR",
        "outputId": "95b7f069-c15c-48ae-84f3-387ec20d533a"
      },
      "outputs": [
        {
          "output_type": "stream",
          "name": "stdout",
          "text": [
            "\n",
            "Batch   62\tTime: 5 s\tAgent Eps: 0.97\tTrain Win Rate: 6.45%\tTest Win Rate: 50.00%\tTest Mean Steps: 2.40\n",
            "\n",
            "Batch  124\tTime: 7 s\tAgent Eps: 0.94\tTrain Win Rate: 14.52%\tTest Win Rate: 40.00%\tTest Mean Steps: 1.75\n",
            "\n",
            "Batch  186\tTime: 9 s\tAgent Eps: 0.91\tTrain Win Rate: 25.81%\tTest Win Rate: 60.00%\tTest Mean Steps: 2.33\n",
            "\n",
            "Batch  248\tTime: 11 s\tAgent Eps: 0.88\tTrain Win Rate: 46.77%\tTest Win Rate: 90.00%\tTest Mean Steps: 2.67\n",
            "\n",
            "Batch  310\tTime: 12 s\tAgent Eps: 0.86\tTrain Win Rate: 45.16%\tTest Win Rate: 100.00%\tTest Mean Steps: 2.00\n",
            "\n",
            "Batch  372\tTime: 14 s\tAgent Eps: 0.83\tTrain Win Rate: 51.61%\tTest Win Rate: 90.00%\tTest Mean Steps: 2.22\n",
            "\n",
            "Batch  434\tTime: 15 s\tAgent Eps: 0.80\tTrain Win Rate: 82.26%\tTest Win Rate: 100.00%\tTest Mean Steps: 2.00\n",
            "\n",
            "Batch  496\tTime: 16 s\tAgent Eps: 0.78\tTrain Win Rate: 66.13%\tTest Win Rate: 100.00%\tTest Mean Steps: 2.10\n",
            "\n",
            "Saving checkpoint... Saved to uniform-10-100-1.pth\n"
          ]
        }
      ],
      "source": [
        "res = experiment(\n",
        "    answers_10_100, guesses_10_100,\n",
        "    play_batch_size=8,\n",
        "    n_batches=500, n_batches_warm=15,\n",
        ")\n",
        "\n",
        "tasks_results['10/100']['uniform'] = res"
      ]
    },
    {
      "cell_type": "code",
      "execution_count": 17,
      "metadata": {
        "id": "CIzlYdgByARR",
        "outputId": "397a6214-3e2a-43ef-cbd5-b1e2683b320f",
        "colab": {
          "base_uri": "https://localhost:8080/"
        }
      },
      "outputs": [
        {
          "output_type": "stream",
          "name": "stdout",
          "text": [
            "\n",
            "Batch 1250\tTime: 35 s\tAgent Eps: 0.54\tTrain Win Rate: 30.64%\tTest Win Rate: 25.00%\tTest Mean Steps: 2.88\n",
            "\n",
            "Batch 2500\tTime: 66 s\tAgent Eps: 0.29\tTrain Win Rate: 59.04%\tTest Win Rate: 57.00%\tTest Mean Steps: 2.70\n",
            "\n",
            "Batch 3750\tTime: 93 s\tAgent Eps: 0.15\tTrain Win Rate: 79.28%\tTest Win Rate: 76.00%\tTest Mean Steps: 2.75\n",
            "\n",
            "Batch 5000\tTime: 114 s\tAgent Eps: 0.08\tTrain Win Rate: 94.08%\tTest Win Rate: 95.00%\tTest Mean Steps: 2.57\n",
            "\n",
            "Batch 6250\tTime: 133 s\tAgent Eps: 0.05\tTrain Win Rate: 98.08%\tTest Win Rate: 98.00%\tTest Mean Steps: 2.56\n",
            "\n",
            "Batch 7500\tTime: 151 s\tAgent Eps: 0.05\tTrain Win Rate: 98.80%\tTest Win Rate: 99.00%\tTest Mean Steps: 2.53\n",
            "\n",
            "Batch 8750\tTime: 168 s\tAgent Eps: 0.05\tTrain Win Rate: 98.40%\tTest Win Rate: 99.00%\tTest Mean Steps: 2.51\n",
            "\n",
            "Batch 10000\tTime: 186 s\tAgent Eps: 0.05\tTrain Win Rate: 98.80%\tTest Win Rate: 99.00%\tTest Mean Steps: 2.54\n",
            "\n",
            "Saving checkpoint... Saved to uniform-100-100-1.pth\n"
          ]
        }
      ],
      "source": [
        "res = experiment(\n",
        "    answers_100_100, guesses_100_100,\n",
        "    play_batch_size=8,\n",
        "    n_batches=10000, n_batches_warm=5,\n",
        ")\n",
        "\n",
        "tasks_results['100/100']['uniform'] = res"
      ]
    },
    {
      "cell_type": "code",
      "source": [
        "# with open('sampling.pickle', 'wb') as handle:\n",
        "#     pickle.dump(tasks_results, handle, protocol=pickle.HIGHEST_PROTOCOL)\n",
        "\n",
        "! cp -n *.txt /content/drive/MyDrive/wordle-rl/tests\n",
        "! cp -n *.pth /content/drive/MyDrive/wordle-rl/tests"
      ],
      "metadata": {
        "id": "fcjjDA_hwCLe"
      },
      "execution_count": 18,
      "outputs": []
    },
    {
      "cell_type": "code",
      "source": [
        "res = experiment(\n",
        "    answers_300_300, guesses_300_300,\n",
        "    play_batch_size=8,\n",
        "    n_batches=20000, n_batches_warm=5,\n",
        ")\n",
        "tasks_results['300/300']['uniform'] = res"
      ],
      "metadata": {
        "id": "O-r36cQBA_mf",
        "colab": {
          "base_uri": "https://localhost:8080/"
        },
        "outputId": "7807e331-fb99-424c-b0e4-fdd60dc41e8e"
      },
      "execution_count": 19,
      "outputs": [
        {
          "output_type": "stream",
          "name": "stdout",
          "text": [
            "\n",
            "Batch 2500\tTime: 72 s\tAgent Eps: 0.29\tTrain Win Rate: 1.80%\tTest Win Rate: 0.67%\tTest Mean Steps: 2.00\n",
            "\n",
            "Batch 5000\tTime: 146 s\tAgent Eps: 0.08\tTrain Win Rate: 5.92%\tTest Win Rate: 6.67%\tTest Mean Steps: 2.95\n",
            "\n",
            "Batch 7500\tTime: 216 s\tAgent Eps: 0.05\tTrain Win Rate: 10.88%\tTest Win Rate: 13.33%\tTest Mean Steps: 3.08\n",
            "\n",
            "Batch 10000\tTime: 285 s\tAgent Eps: 0.05\tTrain Win Rate: 22.52%\tTest Win Rate: 21.33%\tTest Mean Steps: 3.31\n",
            "\n",
            "Batch 12500\tTime: 351 s\tAgent Eps: 0.05\tTrain Win Rate: 33.12%\tTest Win Rate: 30.67%\tTest Mean Steps: 3.53\n",
            "\n",
            "Batch 15000\tTime: 414 s\tAgent Eps: 0.05\tTrain Win Rate: 46.96%\tTest Win Rate: 44.33%\tTest Mean Steps: 3.59\n",
            "\n",
            "Batch 17500\tTime: 471 s\tAgent Eps: 0.05\tTrain Win Rate: 60.28%\tTest Win Rate: 57.33%\tTest Mean Steps: 3.39\n",
            "\n",
            "Batch 20000\tTime: 525 s\tAgent Eps: 0.05\tTrain Win Rate: 70.24%\tTest Win Rate: 71.33%\tTest Mean Steps: 3.08\n",
            "\n",
            "Saving checkpoint... Saved to uniform-300-300-1.pth\n"
          ]
        }
      ]
    },
    {
      "cell_type": "code",
      "source": [
        "# with open('sampling.pickle', 'wb') as handle:\n",
        "#     pickle.dump(tasks_results, handle, protocol=pickle.HIGHEST_PROTOCOL)\n",
        "\n",
        "! cp -n *.txt /content/drive/MyDrive/wordle-rl/tests\n",
        "! cp -n *.pth /content/drive/MyDrive/wordle-rl/tests\n",
        "! cp -n *.pickle /content/drive/MyDrive/wordle-rl/tests"
      ],
      "metadata": {
        "id": "hUAQEQq_EuUi",
        "colab": {
          "base_uri": "https://localhost:8080/"
        },
        "outputId": "51e062c3-bfa7-42ad-f1e8-dc5268350fdc"
      },
      "execution_count": 20,
      "outputs": [
        {
          "output_type": "stream",
          "name": "stdout",
          "text": [
            "cp: cannot stat '*.pickle': No such file or directory\n"
          ]
        }
      ]
    },
    {
      "cell_type": "code",
      "source": [
        "res = experiment(\n",
        "    answers_100_2000, guesses_100_2000,\n",
        "    play_batch_size=8,\n",
        "    n_batches=20000, n_batches_warm=15,\n",
        ")\n",
        "tasks_results['100/2000']['uniform'] = res"
      ],
      "metadata": {
        "colab": {
          "base_uri": "https://localhost:8080/"
        },
        "id": "TrNS4V1awTQz",
        "outputId": "b6db07b2-d022-48c1-ad96-fa8bd3ff2564"
      },
      "execution_count": 21,
      "outputs": [
        {
          "output_type": "stream",
          "name": "stderr",
          "text": [
            "/content/dqn/train.py:311: RuntimeWarning: Mean of empty slice.\n",
            "  mean_steps = steps[success.astype(bool)].mean()\n",
            "/usr/local/lib/python3.9/dist-packages/numpy/core/_methods.py:189: RuntimeWarning: invalid value encountered in double_scalars\n",
            "  ret = ret.dtype.type(ret / rcount)\n"
          ]
        },
        {
          "output_type": "stream",
          "name": "stdout",
          "text": [
            "\n",
            "Batch 2500\tTime: 78 s\tAgent Eps: 0.29\tTrain Win Rate: 1.12%\tTest Win Rate: 0.00%\tTest Mean Steps: nan\n",
            "\n",
            "Batch 5000\tTime: 156 s\tAgent Eps: 0.08\tTrain Win Rate: 2.52%\tTest Win Rate: 2.00%\tTest Mean Steps: 2.50\n",
            "\n",
            "Batch 7500\tTime: 228 s\tAgent Eps: 0.05\tTrain Win Rate: 3.32%\tTest Win Rate: 3.00%\tTest Mean Steps: 2.67\n",
            "\n",
            "Batch 10000\tTime: 301 s\tAgent Eps: 0.05\tTrain Win Rate: 9.84%\tTest Win Rate: 8.00%\tTest Mean Steps: 2.38\n",
            "\n",
            "Batch 12500\tTime: 372 s\tAgent Eps: 0.05\tTrain Win Rate: 13.40%\tTest Win Rate: 14.00%\tTest Mean Steps: 2.93\n",
            "\n",
            "Batch 15000\tTime: 439 s\tAgent Eps: 0.05\tTrain Win Rate: 25.60%\tTest Win Rate: 27.00%\tTest Mean Steps: 2.67\n",
            "\n",
            "Batch 17500\tTime: 502 s\tAgent Eps: 0.05\tTrain Win Rate: 37.96%\tTest Win Rate: 41.00%\tTest Mean Steps: 2.49\n",
            "\n",
            "Batch 20000\tTime: 563 s\tAgent Eps: 0.05\tTrain Win Rate: 45.40%\tTest Win Rate: 44.00%\tTest Mean Steps: 2.57\n",
            "\n",
            "Saving checkpoint... Saved to uniform-100-2000-1.pth\n"
          ]
        }
      ]
    },
    {
      "cell_type": "code",
      "source": [
        "with open('sampling.pickle', 'wb') as handle:\n",
        "    pickle.dump(tasks_results, handle, protocol=pickle.HIGHEST_PROTOCOL)\n",
        "\n",
        "! cp -n *.txt /content/drive/MyDrive/wordle-rl/tests\n",
        "! cp -n *.pth /content/drive/MyDrive/wordle-rl/tests\n",
        "! cp -n *.pickle /content/drive/MyDrive/wordle-rl/tests"
      ],
      "metadata": {
        "id": "scXfbGc18maD"
      },
      "execution_count": 22,
      "outputs": []
    },
    {
      "cell_type": "markdown",
      "source": [
        "### A Little Prioritized"
      ],
      "metadata": {
        "id": "VnrHHFIDID8w"
      }
    },
    {
      "cell_type": "code",
      "source": [
        "def experiment(answers, guesses, play_batch_size, n_batches, n_batches_warm):\n",
        "    env_list = []\n",
        "    for _ in range(play_batch_size):\n",
        "        env = Environment(\n",
        "            rewards=step_rewards,\n",
        "            wordle=Wordle(vocabulary=guesses, answers=answers),\n",
        "            state_instance=StateYesNo()\n",
        "        )\n",
        "        env_list.append(env)\n",
        "\n",
        "    agent = Agent(\n",
        "        state_size=env.state.size,\n",
        "        action_size=len(guesses),\n",
        "        action_constructor=partial(ActionVocabulary, vocabulary=guesses),\n",
        "        # here is what we are experimenting with\n",
        "        replay_buffer=PrioritizedReplayBuffer(\n",
        "            state_size=env.state.size,\n",
        "            alpha=0.1, beta=1, beta_growth_rate=1,\n",
        "        )\n",
        "    )\n",
        "\n",
        "    trainer = Trainer(\n",
        "        env_list, agent,\n",
        "        play_batch_size=play_batch_size,\n",
        "        n_batches=n_batches,\n",
        "        n_batches_warm=n_batches_warm\n",
        "    )\n",
        "    \n",
        "    res = trainer.train(eps_decay=0.9995, nickname=f'little-{len(answers)}-{len(guesses)}')\n",
        "    return res"
      ],
      "metadata": {
        "id": "rLem5eILIFj6"
      },
      "execution_count": 23,
      "outputs": []
    },
    {
      "cell_type": "code",
      "source": [
        "res = experiment(\n",
        "    answers_10_100, guesses_10_100,\n",
        "    play_batch_size=8,\n",
        "    n_batches=500, n_batches_warm=15,\n",
        ")\n",
        "\n",
        "tasks_results['10/100']['little'] = res"
      ],
      "metadata": {
        "colab": {
          "base_uri": "https://localhost:8080/"
        },
        "id": "VssE5mpxIOXi",
        "outputId": "6eedc778-584a-4944-930e-257f07514a72"
      },
      "execution_count": 24,
      "outputs": [
        {
          "output_type": "stream",
          "name": "stdout",
          "text": [
            "\n",
            "Batch   62\tTime: 2 s\tAgent Eps: 0.97\tTrain Win Rate: 1.61%\tTest Win Rate: 30.00%\tTest Mean Steps: 1.67\n",
            "\n",
            "Batch  124\tTime: 4 s\tAgent Eps: 0.94\tTrain Win Rate: 16.13%\tTest Win Rate: 30.00%\tTest Mean Steps: 1.67\n",
            "\n",
            "Batch  186\tTime: 6 s\tAgent Eps: 0.91\tTrain Win Rate: 19.35%\tTest Win Rate: 80.00%\tTest Mean Steps: 2.75\n",
            "\n",
            "Batch  248\tTime: 8 s\tAgent Eps: 0.88\tTrain Win Rate: 25.81%\tTest Win Rate: 70.00%\tTest Mean Steps: 2.00\n",
            "\n",
            "Batch  310\tTime: 9 s\tAgent Eps: 0.86\tTrain Win Rate: 45.16%\tTest Win Rate: 80.00%\tTest Mean Steps: 2.12\n",
            "\n",
            "Batch  372\tTime: 10 s\tAgent Eps: 0.83\tTrain Win Rate: 46.77%\tTest Win Rate: 100.00%\tTest Mean Steps: 2.30\n",
            "\n",
            "Batch  434\tTime: 12 s\tAgent Eps: 0.80\tTrain Win Rate: 61.29%\tTest Win Rate: 100.00%\tTest Mean Steps: 1.90\n",
            "\n",
            "Batch  496\tTime: 13 s\tAgent Eps: 0.78\tTrain Win Rate: 72.58%\tTest Win Rate: 100.00%\tTest Mean Steps: 2.20\n",
            "\n",
            "Saving checkpoint... Saved to little-10-100-1.pth\n"
          ]
        }
      ]
    },
    {
      "cell_type": "code",
      "source": [
        "res = experiment(\n",
        "    answers_100_100, guesses_100_100,\n",
        "    play_batch_size=8,\n",
        "    n_batches=10000, n_batches_warm=5,\n",
        ")\n",
        "\n",
        "tasks_results['100/100']['little'] = res"
      ],
      "metadata": {
        "colab": {
          "base_uri": "https://localhost:8080/"
        },
        "id": "v82VjOLyIPmp",
        "outputId": "5e4d8fdd-9a09-4b99-8cfd-74a2093956d7"
      },
      "execution_count": 25,
      "outputs": [
        {
          "output_type": "stream",
          "name": "stdout",
          "text": [
            "\n",
            "Batch 1250\tTime: 36 s\tAgent Eps: 0.54\tTrain Win Rate: 27.36%\tTest Win Rate: 33.00%\tTest Mean Steps: 2.79\n",
            "\n",
            "Batch 2500\tTime: 67 s\tAgent Eps: 0.29\tTrain Win Rate: 55.04%\tTest Win Rate: 58.00%\tTest Mean Steps: 2.83\n",
            "\n",
            "Batch 3750\tTime: 94 s\tAgent Eps: 0.15\tTrain Win Rate: 77.60%\tTest Win Rate: 74.00%\tTest Mean Steps: 2.64\n",
            "\n",
            "Batch 5000\tTime: 118 s\tAgent Eps: 0.08\tTrain Win Rate: 87.76%\tTest Win Rate: 87.00%\tTest Mean Steps: 2.62\n",
            "\n",
            "Batch 6250\tTime: 138 s\tAgent Eps: 0.05\tTrain Win Rate: 96.56%\tTest Win Rate: 95.00%\tTest Mean Steps: 2.58\n",
            "\n",
            "Batch 7500\tTime: 157 s\tAgent Eps: 0.05\tTrain Win Rate: 96.96%\tTest Win Rate: 95.00%\tTest Mean Steps: 2.58\n",
            "\n",
            "Batch 8750\tTime: 174 s\tAgent Eps: 0.05\tTrain Win Rate: 99.52%\tTest Win Rate: 99.00%\tTest Mean Steps: 2.58\n",
            "\n",
            "Batch 10000\tTime: 192 s\tAgent Eps: 0.05\tTrain Win Rate: 99.92%\tTest Win Rate: 100.00%\tTest Mean Steps: 2.53\n",
            "\n",
            "Saving checkpoint... Saved to little-100-100-1.pth\n"
          ]
        }
      ]
    },
    {
      "cell_type": "code",
      "source": [
        "with open('sampling.pickle', 'wb') as handle:\n",
        "    pickle.dump(tasks_results, handle, protocol=pickle.HIGHEST_PROTOCOL)\n",
        "\n",
        "! cp -n *.txt /content/drive/MyDrive/wordle-rl/tests\n",
        "! cp -n *.pth /content/drive/MyDrive/wordle-rl/tests\n",
        "! cp -n *.pickle /content/drive/MyDrive/wordle-rl/tests"
      ],
      "metadata": {
        "id": "XfosfuKJIpE8"
      },
      "execution_count": 26,
      "outputs": []
    },
    {
      "cell_type": "code",
      "source": [
        "res = experiment(\n",
        "    answers_300_300, guesses_300_300,\n",
        "    play_batch_size=8,\n",
        "    n_batches=20000, n_batches_warm=5,\n",
        ")\n",
        "tasks_results['300/300']['little'] = res"
      ],
      "metadata": {
        "colab": {
          "base_uri": "https://localhost:8080/"
        },
        "id": "485sLZwQIQ_L",
        "outputId": "7ade6978-6d80-459e-f036-e91f9b7cb4e3"
      },
      "execution_count": 27,
      "outputs": [
        {
          "output_type": "stream",
          "name": "stdout",
          "text": [
            "\n",
            "Batch 2500\tTime: 74 s\tAgent Eps: 0.29\tTrain Win Rate: 2.80%\tTest Win Rate: 1.00%\tTest Mean Steps: 2.00\n",
            "\n",
            "Batch 5000\tTime: 149 s\tAgent Eps: 0.08\tTrain Win Rate: 4.52%\tTest Win Rate: 3.67%\tTest Mean Steps: 3.00\n",
            "\n",
            "Batch 7500\tTime: 221 s\tAgent Eps: 0.05\tTrain Win Rate: 9.28%\tTest Win Rate: 10.00%\tTest Mean Steps: 2.77\n",
            "\n",
            "Batch 10000\tTime: 292 s\tAgent Eps: 0.05\tTrain Win Rate: 19.44%\tTest Win Rate: 16.00%\tTest Mean Steps: 3.06\n",
            "\n",
            "Batch 12500\tTime: 361 s\tAgent Eps: 0.05\tTrain Win Rate: 35.16%\tTest Win Rate: 31.00%\tTest Mean Steps: 3.39\n",
            "\n",
            "Batch 15000\tTime: 424 s\tAgent Eps: 0.05\tTrain Win Rate: 49.72%\tTest Win Rate: 45.67%\tTest Mean Steps: 3.44\n",
            "\n",
            "Batch 17500\tTime: 482 s\tAgent Eps: 0.05\tTrain Win Rate: 60.92%\tTest Win Rate: 63.00%\tTest Mean Steps: 3.20\n",
            "\n",
            "Batch 20000\tTime: 538 s\tAgent Eps: 0.05\tTrain Win Rate: 71.28%\tTest Win Rate: 69.33%\tTest Mean Steps: 3.01\n",
            "\n",
            "Saving checkpoint... Saved to little-300-300-1.pth\n"
          ]
        }
      ]
    },
    {
      "cell_type": "code",
      "source": [
        "with open('sampling.pickle', 'wb') as handle:\n",
        "    pickle.dump(tasks_results, handle, protocol=pickle.HIGHEST_PROTOCOL)\n",
        "\n",
        "! cp -n *.txt /content/drive/MyDrive/wordle-rl/tests\n",
        "! cp -n *.pth /content/drive/MyDrive/wordle-rl/tests\n",
        "! cp -n *.pickle /content/drive/MyDrive/wordle-rl/tests"
      ],
      "metadata": {
        "id": "UTHWXUn3IpuD"
      },
      "execution_count": 28,
      "outputs": []
    },
    {
      "cell_type": "code",
      "source": [
        "res = experiment(\n",
        "    answers_100_2000, guesses_100_2000,\n",
        "    play_batch_size=8,\n",
        "    n_batches=20000, n_batches_warm=5,\n",
        ")\n",
        "tasks_results['100/2000']['little'] = res"
      ],
      "metadata": {
        "colab": {
          "base_uri": "https://localhost:8080/"
        },
        "id": "fkcmNRdEIH6M",
        "outputId": "e267cf95-d952-4a36-c7bc-5047e3f98515"
      },
      "execution_count": 29,
      "outputs": [
        {
          "output_type": "stream",
          "name": "stdout",
          "text": [
            "\n",
            "Batch 2500\tTime: 76 s\tAgent Eps: 0.29\tTrain Win Rate: 1.76%\tTest Win Rate: 0.00%\tTest Mean Steps: nan\n",
            "\n",
            "Batch 5000\tTime: 152 s\tAgent Eps: 0.08\tTrain Win Rate: 1.88%\tTest Win Rate: 2.00%\tTest Mean Steps: 2.00\n",
            "\n",
            "Batch 7500\tTime: 227 s\tAgent Eps: 0.05\tTrain Win Rate: 2.56%\tTest Win Rate: 3.00%\tTest Mean Steps: 2.33\n",
            "\n",
            "Batch 10000\tTime: 302 s\tAgent Eps: 0.05\tTrain Win Rate: 2.96%\tTest Win Rate: 2.00%\tTest Mean Steps: 3.50\n",
            "\n",
            "Batch 12500\tTime: 377 s\tAgent Eps: 0.05\tTrain Win Rate: 2.96%\tTest Win Rate: 1.00%\tTest Mean Steps: 4.00\n",
            "\n",
            "Batch 15000\tTime: 451 s\tAgent Eps: 0.05\tTrain Win Rate: 3.40%\tTest Win Rate: 2.00%\tTest Mean Steps: 2.50\n",
            "\n",
            "Batch 17500\tTime: 526 s\tAgent Eps: 0.05\tTrain Win Rate: 5.88%\tTest Win Rate: 5.00%\tTest Mean Steps: 3.80\n",
            "\n",
            "Batch 20000\tTime: 600 s\tAgent Eps: 0.05\tTrain Win Rate: 5.96%\tTest Win Rate: 4.00%\tTest Mean Steps: 3.25\n",
            "\n",
            "Saving checkpoint... Saved to little-100-2000-1.pth\n"
          ]
        }
      ]
    },
    {
      "cell_type": "code",
      "source": [
        "with open('sampling.pickle', 'wb') as handle:\n",
        "    pickle.dump(tasks_results, handle, protocol=pickle.HIGHEST_PROTOCOL)\n",
        "\n",
        "! cp -n *.txt /content/drive/MyDrive/wordle-rl/tests\n",
        "! cp -n *.pth /content/drive/MyDrive/wordle-rl/tests\n",
        "! cp -n *.pickle /content/drive/MyDrive/wordle-rl/tests"
      ],
      "metadata": {
        "id": "IRWpwZALIqVG"
      },
      "execution_count": 30,
      "outputs": []
    },
    {
      "cell_type": "markdown",
      "source": [
        "### Plot Results"
      ],
      "metadata": {
        "id": "gXnAnyDoH8Sr"
      }
    },
    {
      "cell_type": "code",
      "source": [
        "plot_results(tasks_results, 'sampling')"
      ],
      "metadata": {
        "colab": {
          "base_uri": "https://localhost:8080/",
          "height": 357
        },
        "id": "rv5NZQQuH7yU",
        "outputId": "2a02b698-f32d-4862-ec2f-3ab453efe236"
      },
      "execution_count": 31,
      "outputs": [
        {
          "output_type": "display_data",
          "data": {
            "text/plain": [
              "<Figure size 1600x500 with 4 Axes>"
            ],
            "image/png": "[encoded data removed]"
          },
          "metadata": {}
        }
      ]
    }
  ]
}